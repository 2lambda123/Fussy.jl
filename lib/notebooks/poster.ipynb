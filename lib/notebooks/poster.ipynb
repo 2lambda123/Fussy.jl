{
 "cells": [
  {
   "cell_type": "code",
   "execution_count": 39,
   "metadata": {
    "collapsed": false
   },
   "outputs": [],
   "source": [
    "using Tokamak\n",
    "Tokamak.load_input(\"defaults.jl\", true)\n",
    "Tokamak.load_input(\"proto_1.jl\", true)\n",
    "Tokamak.load_input(\" enable_hard_errors = false \")\n",
    "Tokamak.load_input(\" enable_eta_CD_derive = true \")\n",
    "return"
   ]
  },
  {
   "cell_type": "code",
   "execution_count": 40,
   "metadata": {
    "collapsed": false
   },
   "outputs": [],
   "source": [
    "T_min = 0.0\n",
    "T_max = 30.0\n",
    "T_pts = 101\n",
    "\n",
    "T_list = collect(linspace(T_min, T_max, T_pts));"
   ]
  },
  {
   "cell_type": "code",
   "execution_count": 21,
   "metadata": {
    "collapsed": false
   },
   "outputs": [],
   "source": [
    "# Tokamak.load_input(\" enable_secondary_constraint = true \")\n",
    "# cur_sweep_all = Tokamak.sweep_T_k(T_list)"
   ]
  },
  {
   "cell_type": "code",
   "execution_count": 22,
   "metadata": {
    "collapsed": false
   },
   "outputs": [],
   "source": [
    "# Tokamak.load_input(\" enable_secondary_constraint = false \")\n",
    "# Tokamak.load_input(\" default_secondary_constraint = \\\"beta\\\" \")\n",
    "# cur_sweep_beta = Tokamak.sweep_T_k(T_list)"
   ]
  },
  {
   "cell_type": "code",
   "execution_count": 23,
   "metadata": {
    "collapsed": true
   },
   "outputs": [],
   "source": [
    "# Tokamak.load_input(\" enable_secondary_constraint = false \")\n",
    "# Tokamak.load_input(\" default_secondary_constraint = \\\"wall\\\" \")\n",
    "# cur_sweep_wall = Tokamak.sweep_T_k(T_list)"
   ]
  },
  {
   "cell_type": "code",
   "execution_count": 24,
   "metadata": {
    "collapsed": false
   },
   "outputs": [],
   "source": [
    "using Interact\n",
    "using DataStructures"
   ]
  },
  {
   "cell_type": "code",
   "execution_count": 32,
   "metadata": {
    "collapsed": false
   },
   "outputs": [
    {
     "data": {
      "text/plain": [
       "Plots.PyPlotBackend()"
      ]
     },
     "execution_count": 32,
     "metadata": {},
     "output_type": "execute_result"
    }
   ],
   "source": [
    "using Plots\n",
    "pyplot()\n",
    "# plotlyjs()"
   ]
  },
  {
   "cell_type": "code",
   "execution_count": 43,
   "metadata": {
    "collapsed": false,
    "scrolled": true
   },
   "outputs": [
    {
     "name": "stdout",
     "output_type": "stream",
     "text": [
      ".....................................................\n",
      "......................................................\n",
      "..............................................\n"
     ]
    }
   ],
   "source": [
    "cur_sweeps = OrderedDict()\n",
    "\n",
    "cur_sweeps[\"beta\"] = Any[DataStructures.OrderedDict{Any,Any}(\"R_0\"=>0.000830819,\"B_0\"=>18407.8,\"rho_j\"=>0.995472,\"eta_CD\"=>7.3916e-9,\"T_k\"=>3.6,\"success\"=>true,\"primary_constraint\"=>\"steady\",\"secondary_constraint\"=>\"beta\",\"limits\"=>DataStructures.OrderedDict{Any,Any}(\"steady\"=>1.0,\"beta\"=>1.0,\"wall\"=>5.11809e8)), DataStructures.OrderedDict{Any,Any}(\"R_0\"=>0.00284556,\"B_0\"=>5822.41,\"rho_j\"=>0.999888,\"eta_CD\"=>4.08238e-6,\"T_k\"=>3.9,\"success\"=>true,\"primary_constraint\"=>\"steady\",\"secondary_constraint\"=>\"beta\",\"limits\"=>DataStructures.OrderedDict{Any,Any}(\"steady\"=>1.0,\"beta\"=>1.0,\"wall\"=>1.92131e7)), DataStructures.OrderedDict{Any,Any}(\"R_0\"=>0.00633297,\"B_0\"=>2817.4,\"rho_j\"=>0.99772,\"eta_CD\"=>5.3243e-6,\"T_k\"=>4.2,\"success\"=>true,\"primary_constraint\"=>\"steady\",\"secondary_constraint\"=>\"beta\",\"limits\"=>DataStructures.OrderedDict{Any,Any}(\"steady\"=>1.0,\"beta\"=>1.0,\"wall\"=>2.52925e6)), DataStructures.OrderedDict{Any,Any}(\"R_0\"=>0.0113474,\"B_0\"=>1684.7,\"rho_j\"=>0.993463,\"eta_CD\"=>9.83963e-6,\"T_k\"=>4.5,\"success\"=>true,\"primary_constraint\"=>\"steady\",\"secondary_constraint\"=>\"beta\",\"limits\"=>DataStructures.OrderedDict{Any,Any}(\"steady\"=>1.0,\"beta\"=>1.0,\"wall\"=>6.17391e5)), DataStructures.OrderedDict{Any,Any}(\"R_0\"=>0.0178697,\"B_0\"=>1141.12,\"rho_j\"=>0.999314,\"eta_CD\"=>7.502e-5,\"T_k\"=>4.8,\"success\"=>true,\"primary_constraint\"=>\"steady\",\"secondary_constraint\"=>\"beta\",\"limits\"=>DataStructures.OrderedDict{Any,Any}(\"steady\"=>1.0,\"beta\"=>1.0,\"wall\"=>2.15805e5)), DataStructures.OrderedDict{Any,Any}(\"R_0\"=>0.0258458,\"B_0\"=>838.276,\"rho_j\"=>0.99375,\"eta_CD\"=>0.000111911,\"T_k\"=>5.1,\"success\"=>true,\"primary_constraint\"=>\"steady\",\"secondary_constraint\"=>\"beta\",\"limits\"=>DataStructures.OrderedDict{Any,Any}(\"steady\"=>1.0,\"beta\"=>1.0,\"wall\"=>95003.2)), DataStructures.OrderedDict{Any,Any}(\"R_0\"=>0.0352074,\"B_0\"=>651.578,\"rho_j\"=>0.997457,\"eta_CD\"=>0.000243735,\"T_k\"=>5.4,\"success\"=>true,\"primary_constraint\"=>\"steady\",\"secondary_constraint\"=>\"beta\",\"limits\"=>DataStructures.OrderedDict{Any,Any}(\"steady\"=>1.0,\"beta\"=>1.0,\"wall\"=>48998.9)), DataStructures.OrderedDict{Any,Any}(\"R_0\"=>0.0458762,\"B_0\"=>527.83,\"rho_j\"=>0.99729,\"eta_CD\"=>0.000366628,\"T_k\"=>5.7,\"success\"=>true,\"primary_constraint\"=>\"steady\",\"secondary_constraint\"=>\"beta\",\"limits\"=>DataStructures.OrderedDict{Any,Any}(\"steady\"=>1.0,\"beta\"=>1.0,\"wall\"=>28332.9)), DataStructures.OrderedDict{Any,Any}(\"R_0\"=>0.0577732,\"B_0\"=>441.196,\"rho_j\"=>0.997195,\"eta_CD\"=>0.000542601,\"T_k\"=>6.0,\"success\"=>true,\"primary_constraint\"=>\"steady\",\"secondary_constraint\"=>\"beta\",\"limits\"=>DataStructures.OrderedDict{Any,Any}(\"steady\"=>1.0,\"beta\"=>1.0,\"wall\"=>17847.2)), DataStructures.OrderedDict{Any,Any}(\"R_0\"=>0.0708182,\"B_0\"=>377.922,\"rho_j\"=>0.996189,\"eta_CD\"=>0.000770068,\"T_k\"=>6.3,\"success\"=>true,\"primary_constraint\"=>\"steady\",\"secondary_constraint\"=>\"beta\",\"limits\"=>DataStructures.OrderedDict{Any,Any}(\"steady\"=>1.0,\"beta\"=>1.0,\"wall\"=>12009.7)), DataStructures.OrderedDict{Any,Any}(\"R_0\"=>0.0849433,\"B_0\"=>330.081,\"rho_j\"=>0.989477,\"eta_CD\"=>0.00120632,\"T_k\"=>6.6,\"success\"=>true,\"primary_constraint\"=>\"steady\",\"secondary_constraint\"=>\"beta\",\"limits\"=>DataStructures.OrderedDict{Any,Any}(\"steady\"=>1.0,\"beta\"=>1.0,\"wall\"=>8512.13)), DataStructures.OrderedDict{Any,Any}(\"R_0\"=>0.100044,\"B_0\"=>292.999,\"rho_j\"=>0.994778,\"eta_CD\"=>0.00141425,\"T_k\"=>6.9,\"success\"=>true,\"primary_constraint\"=>\"steady\",\"secondary_constraint\"=>\"beta\",\"limits\"=>DataStructures.OrderedDict{Any,Any}(\"steady\"=>1.0,\"beta\"=>1.0,\"wall\"=>6295.78)), DataStructures.OrderedDict{Any,Any}(\"R_0\"=>0.116079,\"B_0\"=>263.502,\"rho_j\"=>0.990848,\"eta_CD\"=>0.00185685,\"T_k\"=>7.2,\"success\"=>true,\"primary_constraint\"=>\"steady\",\"secondary_constraint\"=>\"beta\",\"limits\"=>DataStructures.OrderedDict{Any,Any}(\"steady\"=>1.0,\"beta\"=>1.0,\"wall\"=>4818.21)), DataStructures.OrderedDict{Any,Any}(\"R_0\"=>0.132968,\"B_0\"=>239.618,\"rho_j\"=>0.990848,\"eta_CD\"=>0.0023339,\"T_k\"=>7.5,\"success\"=>true,\"primary_constraint\"=>\"steady\",\"secondary_constraint\"=>\"beta\",\"limits\"=>DataStructures.OrderedDict{Any,Any}(\"steady\"=>1.0,\"beta\"=>1.0,\"wall\"=>3794.78)), DataStructures.OrderedDict{Any,Any}(\"R_0\"=>0.150658,\"B_0\"=>219.942,\"rho_j\"=>0.990848,\"eta_CD\"=>0.00292253,\"T_k\"=>7.8,\"success\"=>true,\"primary_constraint\"=>\"steady\",\"secondary_constraint\"=>\"beta\",\"limits\"=>DataStructures.OrderedDict{Any,Any}(\"steady\"=>1.0,\"beta\"=>1.0,\"wall\"=>3061.18)), DataStructures.OrderedDict{Any,Any}(\"R_0\"=>0.16909,\"B_0\"=>203.504,\"rho_j\"=>0.987771,\"eta_CD\"=>0.00359079,\"T_k\"=>8.1,\"success\"=>true,\"primary_constraint\"=>\"steady\",\"secondary_constraint\"=>\"beta\",\"limits\"=>DataStructures.OrderedDict{Any,Any}(\"steady\"=>1.0,\"beta\"=>1.0,\"wall\"=>2520.24)), DataStructures.OrderedDict{Any,Any}(\"R_0\"=>0.188218,\"B_0\"=>189.594,\"rho_j\"=>0.986607,\"eta_CD\"=>0.00435265,\"T_k\"=>8.4,\"success\"=>true,\"primary_constraint\"=>\"steady\",\"secondary_constraint\"=>\"beta\",\"limits\"=>DataStructures.OrderedDict{Any,Any}(\"steady\"=>1.0,\"beta\"=>1.0,\"wall\"=>2111.29)), DataStructures.OrderedDict{Any,Any}(\"R_0\"=>0.208005,\"B_0\"=>177.685,\"rho_j\"=>0.986671,\"eta_CD\"=>0.00523017,\"T_k\"=>8.7,\"success\"=>true,\"primary_constraint\"=>\"steady\",\"secondary_constraint\"=>\"beta\",\"limits\"=>DataStructures.OrderedDict{Any,Any}(\"steady\"=>1.0,\"beta\"=>1.0,\"wall\"=>1795.25)), DataStructures.OrderedDict{Any,Any}(\"R_0\"=>0.228418,\"B_0\"=>167.386,\"rho_j\"=>0.980644,\"eta_CD\"=>0.00621741,\"T_k\"=>9.0,\"success\"=>true,\"primary_constraint\"=>\"steady\",\"secondary_constraint\"=>\"beta\",\"limits\"=>DataStructures.OrderedDict{Any,Any}(\"steady\"=>1.0,\"beta\"=>1.0,\"wall\"=>1546.32)), DataStructures.OrderedDict{Any,Any}(\"R_0\"=>0.249407,\"B_0\"=>158.409,\"rho_j\"=>0.980644,\"eta_CD\"=>0.00725567,\"T_k\"=>9.3,\"success\"=>true,\"primary_constraint\"=>\"steady\",\"secondary_constraint\"=>\"beta\",\"limits\"=>DataStructures.OrderedDict{Any,Any}(\"steady\"=>1.0,\"beta\"=>1.0,\"wall\"=>1347.21)), DataStructures.OrderedDict{Any,Any}(\"R_0\"=>0.270984,\"B_0\"=>150.499,\"rho_j\"=>0.980644,\"eta_CD\"=>0.00843813,\"T_k\"=>9.6,\"success\"=>true,\"primary_constraint\"=>\"steady\",\"secondary_constraint\"=>\"beta\",\"limits\"=>DataStructures.OrderedDict{Any,Any}(\"steady\"=>1.0,\"beta\"=>1.0,\"wall\"=>1185.12)), DataStructures.OrderedDict{Any,Any}(\"R_0\"=>0.293126,\"B_0\"=>143.478,\"rho_j\"=>0.977679,\"eta_CD\"=>0.00973782,\"T_k\"=>9.9,\"success\"=>true,\"primary_constraint\"=>\"steady\",\"secondary_constraint\"=>\"beta\",\"limits\"=>DataStructures.OrderedDict{Any,Any}(\"steady\"=>1.0,\"beta\"=>1.0,\"wall\"=>1051.44)), DataStructures.OrderedDict{Any,Any}(\"R_0\"=>0.315859,\"B_0\"=>137.187,\"rho_j\"=>0.977679,\"eta_CD\"=>0.0112031,\"T_k\"=>10.2,\"success\"=>true,\"primary_constraint\"=>\"steady\",\"secondary_constraint\"=>\"beta\",\"limits\"=>DataStructures.OrderedDict{Any,Any}(\"steady\"=>1.0,\"beta\"=>1.0,\"wall\"=>939.6)), DataStructures.OrderedDict{Any,Any}(\"R_0\"=>0.3391,\"B_0\"=>131.543,\"rho_j\"=>0.975415,\"eta_CD\"=>0.0126962,\"T_k\"=>10.5,\"success\"=>true,\"primary_constraint\"=>\"steady\",\"secondary_constraint\"=>\"beta\",\"limits\"=>DataStructures.OrderedDict{Any,Any}(\"steady\"=>1.0,\"beta\"=>1.0,\"wall\"=>845.481)), DataStructures.OrderedDict{Any,Any}(\"R_0\"=>0.362954,\"B_0\"=>126.409,\"rho_j\"=>0.96875,\"eta_CD\"=>0.014375,\"T_k\"=>10.8,\"success\"=>true,\"primary_constraint\"=>\"steady\",\"secondary_constraint\"=>\"beta\",\"limits\"=>DataStructures.OrderedDict{Any,Any}(\"steady\"=>1.0,\"beta\"=>1.0,\"wall\"=>764.9)), DataStructures.OrderedDict{Any,Any}(\"R_0\"=>0.387424,\"B_0\"=>121.715,\"rho_j\"=>0.969595,\"eta_CD\"=>0.0162047,\"T_k\"=>11.1,\"success\"=>true,\"primary_constraint\"=>\"steady\",\"secondary_constraint\"=>\"beta\",\"limits\"=>DataStructures.OrderedDict{Any,Any}(\"steady\"=>1.0,\"beta\"=>1.0,\"wall\"=>695.333)), DataStructures.OrderedDict{Any,Any}(\"R_0\"=>0.412442,\"B_0\"=>117.422,\"rho_j\"=>0.969531,\"eta_CD\"=>0.0180806,\"T_k\"=>11.4,\"success\"=>true,\"primary_constraint\"=>\"steady\",\"secondary_constraint\"=>\"beta\",\"limits\"=>DataStructures.OrderedDict{Any,Any}(\"steady\"=>1.0,\"beta\"=>1.0,\"wall\"=>635.074)), DataStructures.OrderedDict{Any,Any}(\"R_0\"=>0.43823,\"B_0\"=>113.42,\"rho_j\"=>0.964621,\"eta_CD\"=>0.0202136,\"T_k\"=>11.7,\"success\"=>true,\"primary_constraint\"=>\"steady\",\"secondary_constraint\"=>\"beta\",\"limits\"=>DataStructures.OrderedDict{Any,Any}(\"steady\"=>1.0,\"beta\"=>1.0,\"wall\"=>581.794)), DataStructures.OrderedDict{Any,Any}(\"R_0\"=>0.464591,\"B_0\"=>109.728,\"rho_j\"=>0.963329,\"eta_CD\"=>0.0223623,\"T_k\"=>12.0,\"success\"=>true,\"primary_constraint\"=>\"steady\",\"secondary_constraint\"=>\"beta\",\"limits\"=>DataStructures.OrderedDict{Any,Any}(\"steady\"=>1.0,\"beta\"=>1.0,\"wall\"=>535.019)), DataStructures.OrderedDict{Any,Any}(\"R_0\"=>0.491843,\"B_0\"=>106.239,\"rho_j\"=>0.962771,\"eta_CD\"=>0.0247767,\"T_k\"=>12.3,\"success\"=>true,\"primary_constraint\"=>\"steady\",\"secondary_constraint\"=>\"beta\",\"limits\"=>DataStructures.OrderedDict{Any,Any}(\"steady\"=>1.0,\"beta\"=>1.0,\"wall\"=>492.959)), DataStructures.OrderedDict{Any,Any}(\"R_0\"=>0.51984,\"B_0\"=>102.969,\"rho_j\"=>0.954241,\"eta_CD\"=>0.0272762,\"T_k\"=>12.6,\"success\"=>true,\"primary_constraint\"=>\"steady\",\"secondary_constraint\"=>\"beta\",\"limits\"=>DataStructures.OrderedDict{Any,Any}(\"steady\"=>1.0,\"beta\"=>1.0,\"wall\"=>455.36)), DataStructures.OrderedDict{Any,Any}(\"R_0\"=>0.548981,\"B_0\"=>99.8248,\"rho_j\"=>0.954401,\"eta_CD\"=>0.0301024,\"T_k\"=>12.9,\"success\"=>true,\"primary_constraint\"=>\"steady\",\"secondary_constraint\"=>\"beta\",\"limits\"=>DataStructures.OrderedDict{Any,Any}(\"steady\"=>1.0,\"beta\"=>1.0,\"wall\"=>420.902)), DataStructures.OrderedDict{Any,Any}(\"R_0\"=>0.578591,\"B_0\"=>96.9189,\"rho_j\"=>0.955676,\"eta_CD\"=>0.0327478,\"T_k\"=>13.2,\"success\"=>true,\"primary_constraint\"=>\"steady\",\"secondary_constraint\"=>\"beta\",\"limits\"=>DataStructures.OrderedDict{Any,Any}(\"steady\"=>1.0,\"beta\"=>1.0,\"wall\"=>390.422)), DataStructures.OrderedDict{Any,Any}(\"R_0\"=>0.609608,\"B_0\"=>94.0782,\"rho_j\"=>0.949777,\"eta_CD\"=>0.035775,\"T_k\"=>13.5,\"success\"=>true,\"primary_constraint\"=>\"steady\",\"secondary_constraint\"=>\"beta\",\"limits\"=>DataStructures.OrderedDict{Any,Any}(\"steady\"=>1.0,\"beta\"=>1.0,\"wall\"=>361.992)), DataStructures.OrderedDict{Any,Any}(\"R_0\"=>0.642,\"B_0\"=>91.3168,\"rho_j\"=>0.949634,\"eta_CD\"=>0.0390658,\"T_k\"=>13.8,\"success\"=>true,\"primary_constraint\"=>\"steady\",\"secondary_constraint\"=>\"beta\",\"limits\"=>DataStructures.OrderedDict{Any,Any}(\"steady\"=>1.0,\"beta\"=>1.0,\"wall\"=>335.611)), DataStructures.OrderedDict{Any,Any}(\"R_0\"=>0.675617,\"B_0\"=>88.6594,\"rho_j\"=>0.942187,\"eta_CD\"=>0.0424717,\"T_k\"=>14.1,\"success\"=>true,\"primary_constraint\"=>\"steady\",\"secondary_constraint\"=>\"beta\",\"limits\"=>DataStructures.OrderedDict{Any,Any}(\"steady\"=>1.0,\"beta\"=>1.0,\"wall\"=>311.356)), DataStructures.OrderedDict{Any,Any}(\"R_0\"=>0.710882,\"B_0\"=>86.054,\"rho_j\"=>0.9397,\"eta_CD\"=>0.0461352,\"T_k\"=>14.4,\"success\"=>true,\"primary_constraint\"=>\"steady\",\"secondary_constraint\"=>\"beta\",\"limits\"=>DataStructures.OrderedDict{Any,Any}(\"steady\"=>1.0,\"beta\"=>1.0,\"wall\"=>288.663)), DataStructures.OrderedDict{Any,Any}(\"R_0\"=>0.747717,\"B_0\"=>83.5193,\"rho_j\"=>0.937883,\"eta_CD\"=>0.0499458,\"T_k\"=>14.7,\"success\"=>true,\"primary_constraint\"=>\"steady\",\"secondary_constraint\"=>\"beta\",\"limits\"=>DataStructures.OrderedDict{Any,Any}(\"steady\"=>1.0,\"beta\"=>1.0,\"wall\"=>267.587)), DataStructures.OrderedDict{Any,Any}(\"R_0\"=>0.78683,\"B_0\"=>80.9872,\"rho_j\"=>0.936862,\"eta_CD\"=>0.0541166,\"T_k\"=>15.0,\"success\"=>true,\"primary_constraint\"=>\"steady\",\"secondary_constraint\"=>\"beta\",\"limits\"=>DataStructures.OrderedDict{Any,Any}(\"steady\"=>1.0,\"beta\"=>1.0,\"wall\"=>247.54)), DataStructures.OrderedDict{Any,Any}(\"R_0\"=>0.827709,\"B_0\"=>78.5272,\"rho_j\"=>0.93243,\"eta_CD\"=>0.0583633,\"T_k\"=>15.3,\"success\"=>true,\"primary_constraint\"=>\"steady\",\"secondary_constraint\"=>\"beta\",\"limits\"=>DataStructures.OrderedDict{Any,Any}(\"steady\"=>1.0,\"beta\"=>1.0,\"wall\"=>228.968)), DataStructures.OrderedDict{Any,Any}(\"R_0\"=>0.872249,\"B_0\"=>75.9785,\"rho_j\"=>0.926371,\"eta_CD\"=>0.0632524,\"T_k\"=>15.6,\"success\"=>true,\"primary_constraint\"=>\"steady\",\"secondary_constraint\"=>\"beta\",\"limits\"=>DataStructures.OrderedDict{Any,Any}(\"steady\"=>1.0,\"beta\"=>1.0,\"wall\"=>210.727)), DataStructures.OrderedDict{Any,Any}(\"R_0\"=>0.919573,\"B_0\"=>73.4543,\"rho_j\"=>0.921811,\"eta_CD\"=>0.0683486,\"T_k\"=>15.9,\"success\"=>true,\"primary_constraint\"=>\"steady\",\"secondary_constraint\"=>\"beta\",\"limits\"=>DataStructures.OrderedDict{Any,Any}(\"steady\"=>1.0,\"beta\"=>1.0,\"wall\"=>193.583)), DataStructures.OrderedDict{Any,Any}(\"R_0\"=>0.971093,\"B_0\"=>70.8697,\"rho_j\"=>0.921964,\"eta_CD\"=>0.0739538,\"T_k\"=>16.2,\"success\"=>true,\"primary_constraint\"=>\"steady\",\"secondary_constraint\"=>\"beta\",\"limits\"=>DataStructures.OrderedDict{Any,Any}(\"steady\"=>1.0,\"beta\"=>1.0,\"wall\"=>176.989)), DataStructures.OrderedDict{Any,Any}(\"R_0\"=>1.02519,\"B_0\"=>68.373,\"rho_j\"=>0.918673,\"eta_CD\"=>0.0795023,\"T_k\"=>16.5,\"success\"=>true,\"primary_constraint\"=>\"steady\",\"secondary_constraint\"=>\"beta\",\"limits\"=>DataStructures.OrderedDict{Any,Any}(\"steady\"=>1.0,\"beta\"=>1.0,\"wall\"=>161.804)), DataStructures.OrderedDict{Any,Any}(\"R_0\"=>1.08574,\"B_0\"=>65.7339,\"rho_j\"=>0.913042,\"eta_CD\"=>0.0858564,\"T_k\"=>16.8,\"success\"=>true,\"primary_constraint\"=>\"steady\",\"secondary_constraint\"=>\"beta\",\"limits\"=>DataStructures.OrderedDict{Any,Any}(\"steady\"=>1.0,\"beta\"=>1.0,\"wall\"=>146.712)), DataStructures.OrderedDict{Any,Any}(\"R_0\"=>1.15608,\"B_0\"=>62.8368,\"rho_j\"=>0.90625,\"eta_CD\"=>0.0934807,\"T_k\"=>17.1,\"success\"=>true,\"primary_constraint\"=>\"steady\",\"secondary_constraint\"=>\"beta\",\"limits\"=>DataStructures.OrderedDict{Any,Any}(\"steady\"=>1.0,\"beta\"=>1.0,\"wall\"=>131.254)), DataStructures.OrderedDict{Any,Any}(\"R_0\"=>1.22938,\"B_0\"=>60.1268,\"rho_j\"=>0.904018,\"eta_CD\"=>0.100671,\"T_k\"=>17.4,\"success\"=>true,\"primary_constraint\"=>\"steady\",\"secondary_constraint\"=>\"beta\",\"limits\"=>DataStructures.OrderedDict{Any,Any}(\"steady\"=>1.0,\"beta\"=>1.0,\"wall\"=>117.702)), DataStructures.OrderedDict{Any,Any}(\"R_0\"=>1.31544,\"B_0\"=>57.1621,\"rho_j\"=>0.896263,\"eta_CD\"=>0.109171,\"T_k\"=>17.7,\"success\"=>true,\"primary_constraint\"=>\"steady\",\"secondary_constraint\"=>\"beta\",\"limits\"=>DataStructures.OrderedDict{Any,Any}(\"steady\"=>1.0,\"beta\"=>1.0,\"wall\"=>103.953)), DataStructures.OrderedDict{Any,Any}(\"R_0\"=>1.41881,\"B_0\"=>53.8959,\"rho_j\"=>0.889238,\"eta_CD\"=>0.119251,\"T_k\"=>18.0,\"success\"=>true,\"primary_constraint\"=>\"steady\",\"secondary_constraint\"=>\"beta\",\"limits\"=>DataStructures.OrderedDict{Any,Any}(\"steady\"=>1.0,\"beta\"=>1.0,\"wall\"=>90.0416)), DataStructures.OrderedDict{Any,Any}(\"R_0\"=>1.54504,\"B_0\"=>50.3173,\"rho_j\"=>0.879719,\"eta_CD\"=>0.131092,\"T_k\"=>18.3,\"success\"=>true,\"primary_constraint\"=>\"steady\",\"secondary_constraint\"=>\"beta\",\"limits\"=>DataStructures.OrderedDict{Any,Any}(\"steady\"=>1.0,\"beta\"=>1.0,\"wall\"=>76.2027)), DataStructures.OrderedDict{Any,Any}(\"R_0\"=>1.70132,\"B_0\"=>46.4445,\"rho_j\"=>0.868144,\"eta_CD\"=>0.144803,\"T_k\"=>18.6,\"success\"=>true,\"primary_constraint\"=>\"steady\",\"secondary_constraint\"=>\"beta\",\"limits\"=>DataStructures.OrderedDict{Any,Any}(\"steady\"=>1.0,\"beta\"=>1.0,\"wall\"=>62.7865)), DataStructures.OrderedDict{Any,Any}(\"R_0\"=>1.88576,\"B_0\"=>42.5776,\"rho_j\"=>0.860257,\"eta_CD\"=>0.159244,\"T_k\"=>18.9,\"success\"=>true,\"primary_constraint\"=>\"steady\",\"secondary_constraint\"=>\"beta\",\"limits\"=>DataStructures.OrderedDict{Any,Any}(\"steady\"=>1.0,\"beta\"=>1.0,\"wall\"=>50.9072)), DataStructures.OrderedDict{Any,Any}(\"R_0\"=>2.16991,\"B_0\"=>37.5894,\"rho_j\"=>0.845377,\"eta_CD\"=>0.18012,\"T_k\"=>19.2,\"success\"=>true,\"primary_constraint\"=>\"steady\",\"secondary_constraint\"=>\"beta\",\"limits\"=>DataStructures.OrderedDict{Any,Any}(\"steady\"=>1.0,\"beta\"=>1.0,\"wall\"=>37.7732))]\n",
    "\n",
    "cur_sweeps[\"wall\"] = Any[DataStructures.OrderedDict{Any,Any}(\"R_0\"=>0.570825,\"B_0\"=>2.97268e9,\"rho_j\"=>0.951036,\"eta_CD\"=>0.00904129,\"T_k\"=>3.3,\"success\"=>true,\"primary_constraint\"=>\"steady\",\"secondary_constraint\"=>\"wall\",\"limits\"=>DataStructures.OrderedDict{Any,Any}(\"steady\"=>1.0,\"beta\"=>8.26169e-9,\"wall\"=>1.0)), DataStructures.OrderedDict{Any,Any}(\"R_0\"=>0.664838,\"B_0\"=>2.29138e7,\"rho_j\"=>0.941614,\"eta_CD\"=>0.0122968,\"T_k\"=>3.6,\"success\"=>true,\"primary_constraint\"=>\"steady\",\"secondary_constraint\"=>\"wall\",\"limits\"=>DataStructures.OrderedDict{Any,Any}(\"steady\"=>1.0,\"beta\"=>1.00391e-6,\"wall\"=>1.0)), DataStructures.OrderedDict{Any,Any}(\"R_0\"=>0.762654,\"B_0\"=>2.25074e6,\"rho_j\"=>0.930692,\"eta_CD\"=>0.0161975,\"T_k\"=>3.9,\"success\"=>true,\"primary_constraint\"=>\"steady\",\"secondary_constraint\"=>\"wall\",\"limits\"=>DataStructures.OrderedDict{Any,Any}(\"steady\"=>1.0,\"beta\"=>9.65201e-6,\"wall\"=>1.0)), DataStructures.OrderedDict{Any,Any}(\"R_0\"=>0.86379,\"B_0\"=>5.2778e5,\"rho_j\"=>0.919707,\"eta_CD\"=>0.0207735,\"T_k\"=>4.2,\"success\"=>true,\"primary_constraint\"=>\"steady\",\"secondary_constraint\"=>\"wall\",\"limits\"=>DataStructures.OrderedDict{Any,Any}(\"steady\"=>1.0,\"beta\"=>3.91376e-5,\"wall\"=>1.0)), DataStructures.OrderedDict{Any,Any}(\"R_0\"=>0.967844,\"B_0\"=>1.90206e5,\"rho_j\"=>0.903731,\"eta_CD\"=>0.0260662,\"T_k\"=>4.5,\"success\"=>true,\"primary_constraint\"=>\"steady\",\"secondary_constraint\"=>\"wall\",\"limits\"=>DataStructures.OrderedDict{Any,Any}(\"steady\"=>1.0,\"beta\"=>0.000103846,\"wall\"=>1.0)), DataStructures.OrderedDict{Any,Any}(\"R_0\"=>1.07448,\"B_0\"=>88070.5,\"rho_j\"=>0.896842,\"eta_CD\"=>0.0319629,\"T_k\"=>4.8,\"success\"=>true,\"primary_constraint\"=>\"steady\",\"secondary_constraint\"=>\"wall\",\"limits\"=>DataStructures.OrderedDict{Any,Any}(\"steady\"=>1.0,\"beta\"=>0.000215486,\"wall\"=>1.0)), DataStructures.OrderedDict{Any,Any}(\"R_0\"=>1.18344,\"B_0\"=>47901.7,\"rho_j\"=>0.883904,\"eta_CD\"=>0.0385758,\"T_k\"=>5.1,\"success\"=>true,\"primary_constraint\"=>\"steady\",\"secondary_constraint\"=>\"wall\",\"limits\"=>DataStructures.OrderedDict{Any,Any}(\"steady\"=>1.0,\"beta\"=>0.000382189,\"wall\"=>1.0)), DataStructures.OrderedDict{Any,Any}(\"R_0\"=>1.29454,\"B_0\"=>29093.1,\"rho_j\"=>0.869292,\"eta_CD\"=>0.0458419,\"T_k\"=>5.4,\"success\"=>true,\"primary_constraint\"=>\"steady\",\"secondary_constraint\"=>\"wall\",\"limits\"=>DataStructures.OrderedDict{Any,Any}(\"steady\"=>1.0,\"beta\"=>0.000609109,\"wall\"=>1.0)), DataStructures.OrderedDict{Any,Any}(\"R_0\"=>1.40763,\"B_0\"=>19125.1,\"rho_j\"=>0.856393,\"eta_CD\"=>0.0536898,\"T_k\"=>5.7,\"success\"=>true,\"primary_constraint\"=>\"steady\",\"secondary_constraint\"=>\"wall\",\"limits\"=>DataStructures.OrderedDict{Any,Any}(\"steady\"=>1.0,\"beta\"=>0.000899473,\"wall\"=>1.0)), DataStructures.OrderedDict{Any,Any}(\"R_0\"=>1.52263,\"B_0\"=>13332.5,\"rho_j\"=>0.844372,\"eta_CD\"=>0.0620678,\"T_k\"=>6.0,\"success\"=>true,\"primary_constraint\"=>\"steady\",\"secondary_constraint\"=>\"wall\",\"limits\"=>DataStructures.OrderedDict{Any,Any}(\"steady\"=>1.0,\"beta\"=>0.0012556,\"wall\"=>1.0)), DataStructures.OrderedDict{Any,Any}(\"R_0\"=>1.63954,\"B_0\"=>9716.81,\"rho_j\"=>0.829401,\"eta_CD\"=>0.0710472,\"T_k\"=>6.3,\"success\"=>true,\"primary_constraint\"=>\"steady\",\"secondary_constraint\"=>\"wall\",\"limits\"=>DataStructures.OrderedDict{Any,Any}(\"steady\"=>1.0,\"beta\"=>0.00167997,\"wall\"=>1.0)), DataStructures.OrderedDict{Any,Any}(\"R_0\"=>1.75831,\"B_0\"=>7330.9,\"rho_j\"=>0.81688,\"eta_CD\"=>0.0804035,\"T_k\"=>6.6,\"success\"=>true,\"primary_constraint\"=>\"steady\",\"secondary_constraint\"=>\"wall\",\"limits\"=>DataStructures.OrderedDict{Any,Any}(\"steady\"=>1.0,\"beta\"=>0.00217519,\"wall\"=>1.0)), DataStructures.OrderedDict{Any,Any}(\"R_0\"=>1.87901,\"B_0\"=>5683.01,\"rho_j\"=>0.805292,\"eta_CD\"=>0.09011,\"T_k\"=>6.9,\"success\"=>true,\"primary_constraint\"=>\"steady\",\"secondary_constraint\"=>\"wall\",\"limits\"=>DataStructures.OrderedDict{Any,Any}(\"steady\"=>1.0,\"beta\"=>0.00274503,\"wall\"=>1.0)), DataStructures.OrderedDict{Any,Any}(\"R_0\"=>2.00191,\"B_0\"=>4497.1,\"rho_j\"=>0.789359,\"eta_CD\"=>0.100645,\"T_k\"=>7.2,\"success\"=>true,\"primary_constraint\"=>\"steady\",\"secondary_constraint\"=>\"wall\",\"limits\"=>DataStructures.OrderedDict{Any,Any}(\"steady\"=>1.0,\"beta\"=>0.00339751,\"wall\"=>1.0)), DataStructures.OrderedDict{Any,Any}(\"R_0\"=>2.12665,\"B_0\"=>3624.29,\"rho_j\"=>0.777609,\"eta_CD\"=>0.110804,\"T_k\"=>7.5,\"success\"=>true,\"primary_constraint\"=>\"steady\",\"secondary_constraint\"=>\"wall\",\"limits\"=>DataStructures.OrderedDict{Any,Any}(\"steady\"=>1.0,\"beta\"=>0.00413378,\"wall\"=>1.0)), DataStructures.OrderedDict{Any,Any}(\"R_0\"=>2.25378,\"B_0\"=>2959.21,\"rho_j\"=>0.764665,\"eta_CD\"=>0.121532,\"T_k\"=>7.8,\"success\"=>true,\"primary_constraint\"=>\"steady\",\"secondary_constraint\"=>\"wall\",\"limits\"=>DataStructures.OrderedDict{Any,Any}(\"steady\"=>1.0,\"beta\"=>0.00496836,\"wall\"=>1.0)), DataStructures.OrderedDict{Any,Any}(\"R_0\"=>2.38327,\"B_0\"=>2443.0,\"rho_j\"=>0.752891,\"eta_CD\"=>0.1324,\"T_k\"=>8.1,\"success\"=>true,\"primary_constraint\"=>\"steady\",\"secondary_constraint\"=>\"wall\",\"limits\"=>DataStructures.OrderedDict{Any,Any}(\"steady\"=>1.0,\"beta\"=>0.00591011,\"wall\"=>1.0)), DataStructures.OrderedDict{Any,Any}(\"R_0\"=>2.51535,\"B_0\"=>2034.13,\"rho_j\"=>0.740598,\"eta_CD\"=>0.143491,\"T_k\"=>8.4,\"success\"=>true,\"primary_constraint\"=>\"steady\",\"secondary_constraint\"=>\"wall\",\"limits\"=>DataStructures.OrderedDict{Any,Any}(\"steady\"=>1.0,\"beta\"=>0.00697445,\"wall\"=>1.0)), DataStructures.OrderedDict{Any,Any}(\"R_0\"=>2.65022,\"B_0\"=>1705.07,\"rho_j\"=>0.728166,\"eta_CD\"=>0.154761,\"T_k\"=>8.7,\"success\"=>true,\"primary_constraint\"=>\"steady\",\"secondary_constraint\"=>\"wall\",\"limits\"=>DataStructures.OrderedDict{Any,Any}(\"steady\"=>1.0,\"beta\"=>0.00817903,\"wall\"=>1.0)), DataStructures.OrderedDict{Any,Any}(\"R_0\"=>2.78795,\"B_0\"=>1437.29,\"rho_j\"=>0.717183,\"eta_CD\"=>0.166025,\"T_k\"=>9.0,\"success\"=>true,\"primary_constraint\"=>\"steady\",\"secondary_constraint\"=>\"wall\",\"limits\"=>DataStructures.OrderedDict{Any,Any}(\"steady\"=>1.0,\"beta\"=>0.00954153,\"wall\"=>1.0)), DataStructures.OrderedDict{Any,Any}(\"R_0\"=>2.92878,\"B_0\"=>1216.75,\"rho_j\"=>0.706748,\"eta_CD\"=>0.177301,\"T_k\"=>9.3,\"success\"=>true,\"primary_constraint\"=>\"steady\",\"secondary_constraint\"=>\"wall\",\"limits\"=>DataStructures.OrderedDict{Any,Any}(\"steady\"=>1.0,\"beta\"=>0.0110867,\"wall\"=>1.0)), DataStructures.OrderedDict{Any,Any}(\"R_0\"=>3.07314,\"B_0\"=>1032.71,\"rho_j\"=>0.695566,\"eta_CD\"=>0.18875,\"T_k\"=>9.6,\"success\"=>true,\"primary_constraint\"=>\"steady\",\"secondary_constraint\"=>\"wall\",\"limits\"=>DataStructures.OrderedDict{Any,Any}(\"steady\"=>1.0,\"beta\"=>0.0128504,\"wall\"=>1.0)), DataStructures.OrderedDict{Any,Any}(\"R_0\"=>3.22103,\"B_0\"=>878.638,\"rho_j\"=>0.685542,\"eta_CD\"=>0.20012,\"T_k\"=>9.9,\"success\"=>true,\"primary_constraint\"=>\"steady\",\"secondary_constraint\"=>\"wall\",\"limits\"=>DataStructures.OrderedDict{Any,Any}(\"steady\"=>1.0,\"beta\"=>0.0148606,\"wall\"=>1.0)), DataStructures.OrderedDict{Any,Any}(\"R_0\"=>3.37285,\"B_0\"=>748.448,\"rho_j\"=>0.675595,\"eta_CD\"=>0.211521,\"T_k\"=>10.2,\"success\"=>true,\"primary_constraint\"=>\"steady\",\"secondary_constraint\"=>\"wall\",\"limits\"=>DataStructures.OrderedDict{Any,Any}(\"steady\"=>1.0,\"beta\"=>0.0171652,\"wall\"=>1.0)), DataStructures.OrderedDict{Any,Any}(\"R_0\"=>3.52873,\"B_0\"=>638.137,\"rho_j\"=>0.666557,\"eta_CD\"=>0.222831,\"T_k\"=>10.5,\"success\"=>true,\"primary_constraint\"=>\"steady\",\"secondary_constraint\"=>\"wall\",\"limits\"=>DataStructures.OrderedDict{Any,Any}(\"steady\"=>1.0,\"beta\"=>0.019809,\"wall\"=>1.0)), DataStructures.OrderedDict{Any,Any}(\"R_0\"=>3.68933,\"B_0\"=>543.782,\"rho_j\"=>0.656943,\"eta_CD\"=>0.234243,\"T_k\"=>10.8,\"success\"=>true,\"primary_constraint\"=>\"steady\",\"secondary_constraint\"=>\"wall\",\"limits\"=>DataStructures.OrderedDict{Any,Any}(\"steady\"=>1.0,\"beta\"=>0.0228695,\"wall\"=>1.0)), DataStructures.OrderedDict{Any,Any}(\"R_0\"=>3.85499,\"B_0\"=>462.897,\"rho_j\"=>0.647142,\"eta_CD\"=>0.245711,\"T_k\"=>11.1,\"success\"=>true,\"primary_constraint\"=>\"steady\",\"secondary_constraint\"=>\"wall\",\"limits\"=>DataStructures.OrderedDict{Any,Any}(\"steady\"=>1.0,\"beta\"=>0.0264254,\"wall\"=>1.0)), DataStructures.OrderedDict{Any,Any}(\"R_0\"=>4.02531,\"B_0\"=>394.086,\"rho_j\"=>0.639352,\"eta_CD\"=>0.256877,\"T_k\"=>11.4,\"success\"=>true,\"primary_constraint\"=>\"steady\",\"secondary_constraint\"=>\"wall\",\"limits\"=>DataStructures.OrderedDict{Any,Any}(\"steady\"=>1.0,\"beta\"=>0.0305296,\"wall\"=>1.0)), DataStructures.OrderedDict{Any,Any}(\"R_0\"=>4.20149,\"B_0\"=>334.787,\"rho_j\"=>0.631161,\"eta_CD\"=>0.268113,\"T_k\"=>11.7,\"success\"=>true,\"primary_constraint\"=>\"steady\",\"secondary_constraint\"=>\"wall\",\"limits\"=>DataStructures.OrderedDict{Any,Any}(\"steady\"=>1.0,\"beta\"=>0.0353363,\"wall\"=>1.0)), DataStructures.OrderedDict{Any,Any}(\"R_0\"=>4.38384,\"B_0\"=>283.757,\"rho_j\"=>0.623061,\"eta_CD\"=>0.279344,\"T_k\"=>12.0,\"success\"=>true,\"primary_constraint\"=>\"steady\",\"secondary_constraint\"=>\"wall\",\"limits\"=>DataStructures.OrderedDict{Any,Any}(\"steady\"=>1.0,\"beta\"=>0.0409814,\"wall\"=>1.0)), DataStructures.OrderedDict{Any,Any}(\"R_0\"=>4.57292,\"B_0\"=>239.82,\"rho_j\"=>0.615035,\"eta_CD\"=>0.290579,\"T_k\"=>12.3,\"success\"=>true,\"primary_constraint\"=>\"steady\",\"secondary_constraint\"=>\"wall\",\"limits\"=>DataStructures.OrderedDict{Any,Any}(\"steady\"=>1.0,\"beta\"=>0.0476467,\"wall\"=>1.0)), DataStructures.OrderedDict{Any,Any}(\"R_0\"=>4.76909,\"B_0\"=>202.09,\"rho_j\"=>0.607447,\"eta_CD\"=>0.301753,\"T_k\"=>12.6,\"success\"=>true,\"primary_constraint\"=>\"steady\",\"secondary_constraint\"=>\"wall\",\"limits\"=>DataStructures.OrderedDict{Any,Any}(\"steady\"=>1.0,\"beta\"=>0.0555388,\"wall\"=>1.0)), DataStructures.OrderedDict{Any,Any}(\"R_0\"=>4.97291,\"B_0\"=>169.733,\"rho_j\"=>0.600295,\"eta_CD\"=>0.312858,\"T_k\"=>12.9,\"success\"=>true,\"primary_constraint\"=>\"steady\",\"secondary_constraint\"=>\"wall\",\"limits\"=>DataStructures.OrderedDict{Any,Any}(\"steady\"=>1.0,\"beta\"=>0.0649262,\"wall\"=>1.0)), DataStructures.OrderedDict{Any,Any}(\"R_0\"=>5.18589,\"B_0\"=>141.819,\"rho_j\"=>0.592635,\"eta_CD\"=>0.324101,\"T_k\"=>13.2,\"success\"=>true,\"primary_constraint\"=>\"steady\",\"secondary_constraint\"=>\"wall\",\"limits\"=>DataStructures.OrderedDict{Any,Any}(\"steady\"=>1.0,\"beta\"=>0.0762472,\"wall\"=>1.0)), DataStructures.OrderedDict{Any,Any}(\"R_0\"=>5.40725,\"B_0\"=>118.13,\"rho_j\"=>0.586345,\"eta_CD\"=>0.335109,\"T_k\"=>13.5,\"success\"=>true,\"primary_constraint\"=>\"steady\",\"secondary_constraint\"=>\"wall\",\"limits\"=>DataStructures.OrderedDict{Any,Any}(\"steady\"=>1.0,\"beta\"=>0.0897846,\"wall\"=>1.0)), DataStructures.OrderedDict{Any,Any}(\"R_0\"=>5.64045,\"B_0\"=>97.6452,\"rho_j\"=>0.57854,\"eta_CD\"=>0.346441,\"T_k\"=>13.8,\"success\"=>true,\"primary_constraint\"=>\"steady\",\"secondary_constraint\"=>\"wall\",\"limits\"=>DataStructures.OrderedDict{Any,Any}(\"steady\"=>1.0,\"beta\"=>0.106444,\"wall\"=>1.0)), DataStructures.OrderedDict{Any,Any}(\"R_0\"=>5.88424,\"B_0\"=>80.3339,\"rho_j\"=>0.571892,\"eta_CD\"=>0.357618,\"T_k\"=>14.1,\"success\"=>true,\"primary_constraint\"=>\"steady\",\"secondary_constraint\"=>\"wall\",\"limits\"=>DataStructures.OrderedDict{Any,Any}(\"steady\"=>1.0,\"beta\"=>0.126717,\"wall\"=>1.0)), DataStructures.OrderedDict{Any,Any}(\"R_0\"=>6.14118,\"B_0\"=>65.6063,\"rho_j\"=>0.564878,\"eta_CD\"=>0.368902,\"T_k\"=>14.4,\"success\"=>true,\"primary_constraint\"=>\"steady\",\"secondary_constraint\"=>\"wall\",\"limits\"=>DataStructures.OrderedDict{Any,Any}(\"steady\"=>1.0,\"beta\"=>0.151835,\"wall\"=>1.0)), DataStructures.OrderedDict{Any,Any}(\"R_0\"=>6.41253,\"B_0\"=>53.1594,\"rho_j\"=>0.557932,\"eta_CD\"=>0.380261,\"T_k\"=>14.7,\"success\"=>true,\"primary_constraint\"=>\"steady\",\"secondary_constraint\"=>\"wall\",\"limits\"=>DataStructures.OrderedDict{Any,Any}(\"steady\"=>1.0,\"beta\"=>0.183195,\"wall\"=>1.0)), DataStructures.OrderedDict{Any,Any}(\"R_0\"=>6.69276,\"B_0\"=>43.0959,\"rho_j\"=>0.552295,\"eta_CD\"=>0.390755,\"T_k\"=>15.0,\"success\"=>true,\"primary_constraint\"=>\"steady\",\"secondary_constraint\"=>\"wall\",\"limits\"=>DataStructures.OrderedDict{Any,Any}(\"steady\"=>1.0,\"beta\"=>0.220931,\"wall\"=>1.0)), DataStructures.OrderedDict{Any,Any}(\"R_0\"=>7.00489,\"B_0\"=>33.9964,\"rho_j\"=>0.544178,\"eta_CD\"=>0.403146,\"T_k\"=>15.3,\"success\"=>true,\"primary_constraint\"=>\"steady\",\"secondary_constraint\"=>\"wall\",\"limits\"=>DataStructures.OrderedDict{Any,Any}(\"steady\"=>1.0,\"beta\"=>0.272937,\"wall\"=>1.0)), DataStructures.OrderedDict{Any,Any}(\"R_0\"=>7.33501,\"B_0\"=>26.6262,\"rho_j\"=>0.536373,\"eta_CD\"=>0.415206,\"T_k\"=>15.6,\"success\"=>true,\"primary_constraint\"=>\"steady\",\"secondary_constraint\"=>\"wall\",\"limits\"=>DataStructures.OrderedDict{Any,Any}(\"steady\"=>1.0,\"beta\"=>0.339329,\"wall\"=>1.0)), DataStructures.OrderedDict{Any,Any}(\"R_0\"=>7.68769,\"B_0\"=>20.6286,\"rho_j\"=>0.528843,\"eta_CD\"=>0.427214,\"T_k\"=>15.9,\"success\"=>true,\"primary_constraint\"=>\"steady\",\"secondary_constraint\"=>\"wall\",\"limits\"=>DataStructures.OrderedDict{Any,Any}(\"steady\"=>1.0,\"beta\"=>0.425929,\"wall\"=>1.0)), DataStructures.OrderedDict{Any,Any}(\"R_0\"=>8.07197,\"B_0\"=>15.6899,\"rho_j\"=>0.520717,\"eta_CD\"=>0.439694,\"T_k\"=>16.2,\"success\"=>true,\"primary_constraint\"=>\"steady\",\"secondary_constraint\"=>\"wall\",\"limits\"=>DataStructures.OrderedDict{Any,Any}(\"steady\"=>1.0,\"beta\"=>0.543402,\"wall\"=>1.0)), DataStructures.OrderedDict{Any,Any}(\"R_0\"=>8.48674,\"B_0\"=>11.7653,\"rho_j\"=>0.512719,\"eta_CD\"=>0.452133,\"T_k\"=>16.5,\"success\"=>true,\"primary_constraint\"=>\"steady\",\"secondary_constraint\"=>\"wall\",\"limits\"=>DataStructures.OrderedDict{Any,Any}(\"steady\"=>1.0,\"beta\"=>0.702016,\"wall\"=>1.0)), DataStructures.OrderedDict{Any,Any}(\"R_0\"=>8.94457,\"B_0\"=>8.61724,\"rho_j\"=>0.504068,\"eta_CD\"=>0.465076,\"T_k\"=>16.8,\"success\"=>true,\"primary_constraint\"=>\"steady\",\"secondary_constraint\"=>\"wall\",\"limits\"=>DataStructures.OrderedDict{Any,Any}(\"steady\"=>1.0,\"beta\"=>0.925951,\"wall\"=>1.0)), DataStructures.OrderedDict{Any,Any}(\"R_0\"=>9.47384,\"B_0\"=>6.03472,\"rho_j\"=>0.493127,\"eta_CD\"=>0.479673,\"T_k\"=>17.1,\"success\"=>true,\"primary_constraint\"=>\"steady\",\"secondary_constraint\"=>\"wall\",\"limits\"=>DataStructures.OrderedDict{Any,Any}(\"steady\"=>1.0,\"beta\"=>1.27063,\"wall\"=>1.0)), DataStructures.OrderedDict{Any,Any}(\"R_0\"=>10.0325,\"B_0\"=>4.22227,\"rho_j\"=>0.484344,\"eta_CD\"=>0.492764,\"T_k\"=>17.4,\"success\"=>true,\"primary_constraint\"=>\"steady\",\"secondary_constraint\"=>\"wall\",\"limits\"=>DataStructures.OrderedDict{Any,Any}(\"steady\"=>1.0,\"beta\"=>1.74502,\"wall\"=>1.0)), DataStructures.OrderedDict{Any,Any}(\"R_0\"=>10.6883,\"B_0\"=>2.79931,\"rho_j\"=>0.47336,\"eta_CD\"=>0.507412,\"T_k\"=>17.7,\"success\"=>true,\"primary_constraint\"=>\"steady\",\"secondary_constraint\"=>\"wall\",\"limits\"=>DataStructures.OrderedDict{Any,Any}(\"steady\"=>1.0,\"beta\"=>2.51316,\"wall\"=>1.0)), DataStructures.OrderedDict{Any,Any}(\"R_0\"=>11.4792,\"B_0\"=>1.72826,\"rho_j\"=>0.459714,\"eta_CD\"=>0.523891,\"T_k\"=>18.0,\"success\"=>true,\"primary_constraint\"=>\"steady\",\"secondary_constraint\"=>\"wall\",\"limits\"=>DataStructures.OrderedDict{Any,Any}(\"steady\"=>1.0,\"beta\"=>3.85442,\"wall\"=>1.0)), DataStructures.OrderedDict{Any,Any}(\"R_0\"=>12.405,\"B_0\"=>1.00988,\"rho_j\"=>0.44556,\"eta_CD\"=>0.540653,\"T_k\"=>18.3,\"success\"=>true,\"primary_constraint\"=>\"steady\",\"secondary_constraint\"=>\"wall\",\"limits\"=>DataStructures.OrderedDict{Any,Any}(\"steady\"=>1.0,\"beta\"=>6.20568,\"wall\"=>1.0)), DataStructures.OrderedDict{Any,Any}(\"R_0\"=>13.5792,\"B_0\"=>0.527551,\"rho_j\"=>0.428185,\"eta_CD\"=>0.559454,\"T_k\"=>18.6,\"success\"=>true,\"primary_constraint\"=>\"steady\",\"secondary_constraint\"=>\"wall\",\"limits\"=>DataStructures.OrderedDict{Any,Any}(\"steady\"=>1.0,\"beta\"=>11.0301,\"wall\"=>1.0)), DataStructures.OrderedDict{Any,Any}(\"R_0\"=>14.921,\"B_0\"=>0.26625,\"rho_j\"=>0.413481,\"eta_CD\"=>0.576328,\"T_k\"=>18.9,\"success\"=>true,\"primary_constraint\"=>\"steady\",\"secondary_constraint\"=>\"wall\",\"limits\"=>DataStructures.OrderedDict{Any,Any}(\"steady\"=>1.0,\"beta\"=>20.2107,\"wall\"=>1.0)), DataStructures.OrderedDict{Any,Any}(\"R_0\"=>17.5085,\"B_0\"=>0.0765554,\"rho_j\"=>0.377076,\"eta_CD\"=>0.606451,\"T_k\"=>19.2,\"success\"=>true,\"primary_constraint\"=>\"steady\",\"secondary_constraint\"=>\"wall\",\"limits\"=>DataStructures.OrderedDict{Any,Any}(\"steady\"=>1.0,\"beta\"=>60.8532,\"wall\"=>1.0))]\n",
    "\n",
    "cur_sweeps[\"all\"] = Any[DataStructures.OrderedDict{Any,Any}(\"R_0\"=>0.570825,\"B_0\"=>2.97268e9,\"rho_j\"=>0.951802,\"eta_CD\"=>0.00904377,\"T_k\"=>3.3,\"success\"=>true,\"primary_constraint\"=>\"steady\",\"secondary_constraint\"=>\"wall\",\"limits\"=>DataStructures.OrderedDict{Any,Any}(\"steady\"=>1.0,\"beta\"=>8.26169e-9,\"wall\"=>1.0)), DataStructures.OrderedDict{Any,Any}(\"R_0\"=>0.664838,\"B_0\"=>2.29138e7,\"rho_j\"=>0.942187,\"eta_CD\"=>0.0122983,\"T_k\"=>3.6,\"success\"=>true,\"primary_constraint\"=>\"steady\",\"secondary_constraint\"=>\"wall\",\"limits\"=>DataStructures.OrderedDict{Any,Any}(\"steady\"=>1.0,\"beta\"=>1.00391e-6,\"wall\"=>1.0)), DataStructures.OrderedDict{Any,Any}(\"R_0\"=>0.762654,\"B_0\"=>2.25074e6,\"rho_j\"=>0.929305,\"eta_CD\"=>0.0161989,\"T_k\"=>3.9,\"success\"=>true,\"primary_constraint\"=>\"steady\",\"secondary_constraint\"=>\"wall\",\"limits\"=>DataStructures.OrderedDict{Any,Any}(\"steady\"=>1.0,\"beta\"=>9.65202e-6,\"wall\"=>1.0)), DataStructures.OrderedDict{Any,Any}(\"R_0\"=>0.86379,\"B_0\"=>5.2778e5,\"rho_j\"=>0.920161,\"eta_CD\"=>0.0207726,\"T_k\"=>4.2,\"success\"=>true,\"primary_constraint\"=>\"steady\",\"secondary_constraint\"=>\"wall\",\"limits\"=>DataStructures.OrderedDict{Any,Any}(\"steady\"=>1.0,\"beta\"=>3.91376e-5,\"wall\"=>1.0)), DataStructures.OrderedDict{Any,Any}(\"R_0\"=>0.967842,\"B_0\"=>1.9021e5,\"rho_j\"=>0.909088,\"eta_CD\"=>0.0260271,\"T_k\"=>4.5,\"success\"=>true,\"primary_constraint\"=>\"steady\",\"secondary_constraint\"=>\"wall\",\"limits\"=>DataStructures.OrderedDict{Any,Any}(\"steady\"=>1.0,\"beta\"=>0.000103844,\"wall\"=>1.0)), DataStructures.OrderedDict{Any,Any}(\"R_0\"=>1.07448,\"B_0\"=>88070.7,\"rho_j\"=>0.897274,\"eta_CD\"=>0.0319595,\"T_k\"=>4.8,\"success\"=>true,\"primary_constraint\"=>\"steady\",\"secondary_constraint\"=>\"wall\",\"limits\"=>DataStructures.OrderedDict{Any,Any}(\"steady\"=>1.0,\"beta\"=>0.000215486,\"wall\"=>1.0)), DataStructures.OrderedDict{Any,Any}(\"R_0\"=>1.18344,\"B_0\"=>47901.8,\"rho_j\"=>0.884079,\"eta_CD\"=>0.0385735,\"T_k\"=>5.1,\"success\"=>true,\"primary_constraint\"=>\"steady\",\"secondary_constraint\"=>\"wall\",\"limits\"=>DataStructures.OrderedDict{Any,Any}(\"steady\"=>1.0,\"beta\"=>0.000382188,\"wall\"=>1.0)), DataStructures.OrderedDict{Any,Any}(\"R_0\"=>1.29453,\"B_0\"=>29094.0,\"rho_j\"=>0.870951,\"eta_CD\"=>0.0458092,\"T_k\"=>5.4,\"success\"=>true,\"primary_constraint\"=>\"steady\",\"secondary_constraint\"=>\"wall\",\"limits\"=>DataStructures.OrderedDict{Any,Any}(\"steady\"=>1.0,\"beta\"=>0.000609093,\"wall\"=>1.0)), DataStructures.OrderedDict{Any,Any}(\"R_0\"=>1.40763,\"B_0\"=>19124.6,\"rho_j\"=>0.855389,\"eta_CD\"=>0.0537164,\"T_k\"=>5.7,\"success\"=>true,\"primary_constraint\"=>\"steady\",\"secondary_constraint\"=>\"wall\",\"limits\"=>DataStructures.OrderedDict{Any,Any}(\"steady\"=>1.0,\"beta\"=>0.000899495,\"wall\"=>1.0)), DataStructures.OrderedDict{Any,Any}(\"R_0\"=>1.52263,\"B_0\"=>13332.3,\"rho_j\"=>0.844037,\"eta_CD\"=>0.0620784,\"T_k\"=>6.0,\"success\"=>true,\"primary_constraint\"=>\"steady\",\"secondary_constraint\"=>\"wall\",\"limits\"=>DataStructures.OrderedDict{Any,Any}(\"steady\"=>1.0,\"beta\"=>0.00125562,\"wall\"=>1.0)), DataStructures.OrderedDict{Any,Any}(\"R_0\"=>1.63952,\"B_0\"=>9717.58,\"rho_j\"=>0.830931,\"eta_CD\"=>0.0709873,\"T_k\"=>6.3,\"success\"=>true,\"primary_constraint\"=>\"steady\",\"secondary_constraint\"=>\"wall\",\"limits\"=>DataStructures.OrderedDict{Any,Any}(\"steady\"=>1.0,\"beta\"=>0.00167985,\"wall\"=>1.0)), DataStructures.OrderedDict{Any,Any}(\"R_0\"=>1.75834,\"B_0\"=>7330.0,\"rho_j\"=>0.815131,\"eta_CD\"=>0.080486,\"T_k\"=>6.6,\"success\"=>true,\"primary_constraint\"=>\"steady\",\"secondary_constraint\"=>\"wall\",\"limits\"=>DataStructures.OrderedDict{Any,Any}(\"steady\"=>1.0,\"beta\"=>0.00217542,\"wall\"=>1.0)), DataStructures.OrderedDict{Any,Any}(\"R_0\"=>1.87903,\"B_0\"=>5682.47,\"rho_j\"=>0.804209,\"eta_CD\"=>0.0901678,\"T_k\"=>6.9,\"success\"=>true,\"primary_constraint\"=>\"steady\",\"secondary_constraint\"=>\"wall\",\"limits\"=>DataStructures.OrderedDict{Any,Any}(\"steady\"=>1.0,\"beta\"=>0.00274527,\"wall\"=>1.0)), DataStructures.OrderedDict{Any,Any}(\"R_0\"=>2.0019,\"B_0\"=>4497.32,\"rho_j\"=>0.789801,\"eta_CD\"=>0.100617,\"T_k\"=>7.2,\"success\"=>true,\"primary_constraint\"=>\"steady\",\"secondary_constraint\"=>\"wall\",\"limits\"=>DataStructures.OrderedDict{Any,Any}(\"steady\"=>1.0,\"beta\"=>0.00339736,\"wall\"=>1.0)), DataStructures.OrderedDict{Any,Any}(\"R_0\"=>2.12665,\"B_0\"=>3624.3,\"rho_j\"=>0.777644,\"eta_CD\"=>0.110803,\"T_k\"=>7.5,\"success\"=>true,\"primary_constraint\"=>\"steady\",\"secondary_constraint\"=>\"wall\",\"limits\"=>DataStructures.OrderedDict{Any,Any}(\"steady\"=>1.0,\"beta\"=>0.00413378,\"wall\"=>1.0)), DataStructures.OrderedDict{Any,Any}(\"R_0\"=>2.25377,\"B_0\"=>2959.31,\"rho_j\"=>0.764868,\"eta_CD\"=>0.121517,\"T_k\"=>7.8,\"success\"=>true,\"primary_constraint\"=>\"steady\",\"secondary_constraint\"=>\"wall\",\"limits\"=>DataStructures.OrderedDict{Any,Any}(\"steady\"=>1.0,\"beta\"=>0.00496821,\"wall\"=>1.0)), DataStructures.OrderedDict{Any,Any}(\"R_0\"=>2.38332,\"B_0\"=>2442.48,\"rho_j\"=>0.75184,\"eta_CD\"=>0.132489,\"T_k\"=>8.1,\"success\"=>true,\"primary_constraint\"=>\"steady\",\"secondary_constraint\"=>\"wall\",\"limits\"=>DataStructures.OrderedDict{Any,Any}(\"steady\"=>1.0,\"beta\"=>0.00591122,\"wall\"=>1.0)), DataStructures.OrderedDict{Any,Any}(\"R_0\"=>2.5153,\"B_0\"=>2034.46,\"rho_j\"=>0.741293,\"eta_CD\"=>0.143426,\"T_k\"=>8.4,\"success\"=>true,\"primary_constraint\"=>\"steady\",\"secondary_constraint\"=>\"wall\",\"limits\"=>DataStructures.OrderedDict{Any,Any}(\"steady\"=>1.0,\"beta\"=>0.00697343,\"wall\"=>1.0)), DataStructures.OrderedDict{Any,Any}(\"R_0\"=>2.65021,\"B_0\"=>1705.1,\"rho_j\"=>0.728207,\"eta_CD\"=>0.154754,\"T_k\"=>8.7,\"success\"=>true,\"primary_constraint\"=>\"steady\",\"secondary_constraint\"=>\"wall\",\"limits\"=>DataStructures.OrderedDict{Any,Any}(\"steady\"=>1.0,\"beta\"=>0.00817889,\"wall\"=>1.0)), DataStructures.OrderedDict{Any,Any}(\"R_0\"=>2.78785,\"B_0\"=>1437.77,\"rho_j\"=>0.718198,\"eta_CD\"=>0.165915,\"T_k\"=>9.0,\"success\"=>true,\"primary_constraint\"=>\"steady\",\"secondary_constraint\"=>\"wall\",\"limits\"=>DataStructures.OrderedDict{Any,Any}(\"steady\"=>1.0,\"beta\"=>0.00953875,\"wall\"=>1.0)), DataStructures.OrderedDict{Any,Any}(\"R_0\"=>2.92904,\"B_0\"=>1215.85,\"rho_j\"=>0.70475,\"eta_CD\"=>0.177531,\"T_k\"=>9.3,\"success\"=>true,\"primary_constraint\"=>\"steady\",\"secondary_constraint\"=>\"wall\",\"limits\"=>DataStructures.OrderedDict{Any,Any}(\"steady\"=>1.0,\"beta\"=>0.0110939,\"wall\"=>1.0)), DataStructures.OrderedDict{Any,Any}(\"R_0\"=>3.07313,\"B_0\"=>1032.74,\"rho_j\"=>0.695659,\"eta_CD\"=>0.188741,\"T_k\"=>9.6,\"success\"=>true,\"primary_constraint\"=>\"steady\",\"secondary_constraint\"=>\"wall\",\"limits\"=>DataStructures.OrderedDict{Any,Any}(\"steady\"=>1.0,\"beta\"=>0.01285,\"wall\"=>1.0)), DataStructures.OrderedDict{Any,Any}(\"R_0\"=>3.22115,\"B_0\"=>878.357,\"rho_j\"=>0.684855,\"eta_CD\"=>0.200207,\"T_k\"=>9.9,\"success\"=>true,\"primary_constraint\"=>\"steady\",\"secondary_constraint\"=>\"wall\",\"limits\"=>DataStructures.OrderedDict{Any,Any}(\"steady\"=>1.0,\"beta\"=>0.0148648,\"wall\"=>1.0)), DataStructures.OrderedDict{Any,Any}(\"R_0\"=>3.37281,\"B_0\"=>748.523,\"rho_j\"=>0.675796,\"eta_CD\"=>0.211495,\"T_k\"=>10.2,\"success\"=>true,\"primary_constraint\"=>\"steady\",\"secondary_constraint\"=>\"wall\",\"limits\"=>DataStructures.OrderedDict{Any,Any}(\"steady\"=>1.0,\"beta\"=>0.0171636,\"wall\"=>1.0)), DataStructures.OrderedDict{Any,Any}(\"R_0\"=>3.52886,\"B_0\"=>637.937,\"rho_j\"=>0.666028,\"eta_CD\"=>0.222905,\"T_k\"=>10.5,\"success\"=>true,\"primary_constraint\"=>\"steady\",\"secondary_constraint\"=>\"wall\",\"limits\"=>DataStructures.OrderedDict{Any,Any}(\"steady\"=>1.0,\"beta\"=>0.0198145,\"wall\"=>1.0)), DataStructures.OrderedDict{Any,Any}(\"R_0\"=>3.68928,\"B_0\"=>543.848,\"rho_j\"=>0.657123,\"eta_CD\"=>0.234216,\"T_k\"=>10.8,\"success\"=>true,\"primary_constraint\"=>\"steady\",\"secondary_constraint\"=>\"wall\",\"limits\"=>DataStructures.OrderedDict{Any,Any}(\"steady\"=>1.0,\"beta\"=>0.0228671,\"wall\"=>1.0)), DataStructures.OrderedDict{Any,Any}(\"R_0\"=>3.85474,\"B_0\"=>463.153,\"rho_j\"=>0.647901,\"eta_CD\"=>0.245593,\"T_k\"=>11.1,\"success\"=>true,\"primary_constraint\"=>\"steady\",\"secondary_constraint\"=>\"wall\",\"limits\"=>DataStructures.OrderedDict{Any,Any}(\"steady\"=>1.0,\"beta\"=>0.0264125,\"wall\"=>1.0)), DataStructures.OrderedDict{Any,Any}(\"R_0\"=>4.02532,\"B_0\"=>394.078,\"rho_j\"=>0.639314,\"eta_CD\"=>0.256881,\"T_k\"=>11.4,\"success\"=>true,\"primary_constraint\"=>\"steady\",\"secondary_constraint\"=>\"wall\",\"limits\"=>DataStructures.OrderedDict{Any,Any}(\"steady\"=>1.0,\"beta\"=>0.0305301,\"wall\"=>1.0)), DataStructures.OrderedDict{Any,Any}(\"R_0\"=>4.20153,\"B_0\"=>334.756,\"rho_j\"=>0.631054,\"eta_CD\"=>0.268131,\"T_k\"=>11.7,\"success\"=>true,\"primary_constraint\"=>\"steady\",\"secondary_constraint\"=>\"wall\",\"limits\"=>DataStructures.OrderedDict{Any,Any}(\"steady\"=>1.0,\"beta\"=>0.0353392,\"wall\"=>1.0)), DataStructures.OrderedDict{Any,Any}(\"R_0\"=>4.38383,\"B_0\"=>283.761,\"rho_j\"=>0.623067,\"eta_CD\"=>0.279341,\"T_k\"=>12.0,\"success\"=>true,\"primary_constraint\"=>\"steady\",\"secondary_constraint\"=>\"wall\",\"limits\"=>DataStructures.OrderedDict{Any,Any}(\"steady\"=>1.0,\"beta\"=>0.0409808,\"wall\"=>1.0)), DataStructures.OrderedDict{Any,Any}(\"R_0\"=>4.57292,\"B_0\"=>239.82,\"rho_j\"=>0.615035,\"eta_CD\"=>0.290579,\"T_k\"=>12.3,\"success\"=>true,\"primary_constraint\"=>\"steady\",\"secondary_constraint\"=>\"wall\",\"limits\"=>DataStructures.OrderedDict{Any,Any}(\"steady\"=>1.0,\"beta\"=>0.0476467,\"wall\"=>1.0)), DataStructures.OrderedDict{Any,Any}(\"R_0\"=>4.76894,\"B_0\"=>202.146,\"rho_j\"=>0.607691,\"eta_CD\"=>0.301709,\"T_k\"=>12.6,\"success\"=>true,\"primary_constraint\"=>\"steady\",\"secondary_constraint\"=>\"wall\",\"limits\"=>DataStructures.OrderedDict{Any,Any}(\"steady\"=>1.0,\"beta\"=>0.0555252,\"wall\"=>1.0)), DataStructures.OrderedDict{Any,Any}(\"R_0\"=>4.9729,\"B_0\"=>169.736,\"rho_j\"=>0.600298,\"eta_CD\"=>0.312855,\"T_k\"=>12.9,\"success\"=>true,\"primary_constraint\"=>\"steady\",\"secondary_constraint\"=>\"wall\",\"limits\"=>DataStructures.OrderedDict{Any,Any}(\"steady\"=>1.0,\"beta\"=>0.064925,\"wall\"=>1.0)), DataStructures.OrderedDict{Any,Any}(\"R_0\"=>5.18558,\"B_0\"=>141.89,\"rho_j\"=>0.593011,\"eta_CD\"=>0.324029,\"T_k\"=>13.2,\"success\"=>true,\"primary_constraint\"=>\"steady\",\"secondary_constraint\"=>\"wall\",\"limits\"=>DataStructures.OrderedDict{Any,Any}(\"steady\"=>1.0,\"beta\"=>0.0762131,\"wall\"=>1.0)), DataStructures.OrderedDict{Any,Any}(\"R_0\"=>5.40766,\"B_0\"=>118.053,\"rho_j\"=>0.585877,\"eta_CD\"=>0.335197,\"T_k\"=>13.5,\"success\"=>true,\"primary_constraint\"=>\"steady\",\"secondary_constraint\"=>\"wall\",\"limits\"=>DataStructures.OrderedDict{Any,Any}(\"steady\"=>1.0,\"beta\"=>0.0898363,\"wall\"=>1.0)), DataStructures.OrderedDict{Any,Any}(\"R_0\"=>5.64014,\"B_0\"=>97.6908,\"rho_j\"=>0.57884,\"eta_CD\"=>0.346381,\"T_k\"=>13.8,\"success\"=>true,\"primary_constraint\"=>\"steady\",\"secondary_constraint\"=>\"wall\",\"limits\"=>DataStructures.OrderedDict{Any,Any}(\"steady\"=>1.0,\"beta\"=>0.1064,\"wall\"=>1.0)), DataStructures.OrderedDict{Any,Any}(\"R_0\"=>5.88431,\"B_0\"=>80.3258,\"rho_j\"=>0.571824,\"eta_CD\"=>0.35763,\"T_k\"=>14.1,\"success\"=>true,\"primary_constraint\"=>\"steady\",\"secondary_constraint\"=>\"wall\",\"limits\"=>DataStructures.OrderedDict{Any,Any}(\"steady\"=>1.0,\"beta\"=>0.126729,\"wall\"=>1.0)), DataStructures.OrderedDict{Any,Any}(\"R_0\"=>6.14116,\"B_0\"=>65.6075,\"rho_j\"=>0.564881,\"eta_CD\"=>0.3689,\"T_k\"=>14.4,\"success\"=>true,\"primary_constraint\"=>\"steady\",\"secondary_constraint\"=>\"wall\",\"limits\"=>DataStructures.OrderedDict{Any,Any}(\"steady\"=>1.0,\"beta\"=>0.151832,\"wall\"=>1.0)), DataStructures.OrderedDict{Any,Any}(\"R_0\"=>6.41253,\"B_0\"=>53.1597,\"rho_j\"=>0.557935,\"eta_CD\"=>0.380261,\"T_k\"=>14.7,\"success\"=>true,\"primary_constraint\"=>\"steady\",\"secondary_constraint\"=>\"wall\",\"limits\"=>DataStructures.OrderedDict{Any,Any}(\"steady\"=>1.0,\"beta\"=>0.183194,\"wall\"=>1.0)), DataStructures.OrderedDict{Any,Any}(\"R_0\"=>6.69276,\"B_0\"=>43.096,\"rho_j\"=>0.552294,\"eta_CD\"=>0.390755,\"T_k\"=>15.0,\"success\"=>true,\"primary_constraint\"=>\"steady\",\"secondary_constraint\"=>\"wall\",\"limits\"=>DataStructures.OrderedDict{Any,Any}(\"steady\"=>1.0,\"beta\"=>0.22093,\"wall\"=>1.0)), DataStructures.OrderedDict{Any,Any}(\"R_0\"=>7.00522,\"B_0\"=>33.983,\"rho_j\"=>0.544003,\"eta_CD\"=>0.403184,\"T_k\"=>15.3,\"success\"=>true,\"primary_constraint\"=>\"steady\",\"secondary_constraint\"=>\"wall\",\"limits\"=>DataStructures.OrderedDict{Any,Any}(\"steady\"=>1.0,\"beta\"=>0.273033,\"wall\"=>1.0)), DataStructures.OrderedDict{Any,Any}(\"R_0\"=>7.33531,\"B_0\"=>26.6167,\"rho_j\"=>0.536326,\"eta_CD\"=>0.415239,\"T_k\"=>15.6,\"success\"=>true,\"primary_constraint\"=>\"steady\",\"secondary_constraint\"=>\"wall\",\"limits\"=>DataStructures.OrderedDict{Any,Any}(\"steady\"=>1.0,\"beta\"=>0.339435,\"wall\"=>1.0)), DataStructures.OrderedDict{Any,Any}(\"R_0\"=>7.68749,\"B_0\"=>20.6333,\"rho_j\"=>0.528871,\"eta_CD\"=>0.427195,\"T_k\"=>15.9,\"success\"=>true,\"primary_constraint\"=>\"steady\",\"secondary_constraint\"=>\"wall\",\"limits\"=>DataStructures.OrderedDict{Any,Any}(\"steady\"=>1.0,\"beta\"=>0.425844,\"wall\"=>1.0)), DataStructures.OrderedDict{Any,Any}(\"R_0\"=>8.06897,\"B_0\"=>15.7398,\"rho_j\"=>0.521079,\"eta_CD\"=>0.439439,\"T_k\"=>16.2,\"success\"=>true,\"primary_constraint\"=>\"steady\",\"secondary_constraint\"=>\"wall\",\"limits\"=>DataStructures.OrderedDict{Any,Any}(\"steady\"=>1.0,\"beta\"=>0.541881,\"wall\"=>1.0)), DataStructures.OrderedDict{Any,Any}(\"R_0\"=>8.48311,\"B_0\"=>11.8083,\"rho_j\"=>0.513079,\"eta_CD\"=>0.451859,\"T_k\"=>16.5,\"success\"=>true,\"primary_constraint\"=>\"steady\",\"secondary_constraint\"=>\"wall\",\"limits\"=>DataStructures.OrderedDict{Any,Any}(\"steady\"=>1.0,\"beta\"=>0.699759,\"wall\"=>1.0)), DataStructures.OrderedDict{Any,Any}(\"R_0\"=>8.94035,\"B_0\"=>8.652,\"rho_j\"=>0.504512,\"eta_CD\"=>0.464794,\"T_k\"=>16.8,\"success\"=>true,\"primary_constraint\"=>\"steady\",\"secondary_constraint\"=>\"wall\",\"limits\"=>DataStructures.OrderedDict{Any,Any}(\"steady\"=>1.0,\"beta\"=>0.922666,\"wall\"=>1.0))]\n",
    "\n",
    "for cur_value in values(cur_sweeps)\n",
    "    for (cur_index, cur_sub_value) in enumerate(cur_value)\n",
    "        print(\".\")\n",
    "        cur_value[cur_index] = Tokamak.analyze_solved_case(cur_sub_value)\n",
    "    end\n",
    "    println(\"\")\n",
    "end\n",
    "\n",
    "return"
   ]
  },
  {
   "cell_type": "code",
   "execution_count": 44,
   "metadata": {
    "collapsed": false,
    "scrolled": true
   },
   "outputs": [
    {
     "data": {
      "text/plain": [
       "18-element Array{String,1}:\n",
       " \"n_bar\"  \n",
       " \"R_0\"    \n",
       " \"B_0\"    \n",
       " \"P_H\"    \n",
       " \"eta_CD\" \n",
       " \"q_P\"    \n",
       " \"I_M\"    \n",
       " \"T_k\"    \n",
       " \"P_BR\"   \n",
       " \"q_star\" \n",
       " \"beta_N\" \n",
       " \"P_alpha\"\n",
       " \"rho_j\"  \n",
       " \"f_B\"    \n",
       " \"f_CD\"   \n",
       " \"P_F\"    \n",
       " \"W_mag\"  \n",
       " \"P_W\"    "
      ]
     },
     "execution_count": 44,
     "metadata": {},
     "output_type": "execute_result"
    }
   ],
   "source": [
    "ignore_vars = [ \n",
    "    \"success\", \"limits\",\n",
    "    \"primary_constraint\", \"secondary_constraint\"\n",
    "]\n",
    "\n",
    "for cur_key in keys(first(cur_sweeps[\"all\"]))\n",
    "    if length(unique(map(cur_var -> cur_var[cur_key], cur_sweeps[\"all\"]))) == 1\n",
    "        push!(ignore_vars, cur_key)\n",
    "    end\n",
    "end\n",
    "    \n",
    "plot_vars = filter(x -> !in(x, ignore_vars), collect(keys(first(first(values(cur_sweeps)))))) \n",
    "\n",
    "push!(plot_vars, \"P_W\")\n",
    "push!(plot_vars, \"beta_N\")\n",
    "\n",
    "filter!(x -> x != \"a\", plot_vars)\n",
    "\n",
    "plot_vars = unique(plot_vars)\n",
    "\n",
    "plot_vars"
   ]
  },
  {
   "cell_type": "code",
   "execution_count": 51,
   "metadata": {
    "collapsed": false,
    "scrolled": false
   },
   "outputs": [
    {
     "data": {
      "text/html": [],
      "text/plain": [
       "Interact.Options{:ToggleButtons,String}(213: \"input-90\" = n_bar String , \"x\", \"n_bar\", \"n_bar\", Interact.OptionDict(DataStructures.OrderedDict(\"n_bar\"=>\"n_bar\",\"R_0\"=>\"R_0\",\"B_0\"=>\"B_0\",\"P_H\"=>\"P_H\",\"eta_CD\"=>\"eta_CD\",\"q_P\"=>\"q_P\",\"I_M\"=>\"I_M\",\"T_k\"=>\"T_k\",\"P_BR\"=>\"P_BR\",\"q_star\"=>\"q_star\"…), Dict(\"n_bar\"=>\"n_bar\",\"R_0\"=>\"R_0\",\"B_0\"=>\"B_0\",\"P_H\"=>\"P_H\",\"P_W\"=>\"P_W\",\"eta_CD\"=>\"eta_CD\",\"q_P\"=>\"q_P\",\"I_M\"=>\"I_M\",\"T_k\"=>\"T_k\",\"P_BR\"=>\"P_BR\"…)), Any[], Any[], true, \"horizontal\")"
      ]
     },
     "metadata": {},
     "output_type": "display_data"
    },
    {
     "data": {
      "text/html": [],
      "text/plain": [
       "Interact.Options{:ToggleButtons,String}(215: \"input-91\" = n_bar String , \"y\", \"n_bar\", \"n_bar\", Interact.OptionDict(DataStructures.OrderedDict(\"n_bar\"=>\"n_bar\",\"R_0\"=>\"R_0\",\"B_0\"=>\"B_0\",\"P_H\"=>\"P_H\",\"eta_CD\"=>\"eta_CD\",\"q_P\"=>\"q_P\",\"I_M\"=>\"I_M\",\"T_k\"=>\"T_k\",\"P_BR\"=>\"P_BR\",\"q_star\"=>\"q_star\"…), Dict(\"n_bar\"=>\"n_bar\",\"R_0\"=>\"R_0\",\"B_0\"=>\"B_0\",\"P_H\"=>\"P_H\",\"P_W\"=>\"P_W\",\"eta_CD\"=>\"eta_CD\",\"q_P\"=>\"q_P\",\"I_M\"=>\"I_M\",\"T_k\"=>\"T_k\",\"P_BR\"=>\"P_BR\"…)), Any[], Any[], true, \"horizontal\")"
      ]
     },
     "metadata": {},
     "output_type": "display_data"
    },
    {
     "data": {
      "text/html": [],
      "text/plain": [
       "Interact.Options{:ToggleButtons,Bool}(217: \"input-92\" = false Bool , \"show_all\", false, \"false\", Interact.OptionDict(DataStructures.OrderedDict(\"false\"=>false,\"true\"=>true), Dict(false=>\"false\",true=>\"true\")), Any[], Any[], true, \"horizontal\")"
      ]
     },
     "metadata": {},
     "output_type": "display_data"
    },
    {
     "data": {
      "text/html": [],
      "text/plain": [
       "Interact.Options{:ToggleButtons,Bool}(219: \"input-93\" = true Bool , \"split_lines\", true, \"true\", Interact.OptionDict(DataStructures.OrderedDict(\"true\"=>true,\"false\"=>false), Dict(false=>\"false\",true=>\"true\")), Any[], Any[], true, \"horizontal\")"
      ]
     },
     "metadata": {},
     "output_type": "display_data"
    },
    {
     "data": {
      "text/html": [],
      "text/plain": [
       "Interact.Options{:ToggleButtons,Bool}(221: \"input-94\" = false Bool , \"chop_B_0\", false, \"false\", Interact.OptionDict(DataStructures.OrderedDict(\"false\"=>false,\"true\"=>true), Dict(false=>\"false\",true=>\"true\")), Any[], Any[], true, \"horizontal\")"
      ]
     },
     "metadata": {},
     "output_type": "display_data"
    },
    {
     "data": {
      "text/html": [],
      "text/plain": [
       "Interact.Options{:ToggleButtons,String}(223: \"input-95\" = lin String , \"yscale\", \"lin\", \"lin\", Interact.OptionDict(DataStructures.OrderedDict(\"lin\"=>\"lin\",\"log\"=>\"log\"), Dict(\"lin\"=>\"lin\",\"log\"=>\"log\")), Any[], Any[], true, \"horizontal\")"
      ]
     },
     "metadata": {},
     "output_type": "display_data"
    },
    {
     "data": {
      "text/html": [
       "<img src=\"data:image/png;base64,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\" />"
      ]
     },
     "execution_count": 51,
     "metadata": {
      "comm_id": "0d9a1568-af09-497e-be8c-d9f5c3d7590e",
      "reactive": true
     },
     "output_type": "execute_result"
    },
    {
     "name": "stderr",
     "output_type": "stream",
     "text": [
      "Failed to push!\n",
      "    \"log\"\n",
      "to node\n",
      "    223: \"input-95\" = log String (active)\n",
      "\n",
      "error at node: 226: \"map(input-90, input-91, input-92, input-93, input-94, input-95) printer (Interact)\" = nothing Void (active)\n",
      "\u001b[91mArgumentError: At least one finite value must be provided to formatter.\u001b[39m\n",
      "showoff(::Array{Float64,1}, ::Symbol) at /Applications/JuliaPro-0.5.1.1.app/Contents/Resources/pkgs-0.5.1.1/lib/v0.6/Showoff/src/Showoff.jl:106\n",
      "optimal_ticks_and_labels(::Plots.Axis, ::Void) at /Applications/JuliaPro-0.5.1.1.app/Contents/Resources/pkgs-0.5.1.1/lib/v0.6/Plots/src/axes.jl:212\n",
      "get_ticks(::Plots.Axis) at /Applications/JuliaPro-0.5.1.1.app/Contents/Resources/pkgs-0.5.1.1/lib/v0.6/Plots/src/axes.jl:240\n",
      "_before_layout_calcs(::Plots.Plot{Plots.PyPlotBackend}) at /Applications/JuliaPro-0.5.1.1.app/Contents/Resources/pkgs-0.5.1.1/lib/v0.6/Plots/src/backends/pyplot.jl:1058\n",
      "prepare_output(::Plots.Plot{Plots.PyPlotBackend}) at /Applications/JuliaPro-0.5.1.1.app/Contents/Resources/pkgs-0.5.1.1/lib/v0.6/Plots/src/plot.jl:251\n",
      "show(::Base64EncodePipe, ::MIME{Symbol(\"image/png\")}, ::Plots.Plot{Plots.PyPlotBackend}) at /Applications/JuliaPro-0.5.1.1.app/Contents/Resources/pkgs-0.5.1.1/lib/v0.6/Plots/src/output.jl:207\n",
      "base64encode(::Function, ::MIME{Symbol(\"image/png\")}, ::Vararg{Any,N} where N) at ./base64.jl:197\n",
      "show(::IOContext{Base.AbstractIOBuffer{Array{UInt8,1}}}, ::MIME{Symbol(\"text/html\")}, ::Plots.Plot{Plots.PyPlotBackend}) at /Applications/JuliaPro-0.5.1.1.app/Contents/Resources/pkgs-0.5.1.1/lib/v0.6/Plots/src/output.jl:185\n",
      "verbose_show(::Base.AbstractIOBuffer{Array{UInt8,1}}, ::MIME{Symbol(\"text/html\")}, ::Plots.Plot{Plots.PyPlotBackend}) at ./multimedia.jl:42\n",
      "#sprint#228(::Void, ::Function, ::Int64, ::Function, ::MIME{Symbol(\"text/html\")}, ::Vararg{Any,N} where N) at ./strings/io.jl:66\n",
      "reprmime(::MIME{Symbol(\"text/html\")}, ::Plots.Plot{Plots.PyPlotBackend}) at ./multimedia.jl:61\n",
      "stringmime at ./multimedia.jl:83 [inlined]\n",
      "stringmime(::String, ::Plots.Plot{Plots.PyPlotBackend}) at ./multimedia.jl:99\n",
      "get_data_dict(::Plots.Plot{Plots.PyPlotBackend}, ::Base.KeyIterator{Dict{String,Int64}}) at /Applications/JuliaPro-0.5.1.1.app/Contents/Resources/pkgs-0.5.1.1/lib/v0.6/Interact/src/IJulia/setup.jl:42\n",
      "(::##4#7)(::Plots.Plot{Plots.PyPlotBackend}) at /Applications/JuliaPro-0.5.1.1.app/Contents/Resources/pkgs-0.5.1.1/lib/v0.6/Interact/src/IJulia/setup.jl:77\n",
      "(::Reactive.##33#34{##4#7,Reactive.Signal{Void},Tuple{Reactive.Signal{Any}}})() at /Applications/JuliaPro-0.5.1.1.app/Contents/Resources/pkgs-0.5.1.1/lib/v0.6/Reactive/src/operators.jl:39\n",
      "foreach(::Reactive.#runaction, ::Array{Function,1}) at ./abstractarray.jl:1731\n",
      "run_node(::Reactive.Signal{Void}) at /Applications/JuliaPro-0.5.1.1.app/Contents/Resources/pkgs-0.5.1.1/lib/v0.6/Reactive/src/core.jl:312\n",
      "run_push(::Reactive.Signal{String}, ::String, ::Reactive.#print_error, ::Bool) at /Applications/JuliaPro-0.5.1.1.app/Contents/Resources/pkgs-0.5.1.1/lib/v0.6/Reactive/src/core.jl:330\n",
      "run_push(::Reactive.Signal{String}, ::String, ::Function) at /Applications/JuliaPro-0.5.1.1.app/Contents/Resources/pkgs-0.5.1.1/lib/v0.6/Reactive/src/core.jl:317\n",
      "run(::Int64) at /Applications/JuliaPro-0.5.1.1.app/Contents/Resources/pkgs-0.5.1.1/lib/v0.6/Reactive/src/core.jl:277\n",
      "(::Reactive.##27#29)() at ./task.jl:335\n"
     ]
    }
   ],
   "source": [
    "color_dict = OrderedDict(\n",
    "    \"beta\" => :black,\n",
    "    \"wall\" => :green,\n",
    "    \"all\" => :orange,\n",
    "    \"min\" => :blue,\n",
    "    \"max\" => :red,\n",
    "    \"split\" => :yellow\n",
    ")\n",
    "\n",
    "@manipulate for x = plot_vars, y = plot_vars, show_all = [false, true], split_lines = [true, false], chop_B_0 = [false, true], yscale = [\"lin\", \"log\"]\n",
    "    plot()\n",
    "    \n",
    "    for cur_plot in [\"all\", \"beta\", \"wall\"]\n",
    "        cur_x = map(cur_var -> cur_var[x], cur_sweeps[cur_plot])\n",
    "        cur_y = map(cur_var -> cur_var[y], cur_sweeps[cur_plot])\n",
    "        cur_b = map(cur_var -> cur_var[\"B_0\"], cur_sweeps[cur_plot])\n",
    "        cur_l = map(cur_var -> maximum(values(cur_var[\"limits\"])), cur_sweeps[cur_plot])\n",
    "\n",
    "        if chop_B_0\n",
    "            bad_indices = find(cur_var -> (cur_var > 100), cur_b)\n",
    "\n",
    "            deleteat!(cur_x, bad_indices)\n",
    "            deleteat!(cur_y, bad_indices)      \n",
    "            deleteat!(cur_l, bad_indices)      \n",
    "        end\n",
    "        \n",
    "        bad_indices = find(x -> x > 1, cur_l)\n",
    "        \n",
    "        if !split_lines\n",
    "            bad_indices = []\n",
    "        end\n",
    "            \n",
    "        cur_x_dot = copy(cur_x[bad_indices])\n",
    "        cur_y_dot = copy(cur_y[bad_indices])\n",
    "        \n",
    "        deleteat!(cur_x, bad_indices)\n",
    "        deleteat!(cur_y, bad_indices)\n",
    "        \n",
    "\n",
    "        ( cur_plot == \"all\" && !show_all ) && continue  \n",
    "        cur_weight = ( cur_plot == \"all\" ) ? 3 : 1\n",
    "        cur_line = ( cur_plot == \"all\" ) ? :dash : :solid\n",
    "        \n",
    "        cur_label = isempty(cur_x) ? cur_plot : \"\"\n",
    "        \n",
    "        plot!(cur_x_dot, cur_y_dot, label=cur_label, color=color_dict[cur_plot], line=:dot)\n",
    "        plot!(cur_x, cur_y, label=cur_plot, color=color_dict[cur_plot], line=cur_line, w=cur_weight)\n",
    "    end\n",
    "    \n",
    "    for (cur_index, cur_plot) in enumerate([\"beta\", \"wall\"])\n",
    "        cur_x = map(cur_var -> cur_var[x], cur_sweeps[cur_plot])\n",
    "        cur_y = map(cur_var -> cur_var[y], cur_sweeps[cur_plot])\n",
    "        cur_b = map(cur_var -> cur_var[\"B_0\"], cur_sweeps[cur_plot])\n",
    "        cur_t = map(cur_var -> cur_var[\"T_k\"], cur_sweeps[cur_plot]) \n",
    "\n",
    "        if chop_B_0\n",
    "            bad_indices = find(cur_var -> (cur_var > 100), cur_b)\n",
    "\n",
    "            deleteat!(cur_x, bad_indices)\n",
    "            deleteat!(cur_y, bad_indices)\n",
    "            deleteat!(cur_t, bad_indices)\n",
    "        end\n",
    "        \n",
    "        min_t = indmin(cur_t)\n",
    "        cur_label = ( cur_index == 1 ) ? \"min T_k\" : \"\"\n",
    "        scatter!([cur_x[min_t]], [cur_y[min_t]], color=color_dict[\"min\"], label=cur_label)\n",
    "    end\n",
    "\n",
    "    for (cur_index, cur_plot) in enumerate([\"beta\", \"wall\"])\n",
    "        cur_x = map(cur_var -> cur_var[x], cur_sweeps[cur_plot])\n",
    "        cur_y = map(cur_var -> cur_var[y], cur_sweeps[cur_plot])\n",
    "        cur_b = map(cur_var -> cur_var[\"B_0\"], cur_sweeps[cur_plot])\n",
    "        cur_t = map(cur_var -> cur_var[\"T_k\"], cur_sweeps[cur_plot]) \n",
    "\n",
    "        if chop_B_0\n",
    "            bad_indices = find(cur_var -> (cur_var > 100), cur_b)\n",
    "\n",
    "            deleteat!(cur_x, bad_indices)\n",
    "            deleteat!(cur_y, bad_indices)\n",
    "            deleteat!(cur_t, bad_indices)\n",
    "        end\n",
    "    \n",
    "        max_t = indmax(cur_t)\n",
    "        cur_label = ( cur_index == 1 ) ? \"max T_k\" : \"\"\n",
    "        scatter!([cur_x[max_t]], [cur_y[max_t]], color=color_dict[\"max\"], label=cur_label)\n",
    "    end\n",
    "    \n",
    "    has_label = false\n",
    "\n",
    "    for (cur_index, cur_plot) in enumerate([\"beta\", \"wall\"])\n",
    "        cur_x = map(cur_var -> cur_var[x], cur_sweeps[cur_plot])\n",
    "        cur_y = map(cur_var -> cur_var[y], cur_sweeps[cur_plot])\n",
    "        cur_b = map(cur_var -> cur_var[\"B_0\"], cur_sweeps[cur_plot])\n",
    "        cur_l = map(cur_var -> maximum(values(cur_var[\"limits\"])), cur_sweeps[cur_plot])\n",
    "\n",
    "        if chop_B_0\n",
    "            bad_indices = find(cur_var -> (cur_var > 100), cur_b)\n",
    "\n",
    "            deleteat!(cur_x, bad_indices)\n",
    "            deleteat!(cur_y, bad_indices)\n",
    "            deleteat!(cur_l, bad_indices)\n",
    "        end\n",
    "    \n",
    "        split_run_b = findlast(x -> x <= 1, cur_l)\n",
    "        iszero(split_run_b) && continue\n",
    "\n",
    "        split_run_t = findfirst(x -> x > 1, cur_l)\n",
    "        iszero(split_run_t) && continue\n",
    "        \n",
    "        has_label = true\n",
    "        \n",
    "        cur_label = has_label ? \"split\" : \"\"\n",
    "        \n",
    "        if split_lines\n",
    "            scatter!([cur_x[split_run_t]], [cur_y[split_run_t]], color=color_dict[\"split\"], label=cur_label)\n",
    "            scatter!([cur_x[split_run_b]], [cur_y[split_run_b]], color=color_dict[\"split\"], label=\"\")\n",
    "        end\n",
    "    end\n",
    "    \n",
    "    if x == \"T_k\"\n",
    "        xlims!(0,30)\n",
    "    end\n",
    "\n",
    "    if chop_B_0\n",
    "        ylims!(0,1)\n",
    "    end\n",
    "    \n",
    "    xlabel!(x)\n",
    "    ylabel!(y)\n",
    "    \n",
    "    if yscale == \"log\"\n",
    "        yaxis!(:log10)\n",
    "    end\n",
    "    \n",
    "    title!(\"$y vs $x\")\n",
    "    \n",
    "    plot!()\n",
    "end"
   ]
  },
  {
   "cell_type": "code",
   "execution_count": 27,
   "metadata": {
    "collapsed": false
   },
   "outputs": [
    {
     "data": {
      "text/html": [
       "2"
      ],
      "text/plain": [
       "2"
      ]
     },
     "execution_count": 27,
     "metadata": {},
     "output_type": "execute_result"
    }
   ],
   "source": [
    "1+1"
   ]
  },
  {
   "cell_type": "code",
   "execution_count": null,
   "metadata": {
    "collapsed": true
   },
   "outputs": [],
   "source": []
  }
 ],
 "metadata": {
  "kernelspec": {
   "display_name": "Julia 0.6.0",
   "language": "julia",
   "name": "julia-0.6"
  },
  "language_info": {
   "file_extension": ".jl",
   "mimetype": "application/julia",
   "name": "julia",
   "version": "0.6.0"
  },
  "widgets": {
   "state": {
    "017bbb81-5880-4c31-820c-bcfb7d69c399": {
     "views": [
      {
       "cell_index": 9
      }
     ]
    },
    "07507e19-b410-4b16-9ffa-320e4890427b": {
     "views": [
      {
       "cell_index": 9
      }
     ]
    },
    "1747a1d3-34c7-4c0b-aaed-26400da6bcc8": {
     "views": [
      {
       "cell_index": 9
      }
     ]
    },
    "183d7433-4151-4cda-ae4b-3befd084fcd0": {
     "views": [
      {
       "cell_index": 9
      }
     ]
    },
    "1f9e7608-3031-421a-8793-fb97fe537de7": {
     "views": [
      {
       "cell_index": 9
      }
     ]
    },
    "237ea1dd-e96e-48c5-8e75-e7d857ff42d2": {
     "views": [
      {
       "cell_index": 9
      }
     ]
    },
    "28c59083-4a1d-4df5-a6f9-90991fc9bab1": {
     "views": [
      {
       "cell_index": 9
      }
     ]
    },
    "2e1469e8-e68f-4cd5-9288-f508ec9f7cca": {
     "views": [
      {
       "cell_index": 9
      }
     ]
    },
    "2fe562d3-8167-4dd3-97cf-12c0f82b388c": {
     "views": [
      {
       "cell_index": 9
      }
     ]
    },
    "32df93fd-dc39-42d3-ab74-96a8506f073e": {
     "views": [
      {
       "cell_index": 9
      }
     ]
    },
    "3ff705fc-5a97-4f51-9ee5-377c7741b53e": {
     "views": [
      {
       "cell_index": 9
      }
     ]
    },
    "4b045ed6-169e-42e4-a6c8-2503fbba8b20": {
     "views": [
      {
       "cell_index": 9
      }
     ]
    },
    "4e5ce004-70b8-4b7c-a7f6-ca3c3256a793": {
     "views": [
      {
       "cell_index": 9
      }
     ]
    },
    "50a8689d-05c8-48f4-b124-3c8ebfbee853": {
     "views": [
      {
       "cell_index": 9
      }
     ]
    },
    "5e2952be-bdd4-4dc0-8f1d-e565f411e1d6": {
     "views": [
      {
       "cell_index": 9
      }
     ]
    },
    "6251f5ad-8720-4041-9a67-a82ac0bcc7f6": {
     "views": [
      {
       "cell_index": 9
      }
     ]
    },
    "63485ff3-519b-4e35-9b86-26fa3c706dbc": {
     "views": [
      {
       "cell_index": 9
      }
     ]
    },
    "651809f0-6c0b-42cb-92cb-423f23071d0b": {
     "views": [
      {
       "cell_index": 9
      }
     ]
    },
    "65b78667-dab7-4b34-9fac-55695e68e02f": {
     "views": [
      {
       "cell_index": 9
      }
     ]
    },
    "66e07c48-11e3-4297-aabb-053256ef7759": {
     "views": [
      {
       "cell_index": 9
      }
     ]
    },
    "713e5fc9-c1ae-49e7-9919-7ed84a5c511f": {
     "views": [
      {
       "cell_index": 9
      }
     ]
    },
    "73067eb8-45a1-4fe4-b131-1ad06c95645a": {
     "views": [
      {
       "cell_index": 9
      }
     ]
    },
    "7496cc89-3854-4179-8f01-510f49798683": {
     "views": [
      {
       "cell_index": 9
      }
     ]
    },
    "7726bbb4-aaba-4eac-890c-7408c28b6abb": {
     "views": [
      {
       "cell_index": 9
      }
     ]
    },
    "7e14e1c2-48cd-4f33-9efd-4f2a66c89a2e": {
     "views": [
      {
       "cell_index": 9
      }
     ]
    },
    "8ee7cd6a-7f47-4e20-b1d6-8da29d749a40": {
     "views": [
      {
       "cell_index": 9
      }
     ]
    },
    "97f45869-7080-4abd-80de-b1f3c5906ad4": {
     "views": [
      {
       "cell_index": 9
      }
     ]
    },
    "a0c19e6a-7bd1-4bf9-a55f-3dc771b308b1": {
     "views": [
      {
       "cell_index": 9
      }
     ]
    },
    "a19d4ad5-1ce8-47d3-b7bc-4bb5abf7c188": {
     "views": [
      {
       "cell_index": 9
      }
     ]
    },
    "adf99f01-111c-4be7-8d83-a03ccf15a381": {
     "views": [
      {
       "cell_index": 9
      }
     ]
    },
    "af61e4ab-1a2d-42ab-b002-c9aa9549bf20": {
     "views": [
      {
       "cell_index": 9
      }
     ]
    },
    "b6255784-700d-4a95-b628-d2cb3a5129b1": {
     "views": [
      {
       "cell_index": 9
      }
     ]
    },
    "b65ff3ce-4382-4604-a032-e95e7125686c": {
     "views": [
      {
       "cell_index": 9
      }
     ]
    },
    "c7f3acbc-30f5-41e5-9469-a2254d8e3323": {
     "views": [
      {
       "cell_index": 9
      }
     ]
    },
    "d08dcfc2-67d4-4891-97af-d321a1b61749": {
     "views": [
      {
       "cell_index": 9
      }
     ]
    },
    "d2498fa6-a113-4ba8-8ced-42dab723c76e": {
     "views": [
      {
       "cell_index": 9
      }
     ]
    },
    "dc97e344-3355-4760-8585-db233d6e741e": {
     "views": [
      {
       "cell_index": 9
      }
     ]
    },
    "e141f204-2387-42ba-b27f-ee75afe552e3": {
     "views": [
      {
       "cell_index": 9
      }
     ]
    },
    "ea1f759e-39f2-482b-a98f-b569541077f6": {
     "views": [
      {
       "cell_index": 9
      }
     ]
    },
    "eb1854c1-64d0-4e94-a262-417841183dcf": {
     "views": [
      {
       "cell_index": 9
      }
     ]
    },
    "ef95153f-4df6-4689-b573-8b11bbc21ffa": {
     "views": [
      {
       "cell_index": 9
      }
     ]
    },
    "f029e15a-d045-48ec-bb0c-e772a850d684": {
     "views": [
      {
       "cell_index": 9
      }
     ]
    },
    "f4fcdd10-0b91-438d-97ca-633f6d90c23a": {
     "views": [
      {
       "cell_index": 9
      }
     ]
    },
    "fee1ae30-083b-476f-af8b-399687885db8": {
     "views": [
      {
       "cell_index": 9
      }
     ]
    }
   },
   "version": "1.2.0"
  }
 },
 "nbformat": 4,
 "nbformat_minor": 2
}
