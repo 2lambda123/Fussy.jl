{
 "cells": [
  {
   "cell_type": "code",
   "execution_count": 33,
   "metadata": {
    "collapsed": false
   },
   "outputs": [],
   "source": [
    "# Pkg.add(\"Interact\")\n",
    "# Pkg.add(\"DataStructures\")\n",
    "\n",
    "using Tokamak\n",
    "using DataStructures\n",
    "using Interact\n",
    "using Unitful\n",
    "using SymPy"
   ]
  },
  {
   "cell_type": "code",
   "execution_count": 34,
   "metadata": {
    "collapsed": false
   },
   "outputs": [
    {
     "data": {
      "text/plain": [
       "parse_tokamak_data (generic function with 1 method)"
      ]
     },
     "execution_count": 34,
     "metadata": {},
     "output_type": "execute_result"
    }
   ],
   "source": [
    "function parse_tokamak_data(solved_case)\n",
    "    cur_table_data = OrderedDict(\n",
    "        \"eta_CD\" => @sprintf(\"%.3g\", solved_case[\"eta_CD\"]),\n",
    "        \"B_0\" => @sprintf(\"%.4g\", solved_case[\"B_0\"]),\n",
    "        \"P_F\" => @sprintf(\"%.5g\", solved_case[\"P_F\"]),\n",
    "        \"I_M\" => @sprintf(\"%.3g\", solved_case[\"I_M\"]),\n",
    "        \"R_0\" => @sprintf(\"%.3g\", solved_case[\"R_0\"]),\n",
    "        \" a \" => @sprintf(\"%.3g\", solved_case[\"a\"]),\n",
    "        \"q_K\" => @sprintf(\"%.3g\", solved_case[\"q_star\"]),\n",
    "        \"T_i\" => @sprintf(\"%.3g\", solved_case[\"T_k\"]),\n",
    "        \"n_e\" => @sprintf(\"%.3g\", solved_case[\"n_bar\"]),\n",
    "        \"f_CD\" => @sprintf(\"%.3g\", solved_case[\"f_CD\"]),\n",
    "        \"f_B\" => @sprintf(\"%.3g\", solved_case[\"f_B\"]),\n",
    "        \"P_H\" => @sprintf(\"%.3g\", solved_case[\"P_H\"]),\n",
    "        \"beta_N\" => @sprintf(\"%.4g\", solved_case[\"beta_N\"] * Tokamak.max_beta_N),\n",
    "        \"P_W\" => @sprintf(\"%.4g\", solved_case[\"P_W\"] * Tokamak.max_P_W),\n",
    "        \"P_alpha\" => @sprintf(\"%.4g\", solved_case[\"P_alpha\"]),\n",
    "        \"P_BR\" => @sprintf(\"%.4g\", solved_case[\"P_BR\"]),\n",
    "        \"q_P\" => @sprintf(\"%.4g\", solved_case[\"q_P\"]),\n",
    "        \"rho_j\" => @sprintf(\"%.4g\", solved_case[\"rho_j\"]),\n",
    "        \"Q\" => @sprintf(\"%.4g\", solved_case[\"Q\"]),\n",
    "        \"kappa\" => @sprintf(\"%.4g\", solved_case[\"kappa\"]),\n",
    "        \"delta\" => @sprintf(\"%.4g\", solved_case[\"delta\"]),\n",
    "        \"epsilon\" => @sprintf(\"%.4g\", solved_case[\"epsilon\"]),\n",
    "        \"N_G\" => @sprintf(\"%.4g\", solved_case[\"N_G\"]),\n",
    "        \"H\" => @sprintf(\"%.4g\", solved_case[\"H\"]),\n",
    "        \"nu_n\" => @sprintf(\"%.4g\", solved_case[\"nu_n\"]),\n",
    "        \"nu_T\" => @sprintf(\"%.4g\", solved_case[\"nu_T\"]),\n",
    "        \"Z_eff\" => @sprintf(\"%.4g\", solved_case[\"Z_eff\"]),\n",
    "        \"rho_m\" => @sprintf(\"%.4g\", solved_case[\"rho_m\"]),\n",
    "        \"f_DT\" => @sprintf(\"%.4g\", solved_case[\"f_DT\"]),\n",
    "        \"wave_theta\" => @sprintf(\"%.4g\", solved_case[\"wave_theta\"])\n",
    "    ) \n",
    "    \n",
    "    cur_table_data\n",
    "end"
   ]
  },
  {
   "cell_type": "code",
   "execution_count": 35,
   "metadata": {
    "collapsed": false
   },
   "outputs": [
    {
     "data": {
      "text/plain": [
       "arc_data (generic function with 1 method)"
      ]
     },
     "execution_count": 35,
     "metadata": {},
     "output_type": "execute_result"
    }
   ],
   "source": [
    "function arc_data()\n",
    "    cur_table_data = OrderedDict()\n",
    "    \n",
    "    cur_table_data[\"main\"] = OrderedDict(\n",
    "        \"eta_CD\" => 0.321,\n",
    "        \"B_0\" => 9.2,\n",
    "        \"P_F\" => 525,\n",
    "        \"I_M\" => 7.8,\n",
    "        \"R_0\" => 3.3,\n",
    "        \" a \" => 1.13,\n",
    "        \"q_K\" => 4.7,\n",
    "        \"T_i\" => 14,\n",
    "        \"n_e\" => 1.3,\n",
    "        \"f_CD\" => 0.37,\n",
    "        \"f_B\" => 0.63,\n",
    "        \"P_H\" => 39,\n",
    "        \"beta_N\" => 0.0259,\n",
    "        \"P_W\" => 2.5,\n",
    "        \"P_alpha\" => \"-\",\n",
    "        \"P_BR\" => \"-\",\n",
    "        \"q_P\" => \"-\",\n",
    "        \"rho_j\" => \"-\",\n",
    "        \"Q\" => 13.6,\n",
    "        \"kappa\" => 1.84,\n",
    "        \"delta\" => \"-\",\n",
    "        \"epsilon\" => 0.342,\n",
    "        \"N_G\" => 0.67,\n",
    "        \"H\" => 1.8,\n",
    "        \"nu_n\" => 0.385,\n",
    "        \"nu_T\" => 0.929,\n",
    "        \"Z_eff\" => 1.2,\n",
    "        \"rho_m\" => \"-\",\n",
    "        \"f_DT\" => \"-\",\n",
    "        \"wave_theta\" => \"-\"        \n",
    "    ) \n",
    "\n",
    "    cur_table_data\n",
    "end"
   ]
  },
  {
   "cell_type": "code",
   "execution_count": 36,
   "metadata": {
    "collapsed": false
   },
   "outputs": [
    {
     "data": {
      "text/plain": [
       "act_1_data (generic function with 1 method)"
      ]
     },
     "execution_count": 36,
     "metadata": {},
     "output_type": "execute_result"
    }
   ],
   "source": [
    "function act_1_data()\n",
    "    cur_table_data = OrderedDict()\n",
    "    \n",
    "    cur_table_data[\"main\"] = OrderedDict(\n",
    "        \"eta_CD\" => 0.188,\n",
    "        \"B_0\" => 6.0,\n",
    "        \"P_F\" => 1813,\n",
    "        \"I_M\" => 10.95,\n",
    "        \"R_0\" => 6.25,\n",
    "        \" a \" => 1.56,\n",
    "        \"q_K\" => 4.5,\n",
    "        \"T_i\" => 20.6,\n",
    "        \"n_e\" => 1.3,\n",
    "        \"f_CD\" => 0.09,\n",
    "        \"f_B\" => 0.91,\n",
    "        \"P_H\" => 42.7,\n",
    "        \"beta_N\" => 0.056,\n",
    "        \"P_W\" => 2.45,\n",
    "        \"P_alpha\" => 363,\n",
    "        \"P_BR\" => 56.3,\n",
    "        \"q_P\" => 13.7,\n",
    "        \"rho_j\" => \"-\",\n",
    "        \"Q\" => 42.5,\n",
    "        \"kappa\" => 1.8,\n",
    "        \"delta\" => 0.63,\n",
    "        \"epsilon\" => 0.25,\n",
    "        \"N_G\" => 1.0,\n",
    "        \"H\" => 1.65,\n",
    "        \"nu_n\" => 0.27,\n",
    "        \"nu_T\" => 1.15,\n",
    "        \"Z_eff\" => 2.11,\n",
    "        \"rho_m\" => \"-\",\n",
    "        \"f_DT\" => 0.75,\n",
    "        \"wave_theta\" => \"-\"\n",
    "    ) \n",
    "\n",
    "    cur_table_data\n",
    "end"
   ]
  },
  {
   "cell_type": "code",
   "execution_count": 37,
   "metadata": {
    "collapsed": false
   },
   "outputs": [
    {
     "data": {
      "text/plain": [
       "act_2_data (generic function with 1 method)"
      ]
     },
     "execution_count": 37,
     "metadata": {},
     "output_type": "execute_result"
    }
   ],
   "source": [
    "function act_2_data()\n",
    "    cur_table_data = OrderedDict()\n",
    "    \n",
    "    cur_table_data[\"main\"] = OrderedDict(\n",
    "        \"eta_CD\" => 0.256,\n",
    "        \"B_0\" => 8.75,\n",
    "        \"P_F\" => 2637,\n",
    "        \"I_M\" => 13.98,\n",
    "        \"R_0\" => 9.75,\n",
    "        \" a \" => 2.44,\n",
    "        \"q_K\" => 8.0,\n",
    "        \"T_i\" => 17.8,\n",
    "        \"n_e\" => 0.86,\n",
    "        \"f_CD\" => 0.23,\n",
    "        \"f_B\" => 0.77,\n",
    "        \"P_H\" => 105.5,\n",
    "        \"beta_N\" => 0.026,\n",
    "        \"P_W\" => 1.46,\n",
    "        \"P_alpha\" => 528,\n",
    "        \"P_BR\" => 96.5,\n",
    "        \"q_P\" => 10.0,\n",
    "        \"rho_j\" => \"-\",\n",
    "        \"Q\" => 25.0,\n",
    "        \"kappa\" => 2.1,\n",
    "        \"delta\" => 0.575,\n",
    "        \"epsilon\" => 0.25,\n",
    "        \"N_G\" => 1.3,\n",
    "        \"H\" => 1.22,\n",
    "        \"nu_n\" => 0.41,\n",
    "        \"nu_T\" => 1.15,\n",
    "        \"Z_eff\" => 2.12,\n",
    "        \"rho_m\" => \"-\",\n",
    "        \"f_DT\" => 0.74,\n",
    "        \"wave_theta\" => \"-\"        \n",
    "    ) \n",
    "\n",
    "    cur_table_data\n",
    "end"
   ]
  },
  {
   "cell_type": "code",
   "execution_count": 38,
   "metadata": {
    "collapsed": false
   },
   "outputs": [
    {
     "data": {
      "text/plain": [
       "DataStructures.OrderedDict{Any,Any} with 3 entries:\n",
       "  \"act_1\" => DataStructures.OrderedDict{String,Any}(\"R_0\"=>[6.25],\"T_k\"=>[20.6]…\n",
       "  \"act_2\" => DataStructures.OrderedDict{String,Any}(\"R_0\"=>[9.75],\"T_k\"=>[17.8]…\n",
       "  \"arc\"   => DataStructures.OrderedDict{String,Any}(\"R_0\"=>[3.3],\"T_k\"=>[14],\"r…"
      ]
     },
     "execution_count": 38,
     "metadata": {},
     "output_type": "execute_result"
    }
   ],
   "source": [
    "B_0_dict = OrderedDict(\n",
    "    \"act_1\" => 6.0,\n",
    "    \"act_2\" => 8.75,\n",
    "    \"arc\" => 9.2\n",
    ")\n",
    "\n",
    "T_k_dict = OrderedDict(\n",
    "    \"act_1\" => 20.6,\n",
    "    \"act_2\" => 17.8,\n",
    "    \"arc\" => 14.0\n",
    ")\n",
    "\n",
    "nu_n_dict = OrderedDict(\n",
    "    \"act_1\" => 0.27,\n",
    "    \"act_2\" => 0.41,\n",
    "    \"arc\" => 0.385\n",
    ")\n",
    "\n",
    "vars_dict = OrderedDict()\n",
    "\n",
    "vars_dict[\"act_1\"] = OrderedDict(\n",
    "    \"R_0\" => [6.25],\n",
    "    \"T_k\" => [20.6],\n",
    "    \"rho_j\" => [0.0],\n",
    "    \"eta_CD\" => [0.188],\n",
    "    \"B_0\" => [6.0],\n",
    "    \"success\" => true,\n",
    "    \"beta_N\" => [0.056],\n",
    "    \"P_W\" => [2.5],\n",
    "    \"n_bar\" => [1.3],\n",
    "    \"I_M\" => [10.95],\n",
    "    \"f_B\" => [0.91],\n",
    "    \"q_star\" => [4.5],\n",
    "    \"P_F\" => [1813]\n",
    ")\n",
    "\n",
    "vars_dict[\"act_2\"] = OrderedDict(\n",
    "    \"R_0\" => [9.75],\n",
    "    \"T_k\" => [17.8],\n",
    "    \"rho_j\" => [0.0],\n",
    "    \"eta_CD\" => [0.256], \n",
    "    \"B_0\" => [8.75],   \n",
    "    \"nu_n\" => [0.41],\n",
    "    \"success\" => true,\n",
    "    \"beta_N\" => [0.026],\n",
    "    \"P_W\" => [1.46],\n",
    "    \"n_bar\" => [0.86],\n",
    "    \"I_M\" => [13.98],\n",
    "    \"f_B\" => [0.77],\n",
    "    \"q_star\" => [8],\n",
    "    \"P_F\" => [2637]\n",
    ")\n",
    "\n",
    "vars_dict[\"arc\"] = OrderedDict(\n",
    "    \"R_0\" => [3.3],\n",
    "    \"T_k\" => [14],\n",
    "    \"rho_j\" => [0.0],\n",
    "    \"eta_CD\" => [0.321],\n",
    "    \"B_0\" => [9.2],\n",
    "    \"nu_n\" => [0.385],\n",
    "    \"success\" => true,\n",
    "    \"beta_N\" => [.0259],\n",
    "    \"P_W\" => [2.5],\n",
    "    \"n_bar\" => [1.3],\n",
    "    \"I_M\" => [7.8],\n",
    "    \"f_B\" => [0.63],\n",
    "    \"q_star\" => [7.2],\n",
    "    \"P_F\" => [525]\n",
    ")\n",
    "\n",
    "\n",
    "vars_dict"
   ]
  },
  {
   "cell_type": "code",
   "execution_count": 39,
   "metadata": {
    "collapsed": false
   },
   "outputs": [
    {
     "data": {
      "text/latex": [
       "\\begin{equation*}\\begin{cases}\"limit\" & \\text{=>} &\"auto\"\\\\\"Q\" & \\text{=>} &30.0\\\\\"nu_n\" & \\text{=>} &0.41\\\\\"f_DT\" & \\text{=>} &0.75\\\\\"Z_eff\" & \\text{=>} &2.2\\\\\"nu_T\" & \\text{=>} &1.15\\\\\"default_eta_CD\" & \\text{=>} &0.2\\\\\"BR_scaling\" & \\text{=>} &1.0\\\\\"enable_eta_CD_derive\" & \\text{=>} &false\\\\\"rho_m\" & \\text{=>} &0.6\\\\\"wave_theta\" & \\text{=>} &60\\\\\\end{cases}\\end{equation*}"
      ],
      "text/plain": [
       "Dict{Any,Any} with 11 entries:\n",
       "  \"limit\"                => \"auto\"\n",
       "  \"Q\"                    => 30.0\n",
       "  \"nu_n\"                 => 0.41\n",
       "  \"f_DT\"                 => 0.75\n",
       "  \"Z_eff\"                => 2.2\n",
       "  \"nu_T\"                 => 1.15\n",
       "  \"default_eta_CD\"       => 0.2\n",
       "  \"BR_scaling\"           => 1.0\n",
       "  \"enable_eta_CD_derive\" => false\n",
       "  \"rho_m\"                => 0.6\n",
       "  \"wave_theta\"           => 60"
      ]
     },
     "execution_count": 39,
     "metadata": {},
     "output_type": "execute_result"
    }
   ],
   "source": [
    "param_dict = Dict(\n",
    "    \"nu_n\" => linspace(round(0.41-0.25,3),round(0.41+0.25,3),21),\n",
    "    \"nu_T\" => linspace(round(1.15-0.25,3),round(1.15+0.25,3),11),\n",
    "    \"f_DT\" => 0.5:0.05:1.0,\n",
    "    \"BR_scaling\" => linspace(-0.5,2.5,13),\n",
    "    \"enable_eta_CD_derive\" => [false, true],\n",
    "    \"limit\" => [\"auto\", \"beta\", \"wall\"],\n",
    "    \"default_eta_CD\" => linspace(0.1,0.3,9),\n",
    "    \"rho_m\" => linspace(0.3,0.9,13),\n",
    "    \"Z_eff\" => linspace(round(2.12-0.72,2),round(2.12+0.72),9),\n",
    "    \"wave_theta\" => 0:30.0:360,\n",
    "    \"Q\" => 15:2.5:45\n",
    ")\n",
    "\n",
    "other_keys = [\"none\"]\n",
    "append!(other_keys, [ cur_key for cur_key in keys(param_dict)] )\n",
    "\n",
    "default_vals = Dict()\n",
    "\n",
    "for (cur_key, cur_val) in param_dict\n",
    "    if cur_key == \"wave_theta\"\n",
    "        default_vals[cur_key] = 60\n",
    "    elseif isa(cur_val, Array)\n",
    "        default_vals[cur_key] = first(cur_val)\n",
    "    else\n",
    "        default_vals[cur_key] = mean(cur_val)\n",
    "    end\n",
    "end\n",
    "\n",
    "default_vals"
   ]
  },
  {
   "cell_type": "code",
   "execution_count": 40,
   "metadata": {
    "collapsed": false
   },
   "outputs": [
    {
     "data": {
      "text/plain": [
       "make_output_table (generic function with 1 method)"
      ]
     },
     "execution_count": 40,
     "metadata": {},
     "output_type": "execute_result"
    }
   ],
   "source": [
    "function make_output_table(solved_cases, design, column)\n",
    "    \n",
    "    tokamak_jl_data = OrderedDict()\n",
    "    \n",
    "    for (cur_key, cur_val) in solved_cases\n",
    "        tokamak_jl_data[cur_key] = parse_tokamak_data(cur_val)\n",
    "    end\n",
    "        \n",
    "    if design == \"Act 1\"\n",
    "        paper_data = act_1_data()\n",
    "    elseif design == \"Act 2\"\n",
    "        paper_data = act_2_data()\n",
    "    elseif design == \"Arc\"\n",
    "        paper_data = arc_data()   \n",
    "    else\n",
    "        error(\"Invalid design for paper selection\")\n",
    "    end\n",
    "    \n",
    "    header_row = [\"Variable\", \"Paper\"]\n",
    " \n",
    "    for cur_key in keys(tokamak_jl_data)\n",
    "        push!(header_row, cur_key)\n",
    "    end\n",
    "\n",
    "    num_keys = length(keys(paper_data[column]))\n",
    "    \n",
    "    mapped_data = [ [] for ii in 1:num_keys ]\n",
    "    \n",
    "    for (cur_index, cur_key) in enumerate(keys(paper_data[column]))\n",
    "        push!(mapped_data[cur_index], cur_key)\n",
    "        \n",
    "        push!(mapped_data[cur_index], paper_data[column][cur_key])\n",
    "        \n",
    "        for cur_val in values(tokamak_jl_data)\n",
    "            cur_class = nothing\n",
    "            \n",
    "            try\n",
    "                parsed_val = parse(cur_val[cur_key])\n",
    "                rel_error = abs( paper_data[column][cur_key] - parsed_val )\n",
    "                rel_error /= min( paper_data[column][cur_key], parsed_val )\n",
    "                \n",
    "                if rel_error > 0.2\n",
    "                    cur_class = \"danger\"\n",
    "                elseif rel_error > 0.1\n",
    "                    cur_class = \"warning\"\n",
    "                elseif rel_error < 1e-5 || ( ( cur_key == \"P_W\" || cur_key == \"beta_N\" ) && rel_error < 1.5*Tokamak.wave_error_level )\n",
    "                    cur_class = \"info\"\n",
    "                elseif rel_error < 0.02\n",
    "                    cur_class = \"success\"\n",
    "                else\n",
    "                    cur_class = \"\"\n",
    "                end\n",
    "            catch\n",
    "                cur_class = \"\"\n",
    "            end\n",
    "            \n",
    "            if cur_class == \"\"\n",
    "                push!(mapped_data[cur_index], cur_val[cur_key])\n",
    "            else\n",
    "                push!(mapped_data[cur_index], \n",
    "                    Dict(\n",
    "                        \"value\" => cur_val[cur_key],\n",
    "                        \"class\" => cur_class\n",
    "                    )\n",
    "                )                \n",
    "            end\n",
    "        end       \n",
    "    end\n",
    "    \n",
    "    cur_table = vcat( (reshape(x, (1, :)) for x in mapped_data)... )\n",
    "\n",
    "    Tokamak.HTMLElements.table(cur_table, header_row=header_row, title=\"$design Input\")    \n",
    "end"
   ]
  },
  {
   "cell_type": "code",
   "execution_count": 41,
   "metadata": {
    "collapsed": false,
    "scrolled": true
   },
   "outputs": [
    {
     "data": {
      "text/html": [
       "<h2 style='padding: 10px'>Arc Input</h2><table class='table table-striped'><thead><tr><th>Variable</th><th>Paper</th><th>Standard</th><th>Piped Data</th></tr></thead><tbody><tr><td>eta_CD</td><td>0.321</td><td class=\"info\">0.321</td><td class=\"info\">0.321</td></tr><tr><td>B_0</td><td>9.2</td><td class=\"danger\">0.6952</td><td class=\"info\">9.2</td></tr><tr><td>P_F</td><td>525</td><td class=\"danger\">430.21</td><td class=\"danger\">8863.4</td></tr><tr><td>I_M</td><td>7.8</td><td class=\"danger\">20.8</td><td class=\"danger\">20.8</td></tr><tr><td>R_0</td><td>3.3</td><td class=\"danger\">68</td><td class=\"info\">3.3</td></tr><tr><td> a </td><td>1.13</td><td class=\"danger\">23.3</td><td class=\"info\">1.13</td></tr><tr><td>q_K</td><td>4.7</td><td class=\"danger\">2.82</td><td class=\"danger\">1.81</td></tr><tr><td>T_i</td><td>14</td><td class=\"info\">14</td><td class=\"info\">14</td></tr><tr><td>n_e</td><td>1.3</td><td class=\"danger\">0.0122</td><td class=\"danger\">5.19</td></tr><tr><td>f_CD</td><td>0.37</td><td class=\"danger\">0.587</td><td class=\"danger\">0.587</td></tr><tr><td>f_B</td><td>0.63</td><td class=\"danger\">0.413</td><td class=\"danger\">0.413</td></tr><tr><td>P_H</td><td>39</td><td class=\"danger\">31.6</td><td class=\"danger\">652</td></tr><tr><td>beta_N</td><td>0.0259</td><td class=\"info\">0.0259</td><td class=\"danger\">0.04032</td></tr><tr><td>P_W</td><td>2.5</td><td class=\"danger\">0.003224</td><td class=\"danger\">28.19</td></tr><tr><td>P_alpha</td><td>-</td><td>85.55</td><td>1763</td></tr><tr><td>P_BR</td><td>-</td><td>5.598</td><td>115.3</td></tr><tr><td>q_P</td><td>-</td><td>0.03714</td><td>594.9</td></tr><tr><td>rho_j</td><td>-</td><td>0</td><td>0</td></tr><tr><td>Q</td><td>13.6</td><td class=\"info\">13.6</td><td class=\"info\">13.6</td></tr><tr><td>kappa</td><td>1.84</td><td>1.8</td><td>1.8</td></tr><tr><td>delta</td><td>-</td><td>0.4</td><td>0.4</td></tr><tr><td>epsilon</td><td>0.342</td><td class=\"info\">0.342</td><td class=\"info\">0.342</td></tr><tr><td>N_G</td><td>0.67</td><td class=\"danger\">1</td><td class=\"danger\">1</td></tr><tr><td>H</td><td>1.8</td><td class=\"info\">1.8</td><td class=\"info\">1.8</td></tr><tr><td>nu_n</td><td>0.385</td><td class=\"info\">0.385</td><td class=\"info\">0.385</td></tr><tr><td>nu_T</td><td>0.929</td><td class=\"info\">0.929</td><td class=\"info\">0.929</td></tr><tr><td>Z_eff</td><td>1.2</td><td class=\"info\">1.2</td><td class=\"info\">1.2</td></tr><tr><td>rho_m</td><td>-</td><td>0.7</td><td>0.7</td></tr><tr><td>f_DT</td><td>-</td><td>0.9</td><td>0.9</td></tr><tr><td>wave_theta</td><td>-</td><td>135</td><td>135</td></tr></tbody></table>"
      ]
     },
     "metadata": {},
     "output_type": "display_data"
    }
   ],
   "source": [
    "@manipulate for \n",
    "    design=[\"arc\", \"act_2\", \"act_1\"], \n",
    "    column=[\"main\"], \n",
    "    limit=param_dict[\"limit\"], \n",
    "    eta_CD=param_dict[\"enable_eta_CD_derive\"],#,\n",
    "    delta in slider(0.3:0.025:0.63, value=0.4, label=\"delta\"),\n",
    "    rho_m=slider(0.3:0.05:0.8, value=0.7, label=\"rho_m\"),\n",
    "    N_G=slider(0.5:0.025:1.5, value=1.0, label=\"N_G\"),\n",
    "#     Q in slider(param_dict[\"Q\"], value=42.5, label=\"Q\"), \n",
    "    f_DT=slider(0.75:0.05:1.0, value=0.9, label=\"f_DT\"),\n",
    "#     BR=param_dict[\"BR_scaling\"], \n",
    "    nu_n=slider(50:5:150, value=100, label=\"nu_n [%]\"), \n",
    "#     nu_T=param_dict[\"nu_T\"], \n",
    "#     rho_m=slider(0.6:0.05:0.8, value=0.7, label=\"rho_m\"), \n",
    "    kappa in slider(linspace(1.8,2.2,9), value=1.8, label=\"kappa\"), \n",
    "#     delta in slider(0.575:0.025:0.65, value=0.63, label=\"delta\"), \n",
    "#     Z_eff=slider(param_dict[\"Z_eff\"], value=2.11, label=\"Z_eff\"), \n",
    "#     CD_guess=param_dict[\"default_eta_CD\"], \n",
    "    wave_theta in slider(0:15:180,value=150, label=\"theta\"),\n",
    "#     other_key=other_keys, \n",
    "#     other_val=\"\", \n",
    "    ready=[false, true]\n",
    "    \n",
    "    if !ready\n",
    "        return\n",
    "    end    \n",
    "    \n",
    "    solved_cases = OrderedDict()\n",
    "    \n",
    "#     if other_key == \"none\" || other_val == \"\"\n",
    "        key_list = [\"Standard\", \"Piped Data\"]\n",
    "#     else\n",
    "#         if other_key == \"f_DT\"\n",
    "#             first_val = f_DT\n",
    "#         elseif other_key == \"BR_scaling\"\n",
    "#             first_val = BR\n",
    "#         elseif other_key == \"rho_m\"\n",
    "#             first_val = rho_m\n",
    "#         elseif other_key == \"enable_eta_CD_derive\"\n",
    "#             first_val = eta_CD\n",
    "#         elseif other_key == \"nu_n\"\n",
    "#             first_val = nu_n\n",
    "#         elseif other_key == \"nu_T\"\n",
    "#             first_val = nu_T            \n",
    "#         elseif other_key == \"limit\"\n",
    "#             first_val = limit\n",
    "#         elseif other_key == \"Z_eff\"\n",
    "#             first_val = Z_eff            \n",
    "#         elseif other_key == \"Q\"\n",
    "#             first_val = Q                        \n",
    "#         elseif other_key == \"wave_theta\"\n",
    "#             first_val = wave_theta                        \n",
    "#         end\n",
    "        \n",
    "#         key_list = [\"$other_key = $first_val\"]\n",
    "        \n",
    "#         if other_val == \"\"\n",
    "#             other_val = default_vals[other_key]\n",
    "#         end\n",
    "        \n",
    "#         push!(key_list, \"$other_key = $other_val\")        \n",
    "#     end\n",
    "    \n",
    "    Tokamak.load_input(\"defaults.jl\", true)\n",
    "    Tokamak.load_input(\"$(design).jl\", true)  \n",
    "\n",
    "    for cur_key in key_list\n",
    "        println(321)\n",
    "        Tokamak.load_input(\"defaults.jl\", true)\n",
    "        Tokamak.load_input(\"$(design).jl\", true)\n",
    "\n",
    "        Tokamak.load_input(\" enable_eta_CD_derive = $eta_CD \")\n",
    "\n",
    "#         Tokamak.load_input(\" BR_scaling = $BR \")\n",
    "        Tokamak.load_input(\" nu_n = $nu_n * $(nu_n_dict[design]) / 100 \")\n",
    "#         Tokamak.load_input(\" nu_T = $nu_T \")\n",
    "\n",
    "        Tokamak.load_input(\" kappa = $kappa \")\n",
    "        Tokamak.load_input(\" delta = $delta \")\n",
    "        \n",
    "        Tokamak.load_input(\" rho_m = $rho_m \")\n",
    "        \n",
    "        Tokamak.load_input(\" f_DT = $f_DT \")\n",
    "        Tokamak.load_input(\" N_G = $N_G \")\n",
    "# #         Tokamak.load_input(\" Z_eff = $Z_eff \")\n",
    "        \n",
    "# #         Tokamak.load_input(\" default_eta_CD = $CD_guess \")\n",
    "        \n",
    "#         Tokamak.load_input(\" wave_theta = $wave_theta \")\n",
    "        \n",
    "# #         Tokamak.load_input(\" Q = $Q \")\n",
    "        \n",
    "#         if other_val != \"\" && cur_key != \"Tokamak.jl\"\n",
    "#             if other_key != \"f_DT\" && other_key != \"limit\"\n",
    "#                 Tokamak.load_input(cur_key)\n",
    "#             end\n",
    "#         end\n",
    "        \n",
    "     \n",
    "#         if other_val != \"\" && cur_key != \"Tokamak.jl\"\n",
    "#             if other_key == \"f_DT\"\n",
    "#                 cur_f_DT = parse(split(cur_key,\"=\")[2])\n",
    "#             elseif other_key == \"limit\"\n",
    "#                 cur_limit = strip(split(cur_key,\"=\")[2])\n",
    "#             end    \n",
    "#         end\n",
    "        \n",
    "#         cur_f_DT = f_DT\n",
    "\n",
    "#         if design == \"act_2\" && isapprox(cur_f_DT, 0.75)\n",
    "#             cur_f_DT = 0.74\n",
    "#         end\n",
    "\n",
    "#         Tokamak.load_input(\" f_DT = $cur_f_DT \")\n",
    "        \n",
    "#         cur_limit = limit\n",
    "        \n",
    "#         if cur_limit != \"auto\"\n",
    "#             Tokamak.load_input(\" main_constraint = \\\"$(cur_limit)\\\"\")\n",
    "#         end\n",
    "\n",
    "        if cur_key == \"Piped Data\"\n",
    "            found_data = vars_dict[design]\n",
    "        else\n",
    "            found_data = Tokamak.sweep_T_k([T_k_dict[design]])\n",
    "        end\n",
    "\n",
    "        filter!((k,v) -> !isa(v, OrderedDict), found_data)\n",
    "\n",
    "        for (cur_sub_key, cur_sub_val) in found_data\n",
    "            found_data[cur_sub_key] = first(cur_sub_val)\n",
    "        end\n",
    "        \n",
    "        solved_cases[cur_key] = Tokamak.analyze_solved_case(found_data)\n",
    "    end\n",
    "    \n",
    "    table_html = make_output_table(solved_cases, replace(ucfirst(design), \"_\", \" \"), column)    \n",
    "    \n",
    "    IJulia.clear_output(true)\n",
    "    display(\"text/html\", table_html)\n",
    "end\n",
    "\n",
    "return"
   ]
  },
  {
   "cell_type": "code",
   "execution_count": 42,
   "metadata": {
    "collapsed": false,
    "scrolled": true
   },
   "outputs": [
    {
     "name": "stdout",
     "output_type": "stream",
     "text": [
      " ----- \n",
      "  arc\n",
      " ----- \n",
      "\n",
      " paper = 3.3 \n",
      " \n",
      " f_B = 3.1295 \n",
      " P_F = 3.2149 \n",
      " eq1 = 5.3615 \n",
      " eq2 = 3.4420 \n",
      " eq3 = 3.2921 \n",
      " q_star = 4.7601 \n",
      " green = 3.3076 \n",
      " steady = 3.5892 \n",
      " \n",
      " Q = 13.6 \n",
      " kappa = 1.84 \n",
      " delta = 0.4 \n",
      " epsilon = 0.342 \n",
      " N_G = 0.67 \n",
      " H = 1.8 \n",
      " nu_n = 0.385 \n",
      " nu_T = 0.929 \n",
      " Z_eff = 1.2 \n",
      " rho_m = 0.6 \n",
      " f_DT = 0.9 \n",
      " max_beta_N = 0.0259 \n",
      " max_P_W = 2.5 \n",
      " R = 3.3 \n",
      " B = 9.2 \n",
      " T = 14 \n",
      " eta_CD = 0.321 \n",
      " \n"
     ]
    }
   ],
   "source": [
    "# using Tokamak\n",
    "# using Unitful\n",
    "# using SymPy\n",
    "    \n",
    "function custom_subs(cur_func, design)\n",
    "  subs(\n",
    "    cur_func,\n",
    "    Tokamak.symbol_dict[\"beta_N\"] => Tokamak.max_beta_N,\n",
    "    Tokamak.symbol_dict[\"P_W\"] => Tokamak.max_P_W,\n",
    "    Tokamak.symbol_dict[\"tau_factor\"] => Tokamak.max_tau_factor,\n",
    "    Tokamak.symbol_dict[\"T_k\"] => vars_dict[design][\"T_k\"][1],\n",
    "    Tokamak.symbol_dict[\"n_bar\"] => vars_dict[design][\"n_bar\"][1],\n",
    "    Tokamak.symbol_dict[\"B_0\"] => vars_dict[design][\"B_0\"][1],\n",
    "    Tokamak.symbol_dict[\"I_M\"] => vars_dict[design][\"I_M\"][1],\n",
    "  )\n",
    "end\n",
    "\n",
    "function custom_solve(cur_func, design)\n",
    "  solve(\n",
    "    custom_subs(cur_func, design)\n",
    "  )[1]\n",
    "end\n",
    "\n",
    "function R_list(design)\n",
    "  cur_list = OrderedDict()\n",
    "\n",
    "  cur_list[\"paper\"] = vars_dict[design][\"R_0\"][1]\n",
    "\n",
    "#   cur_list[\"beta\"] = custom_subs(SymPy.solve( Tokamak.R_B_2() - Tokamak.K_2() * Tokamak.G_2() , Tokamak.symbol_dict[\"beta_N\"] )[1], design)\n",
    "\n",
    "  cur_list[\"f_B\"] = custom_solve( vars_dict[design][\"f_B\"][1] - Tokamak.f_B() , design )\n",
    "\n",
    "  cur_list[\"P_F\"] = custom_solve(\n",
    "    vars_dict[design][\"P_F\"][1] - \n",
    "    Tokamak.calc_possible_values(\n",
    "      custom_subs(\n",
    "        Tokamak.P_F()/1u\"MW\",\n",
    "                design\n",
    "      ) / Tokamak.symbol_dict[\"R_0\"]^3,\n",
    "      cur_eta_CD=Tokamak.default_eta_CD\n",
    "      ,cur_T_k=vars_dict[design][\"T_k\"][1]*1u\"keV\"\n",
    "    ) * Tokamak.symbol_dict[\"R_0\"]^3\n",
    "    , design\n",
    "  )\n",
    "\n",
    "  cur_list[\"eq1\"] = custom_solve(\n",
    "    Tokamak.calc_possible_values(\n",
    "      custom_subs(\n",
    "        Tokamak.R_B_1() - Tokamak.K_1() * Tokamak.G_1(),\n",
    "        design\n",
    "      ),\n",
    "      cur_eta_CD=Tokamak.default_eta_CD\n",
    "      ,cur_T_k=vars_dict[design][\"T_k\"][1]*1u\"keV\"\n",
    "    ),\n",
    "    design\n",
    "  )\n",
    "\n",
    "  cur_list[\"eq2\"] = custom_solve(\n",
    "    Tokamak.calc_possible_values(\n",
    "      custom_subs(\n",
    "        Tokamak.symbol_dict[\"R_0\"]*Tokamak.symbol_dict[\"B_0\"] - Tokamak.K_2() * Tokamak.G_2(),\n",
    "        design\n",
    "      ),\n",
    "      cur_eta_CD=Tokamak.default_eta_CD\n",
    "      ,cur_T_k=vars_dict[design][\"T_k\"][1]*1u\"keV\"\n",
    "    ),\n",
    "    design\n",
    "  )\n",
    "\n",
    "  cur_list[\"eq3\"] = custom_solve(\n",
    "    Tokamak.calc_possible_values(\n",
    "      custom_subs(\n",
    "        Tokamak.symbol_dict[\"R_0\"]^3 - Tokamak.K_3() * Tokamak.G_3(),\n",
    "        design\n",
    "      ),\n",
    "      cur_eta_CD=Tokamak.default_eta_CD\n",
    "      ,cur_T_k=vars_dict[design][\"T_k\"][1]*1u\"keV\"\n",
    "    ),\n",
    "    design\n",
    "  )\n",
    "\n",
    "  cur_list[\"q_star\"] = custom_solve( vars_dict[design][\"q_star\"][1] - Tokamak.q_star() , design )\n",
    "\n",
    "  cur_list[\"green\"] = custom_solve( \n",
    "    Tokamak.symbol_dict[\"n_bar\"]-Tokamak.N_G*Tokamak.symbol_dict[\"I_M\"]/(pi*(Tokamak.a()/1u\"m\")^2), design \n",
    "  )\n",
    "\n",
    "  cur_list[\"steady\"] = custom_solve( \n",
    "    Tokamak.calc_possible_values(\n",
    "  custom_subs(\n",
    "    Tokamak.symbol_dict[\"n_bar\"]*Tokamak.symbol_dict[\"R_0\"]^2-Tokamak.K_n()*Tokamak.symbol_dict[\"T_k\"]/Tokamak.calc_possible_values(Tokamak.symbol_dict[\"K_CD_denom\"],\n",
    "  cur_eta_CD=Tokamak.default_eta_CD\n",
    "  ,cur_T_k=vars_dict[design][\"T_k\"][1]*1u\"keV\"),\n",
    "            design\n",
    "  ),\n",
    "  cur_eta_CD=Tokamak.default_eta_CD\n",
    "  ,cur_T_k=vars_dict[design][\"T_k\"][1]*1u\"keV\"\n",
    "),\n",
    "        design\n",
    "  )        \n",
    "\n",
    "  cur_list\n",
    "end\n",
    "\n",
    "@manipulate for \n",
    "    design=[\"arc\", \"act_2\", \"act_1\"],\n",
    "    Q = 50:5:150,\n",
    "    kappa = 50:5:150,\n",
    "    delta = 50:5:150,\n",
    "    epsilon = 50:5:150,\n",
    "    N_G = 50:5:150,\n",
    "    H = 50:5:150,\n",
    "    nu_n = 50:5:150,\n",
    "    nu_T = 50:5:150,\n",
    "    Z_eff = 50:5:150,\n",
    "    rho_m = 50:5:150,\n",
    "    f_DT = 50:5:150,\n",
    "    max_beta_N = 50:5:150,\n",
    "    max_P_W = 50:5:150\n",
    "    \n",
    "    Tokamak.load_input(\"defaults.jl\", true)\n",
    "    Tokamak.load_input(\"$(design).jl\", true)\n",
    "    \n",
    "    println(444)\n",
    "    Tokamak.load_input(\" Q = $(Tokamak.Q) * $Q / 100 \")\n",
    "    Tokamak.load_input(\" kappa = $(Tokamak.kappa) * $kappa / 100 \")\n",
    "    Tokamak.load_input(\" delta = $(Tokamak.delta) * $delta / 100 \")\n",
    "    Tokamak.load_input(\" epsilon = $(Tokamak.epsilon) * $epsilon / 100 \")\n",
    "    Tokamak.load_input(\" N_G = $(Tokamak.N_G) * $N_G / 100 \")\n",
    "    Tokamak.load_input(\" H = $(Tokamak.H) * $H / 100 \")\n",
    "    Tokamak.load_input(\" nu_n = $(Tokamak.nu_n) * $nu_n / 100 \")\n",
    "    Tokamak.load_input(\" nu_T = $(Tokamak.nu_T) * $nu_T / 100 \")\n",
    "    Tokamak.load_input(\" Z_eff = $(Tokamak.Z_eff) * $Z_eff / 100 \")\n",
    "    println(2222)\n",
    "    Tokamak.load_input(\" rho_m = $(Tokamak.rho_m) * $rho_m / 100 \")\n",
    "    Tokamak.load_input(\" f_DT = $(Tokamak.f_DT) * $f_DT / 100 \")\n",
    "    Tokamak.load_input(\" max_beta_N = $(Tokamak.max_beta_N) * $max_beta_N / 100 \")\n",
    "    Tokamak.load_input(\" max_P_W = $(Tokamak.max_P_W) * $max_P_W / 100 \") \n",
    "    println(\"lol\")\n",
    "    cur_str_array = [\" ----- \",\"  $design\",\" ----- \",\"\"]\n",
    "    \n",
    "    for (cur_key, cur_val) in R_list(design)\n",
    "        println(cur_key)\n",
    "        println(cur_val)\n",
    "        push!(cur_str_array, \" $cur_key = $(round(cur_val,4)) \")\n",
    "        if cur_key == \"paper\"\n",
    "           push!(cur_str_array, \" \") \n",
    "        end\n",
    "    end   \n",
    "    println(\"sd\")\n",
    "    \n",
    "    push!(cur_str_array, \" \")\n",
    "    println(123)\n",
    "    push!(cur_str_array, \" Q = $(Tokamak.Q) \")\n",
    "    push!(cur_str_array, \" kappa = $(Tokamak.kappa) \")\n",
    "    push!(cur_str_array, \" delta = $(Tokamak.delta) \")\n",
    "    push!(cur_str_array, \" epsilon = $(Tokamak.epsilon) \")\n",
    "    push!(cur_str_array, \" N_G = $(Tokamak.N_G) \")\n",
    "    push!(cur_str_array, \" H = $(Tokamak.H) \")\n",
    "    push!(cur_str_array, \" nu_n = $(Tokamak.nu_n) \")\n",
    "    push!(cur_str_array, \" nu_T = $(Tokamak.nu_T) \")\n",
    "    println(321)\n",
    "    push!(cur_str_array, \" Z_eff = $(Tokamak.Z_eff) \")\n",
    "    push!(cur_str_array, \" rho_m = $(Tokamak.rho_m) \")\n",
    "    push!(cur_str_array, \" f_DT = $(Tokamak.f_DT) \")\n",
    "    push!(cur_str_array, \" max_beta_N = $(round(Tokamak.max_beta_N,4)) \")\n",
    "    push!(cur_str_array, \" max_P_W = $(Tokamak.max_P_W) \")      \n",
    "    \n",
    "    push!(cur_str_array, \" R = $(vars_dict[design][\"R_0\"][1]) \")  \n",
    "    push!(cur_str_array, \" B = $(vars_dict[design][\"B_0\"][1]) \")  \n",
    "    push!(cur_str_array, \" T = $(vars_dict[design][\"T_k\"][1]) \")  \n",
    "    push!(cur_str_array, \" eta_CD = $(vars_dict[design][\"eta_CD\"][1]) \")  \n",
    "    \n",
    "    push!(cur_str_array, \" \")\n",
    "    \n",
    "    IJulia.clear_output(true)\n",
    "    println(join(cur_str_array,\"\\n\"))    \n",
    "    \n",
    "end\n",
    "\n",
    "return"
   ]
  },
  {
   "cell_type": "code",
   "execution_count": 43,
   "metadata": {
    "collapsed": false
   },
   "outputs": [
    {
     "data": {
      "text/plain": [
       "DataStructures.OrderedDict{Any,Any} with 6 entries:\n",
       "  \"rho_m\"           => Any[\"0.7\", \"0.66\"]\n",
       "  \"f_DT\"            => Any[\"0.9\", \"0.85\"]\n",
       "  \"nu_n\"            => Any[\"0.33\", \"0.31\"]\n",
       "  \"delta\"           => Any[\"0.63\", \"0.6\", \"0.575\"]\n",
       "  \"wave_theta\"      => Any[\"150.0\", \"140.0\"]\n",
       "  \"main_constraint\" => Any[\"\\\"wall\\\"\", \"\\\"beta\\\"\"]"
      ]
     },
     "execution_count": 43,
     "metadata": {},
     "output_type": "execute_result"
    }
   ],
   "source": [
    "cur_dict_1 = DataStructures.OrderedDict{Any,Any}(\"rho_m = 0.7\"=>DataStructures.OrderedDict{Any,Any}(\"f_DT = 0.9\"=>DataStructures.OrderedDict{Any,Any}(\"nu_n = 0.33\"=>DataStructures.OrderedDict{Any,Any}(\"delta = 0.63\"=>DataStructures.OrderedDict{Any,Any}(\"wave_theta = 150.0\"=>DataStructures.OrderedDict{Any,Any}(\"main_constraint = \\\"wall\\\"\"=>DataStructures.OrderedDict{Any,Any}(\"R_0\"=>[8.54291],\"T_k\"=>[20.4518],\"rho_j\"=>[0.78211],\"eta_CD\"=>[0.23916],\"B_0\"=>[6.0],\"success\"=>Bool[true],\"constraint\"=>AbstractString[\"wall\"],\"limits\"=>DataStructures.OrderedDict{Any,Any}(\"beta\"=>[0.851344],\"wall\"=>[0.996359])),\"main_constraint = \\\"beta\\\"\"=>DataStructures.OrderedDict{Any,Any}(\"R_0\"=>[7.33742],\"T_k\"=>[20.6468],\"rho_j\"=>[0.808702],\"eta_CD\"=>[0.213407],\"B_0\"=>[6.0],\"success\"=>Bool[true],\"constraint\"=>AbstractString[\"beta\"],\"limits\"=>DataStructures.OrderedDict{Any,Any}(\"beta\"=>[1.00067],\"wall\"=>[1.5294]))),\"wave_theta = 140.0\"=>DataStructures.OrderedDict{Any,Any}(\"main_constraint = \\\"wall\\\"\"=>DataStructures.OrderedDict{Any,Any}(\"R_0\"=>[8.62438],\"T_k\"=>[20.6787],\"rho_j\"=>[0.787473],\"eta_CD\"=>[0.235913],\"B_0\"=>[6.0],\"success\"=>Bool[true],\"constraint\"=>AbstractString[\"wall\"],\"limits\"=>DataStructures.OrderedDict{Any,Any}(\"beta\"=>[0.852658],\"wall\"=>[0.996414])),\"main_constraint = \\\"beta\\\"\"=>DataStructures.OrderedDict{Any,Any}(\"R_0\"=>[7.42342],\"T_k\"=>[20.8911],\"rho_j\"=>[0.813438],\"eta_CD\"=>[0.210523],\"B_0\"=>[6.0],\"success\"=>Bool[true],\"constraint\"=>AbstractString[\"beta\"],\"limits\"=>DataStructures.OrderedDict{Any,Any}(\"beta\"=>[1.00078],\"wall\"=>[1.52342])))),\"delta = 0.6\"=>DataStructures.OrderedDict{Any,Any}(\"wave_theta = 150.0\"=>DataStructures.OrderedDict{Any,Any}(\"main_constraint = \\\"wall\\\"\"=>DataStructures.OrderedDict{Any,Any}(\"R_0\"=>[8.46887],\"T_k\"=>[20.2374],\"rho_j\"=>[0.7807],\"eta_CD\"=>[0.238397],\"B_0\"=>[6.0],\"success\"=>Bool[true],\"constraint\"=>AbstractString[\"wall\"],\"limits\"=>DataStructures.OrderedDict{Any,Any}(\"beta\"=>[0.849788],\"wall\"=>[0.996141])),\"main_constraint = \\\"beta\\\"\"=>DataStructures.OrderedDict{Any,Any}(\"R_0\"=>[7.25757],\"T_k\"=>[20.4204],\"rho_j\"=>[0.807753],\"eta_CD\"=>[0.212352],\"B_0\"=>[6.0],\"success\"=>Bool[true],\"constraint\"=>AbstractString[\"beta\"],\"limits\"=>DataStructures.OrderedDict{Any,Any}(\"beta\"=>[1.00058],\"wall\"=>[1.53646]))),\"wave_theta = 140.0\"=>DataStructures.OrderedDict{Any,Any}(\"main_constraint = \\\"wall\\\"\"=>DataStructures.OrderedDict{Any,Any}(\"R_0\"=>[8.54816],\"T_k\"=>[20.4574],\"rho_j\"=>[0.786091],\"eta_CD\"=>[0.235148],\"B_0\"=>[6.0],\"success\"=>Bool[true],\"constraint\"=>AbstractString[\"wall\"],\"limits\"=>DataStructures.OrderedDict{Any,Any}(\"beta\"=>[0.851056],\"wall\"=>[0.996159])),\"main_constraint = \\\"beta\\\"\"=>DataStructures.OrderedDict{Any,Any}(\"R_0\"=>[7.34093],\"T_k\"=>[20.6568],\"rho_j\"=>[0.812512],\"eta_CD\"=>[0.209459],\"B_0\"=>[6.0],\"success\"=>Bool[true],\"constraint\"=>AbstractString[\"beta\"],\"limits\"=>DataStructures.OrderedDict{Any,Any}(\"beta\"=>[1.00067],\"wall\"=>[1.53053]))))),\"nu_n = 0.31\"=>DataStructures.OrderedDict{Any,Any}(\"delta = 0.63\"=>DataStructures.OrderedDict{Any,Any}(\"wave_theta = 150.0\"=>DataStructures.OrderedDict{Any,Any}(\"main_constraint = \\\"wall\\\"\"=>DataStructures.OrderedDict{Any,Any}(\"R_0\"=>[9.46756],\"T_k\"=>[23.2877],\"rho_j\"=>[0.797105],\"eta_CD\"=>[0.250432],\"B_0\"=>[6.0],\"success\"=>Bool[true],\"constraint\"=>AbstractString[\"wall\"],\"limits\"=>DataStructures.OrderedDict{Any,Any}(\"beta\"=>[0.868569],\"wall\"=>[1.00203])),\"main_constraint = \\\"beta\\\"\"=>DataStructures.OrderedDict{Any,Any}(\"R_0\"=>[8.42678],\"T_k\"=>[23.8712],\"rho_j\"=>[0.819905],\"eta_CD\"=>[0.228753],\"B_0\"=>[6.0],\"success\"=>Bool[true],\"constraint\"=>AbstractString[\"beta\"],\"limits\"=>DataStructures.OrderedDict{Any,Any}(\"beta\"=>[1.0003],\"wall\"=>[1.45125]))),\"wave_theta = 140.0\"=>DataStructures.OrderedDict{Any,Any}(\"main_constraint = \\\"wall\\\"\"=>DataStructures.OrderedDict{Any,Any}(\"R_0\"=>[9.58255],\"T_k\"=>[23.6311],\"rho_j\"=>[0.802634],\"eta_CD\"=>[0.247166],\"B_0\"=>[6.0],\"success\"=>Bool[true],\"constraint\"=>AbstractString[\"wall\"],\"limits\"=>DataStructures.OrderedDict{Any,Any}(\"beta\"=>[0.8708],\"wall\"=>[1.00326])),\"main_constraint = \\\"beta\\\"\"=>DataStructures.OrderedDict{Any,Any}(\"R_0\"=>[8.54104],\"T_k\"=>[24.1951],\"rho_j\"=>[0.824424],\"eta_CD\"=>[0.225941],\"B_0\"=>[6.0],\"success\"=>Bool[true],\"constraint\"=>AbstractString[\"beta\"],\"limits\"=>DataStructures.OrderedDict{Any,Any}(\"beta\"=>[1.00031],\"wall\"=>[1.44196])))),\"delta = 0.6\"=>DataStructures.OrderedDict{Any,Any}(\"wave_theta = 150.0\"=>DataStructures.OrderedDict{Any,Any}(\"main_constraint = \\\"wall\\\"\"=>DataStructures.OrderedDict{Any,Any}(\"R_0\"=>[9.3736],\"T_k\"=>[22.9989],\"rho_j\"=>[0.795484],\"eta_CD\"=>[0.24959],\"B_0\"=>[6.0],\"success\"=>Bool[true],\"constraint\"=>AbstractString[\"wall\"],\"limits\"=>DataStructures.OrderedDict{Any,Any}(\"beta\"=>[0.866399],\"wall\"=>[1.00098])),\"main_constraint = \\\"beta\\\"\"=>DataStructures.OrderedDict{Any,Any}(\"R_0\"=>[8.27031],\"T_k\"=>[23.4999],\"rho_j\"=>[0.818899],\"eta_CD\"=>[0.226846],\"B_0\"=>[6.0],\"success\"=>Bool[true],\"constraint\"=>AbstractString[\"beta\"],\"limits\"=>DataStructures.OrderedDict{Any,Any}(\"beta\"=>[1.00337],\"wall\"=>[1.47064]))),\"wave_theta = 140.0\"=>DataStructures.OrderedDict{Any,Any}(\"main_constraint = \\\"wall\\\"\"=>DataStructures.OrderedDict{Any,Any}(\"R_0\"=>[9.48519],\"T_k\"=>[23.3291],\"rho_j\"=>[0.800997],\"eta_CD\"=>[0.246325],\"B_0\"=>[6.0],\"success\"=>Bool[true],\"constraint\"=>AbstractString[\"wall\"],\"limits\"=>DataStructures.OrderedDict{Any,Any}(\"beta\"=>[0.868498],\"wall\"=>[1.00199])),\"main_constraint = \\\"beta\\\"\"=>DataStructures.OrderedDict{Any,Any}(\"R_0\"=>[8.42628],\"T_k\"=>[23.8698],\"rho_j\"=>[0.823299],\"eta_CD\"=>[0.224639],\"B_0\"=>[6.0],\"success\"=>Bool[true],\"constraint\"=>AbstractString[\"beta\"],\"limits\"=>DataStructures.OrderedDict{Any,Any}(\"beta\"=>[1.0003],\"wall\"=>[1.45069])))))),\"f_DT = 0.85\"=>DataStructures.OrderedDict{Any,Any}(\"nu_n = 0.33\"=>DataStructures.OrderedDict{Any,Any}(\"delta = 0.63\"=>DataStructures.OrderedDict{Any,Any}(\"wave_theta = 150.0\"=>DataStructures.OrderedDict{Any,Any}(\"main_constraint = \\\"wall\\\"\"=>DataStructures.OrderedDict{Any,Any}(\"R_0\"=>[10.3122],\"T_k\"=>[25.6443],\"rho_j\"=>[0.810006],\"eta_CD\"=>[0.255983],\"B_0\"=>[6.0],\"success\"=>Bool[true],\"constraint\"=>AbstractString[\"wall\"],\"limits\"=>DataStructures.OrderedDict{Any,Any}(\"beta\"=>[0.884339],\"wall\"=>[0.998198])),\"main_constraint = \\\"beta\\\"\"=>DataStructures.OrderedDict{Any,Any}(\"R_0\"=>[9.31042],\"T_k\"=>[26.1956],\"rho_j\"=>[0.828341],\"eta_CD\"=>[0.236942],\"B_0\"=>[6.0],\"success\"=>Bool[true],\"constraint\"=>AbstractString[\"beta\"],\"limits\"=>DataStructures.OrderedDict{Any,Any}(\"beta\"=>[1.00055],\"wall\"=>[1.37772]))),\"wave_theta = 140.0\"=>DataStructures.OrderedDict{Any,Any}(\"main_constraint = \\\"wall\\\"\"=>DataStructures.OrderedDict{Any,Any}(\"R_0\"=>[10.4734],\"T_k\"=>[26.1164],\"rho_j\"=>[0.815512],\"eta_CD\"=>[0.252982],\"B_0\"=>[6.0],\"success\"=>Bool[true],\"constraint\"=>AbstractString[\"wall\"],\"limits\"=>DataStructures.OrderedDict{Any,Any}(\"beta\"=>[0.886762],\"wall\"=>[0.998392])),\"main_constraint = \\\"beta\\\"\"=>DataStructures.OrderedDict{Any,Any}(\"R_0\"=>[9.4935],\"T_k\"=>[26.715],\"rho_j\"=>[0.83322],\"eta_CD\"=>[0.234539],\"B_0\"=>[6.0],\"success\"=>Bool[true],\"constraint\"=>AbstractString[\"beta\"],\"limits\"=>DataStructures.OrderedDict{Any,Any}(\"beta\"=>[1.00071],\"wall\"=>[1.36776])))),\"delta = 0.6\"=>DataStructures.OrderedDict{Any,Any}(\"wave_theta = 150.0\"=>DataStructures.OrderedDict{Any,Any}(\"main_constraint = \\\"wall\\\"\"=>DataStructures.OrderedDict{Any,Any}(\"R_0\"=>[10.1796],\"T_k\"=>[25.2475],\"rho_j\"=>[0.808189],\"eta_CD\"=>[0.254818],\"B_0\"=>[6.0],\"success\"=>Bool[true],\"constraint\"=>AbstractString[\"wall\"],\"limits\"=>DataStructures.OrderedDict{Any,Any}(\"beta\"=>[0.881996],\"wall\"=>[0.997954])),\"main_constraint = \\\"beta\\\"\"=>DataStructures.OrderedDict{Any,Any}(\"R_0\"=>[9.15966],\"T_k\"=>[25.7692],\"rho_j\"=>[0.827],\"eta_CD\"=>[0.235309],\"B_0\"=>[6.0],\"success\"=>Bool[true],\"constraint\"=>AbstractString[\"beta\"],\"limits\"=>DataStructures.OrderedDict{Any,Any}(\"beta\"=>[1.00047],\"wall\"=>[1.38741]))),\"wave_theta = 140.0\"=>DataStructures.OrderedDict{Any,Any}(\"main_constraint = \\\"wall\\\"\"=>DataStructures.OrderedDict{Any,Any}(\"R_0\"=>[10.333],\"T_k\"=>[25.6947],\"rho_j\"=>[0.813666],\"eta_CD\"=>[0.251789],\"B_0\"=>[6.0],\"success\"=>Bool[true],\"constraint\"=>AbstractString[\"wall\"],\"limits\"=>DataStructures.OrderedDict{Any,Any}(\"beta\"=>[0.884297],\"wall\"=>[0.998097])),\"main_constraint = \\\"beta\\\"\"=>DataStructures.OrderedDict{Any,Any}(\"R_0\"=>[9.33337],\"T_k\"=>[26.2608],\"rho_j\"=>[0.83187],\"eta_CD\"=>[0.232856],\"B_0\"=>[6.0],\"success\"=>Bool[true],\"constraint\"=>AbstractString[\"beta\"],\"limits\"=>DataStructures.OrderedDict{Any,Any}(\"beta\"=>[1.00057],\"wall\"=>[1.37766]))))),\"nu_n = 0.31\"=>DataStructures.OrderedDict{Any,Any}(\"delta = 0.63\"=>DataStructures.OrderedDict{Any,Any}(\"wave_theta = 150.0\"=>DataStructures.OrderedDict{Any,Any}(\"main_constraint = \\\"wall\\\"\"=>DataStructures.OrderedDict{Any,Any}(\"R_0\"=>[12.057],\"T_k\"=>[31.2041],\"rho_j\"=>[0.830855],\"eta_CD\"=>[0.271835],\"B_0\"=>[6.0],\"success\"=>Bool[true],\"constraint\"=>AbstractString[\"wall\"],\"limits\"=>DataStructures.OrderedDict{Any,Any}(\"beta\"=>[0.913878],\"wall\"=>[1.00729])),\"main_constraint = \\\"beta\\\"\"=>DataStructures.OrderedDict{Any,Any}(\"R_0\"=>[11.3452],\"T_k\"=>[32.1493],\"rho_j\"=>[0.843856],\"eta_CD\"=>[0.25866],\"B_0\"=>[6.0],\"success\"=>Bool[true],\"constraint\"=>AbstractString[\"beta\"],\"limits\"=>DataStructures.OrderedDict{Any,Any}(\"beta\"=>[1.00063],\"wall\"=>[1.26395]))),\"wave_theta = 140.0\"=>DataStructures.OrderedDict{Any,Any}(\"main_constraint = \\\"wall\\\"\"=>DataStructures.OrderedDict{Any,Any}(\"R_0\"=>[12.3835],\"T_k\"=>[32.0973],\"rho_j\"=>[0.836537],\"eta_CD\"=>[0.269711],\"B_0\"=>[6.0],\"success\"=>Bool[true],\"constraint\"=>AbstractString[\"wall\"],\"limits\"=>DataStructures.OrderedDict{Any,Any}(\"beta\"=>[0.915254],\"wall\"=>[0.998868])),\"main_constraint = \\\"beta\\\"\"=>DataStructures.OrderedDict{Any,Any}(\"R_0\"=>[NaN],\"T_k\"=>[NaN],\"rho_j\"=>[NaN],\"eta_CD\"=>[NaN],\"B_0\"=>[6.0],\"success\"=>Bool[false],\"constraint\"=>AbstractString[\"x\"],\"limits\"=>DataStructures.OrderedDict{Any,Any}(\"beta\"=>[NaN],\"wall\"=>[NaN])))),\"delta = 0.6\"=>DataStructures.OrderedDict{Any,Any}(\"wave_theta = 150.0\"=>DataStructures.OrderedDict{Any,Any}(\"main_constraint = \\\"wall\\\"\"=>DataStructures.OrderedDict{Any,Any}(\"R_0\"=>[11.8427],\"T_k\"=>[30.5033],\"rho_j\"=>[0.828336],\"eta_CD\"=>[0.270302],\"B_0\"=>[6.0],\"success\"=>Bool[true],\"constraint\"=>AbstractString[\"wall\"],\"limits\"=>DataStructures.OrderedDict{Any,Any}(\"beta\"=>[0.909519],\"wall\"=>[1.00471])),\"main_constraint = \\\"beta\\\"\"=>DataStructures.OrderedDict{Any,Any}(\"R_0\"=>[11.0674],\"T_k\"=>[31.3559],\"rho_j\"=>[0.841898],\"eta_CD\"=>[0.256145],\"B_0\"=>[6.0],\"success\"=>Bool[true],\"constraint\"=>AbstractString[\"beta\"],\"limits\"=>DataStructures.OrderedDict{Any,Any}(\"beta\"=>[1.00043],\"wall\"=>[1.27675]))),\"wave_theta = 140.0\"=>DataStructures.OrderedDict{Any,Any}(\"main_constraint = \\\"wall\\\"\"=>DataStructures.OrderedDict{Any,Any}(\"R_0\"=>[12.1217],\"T_k\"=>[31.4029],\"rho_j\"=>[0.834613],\"eta_CD\"=>[0.267615],\"B_0\"=>[6.0],\"success\"=>Bool[true],\"constraint\"=>AbstractString[\"wall\"],\"limits\"=>DataStructures.OrderedDict{Any,Any}(\"beta\"=>[0.914791],\"wall\"=>[1.0082])),\"main_constraint = \\\"beta\\\"\"=>DataStructures.OrderedDict{Any,Any}(\"R_0\"=>[11.4274],\"T_k\"=>[32.3859],\"rho_j\"=>[0.847353],\"eta_CD\"=>[0.254772],\"B_0\"=>[6.0],\"success\"=>Bool[true],\"constraint\"=>AbstractString[\"beta\"],\"limits\"=>DataStructures.OrderedDict{Any,Any}(\"beta\"=>[1.00075],\"wall\"=>[1.26182]))))))),\"rho_m = 0.66\"=>DataStructures.OrderedDict{Any,Any}(\"f_DT = 0.9\"=>DataStructures.OrderedDict{Any,Any}(\"nu_n = 0.33\"=>DataStructures.OrderedDict{Any,Any}(\"delta = 0.63\"=>DataStructures.OrderedDict{Any,Any}(\"wave_theta = 150.0\"=>DataStructures.OrderedDict{Any,Any}(\"main_constraint = \\\"wall\\\"\"=>DataStructures.OrderedDict{Any,Any}(\"R_0\"=>[9.25434],\"T_k\"=>[22.4625],\"rho_j\"=>[0.791841],\"eta_CD\"=>[0.248589],\"B_0\"=>[6.0],\"success\"=>Bool[true],\"constraint\"=>AbstractString[\"wall\"],\"limits\"=>DataStructures.OrderedDict{Any,Any}(\"beta\"=>[0.863162],\"wall\"=>[0.9996])),\"main_constraint = \\\"beta\\\"\"=>DataStructures.OrderedDict{Any,Any}(\"R_0\"=>[8.1265],\"T_k\"=>[22.909],\"rho_j\"=>[0.815847],\"eta_CD\"=>[0.225406],\"B_0\"=>[6.0],\"success\"=>Bool[true],\"constraint\"=>AbstractString[\"beta\"],\"limits\"=>DataStructures.OrderedDict{Any,Any}(\"beta\"=>[1.00249],\"wall\"=>[1.48092]))),\"wave_theta = 140.0\"=>DataStructures.OrderedDict{Any,Any}(\"main_constraint = \\\"wall\\\"\"=>DataStructures.OrderedDict{Any,Any}(\"R_0\"=>[9.35993],\"T_k\"=>[22.7686],\"rho_j\"=>[0.797293],\"eta_CD\"=>[0.245363],\"B_0\"=>[6.0],\"success\"=>Bool[true],\"constraint\"=>AbstractString[\"wall\"],\"limits\"=>DataStructures.OrderedDict{Any,Any}(\"beta\"=>[0.865056],\"wall\"=>[1.00031])),\"main_constraint = \\\"beta\\\"\"=>DataStructures.OrderedDict{Any,Any}(\"R_0\"=>[8.24197],\"T_k\"=>[23.2471],\"rho_j\"=>[0.820694],\"eta_CD\"=>[0.222604],\"B_0\"=>[6.0],\"success\"=>Bool[true],\"constraint\"=>AbstractString[\"beta\"],\"limits\"=>DataStructures.OrderedDict{Any,Any}(\"beta\"=>[1.00304],\"wall\"=>[1.475])))),\"delta = 0.6\"=>DataStructures.OrderedDict{Any,Any}(\"wave_theta = 150.0\"=>DataStructures.OrderedDict{Any,Any}(\"main_constraint = \\\"wall\\\"\"=>DataStructures.OrderedDict{Any,Any}(\"R_0\"=>[9.16601],\"T_k\"=>[22.198],\"rho_j\"=>[0.790304],\"eta_CD\"=>[0.247757],\"B_0\"=>[6.0],\"success\"=>Bool[true],\"constraint\"=>AbstractString[\"wall\"],\"limits\"=>DataStructures.OrderedDict{Any,Any}(\"beta\"=>[0.861219],\"wall\"=>[0.998907])),\"main_constraint = \\\"beta\\\"\"=>DataStructures.OrderedDict{Any,Any}(\"R_0\"=>[8.02905],\"T_k\"=>[22.6256],\"rho_j\"=>[0.81474],\"eta_CD\"=>[0.224244],\"B_0\"=>[6.0],\"success\"=>Bool[true],\"constraint\"=>AbstractString[\"beta\"],\"limits\"=>DataStructures.OrderedDict{Any,Any}(\"beta\"=>[1.00211],\"wall\"=>[1.48766]))),\"wave_theta = 140.0\"=>DataStructures.OrderedDict{Any,Any}(\"main_constraint = \\\"wall\\\"\"=>DataStructures.OrderedDict{Any,Any}(\"R_0\"=>[9.2686],\"T_k\"=>[22.4933],\"rho_j\"=>[0.795757],\"eta_CD\"=>[0.24453],\"B_0\"=>[6.0],\"success\"=>Bool[true],\"constraint\"=>AbstractString[\"wall\"],\"limits\"=>DataStructures.OrderedDict{Any,Any}(\"beta\"=>[0.863016],\"wall\"=>[0.999486])),\"main_constraint = \\\"beta\\\"\"=>DataStructures.OrderedDict{Any,Any}(\"R_0\"=>[8.14097],\"T_k\"=>[22.9514],\"rho_j\"=>[0.819575],\"eta_CD\"=>[0.221436],\"B_0\"=>[6.0],\"success\"=>Bool[true],\"constraint\"=>AbstractString[\"beta\"],\"limits\"=>DataStructures.OrderedDict{Any,Any}(\"beta\"=>[1.00257],\"wall\"=>[1.48163]))))),\"nu_n = 0.31\"=>DataStructures.OrderedDict{Any,Any}(\"delta = 0.63\"=>DataStructures.OrderedDict{Any,Any}(\"wave_theta = 150.0\"=>DataStructures.OrderedDict{Any,Any}(\"main_constraint = \\\"wall\\\"\"=>DataStructures.OrderedDict{Any,Any}(\"R_0\"=>[10.3717],\"T_k\"=>[25.8408],\"rho_j\"=>[0.807419],\"eta_CD\"=>[0.260948],\"B_0\"=>[6.0],\"success\"=>Bool[true],\"constraint\"=>AbstractString[\"wall\"],\"limits\"=>DataStructures.OrderedDict{Any,Any}(\"beta\"=>[0.879774],\"wall\"=>[0.99772])),\"main_constraint = \\\"beta\\\"\"=>DataStructures.OrderedDict{Any,Any}(\"R_0\"=>[9.4269],\"T_k\"=>[26.7102],\"rho_j\"=>[0.827583],\"eta_CD\"=>[0.24199],\"B_0\"=>[6.0],\"success\"=>Bool[true],\"constraint\"=>AbstractString[\"beta\"],\"limits\"=>DataStructures.OrderedDict{Any,Any}(\"beta\"=>[1.00052],\"wall\"=>[1.39007]))),\"wave_theta = 140.0\"=>DataStructures.OrderedDict{Any,Any}(\"main_constraint = \\\"wall\\\"\"=>DataStructures.OrderedDict{Any,Any}(\"R_0\"=>[10.5366],\"T_k\"=>[26.3238],\"rho_j\"=>[0.813044],\"eta_CD\"=>[0.257906],\"B_0\"=>[6.0],\"success\"=>Bool[true],\"constraint\"=>AbstractString[\"wall\"],\"limits\"=>DataStructures.OrderedDict{Any,Any}(\"beta\"=>[0.882195],\"wall\"=>[0.997858])),\"main_constraint = \\\"beta\\\"\"=>DataStructures.OrderedDict{Any,Any}(\"R_0\"=>[9.6181],\"T_k\"=>[27.2558],\"rho_j\"=>[0.832552],\"eta_CD\"=>[0.239572],\"B_0\"=>[6.0],\"success\"=>Bool[true],\"constraint\"=>AbstractString[\"beta\"],\"limits\"=>DataStructures.OrderedDict{Any,Any}(\"beta\"=>[1.00066],\"wall\"=>[1.37967])))),\"delta = 0.6\"=>DataStructures.OrderedDict{Any,Any}(\"wave_theta = 150.0\"=>DataStructures.OrderedDict{Any,Any}(\"main_constraint = \\\"wall\\\"\"=>DataStructures.OrderedDict{Any,Any}(\"R_0\"=>[10.2485],\"T_k\"=>[25.4694],\"rho_j\"=>[0.805658],\"eta_CD\"=>[0.259899],\"B_0\"=>[6.0],\"success\"=>Bool[true],\"constraint\"=>AbstractString[\"wall\"],\"limits\"=>DataStructures.OrderedDict{Any,Any}(\"beta\"=>[0.877554],\"wall\"=>[0.99751])),\"main_constraint = \\\"beta\\\"\"=>DataStructures.OrderedDict{Any,Any}(\"R_0\"=>[9.28502],\"T_k\"=>[26.3064],\"rho_j\"=>[0.826333],\"eta_CD\"=>[0.240482],\"B_0\"=>[6.0],\"success\"=>Bool[true],\"constraint\"=>AbstractString[\"beta\"],\"limits\"=>DataStructures.OrderedDict{Any,Any}(\"beta\"=>[1.00045],\"wall\"=>[1.39944]))),\"wave_theta = 140.0\"=>DataStructures.OrderedDict{Any,Any}(\"main_constraint = \\\"wall\\\"\"=>DataStructures.OrderedDict{Any,Any}(\"R_0\"=>[10.4064],\"T_k\"=>[25.9299],\"rho_j\"=>[0.811245],\"eta_CD\"=>[0.256835],\"B_0\"=>[6.0],\"success\"=>Bool[true],\"constraint\"=>AbstractString[\"wall\"],\"limits\"=>DataStructures.OrderedDict{Any,Any}(\"beta\"=>[0.879869],\"wall\"=>[0.997612])),\"main_constraint = \\\"beta\\\"\"=>DataStructures.OrderedDict{Any,Any}(\"R_0\"=>[9.46747],\"T_k\"=>[26.826],\"rho_j\"=>[0.831257],\"eta_CD\"=>[0.238025],\"B_0\"=>[6.0],\"success\"=>Bool[true],\"constraint\"=>AbstractString[\"beta\"],\"limits\"=>DataStructures.OrderedDict{Any,Any}(\"beta\"=>[1.00055],\"wall\"=>[1.38926])))))),\"f_DT = 0.85\"=>DataStructures.OrderedDict{Any,Any}(\"nu_n = 0.33\"=>DataStructures.OrderedDict{Any,Any}(\"delta = 0.63\"=>DataStructures.OrderedDict{Any,Any}(\"wave_theta = 150.0\"=>DataStructures.OrderedDict{Any,Any}(\"main_constraint = \\\"wall\\\"\"=>DataStructures.OrderedDict{Any,Any}(\"R_0\"=>[11.5682],\"T_k\"=>[29.3964],\"rho_j\"=>[0.823579],\"eta_CD\"=>[0.268642],\"B_0\"=>[6.0],\"success\"=>Bool[true],\"constraint\"=>AbstractString[\"wall\"],\"limits\"=>DataStructures.OrderedDict{Any,Any}(\"beta\"=>[0.903666],\"wall\"=>[1.00223])),\"main_constraint = \\\"beta\\\"\"=>DataStructures.OrderedDict{Any,Any}(\"R_0\"=>[10.7749],\"T_k\"=>[30.3097],\"rho_j\"=>[0.83848],\"eta_CD\"=>[0.253827],\"B_0\"=>[6.0],\"success\"=>Bool[true],\"constraint\"=>AbstractString[\"beta\"],\"limits\"=>DataStructures.OrderedDict{Any,Any}(\"beta\"=>[1.00034],\"wall\"=>[1.29691]))),\"wave_theta = 140.0\"=>DataStructures.OrderedDict{Any,Any}(\"main_constraint = \\\"wall\\\"\"=>DataStructures.OrderedDict{Any,Any}(\"R_0\"=>[11.8179],\"T_k\"=>[30.1734],\"rho_j\"=>[0.829603],\"eta_CD\"=>[0.265931],\"B_0\"=>[6.0],\"success\"=>Bool[true],\"constraint\"=>AbstractString[\"wall\"],\"limits\"=>DataStructures.OrderedDict{Any,Any}(\"beta\"=>[0.907955],\"wall\"=>[1.00425])),\"main_constraint = \\\"beta\\\"\"=>DataStructures.OrderedDict{Any,Any}(\"R_0\"=>[11.0325],\"T_k\"=>[31.0368],\"rho_j\"=>[0.84329],\"eta_CD\"=>[0.25177],\"B_0\"=>[6.0],\"success\"=>Bool[true],\"constraint\"=>AbstractString[\"beta\"],\"limits\"=>DataStructures.OrderedDict{Any,Any}(\"beta\"=>[1.00043],\"wall\"=>[1.28256])))),\"delta = 0.6\"=>DataStructures.OrderedDict{Any,Any}(\"wave_theta = 150.0\"=>DataStructures.OrderedDict{Any,Any}(\"main_constraint = \\\"wall\\\"\"=>DataStructures.OrderedDict{Any,Any}(\"R_0\"=>[11.3831],\"T_k\"=>[28.8176],\"rho_j\"=>[0.821352],\"eta_CD\"=>[0.267207],\"B_0\"=>[6.0],\"success\"=>Bool[true],\"constraint\"=>AbstractString[\"wall\"],\"limits\"=>DataStructures.OrderedDict{Any,Any}(\"beta\"=>[0.90028],\"wall\"=>[1.00109])),\"main_constraint = \\\"beta\\\"\"=>DataStructures.OrderedDict{Any,Any}(\"R_0\"=>[10.564],\"T_k\"=>[29.7949],\"rho_j\"=>[0.837383],\"eta_CD\"=>[0.251711],\"B_0\"=>[6.0],\"success\"=>Bool[true],\"constraint\"=>AbstractString[\"beta\"],\"limits\"=>DataStructures.OrderedDict{Any,Any}(\"beta\"=>[1.00299],\"wall\"=>[1.31866]))),\"wave_theta = 140.0\"=>DataStructures.OrderedDict{Any,Any}(\"main_constraint = \\\"wall\\\"\"=>DataStructures.OrderedDict{Any,Any}(\"R_0\"=>[11.6172],\"T_k\"=>[29.5359],\"rho_j\"=>[0.827264],\"eta_CD\"=>[0.264451],\"B_0\"=>[6.0],\"success\"=>Bool[true],\"constraint\"=>AbstractString[\"wall\"],\"limits\"=>DataStructures.OrderedDict{Any,Any}(\"beta\"=>[0.904124],\"wall\"=>[1.00251])),\"main_constraint = \\\"beta\\\"\"=>DataStructures.OrderedDict{Any,Any}(\"R_0\"=>[10.8263],\"T_k\"=>[30.4547],\"rho_j\"=>[0.8419],\"eta_CD\"=>[0.249754],\"B_0\"=>[6.0],\"success\"=>Bool[true],\"constraint\"=>AbstractString[\"beta\"],\"limits\"=>DataStructures.OrderedDict{Any,Any}(\"beta\"=>[1.00035],\"wall\"=>[1.29505]))))),\"nu_n = 0.31\"=>DataStructures.OrderedDict{Any,Any}(\"delta = 0.63\"=>DataStructures.OrderedDict{Any,Any}(\"wave_theta = 150.0\"=>DataStructures.OrderedDict{Any,Any}(\"main_constraint = \\\"wall\\\"\"=>DataStructures.OrderedDict{Any,Any}(\"R_0\"=>[14.517],\"T_k\"=>[39.3448],\"rho_j\"=>[0.853224],\"eta_CD\"=>[0.290154],\"B_0\"=>[6.0],\"success\"=>Bool[true],\"constraint\"=>AbstractString[\"wall\"],\"limits\"=>DataStructures.OrderedDict{Any,Any}(\"beta\"=>[0.957034],\"wall\"=>[1.03867])),\"main_constraint = \\\"beta\\\"\"=>DataStructures.OrderedDict{Any,Any}(\"R_0\"=>[NaN],\"T_k\"=>[NaN],\"rho_j\"=>[NaN],\"eta_CD\"=>[NaN],\"B_0\"=>[6.0],\"success\"=>Bool[false],\"constraint\"=>AbstractString[\"x\"],\"limits\"=>DataStructures.OrderedDict{Any,Any}(\"beta\"=>[NaN],\"wall\"=>[NaN]))),\"wave_theta = 140.0\"=>DataStructures.OrderedDict{Any,Any}(\"main_constraint = \\\"wall\\\"\"=>DataStructures.OrderedDict{Any,Any}(\"R_0\"=>[14.2618],\"T_k\"=>[39.2768],\"rho_j\"=>[0.857259],\"eta_CD\"=>[0.28226],\"B_0\"=>[6.0],\"success\"=>Bool[true],\"constraint\"=>AbstractString[\"wall\"],\"limits\"=>DataStructures.OrderedDict{Any,Any}(\"beta\"=>[0.972477],\"wall\"=>[1.06288])),\"main_constraint = \\\"beta\\\"\"=>DataStructures.OrderedDict{Any,Any}(\"R_0\"=>[NaN],\"T_k\"=>[NaN],\"rho_j\"=>[NaN],\"eta_CD\"=>[NaN],\"B_0\"=>[6.0],\"success\"=>Bool[false],\"constraint\"=>AbstractString[\"x\"],\"limits\"=>DataStructures.OrderedDict{Any,Any}(\"beta\"=>[NaN],\"wall\"=>[NaN])))),\"delta = 0.6\"=>DataStructures.OrderedDict{Any,Any}(\"wave_theta = 150.0\"=>DataStructures.OrderedDict{Any,Any}(\"main_constraint = \\\"wall\\\"\"=>DataStructures.OrderedDict{Any,Any}(\"R_0\"=>[13.9641],\"T_k\"=>[37.1644],\"rho_j\"=>[0.846983],\"eta_CD\"=>[0.287429],\"B_0\"=>[6.0],\"success\"=>Bool[true],\"constraint\"=>AbstractString[\"wall\"],\"limits\"=>DataStructures.OrderedDict{Any,Any}(\"beta\"=>[0.939787],\"wall\"=>[1.01298])),\"main_constraint = \\\"beta\\\"\"=>DataStructures.OrderedDict{Any,Any}(\"R_0\"=>[NaN],\"T_k\"=>[NaN],\"rho_j\"=>[NaN],\"eta_CD\"=>[NaN],\"B_0\"=>[6.0],\"success\"=>Bool[false],\"constraint\"=>AbstractString[\"x\"],\"limits\"=>DataStructures.OrderedDict{Any,Any}(\"beta\"=>[NaN],\"wall\"=>[NaN]))),\"wave_theta = 140.0\"=>DataStructures.OrderedDict{Any,Any}(\"main_constraint = \\\"wall\\\"\"=>DataStructures.OrderedDict{Any,Any}(\"R_0\"=>[14.5682],\"T_k\"=>[39.3067],\"rho_j\"=>[0.855494],\"eta_CD\"=>[0.285738],\"B_0\"=>[6.0],\"success\"=>Bool[true],\"constraint\"=>AbstractString[\"wall\"],\"limits\"=>DataStructures.OrderedDict{Any,Any}(\"beta\"=>[0.952749],\"wall\"=>[1.02324])),\"main_constraint = \\\"beta\\\"\"=>DataStructures.OrderedDict{Any,Any}(\"R_0\"=>[NaN],\"T_k\"=>[NaN],\"rho_j\"=>[NaN],\"eta_CD\"=>[NaN],\"B_0\"=>[6.0],\"success\"=>Bool[false],\"constraint\"=>AbstractString[\"x\"],\"limits\"=>DataStructures.OrderedDict{Any,Any}(\"beta\"=>[NaN],\"wall\"=>[NaN]))))))))\n",
    "\n",
    "cur_dict_2 = DataStructures.OrderedDict{Any,Any}(\"rho_m = 0.7\"=>DataStructures.OrderedDict{Any,Any}(\"f_DT = 0.9\"=>DataStructures.OrderedDict{Any,Any}(\"nu_n = 0.33\"=>DataStructures.OrderedDict{Any,Any}(\"delta = 0.575\"=>DataStructures.OrderedDict{Any,Any}(\"wave_theta = 150.0\"=>DataStructures.OrderedDict{Any,Any}(\"main_constraint = \\\"wall\\\"\"=>DataStructures.OrderedDict{Any,Any}(\"R_0\"=>[8.4083],\"T_k\"=>[20.0626],\"rho_j\"=>[0.779545],\"eta_CD\"=>[0.237766],\"B_0\"=>[6.0],\"success\"=>Bool[true],\"constraint\"=>AbstractString[\"wall\"],\"limits\"=>DataStructures.OrderedDict{Any,Any}(\"beta\"=>[0.848513],\"wall\"=>[0.995985])),\"main_constraint = \\\"beta\\\"\"=>DataStructures.OrderedDict{Any,Any}(\"R_0\"=>[7.1922],\"T_k\"=>[20.2354],\"rho_j\"=>[0.806969],\"eta_CD\"=>[0.211481],\"B_0\"=>[6.0],\"success\"=>Bool[true],\"constraint\"=>AbstractString[\"beta\"],\"limits\"=>DataStructures.OrderedDict{Any,Any}(\"beta\"=>[1.00053],\"wall\"=>[1.54234]))),\"wave_theta = 140.0\"=>DataStructures.OrderedDict{Any,Any}(\"main_constraint = \\\"wall\\\"\"=>DataStructures.OrderedDict{Any,Any}(\"R_0\"=>[8.48578],\"T_k\"=>[20.2768],\"rho_j\"=>[0.784938],\"eta_CD\"=>[0.234517],\"B_0\"=>[6.0],\"success\"=>Bool[true],\"constraint\"=>AbstractString[\"wall\"],\"limits\"=>DataStructures.OrderedDict{Any,Any}(\"beta\"=>[0.849745],\"wall\"=>[0.995973])),\"main_constraint = \\\"beta\\\"\"=>DataStructures.OrderedDict{Any,Any}(\"R_0\"=>[7.27345],\"T_k\"=>[20.4655],\"rho_j\"=>[0.811728],\"eta_CD\"=>[0.208582],\"B_0\"=>[6.0],\"success\"=>Bool[true],\"constraint\"=>AbstractString[\"beta\"],\"limits\"=>DataStructures.OrderedDict{Any,Any}(\"beta\"=>[1.0006],\"wall\"=>[1.53646])))),\"delta = 0.63\"=>DataStructures.OrderedDict{Any,Any}(\"wave_theta = 150.0\"=>DataStructures.OrderedDict{Any,Any}(\"main_constraint = \\\"wall\\\"\"=>DataStructures.OrderedDict{Any,Any}(\"R_0\"=>[8.54291],\"T_k\"=>[20.4518],\"rho_j\"=>[0.78211],\"eta_CD\"=>[0.23916],\"B_0\"=>[6.0],\"success\"=>Bool[true],\"constraint\"=>AbstractString[\"wall\"],\"limits\"=>DataStructures.OrderedDict{Any,Any}(\"beta\"=>[0.851344],\"wall\"=>[0.996359])),\"main_constraint = \\\"beta\\\"\"=>DataStructures.OrderedDict{Any,Any}(\"R_0\"=>[7.33742],\"T_k\"=>[20.6468],\"rho_j\"=>[0.808702],\"eta_CD\"=>[0.213407],\"B_0\"=>[6.0],\"success\"=>Bool[true],\"constraint\"=>AbstractString[\"beta\"],\"limits\"=>DataStructures.OrderedDict{Any,Any}(\"beta\"=>[1.00067],\"wall\"=>[1.5294]))),\"wave_theta = 140.0\"=>DataStructures.OrderedDict{Any,Any}(\"main_constraint = \\\"wall\\\"\"=>DataStructures.OrderedDict{Any,Any}(\"R_0\"=>[8.62438],\"T_k\"=>[20.6787],\"rho_j\"=>[0.787473],\"eta_CD\"=>[0.235913],\"B_0\"=>[6.0],\"success\"=>Bool[true],\"constraint\"=>AbstractString[\"wall\"],\"limits\"=>DataStructures.OrderedDict{Any,Any}(\"beta\"=>[0.852658],\"wall\"=>[0.996414])),\"main_constraint = \\\"beta\\\"\"=>DataStructures.OrderedDict{Any,Any}(\"R_0\"=>[7.42342],\"T_k\"=>[20.8911],\"rho_j\"=>[0.813438],\"eta_CD\"=>[0.210523],\"B_0\"=>[6.0],\"success\"=>Bool[true],\"constraint\"=>AbstractString[\"beta\"],\"limits\"=>DataStructures.OrderedDict{Any,Any}(\"beta\"=>[1.00078],\"wall\"=>[1.52342])))),\"delta = 0.6\"=>DataStructures.OrderedDict{Any,Any}(\"wave_theta = 150.0\"=>DataStructures.OrderedDict{Any,Any}(\"main_constraint = \\\"wall\\\"\"=>DataStructures.OrderedDict{Any,Any}(\"R_0\"=>[8.46887],\"T_k\"=>[20.2374],\"rho_j\"=>[0.7807],\"eta_CD\"=>[0.238397],\"B_0\"=>[6.0],\"success\"=>Bool[true],\"constraint\"=>AbstractString[\"wall\"],\"limits\"=>DataStructures.OrderedDict{Any,Any}(\"beta\"=>[0.849788],\"wall\"=>[0.996141])),\"main_constraint = \\\"beta\\\"\"=>DataStructures.OrderedDict{Any,Any}(\"R_0\"=>[7.25757],\"T_k\"=>[20.4204],\"rho_j\"=>[0.807753],\"eta_CD\"=>[0.212352],\"B_0\"=>[6.0],\"success\"=>Bool[true],\"constraint\"=>AbstractString[\"beta\"],\"limits\"=>DataStructures.OrderedDict{Any,Any}(\"beta\"=>[1.00058],\"wall\"=>[1.53646]))),\"wave_theta = 140.0\"=>DataStructures.OrderedDict{Any,Any}(\"main_constraint = \\\"wall\\\"\"=>DataStructures.OrderedDict{Any,Any}(\"R_0\"=>[8.54816],\"T_k\"=>[20.4574],\"rho_j\"=>[0.786091],\"eta_CD\"=>[0.235148],\"B_0\"=>[6.0],\"success\"=>Bool[true],\"constraint\"=>AbstractString[\"wall\"],\"limits\"=>DataStructures.OrderedDict{Any,Any}(\"beta\"=>[0.851056],\"wall\"=>[0.996159])),\"main_constraint = \\\"beta\\\"\"=>DataStructures.OrderedDict{Any,Any}(\"R_0\"=>[7.34093],\"T_k\"=>[20.6568],\"rho_j\"=>[0.812512],\"eta_CD\"=>[0.209459],\"B_0\"=>[6.0],\"success\"=>Bool[true],\"constraint\"=>AbstractString[\"beta\"],\"limits\"=>DataStructures.OrderedDict{Any,Any}(\"beta\"=>[1.00067],\"wall\"=>[1.53053]))))),\"nu_n = 0.31\"=>DataStructures.OrderedDict{Any,Any}(\"delta = 0.575\"=>DataStructures.OrderedDict{Any,Any}(\"wave_theta = 150.0\"=>DataStructures.OrderedDict{Any,Any}(\"main_constraint = \\\"wall\\\"\"=>DataStructures.OrderedDict{Any,Any}(\"R_0\"=>[9.29682],\"T_k\"=>[22.7647],\"rho_j\"=>[0.794151],\"eta_CD\"=>[0.248892],\"B_0\"=>[6.0],\"success\"=>Bool[true],\"constraint\"=>AbstractString[\"wall\"],\"limits\"=>DataStructures.OrderedDict{Any,Any}(\"beta\"=>[0.864656],\"wall\"=>[1.00022])),\"main_constraint = \\\"beta\\\"\"=>DataStructures.OrderedDict{Any,Any}(\"R_0\"=>[8.18519],\"T_k\"=>[23.2479],\"rho_j\"=>[0.817931],\"eta_CD\"=>[0.225864],\"B_0\"=>[6.0],\"success\"=>Bool[true],\"constraint\"=>AbstractString[\"beta\"],\"limits\"=>DataStructures.OrderedDict{Any,Any}(\"beta\"=>[1.00293],\"wall\"=>[1.47605]))),\"wave_theta = 140.0\"=>DataStructures.OrderedDict{Any,Any}(\"main_constraint = \\\"wall\\\"\"=>DataStructures.OrderedDict{Any,Any}(\"R_0\"=>[9.40567],\"T_k\"=>[23.0844],\"rho_j\"=>[0.799651],\"eta_CD\"=>[0.245629],\"B_0\"=>[6.0],\"success\"=>Bool[true],\"constraint\"=>AbstractString[\"wall\"],\"limits\"=>DataStructures.OrderedDict{Any,Any}(\"beta\"=>[0.866655],\"wall\"=>[1.00108])),\"main_constraint = \\\"beta\\\"\"=>DataStructures.OrderedDict{Any,Any}(\"R_0\"=>[8.35552],\"T_k\"=>[23.6692],\"rho_j\"=>[0.822708],\"eta_CD\"=>[0.223713],\"B_0\"=>[6.0],\"success\"=>Bool[true],\"constraint\"=>AbstractString[\"beta\"],\"limits\"=>DataStructures.OrderedDict{Any,Any}(\"beta\"=>[1.00029],\"wall\"=>[1.45872])))),\"delta = 0.63\"=>DataStructures.OrderedDict{Any,Any}(\"wave_theta = 150.0\"=>DataStructures.OrderedDict{Any,Any}(\"main_constraint = \\\"wall\\\"\"=>DataStructures.OrderedDict{Any,Any}(\"R_0\"=>[9.46756],\"T_k\"=>[23.2877],\"rho_j\"=>[0.797105],\"eta_CD\"=>[0.250432],\"B_0\"=>[6.0],\"success\"=>Bool[true],\"constraint\"=>AbstractString[\"wall\"],\"limits\"=>DataStructures.OrderedDict{Any,Any}(\"beta\"=>[0.868569],\"wall\"=>[1.00203])),\"main_constraint = \\\"beta\\\"\"=>DataStructures.OrderedDict{Any,Any}(\"R_0\"=>[8.42678],\"T_k\"=>[23.8712],\"rho_j\"=>[0.819905],\"eta_CD\"=>[0.228753],\"B_0\"=>[6.0],\"success\"=>Bool[true],\"constraint\"=>AbstractString[\"beta\"],\"limits\"=>DataStructures.OrderedDict{Any,Any}(\"beta\"=>[1.0003],\"wall\"=>[1.45125]))),\"wave_theta = 140.0\"=>DataStructures.OrderedDict{Any,Any}(\"main_constraint = \\\"wall\\\"\"=>DataStructures.OrderedDict{Any,Any}(\"R_0\"=>[9.58255],\"T_k\"=>[23.6311],\"rho_j\"=>[0.802634],\"eta_CD\"=>[0.247166],\"B_0\"=>[6.0],\"success\"=>Bool[true],\"constraint\"=>AbstractString[\"wall\"],\"limits\"=>DataStructures.OrderedDict{Any,Any}(\"beta\"=>[0.8708],\"wall\"=>[1.00326])),\"main_constraint = \\\"beta\\\"\"=>DataStructures.OrderedDict{Any,Any}(\"R_0\"=>[8.54104],\"T_k\"=>[24.1951],\"rho_j\"=>[0.824424],\"eta_CD\"=>[0.225941],\"B_0\"=>[6.0],\"success\"=>Bool[true],\"constraint\"=>AbstractString[\"beta\"],\"limits\"=>DataStructures.OrderedDict{Any,Any}(\"beta\"=>[1.00031],\"wall\"=>[1.44196])))),\"delta = 0.6\"=>DataStructures.OrderedDict{Any,Any}(\"wave_theta = 150.0\"=>DataStructures.OrderedDict{Any,Any}(\"main_constraint = \\\"wall\\\"\"=>DataStructures.OrderedDict{Any,Any}(\"R_0\"=>[9.3736],\"T_k\"=>[22.9989],\"rho_j\"=>[0.795484],\"eta_CD\"=>[0.24959],\"B_0\"=>[6.0],\"success\"=>Bool[true],\"constraint\"=>AbstractString[\"wall\"],\"limits\"=>DataStructures.OrderedDict{Any,Any}(\"beta\"=>[0.866399],\"wall\"=>[1.00098])),\"main_constraint = \\\"beta\\\"\"=>DataStructures.OrderedDict{Any,Any}(\"R_0\"=>[8.27031],\"T_k\"=>[23.4999],\"rho_j\"=>[0.818899],\"eta_CD\"=>[0.226846],\"B_0\"=>[6.0],\"success\"=>Bool[true],\"constraint\"=>AbstractString[\"beta\"],\"limits\"=>DataStructures.OrderedDict{Any,Any}(\"beta\"=>[1.00337],\"wall\"=>[1.47064]))),\"wave_theta = 140.0\"=>DataStructures.OrderedDict{Any,Any}(\"main_constraint = \\\"wall\\\"\"=>DataStructures.OrderedDict{Any,Any}(\"R_0\"=>[9.48519],\"T_k\"=>[23.3291],\"rho_j\"=>[0.800997],\"eta_CD\"=>[0.246325],\"B_0\"=>[6.0],\"success\"=>Bool[true],\"constraint\"=>AbstractString[\"wall\"],\"limits\"=>DataStructures.OrderedDict{Any,Any}(\"beta\"=>[0.868498],\"wall\"=>[1.00199])),\"main_constraint = \\\"beta\\\"\"=>DataStructures.OrderedDict{Any,Any}(\"R_0\"=>[8.42628],\"T_k\"=>[23.8698],\"rho_j\"=>[0.823299],\"eta_CD\"=>[0.224639],\"B_0\"=>[6.0],\"success\"=>Bool[true],\"constraint\"=>AbstractString[\"beta\"],\"limits\"=>DataStructures.OrderedDict{Any,Any}(\"beta\"=>[1.0003],\"wall\"=>[1.45069])))))),\"f_DT = 0.85\"=>DataStructures.OrderedDict{Any,Any}(\"nu_n = 0.33\"=>DataStructures.OrderedDict{Any,Any}(\"delta = 0.575\"=>DataStructures.OrderedDict{Any,Any}(\"wave_theta = 150.0\"=>DataStructures.OrderedDict{Any,Any}(\"main_constraint = \\\"wall\\\"\"=>DataStructures.OrderedDict{Any,Any}(\"R_0\"=>[10.0744],\"T_k\"=>[24.9334],\"rho_j\"=>[0.806744],\"eta_CD\"=>[0.253852],\"B_0\"=>[6.0],\"success\"=>Bool[true],\"constraint\"=>AbstractString[\"wall\"],\"limits\"=>DataStructures.OrderedDict{Any,Any}(\"beta\"=>[0.880121],\"wall\"=>[0.997808])),\"main_constraint = \\\"beta\\\"\"=>DataStructures.OrderedDict{Any,Any}(\"R_0\"=>[9.03862],\"T_k\"=>[25.4274],\"rho_j\"=>[0.825948],\"eta_CD\"=>[0.233975],\"B_0\"=>[6.0],\"success\"=>Bool[true],\"constraint\"=>AbstractString[\"beta\"],\"limits\"=>DataStructures.OrderedDict{Any,Any}(\"beta\"=>[1.00041],\"wall\"=>[1.39539]))),\"wave_theta = 140.0\"=>DataStructures.OrderedDict{Any,Any}(\"main_constraint = \\\"wall\\\"\"=>DataStructures.OrderedDict{Any,Any}(\"R_0\"=>[10.2203],\"T_k\"=>[25.3574],\"rho_j\"=>[0.812157],\"eta_CD\"=>[0.250819],\"B_0\"=>[6.0],\"success\"=>Bool[true],\"constraint\"=>AbstractString[\"wall\"],\"limits\"=>DataStructures.OrderedDict{Any,Any}(\"beta\"=>[0.882309],\"wall\"=>[0.997883])),\"main_constraint = \\\"beta\\\"\"=>DataStructures.OrderedDict{Any,Any}(\"R_0\"=>[9.20492],\"T_k\"=>[25.8973],\"rho_j\"=>[0.830748],\"eta_CD\"=>[0.231489],\"B_0\"=>[6.0],\"success\"=>Bool[true],\"constraint\"=>AbstractString[\"beta\"],\"limits\"=>DataStructures.OrderedDict{Any,Any}(\"beta\"=>[1.00049],\"wall\"=>[1.38585])))),\"delta = 0.63\"=>DataStructures.OrderedDict{Any,Any}(\"wave_theta = 150.0\"=>DataStructures.OrderedDict{Any,Any}(\"main_constraint = \\\"wall\\\"\"=>DataStructures.OrderedDict{Any,Any}(\"R_0\"=>[10.3122],\"T_k\"=>[25.6443],\"rho_j\"=>[0.810006],\"eta_CD\"=>[0.255983],\"B_0\"=>[6.0],\"success\"=>Bool[true],\"constraint\"=>AbstractString[\"wall\"],\"limits\"=>DataStructures.OrderedDict{Any,Any}(\"beta\"=>[0.884339],\"wall\"=>[0.998198])),\"main_constraint = \\\"beta\\\"\"=>DataStructures.OrderedDict{Any,Any}(\"R_0\"=>[9.31042],\"T_k\"=>[26.1956],\"rho_j\"=>[0.828341],\"eta_CD\"=>[0.236942],\"B_0\"=>[6.0],\"success\"=>Bool[true],\"constraint\"=>AbstractString[\"beta\"],\"limits\"=>DataStructures.OrderedDict{Any,Any}(\"beta\"=>[1.00055],\"wall\"=>[1.37772]))),\"wave_theta = 140.0\"=>DataStructures.OrderedDict{Any,Any}(\"main_constraint = \\\"wall\\\"\"=>DataStructures.OrderedDict{Any,Any}(\"R_0\"=>[10.4734],\"T_k\"=>[26.1164],\"rho_j\"=>[0.815512],\"eta_CD\"=>[0.252982],\"B_0\"=>[6.0],\"success\"=>Bool[true],\"constraint\"=>AbstractString[\"wall\"],\"limits\"=>DataStructures.OrderedDict{Any,Any}(\"beta\"=>[0.886762],\"wall\"=>[0.998392])),\"main_constraint = \\\"beta\\\"\"=>DataStructures.OrderedDict{Any,Any}(\"R_0\"=>[9.4935],\"T_k\"=>[26.715],\"rho_j\"=>[0.83322],\"eta_CD\"=>[0.234539],\"B_0\"=>[6.0],\"success\"=>Bool[true],\"constraint\"=>AbstractString[\"beta\"],\"limits\"=>DataStructures.OrderedDict{Any,Any}(\"beta\"=>[1.00071],\"wall\"=>[1.36776])))),\"delta = 0.6\"=>DataStructures.OrderedDict{Any,Any}(\"wave_theta = 150.0\"=>DataStructures.OrderedDict{Any,Any}(\"main_constraint = \\\"wall\\\"\"=>DataStructures.OrderedDict{Any,Any}(\"R_0\"=>[10.1796],\"T_k\"=>[25.2475],\"rho_j\"=>[0.808189],\"eta_CD\"=>[0.254818],\"B_0\"=>[6.0],\"success\"=>Bool[true],\"constraint\"=>AbstractString[\"wall\"],\"limits\"=>DataStructures.OrderedDict{Any,Any}(\"beta\"=>[0.881996],\"wall\"=>[0.997954])),\"main_constraint = \\\"beta\\\"\"=>DataStructures.OrderedDict{Any,Any}(\"R_0\"=>[9.15966],\"T_k\"=>[25.7692],\"rho_j\"=>[0.827],\"eta_CD\"=>[0.235309],\"B_0\"=>[6.0],\"success\"=>Bool[true],\"constraint\"=>AbstractString[\"beta\"],\"limits\"=>DataStructures.OrderedDict{Any,Any}(\"beta\"=>[1.00047],\"wall\"=>[1.38741]))),\"wave_theta = 140.0\"=>DataStructures.OrderedDict{Any,Any}(\"main_constraint = \\\"wall\\\"\"=>DataStructures.OrderedDict{Any,Any}(\"R_0\"=>[10.333],\"T_k\"=>[25.6947],\"rho_j\"=>[0.813666],\"eta_CD\"=>[0.251789],\"B_0\"=>[6.0],\"success\"=>Bool[true],\"constraint\"=>AbstractString[\"wall\"],\"limits\"=>DataStructures.OrderedDict{Any,Any}(\"beta\"=>[0.884297],\"wall\"=>[0.998097])),\"main_constraint = \\\"beta\\\"\"=>DataStructures.OrderedDict{Any,Any}(\"R_0\"=>[9.33337],\"T_k\"=>[26.2608],\"rho_j\"=>[0.83187],\"eta_CD\"=>[0.232856],\"B_0\"=>[6.0],\"success\"=>Bool[true],\"constraint\"=>AbstractString[\"beta\"],\"limits\"=>DataStructures.OrderedDict{Any,Any}(\"beta\"=>[1.00057],\"wall\"=>[1.37766]))))),\"nu_n = 0.31\"=>DataStructures.OrderedDict{Any,Any}(\"delta = 0.575\"=>DataStructures.OrderedDict{Any,Any}(\"wave_theta = 150.0\"=>DataStructures.OrderedDict{Any,Any}(\"main_constraint = \\\"wall\\\"\"=>DataStructures.OrderedDict{Any,Any}(\"R_0\"=>[11.6734],\"T_k\"=>[29.9586],\"rho_j\"=>[0.826334],\"eta_CD\"=>[0.269057],\"B_0\"=>[6.0],\"success\"=>Bool[true],\"constraint\"=>AbstractString[\"wall\"],\"limits\"=>DataStructures.OrderedDict{Any,Any}(\"beta\"=>[0.906237],\"wall\"=>[1.00313])),\"main_constraint = \\\"beta\\\"\"=>DataStructures.OrderedDict{Any,Any}(\"R_0\"=>[10.905],\"T_k\"=>[30.8939],\"rho_j\"=>[0.840782],\"eta_CD\"=>[0.254566],\"B_0\"=>[6.0],\"success\"=>Bool[true],\"constraint\"=>AbstractString[\"beta\"],\"limits\"=>DataStructures.OrderedDict{Any,Any}(\"beta\"=>[1.00037],\"wall\"=>[1.28733]))),\"wave_theta = 140.0\"=>DataStructures.OrderedDict{Any,Any}(\"main_constraint = \\\"wall\\\"\"=>DataStructures.OrderedDict{Any,Any}(\"R_0\"=>[11.9367],\"T_k\"=>[30.793],\"rho_j\"=>[0.832475],\"eta_CD\"=>[0.266335],\"B_0\"=>[6.0],\"success\"=>Bool[true],\"constraint\"=>AbstractString[\"wall\"],\"limits\"=>DataStructures.OrderedDict{Any,Any}(\"beta\"=>[0.910932],\"wall\"=>[1.00571])),\"main_constraint = \\\"beta\\\"\"=>DataStructures.OrderedDict{Any,Any}(\"R_0\"=>[11.251],\"T_k\"=>[31.8802],\"rho_j\"=>[0.846043],\"eta_CD\"=>[0.253378],\"B_0\"=>[6.0],\"success\"=>Bool[true],\"constraint\"=>AbstractString[\"beta\"],\"limits\"=>DataStructures.OrderedDict{Any,Any}(\"beta\"=>[1.00057],\"wall\"=>[1.27355])))),\"delta = 0.63\"=>DataStructures.OrderedDict{Any,Any}(\"wave_theta = 150.0\"=>DataStructures.OrderedDict{Any,Any}(\"main_constraint = \\\"wall\\\"\"=>DataStructures.OrderedDict{Any,Any}(\"R_0\"=>[12.057],\"T_k\"=>[31.2041],\"rho_j\"=>[0.830855],\"eta_CD\"=>[0.271835],\"B_0\"=>[6.0],\"success\"=>Bool[true],\"constraint\"=>AbstractString[\"wall\"],\"limits\"=>DataStructures.OrderedDict{Any,Any}(\"beta\"=>[0.913878],\"wall\"=>[1.00729])),\"main_constraint = \\\"beta\\\"\"=>DataStructures.OrderedDict{Any,Any}(\"R_0\"=>[11.3452],\"T_k\"=>[32.1493],\"rho_j\"=>[0.843856],\"eta_CD\"=>[0.25866],\"B_0\"=>[6.0],\"success\"=>Bool[true],\"constraint\"=>AbstractString[\"beta\"],\"limits\"=>DataStructures.OrderedDict{Any,Any}(\"beta\"=>[1.00063],\"wall\"=>[1.26395]))),\"wave_theta = 140.0\"=>DataStructures.OrderedDict{Any,Any}(\"main_constraint = \\\"wall\\\"\"=>DataStructures.OrderedDict{Any,Any}(\"R_0\"=>[12.3835],\"T_k\"=>[32.0973],\"rho_j\"=>[0.836537],\"eta_CD\"=>[0.269711],\"B_0\"=>[6.0],\"success\"=>Bool[true],\"constraint\"=>AbstractString[\"wall\"],\"limits\"=>DataStructures.OrderedDict{Any,Any}(\"beta\"=>[0.915254],\"wall\"=>[0.998868])),\"main_constraint = \\\"beta\\\"\"=>DataStructures.OrderedDict{Any,Any}(\"R_0\"=>[NaN],\"T_k\"=>[NaN],\"rho_j\"=>[NaN],\"eta_CD\"=>[NaN],\"B_0\"=>[6.0],\"success\"=>Bool[false],\"constraint\"=>AbstractString[\"x\"],\"limits\"=>DataStructures.OrderedDict{Any,Any}(\"beta\"=>[NaN],\"wall\"=>[NaN])))),\"delta = 0.6\"=>DataStructures.OrderedDict{Any,Any}(\"wave_theta = 150.0\"=>DataStructures.OrderedDict{Any,Any}(\"main_constraint = \\\"wall\\\"\"=>DataStructures.OrderedDict{Any,Any}(\"R_0\"=>[11.8427],\"T_k\"=>[30.5033],\"rho_j\"=>[0.828336],\"eta_CD\"=>[0.270302],\"B_0\"=>[6.0],\"success\"=>Bool[true],\"constraint\"=>AbstractString[\"wall\"],\"limits\"=>DataStructures.OrderedDict{Any,Any}(\"beta\"=>[0.909519],\"wall\"=>[1.00471])),\"main_constraint = \\\"beta\\\"\"=>DataStructures.OrderedDict{Any,Any}(\"R_0\"=>[11.0674],\"T_k\"=>[31.3559],\"rho_j\"=>[0.841898],\"eta_CD\"=>[0.256145],\"B_0\"=>[6.0],\"success\"=>Bool[true],\"constraint\"=>AbstractString[\"beta\"],\"limits\"=>DataStructures.OrderedDict{Any,Any}(\"beta\"=>[1.00043],\"wall\"=>[1.27675]))),\"wave_theta = 140.0\"=>DataStructures.OrderedDict{Any,Any}(\"main_constraint = \\\"wall\\\"\"=>DataStructures.OrderedDict{Any,Any}(\"R_0\"=>[12.1217],\"T_k\"=>[31.4029],\"rho_j\"=>[0.834613],\"eta_CD\"=>[0.267615],\"B_0\"=>[6.0],\"success\"=>Bool[true],\"constraint\"=>AbstractString[\"wall\"],\"limits\"=>DataStructures.OrderedDict{Any,Any}(\"beta\"=>[0.914791],\"wall\"=>[1.0082])),\"main_constraint = \\\"beta\\\"\"=>DataStructures.OrderedDict{Any,Any}(\"R_0\"=>[11.4274],\"T_k\"=>[32.3859],\"rho_j\"=>[0.847353],\"eta_CD\"=>[0.254772],\"B_0\"=>[6.0],\"success\"=>Bool[true],\"constraint\"=>AbstractString[\"beta\"],\"limits\"=>DataStructures.OrderedDict{Any,Any}(\"beta\"=>[1.00075],\"wall\"=>[1.26182]))))))),\"rho_m = 0.66\"=>DataStructures.OrderedDict{Any,Any}(\"f_DT = 0.9\"=>DataStructures.OrderedDict{Any,Any}(\"nu_n = 0.33\"=>DataStructures.OrderedDict{Any,Any}(\"delta = 0.575\"=>DataStructures.OrderedDict{Any,Any}(\"wave_theta = 150.0\"=>DataStructures.OrderedDict{Any,Any}(\"main_constraint = \\\"wall\\\"\"=>DataStructures.OrderedDict{Any,Any}(\"R_0\"=>[9.0938],\"T_k\"=>[21.9829],\"rho_j\"=>[0.789027],\"eta_CD\"=>[0.24707],\"B_0\"=>[6.0],\"success\"=>Bool[true],\"constraint\"=>AbstractString[\"wall\"],\"limits\"=>DataStructures.OrderedDict{Any,Any}(\"beta\"=>[0.859646],\"wall\"=>[0.998407])),\"main_constraint = \\\"beta\\\"\"=>DataStructures.OrderedDict{Any,Any}(\"R_0\"=>[7.94954],\"T_k\"=>[22.3954],\"rho_j\"=>[0.813832],\"eta_CD\"=>[0.223285],\"B_0\"=>[6.0],\"success\"=>Bool[true],\"constraint\"=>AbstractString[\"beta\"],\"limits\"=>DataStructures.OrderedDict{Any,Any}(\"beta\"=>[1.00184],\"wall\"=>[1.49339]))),\"wave_theta = 140.0\"=>DataStructures.OrderedDict{Any,Any}(\"main_constraint = \\\"wall\\\"\"=>DataStructures.OrderedDict{Any,Any}(\"R_0\"=>[9.19392],\"T_k\"=>[22.2695],\"rho_j\"=>[0.794474],\"eta_CD\"=>[0.243843],\"B_0\"=>[6.0],\"success\"=>Bool[true],\"constraint\"=>AbstractString[\"wall\"],\"limits\"=>DataStructures.OrderedDict{Any,Any}(\"beta\"=>[0.86137],\"wall\"=>[0.998886])),\"main_constraint = \\\"beta\\\"\"=>DataStructures.OrderedDict{Any,Any}(\"R_0\"=>[8.0584],\"T_k\"=>[22.711],\"rho_j\"=>[0.818656],\"eta_CD\"=>[0.220471],\"B_0\"=>[6.0],\"success\"=>Bool[true],\"constraint\"=>AbstractString[\"beta\"],\"limits\"=>DataStructures.OrderedDict{Any,Any}(\"beta\"=>[1.00223],\"wall\"=>[1.48727])))),\"delta = 0.63\"=>DataStructures.OrderedDict{Any,Any}(\"wave_theta = 150.0\"=>DataStructures.OrderedDict{Any,Any}(\"main_constraint = \\\"wall\\\"\"=>DataStructures.OrderedDict{Any,Any}(\"R_0\"=>[9.25434],\"T_k\"=>[22.4625],\"rho_j\"=>[0.791841],\"eta_CD\"=>[0.248589],\"B_0\"=>[6.0],\"success\"=>Bool[true],\"constraint\"=>AbstractString[\"wall\"],\"limits\"=>DataStructures.OrderedDict{Any,Any}(\"beta\"=>[0.863162],\"wall\"=>[0.9996])),\"main_constraint = \\\"beta\\\"\"=>DataStructures.OrderedDict{Any,Any}(\"R_0\"=>[8.1265],\"T_k\"=>[22.909],\"rho_j\"=>[0.815847],\"eta_CD\"=>[0.225406],\"B_0\"=>[6.0],\"success\"=>Bool[true],\"constraint\"=>AbstractString[\"beta\"],\"limits\"=>DataStructures.OrderedDict{Any,Any}(\"beta\"=>[1.00249],\"wall\"=>[1.48092]))),\"wave_theta = 140.0\"=>DataStructures.OrderedDict{Any,Any}(\"main_constraint = \\\"wall\\\"\"=>DataStructures.OrderedDict{Any,Any}(\"R_0\"=>[9.35993],\"T_k\"=>[22.7686],\"rho_j\"=>[0.797293],\"eta_CD\"=>[0.245363],\"B_0\"=>[6.0],\"success\"=>Bool[true],\"constraint\"=>AbstractString[\"wall\"],\"limits\"=>DataStructures.OrderedDict{Any,Any}(\"beta\"=>[0.865056],\"wall\"=>[1.00031])),\"main_constraint = \\\"beta\\\"\"=>DataStructures.OrderedDict{Any,Any}(\"R_0\"=>[8.24197],\"T_k\"=>[23.2471],\"rho_j\"=>[0.820694],\"eta_CD\"=>[0.222604],\"B_0\"=>[6.0],\"success\"=>Bool[true],\"constraint\"=>AbstractString[\"beta\"],\"limits\"=>DataStructures.OrderedDict{Any,Any}(\"beta\"=>[1.00304],\"wall\"=>[1.475])))),\"delta = 0.6\"=>DataStructures.OrderedDict{Any,Any}(\"wave_theta = 150.0\"=>DataStructures.OrderedDict{Any,Any}(\"main_constraint = \\\"wall\\\"\"=>DataStructures.OrderedDict{Any,Any}(\"R_0\"=>[9.16601],\"T_k\"=>[22.198],\"rho_j\"=>[0.790304],\"eta_CD\"=>[0.247757],\"B_0\"=>[6.0],\"success\"=>Bool[true],\"constraint\"=>AbstractString[\"wall\"],\"limits\"=>DataStructures.OrderedDict{Any,Any}(\"beta\"=>[0.861219],\"wall\"=>[0.998907])),\"main_constraint = \\\"beta\\\"\"=>DataStructures.OrderedDict{Any,Any}(\"R_0\"=>[8.02905],\"T_k\"=>[22.6256],\"rho_j\"=>[0.81474],\"eta_CD\"=>[0.224244],\"B_0\"=>[6.0],\"success\"=>Bool[true],\"constraint\"=>AbstractString[\"beta\"],\"limits\"=>DataStructures.OrderedDict{Any,Any}(\"beta\"=>[1.00211],\"wall\"=>[1.48766]))),\"wave_theta = 140.0\"=>DataStructures.OrderedDict{Any,Any}(\"main_constraint = \\\"wall\\\"\"=>DataStructures.OrderedDict{Any,Any}(\"R_0\"=>[9.2686],\"T_k\"=>[22.4933],\"rho_j\"=>[0.795757],\"eta_CD\"=>[0.24453],\"B_0\"=>[6.0],\"success\"=>Bool[true],\"constraint\"=>AbstractString[\"wall\"],\"limits\"=>DataStructures.OrderedDict{Any,Any}(\"beta\"=>[0.863016],\"wall\"=>[0.999486])),\"main_constraint = \\\"beta\\\"\"=>DataStructures.OrderedDict{Any,Any}(\"R_0\"=>[8.14097],\"T_k\"=>[22.9514],\"rho_j\"=>[0.819575],\"eta_CD\"=>[0.221436],\"B_0\"=>[6.0],\"success\"=>Bool[true],\"constraint\"=>AbstractString[\"beta\"],\"limits\"=>DataStructures.OrderedDict{Any,Any}(\"beta\"=>[1.00257],\"wall\"=>[1.48163]))))),\"nu_n = 0.31\"=>DataStructures.OrderedDict{Any,Any}(\"delta = 0.575\"=>DataStructures.OrderedDict{Any,Any}(\"wave_theta = 150.0\"=>DataStructures.OrderedDict{Any,Any}(\"main_constraint = \\\"wall\\\"\"=>DataStructures.OrderedDict{Any,Any}(\"R_0\"=>[10.15],\"T_k\"=>[25.173],\"rho_j\"=>[0.80427],\"eta_CD\"=>[0.259012],\"B_0\"=>[6.0],\"success\"=>Bool[true],\"constraint\"=>AbstractString[\"wall\"],\"limits\"=>DataStructures.OrderedDict{Any,Any}(\"beta\"=>[0.875763],\"wall\"=>[0.997325])),\"main_constraint = \\\"beta\\\"\"=>DataStructures.OrderedDict{Any,Any}(\"R_0\"=>[9.1706],\"T_k\"=>[25.9811],\"rho_j\"=>[0.825286],\"eta_CD\"=>[0.239254],\"B_0\"=>[6.0],\"success\"=>Bool[true],\"constraint\"=>AbstractString[\"beta\"],\"limits\"=>DataStructures.OrderedDict{Any,Any}(\"beta\"=>[1.00041],\"wall\"=>[1.4072]))),\"wave_theta = 140.0\"=>DataStructures.OrderedDict{Any,Any}(\"main_constraint = \\\"wall\\\"\"=>DataStructures.OrderedDict{Any,Any}(\"R_0\"=>[10.3012],\"T_k\"=>[25.6128],\"rho_j\"=>[0.809786],\"eta_CD\"=>[0.255959],\"B_0\"=>[6.0],\"success\"=>Bool[true],\"constraint\"=>AbstractString[\"wall\"],\"limits\"=>DataStructures.OrderedDict{Any,Any}(\"beta\"=>[0.87798],\"wall\"=>[0.997413])),\"main_constraint = \\\"beta\\\"\"=>DataStructures.OrderedDict{Any,Any}(\"R_0\"=>[9.34622],\"T_k\"=>[26.4806],\"rho_j\"=>[0.830197],\"eta_CD\"=>[0.236765],\"B_0\"=>[6.0],\"success\"=>Bool[true],\"constraint\"=>AbstractString[\"beta\"],\"limits\"=>DataStructures.OrderedDict{Any,Any}(\"beta\"=>[1.00048],\"wall\"=>[1.3972])))),\"delta = 0.63\"=>DataStructures.OrderedDict{Any,Any}(\"wave_theta = 150.0\"=>DataStructures.OrderedDict{Any,Any}(\"main_constraint = \\\"wall\\\"\"=>DataStructures.OrderedDict{Any,Any}(\"R_0\"=>[10.3717],\"T_k\"=>[25.8408],\"rho_j\"=>[0.807419],\"eta_CD\"=>[0.260948],\"B_0\"=>[6.0],\"success\"=>Bool[true],\"constraint\"=>AbstractString[\"wall\"],\"limits\"=>DataStructures.OrderedDict{Any,Any}(\"beta\"=>[0.879774],\"wall\"=>[0.99772])),\"main_constraint = \\\"beta\\\"\"=>DataStructures.OrderedDict{Any,Any}(\"R_0\"=>[9.4269],\"T_k\"=>[26.7102],\"rho_j\"=>[0.827583],\"eta_CD\"=>[0.24199],\"B_0\"=>[6.0],\"success\"=>Bool[true],\"constraint\"=>AbstractString[\"beta\"],\"limits\"=>DataStructures.OrderedDict{Any,Any}(\"beta\"=>[1.00052],\"wall\"=>[1.39007]))),\"wave_theta = 140.0\"=>DataStructures.OrderedDict{Any,Any}(\"main_constraint = \\\"wall\\\"\"=>DataStructures.OrderedDict{Any,Any}(\"R_0\"=>[10.5366],\"T_k\"=>[26.3238],\"rho_j\"=>[0.813044],\"eta_CD\"=>[0.257906],\"B_0\"=>[6.0],\"success\"=>Bool[true],\"constraint\"=>AbstractString[\"wall\"],\"limits\"=>DataStructures.OrderedDict{Any,Any}(\"beta\"=>[0.882195],\"wall\"=>[0.997858])),\"main_constraint = \\\"beta\\\"\"=>DataStructures.OrderedDict{Any,Any}(\"R_0\"=>[9.6181],\"T_k\"=>[27.2558],\"rho_j\"=>[0.832552],\"eta_CD\"=>[0.239572],\"B_0\"=>[6.0],\"success\"=>Bool[true],\"constraint\"=>AbstractString[\"beta\"],\"limits\"=>DataStructures.OrderedDict{Any,Any}(\"beta\"=>[1.00066],\"wall\"=>[1.37967])))),\"delta = 0.6\"=>DataStructures.OrderedDict{Any,Any}(\"wave_theta = 150.0\"=>DataStructures.OrderedDict{Any,Any}(\"main_constraint = \\\"wall\\\"\"=>DataStructures.OrderedDict{Any,Any}(\"R_0\"=>[10.2485],\"T_k\"=>[25.4694],\"rho_j\"=>[0.805658],\"eta_CD\"=>[0.259899],\"B_0\"=>[6.0],\"success\"=>Bool[true],\"constraint\"=>AbstractString[\"wall\"],\"limits\"=>DataStructures.OrderedDict{Any,Any}(\"beta\"=>[0.877554],\"wall\"=>[0.99751])),\"main_constraint = \\\"beta\\\"\"=>DataStructures.OrderedDict{Any,Any}(\"R_0\"=>[9.28502],\"T_k\"=>[26.3064],\"rho_j\"=>[0.826333],\"eta_CD\"=>[0.240482],\"B_0\"=>[6.0],\"success\"=>Bool[true],\"constraint\"=>AbstractString[\"beta\"],\"limits\"=>DataStructures.OrderedDict{Any,Any}(\"beta\"=>[1.00045],\"wall\"=>[1.39944]))),\"wave_theta = 140.0\"=>DataStructures.OrderedDict{Any,Any}(\"main_constraint = \\\"wall\\\"\"=>DataStructures.OrderedDict{Any,Any}(\"R_0\"=>[10.4064],\"T_k\"=>[25.9299],\"rho_j\"=>[0.811245],\"eta_CD\"=>[0.256835],\"B_0\"=>[6.0],\"success\"=>Bool[true],\"constraint\"=>AbstractString[\"wall\"],\"limits\"=>DataStructures.OrderedDict{Any,Any}(\"beta\"=>[0.879869],\"wall\"=>[0.997612])),\"main_constraint = \\\"beta\\\"\"=>DataStructures.OrderedDict{Any,Any}(\"R_0\"=>[9.46747],\"T_k\"=>[26.826],\"rho_j\"=>[0.831257],\"eta_CD\"=>[0.238025],\"B_0\"=>[6.0],\"success\"=>Bool[true],\"constraint\"=>AbstractString[\"beta\"],\"limits\"=>DataStructures.OrderedDict{Any,Any}(\"beta\"=>[1.00055],\"wall\"=>[1.38926])))))),\"f_DT = 0.85\"=>DataStructures.OrderedDict{Any,Any}(\"nu_n = 0.33\"=>DataStructures.OrderedDict{Any,Any}(\"delta = 0.575\"=>DataStructures.OrderedDict{Any,Any}(\"wave_theta = 150.0\"=>DataStructures.OrderedDict{Any,Any}(\"main_constraint = \\\"wall\\\"\"=>DataStructures.OrderedDict{Any,Any}(\"R_0\"=>[11.2359],\"T_k\"=>[28.3614],\"rho_j\"=>[0.819554],\"eta_CD\"=>[0.266045],\"B_0\"=>[6.0],\"success\"=>Bool[true],\"constraint\"=>AbstractString[\"wall\"],\"limits\"=>DataStructures.OrderedDict{Any,Any}(\"beta\"=>[0.897639],\"wall\"=>[1.00037])),\"main_constraint = \\\"beta\\\"\"=>DataStructures.OrderedDict{Any,Any}(\"R_0\"=>[10.3915],\"T_k\"=>[29.2884],\"rho_j\"=>[0.835958],\"eta_CD\"=>[0.250062],\"B_0\"=>[6.0],\"success\"=>Bool[true],\"constraint\"=>AbstractString[\"beta\"],\"limits\"=>DataStructures.OrderedDict{Any,Any}(\"beta\"=>[1.0023],\"wall\"=>[1.32633]))),\"wave_theta = 140.0\"=>DataStructures.OrderedDict{Any,Any}(\"main_constraint = \\\"wall\\\"\"=>DataStructures.OrderedDict{Any,Any}(\"R_0\"=>[11.4584],\"T_k\"=>[29.0374],\"rho_j\"=>[0.825394],\"eta_CD\"=>[0.263252],\"B_0\"=>[6.0],\"success\"=>Bool[true],\"constraint\"=>AbstractString[\"wall\"],\"limits\"=>DataStructures.OrderedDict{Any,Any}(\"beta\"=>[0.901189],\"wall\"=>[1.00144])),\"main_constraint = \\\"beta\\\"\"=>DataStructures.OrderedDict{Any,Any}(\"R_0\"=>[10.6146],\"T_k\"=>[29.9462],\"rho_j\"=>[0.840901],\"eta_CD\"=>[0.24763],\"B_0\"=>[6.0],\"success\"=>Bool[true],\"constraint\"=>AbstractString[\"beta\"],\"limits\"=>DataStructures.OrderedDict{Any,Any}(\"beta\"=>[1.00327],\"wall\"=>[1.3155])))),\"delta = 0.63\"=>DataStructures.OrderedDict{Any,Any}(\"wave_theta = 150.0\"=>DataStructures.OrderedDict{Any,Any}(\"main_constraint = \\\"wall\\\"\"=>DataStructures.OrderedDict{Any,Any}(\"R_0\"=>[11.5682],\"T_k\"=>[29.3964],\"rho_j\"=>[0.823579],\"eta_CD\"=>[0.268642],\"B_0\"=>[6.0],\"success\"=>Bool[true],\"constraint\"=>AbstractString[\"wall\"],\"limits\"=>DataStructures.OrderedDict{Any,Any}(\"beta\"=>[0.903666],\"wall\"=>[1.00223])),\"main_constraint = \\\"beta\\\"\"=>DataStructures.OrderedDict{Any,Any}(\"R_0\"=>[10.7749],\"T_k\"=>[30.3097],\"rho_j\"=>[0.83848],\"eta_CD\"=>[0.253827],\"B_0\"=>[6.0],\"success\"=>Bool[true],\"constraint\"=>AbstractString[\"beta\"],\"limits\"=>DataStructures.OrderedDict{Any,Any}(\"beta\"=>[1.00034],\"wall\"=>[1.29691]))),\"wave_theta = 140.0\"=>DataStructures.OrderedDict{Any,Any}(\"main_constraint = \\\"wall\\\"\"=>DataStructures.OrderedDict{Any,Any}(\"R_0\"=>[11.8179],\"T_k\"=>[30.1734],\"rho_j\"=>[0.829603],\"eta_CD\"=>[0.265931],\"B_0\"=>[6.0],\"success\"=>Bool[true],\"constraint\"=>AbstractString[\"wall\"],\"limits\"=>DataStructures.OrderedDict{Any,Any}(\"beta\"=>[0.907955],\"wall\"=>[1.00425])),\"main_constraint = \\\"beta\\\"\"=>DataStructures.OrderedDict{Any,Any}(\"R_0\"=>[11.0325],\"T_k\"=>[31.0368],\"rho_j\"=>[0.84329],\"eta_CD\"=>[0.25177],\"B_0\"=>[6.0],\"success\"=>Bool[true],\"constraint\"=>AbstractString[\"beta\"],\"limits\"=>DataStructures.OrderedDict{Any,Any}(\"beta\"=>[1.00043],\"wall\"=>[1.28256])))),\"delta = 0.6\"=>DataStructures.OrderedDict{Any,Any}(\"wave_theta = 150.0\"=>DataStructures.OrderedDict{Any,Any}(\"main_constraint = \\\"wall\\\"\"=>DataStructures.OrderedDict{Any,Any}(\"R_0\"=>[11.3831],\"T_k\"=>[28.8176],\"rho_j\"=>[0.821352],\"eta_CD\"=>[0.267207],\"B_0\"=>[6.0],\"success\"=>Bool[true],\"constraint\"=>AbstractString[\"wall\"],\"limits\"=>DataStructures.OrderedDict{Any,Any}(\"beta\"=>[0.90028],\"wall\"=>[1.00109])),\"main_constraint = \\\"beta\\\"\"=>DataStructures.OrderedDict{Any,Any}(\"R_0\"=>[10.564],\"T_k\"=>[29.7949],\"rho_j\"=>[0.837383],\"eta_CD\"=>[0.251711],\"B_0\"=>[6.0],\"success\"=>Bool[true],\"constraint\"=>AbstractString[\"beta\"],\"limits\"=>DataStructures.OrderedDict{Any,Any}(\"beta\"=>[1.00299],\"wall\"=>[1.31866]))),\"wave_theta = 140.0\"=>DataStructures.OrderedDict{Any,Any}(\"main_constraint = \\\"wall\\\"\"=>DataStructures.OrderedDict{Any,Any}(\"R_0\"=>[11.6172],\"T_k\"=>[29.5359],\"rho_j\"=>[0.827264],\"eta_CD\"=>[0.264451],\"B_0\"=>[6.0],\"success\"=>Bool[true],\"constraint\"=>AbstractString[\"wall\"],\"limits\"=>DataStructures.OrderedDict{Any,Any}(\"beta\"=>[0.904124],\"wall\"=>[1.00251])),\"main_constraint = \\\"beta\\\"\"=>DataStructures.OrderedDict{Any,Any}(\"R_0\"=>[10.8263],\"T_k\"=>[30.4547],\"rho_j\"=>[0.8419],\"eta_CD\"=>[0.249754],\"B_0\"=>[6.0],\"success\"=>Bool[true],\"constraint\"=>AbstractString[\"beta\"],\"limits\"=>DataStructures.OrderedDict{Any,Any}(\"beta\"=>[1.00035],\"wall\"=>[1.29505]))))),\"nu_n = 0.31\"=>DataStructures.OrderedDict{Any,Any}(\"delta = 0.575\"=>DataStructures.OrderedDict{Any,Any}(\"wave_theta = 150.0\"=>DataStructures.OrderedDict{Any,Any}(\"main_constraint = \\\"wall\\\"\"=>DataStructures.OrderedDict{Any,Any}(\"R_0\"=>[13.4071],\"T_k\"=>[35.286],\"rho_j\"=>[0.841792],\"eta_CD\"=>[0.283701],\"B_0\"=>[6.0],\"success\"=>Bool[true],\"constraint\"=>AbstractString[\"wall\"],\"limits\"=>DataStructures.OrderedDict{Any,Any}(\"beta\"=>[0.929361],\"wall\"=>[0.997799])),\"main_constraint = \\\"beta\\\"\"=>DataStructures.OrderedDict{Any,Any}(\"R_0\"=>[NaN],\"T_k\"=>[NaN],\"rho_j\"=>[NaN],\"eta_CD\"=>[NaN],\"B_0\"=>[6.0],\"success\"=>Bool[false],\"constraint\"=>AbstractString[\"x\"],\"limits\"=>DataStructures.OrderedDict{Any,Any}(\"beta\"=>[NaN],\"wall\"=>[NaN]))),\"wave_theta = 140.0\"=>DataStructures.OrderedDict{Any,Any}(\"main_constraint = \\\"wall\\\"\"=>DataStructures.OrderedDict{Any,Any}(\"R_0\"=>[14.2831],\"T_k\"=>[38.0449],\"rho_j\"=>[0.851733],\"eta_CD\"=>[0.284672],\"B_0\"=>[6.0],\"success\"=>Bool[true],\"constraint\"=>AbstractString[\"wall\"],\"limits\"=>DataStructures.OrderedDict{Any,Any}(\"beta\"=>[0.940571],\"wall\"=>[1.00672])),\"main_constraint = \\\"beta\\\"\"=>DataStructures.OrderedDict{Any,Any}(\"R_0\"=>[NaN],\"T_k\"=>[NaN],\"rho_j\"=>[NaN],\"eta_CD\"=>[NaN],\"B_0\"=>[6.0],\"success\"=>Bool[false],\"constraint\"=>AbstractString[\"x\"],\"limits\"=>DataStructures.OrderedDict{Any,Any}(\"beta\"=>[NaN],\"wall\"=>[NaN])))),\"delta = 0.63\"=>DataStructures.OrderedDict{Any,Any}(\"wave_theta = 150.0\"=>DataStructures.OrderedDict{Any,Any}(\"main_constraint = \\\"wall\\\"\"=>DataStructures.OrderedDict{Any,Any}(\"R_0\"=>[14.517],\"T_k\"=>[39.3448],\"rho_j\"=>[0.853224],\"eta_CD\"=>[0.290154],\"B_0\"=>[6.0],\"success\"=>Bool[true],\"constraint\"=>AbstractString[\"wall\"],\"limits\"=>DataStructures.OrderedDict{Any,Any}(\"beta\"=>[0.957034],\"wall\"=>[1.03867])),\"main_constraint = \\\"beta\\\"\"=>DataStructures.OrderedDict{Any,Any}(\"R_0\"=>[NaN],\"T_k\"=>[NaN],\"rho_j\"=>[NaN],\"eta_CD\"=>[NaN],\"B_0\"=>[6.0],\"success\"=>Bool[false],\"constraint\"=>AbstractString[\"x\"],\"limits\"=>DataStructures.OrderedDict{Any,Any}(\"beta\"=>[NaN],\"wall\"=>[NaN]))),\"wave_theta = 140.0\"=>DataStructures.OrderedDict{Any,Any}(\"main_constraint = \\\"wall\\\"\"=>DataStructures.OrderedDict{Any,Any}(\"R_0\"=>[14.2618],\"T_k\"=>[39.2768],\"rho_j\"=>[0.857259],\"eta_CD\"=>[0.28226],\"B_0\"=>[6.0],\"success\"=>Bool[true],\"constraint\"=>AbstractString[\"wall\"],\"limits\"=>DataStructures.OrderedDict{Any,Any}(\"beta\"=>[0.972477],\"wall\"=>[1.06288])),\"main_constraint = \\\"beta\\\"\"=>DataStructures.OrderedDict{Any,Any}(\"R_0\"=>[NaN],\"T_k\"=>[NaN],\"rho_j\"=>[NaN],\"eta_CD\"=>[NaN],\"B_0\"=>[6.0],\"success\"=>Bool[false],\"constraint\"=>AbstractString[\"x\"],\"limits\"=>DataStructures.OrderedDict{Any,Any}(\"beta\"=>[NaN],\"wall\"=>[NaN])))),\"delta = 0.6\"=>DataStructures.OrderedDict{Any,Any}(\"wave_theta = 150.0\"=>DataStructures.OrderedDict{Any,Any}(\"main_constraint = \\\"wall\\\"\"=>DataStructures.OrderedDict{Any,Any}(\"R_0\"=>[13.9641],\"T_k\"=>[37.1644],\"rho_j\"=>[0.846983],\"eta_CD\"=>[0.287429],\"B_0\"=>[6.0],\"success\"=>Bool[true],\"constraint\"=>AbstractString[\"wall\"],\"limits\"=>DataStructures.OrderedDict{Any,Any}(\"beta\"=>[0.939787],\"wall\"=>[1.01298])),\"main_constraint = \\\"beta\\\"\"=>DataStructures.OrderedDict{Any,Any}(\"R_0\"=>[NaN],\"T_k\"=>[NaN],\"rho_j\"=>[NaN],\"eta_CD\"=>[NaN],\"B_0\"=>[6.0],\"success\"=>Bool[false],\"constraint\"=>AbstractString[\"x\"],\"limits\"=>DataStructures.OrderedDict{Any,Any}(\"beta\"=>[NaN],\"wall\"=>[NaN]))),\"wave_theta = 140.0\"=>DataStructures.OrderedDict{Any,Any}(\"main_constraint = \\\"wall\\\"\"=>DataStructures.OrderedDict{Any,Any}(\"R_0\"=>[14.5682],\"T_k\"=>[39.3067],\"rho_j\"=>[0.855494],\"eta_CD\"=>[0.285738],\"B_0\"=>[6.0],\"success\"=>Bool[true],\"constraint\"=>AbstractString[\"wall\"],\"limits\"=>DataStructures.OrderedDict{Any,Any}(\"beta\"=>[0.952749],\"wall\"=>[1.02324])),\"main_constraint = \\\"beta\\\"\"=>DataStructures.OrderedDict{Any,Any}(\"R_0\"=>[NaN],\"T_k\"=>[NaN],\"rho_j\"=>[NaN],\"eta_CD\"=>[NaN],\"B_0\"=>[6.0],\"success\"=>Bool[false],\"constraint\"=>AbstractString[\"x\"],\"limits\"=>DataStructures.OrderedDict{Any,Any}(\"beta\"=>[NaN],\"wall\"=>[NaN]))))))))\n",
    "\n",
    "function merge_dicts(dict1, dict2, merged_dict=nothing)\n",
    "\n",
    "  if merged_dict == nothing\n",
    "    merged_dict = deepcopy(dict1)\n",
    "    dict1 = merged_dict\n",
    "  end\n",
    "\n",
    "  keys1 = collect(keys(dict1))\n",
    "  keys2 = collect(keys(dict2))\n",
    "\n",
    "  allkeys = unique(vcat(keys1, keys2))\n",
    "\n",
    "  if \"B_0\" in allkeys\n",
    "    return\n",
    "  end\n",
    "\n",
    "  is_identical = length(keys1) == length(allkeys)\n",
    "  is_identical &= length(keys2) == length(allkeys)\n",
    "\n",
    "  if is_identical\n",
    "    for cur_key in allkeys\n",
    "      merge_dicts(dict1[cur_key], dict2[cur_key], merged_dict)\n",
    "    end\n",
    "  else\n",
    "    for cur_key in allkeys\n",
    "      if cur_key in keys(dict1) && cur_key in keys(dict2)\n",
    "        continue\n",
    "      end\n",
    "\n",
    "      if cur_key in keys(dict2)\n",
    "        dict1[cur_key] = dict2[cur_key]\n",
    "      end\n",
    "    end    \n",
    "  end\n",
    "\n",
    "  merged_dict\n",
    "end\n",
    "\n",
    "cur_deep_dict = merge_dicts(cur_dict_1, cur_dict_2)\n",
    "\n",
    "function squashed_keys(deep_dict, shallow_dict=OrderedDict())\n",
    "  if \"B_0\" in keys(deep_dict)\n",
    "    return\n",
    "  end\n",
    "\n",
    "  cur_label = strip(split(first(keys(deep_dict)), \"=\")[1])\n",
    "\n",
    "  shallow_dict[cur_label] = []\n",
    "\n",
    "  for (cur_index, cur_key) in enumerate(keys(deep_dict))\n",
    "    push!(shallow_dict[cur_label], strip(split(cur_key, \"=\")[2]))\n",
    "  end\n",
    "\n",
    "  squashed_keys(first(values(deep_dict)), shallow_dict)\n",
    "\n",
    "  shallow_dict  \n",
    "end\n",
    "\n",
    "cur_shallow_dict = squashed_keys(cur_deep_dict)"
   ]
  },
  {
   "cell_type": "code",
   "execution_count": 44,
   "metadata": {
    "collapsed": false
   },
   "outputs": [
    {
     "name": "stdout",
     "output_type": "stream",
     "text": [
      "DataStructures.OrderedDict(\"A\"=>0,\"B\"=>2,\"C\"=>3,\"D\"=>4,\"F\"=>1)\n"
     ]
    }
   ],
   "source": [
    "cur_score = OrderedDict(\n",
    "    \"A\" => 0,\n",
    "    \"B\" => 0,\n",
    "    \"C\" => 0,\n",
    "    \"D\" => 0,\n",
    "    \"F\" => 0\n",
    ")\n",
    "\n",
    "for cur_key in keys(Tokamak.reactor_tables[cur_reactor])\n",
    "    expected_value = Tokamak.reactor_tables[cur_reactor][cur_key]\n",
    "    actual_value = analyzed_case[cur_key]\n",
    "    \n",
    "    ( cur_key == \"f_CD\") && continue\n",
    "    ( expected_value == \"-\") && continue\n",
    "    iszero( expected_value - actual_value ) && continue\n",
    " \n",
    "    if in(cur_key, values(Tokamak.constraint_params))\n",
    "        (\n",
    "            cur_key == Tokamak.constraint_params[analyzed_case[\"primary_constraint\"]] ||\n",
    "            cur_key == Tokamak.constraint_params[analyzed_case[\"secondary_constraint\"]]\n",
    "        ) && continue\n",
    "        \n",
    "        actual_value *= getfield( Tokamak, Symbol(\"max_$(cur_key)\") )\n",
    "    end\n",
    "    \n",
    "    cur_rel_error = abs(expected_value - actual_value)\n",
    "    cur_rel_error /= min(expected_value, actual_value)\n",
    "\n",
    "    if cur_rel_error < 0.05\n",
    "        cur_score[\"A\"] += 1\n",
    "    elseif cur_rel_error < 0.1\n",
    "        cur_score[\"B\"] += 1\n",
    "    elseif cur_rel_error < 0.25\n",
    "        cur_score[\"C\"] += 1\n",
    "    elseif cur_rel_error < 0.5\n",
    "        cur_score[\"D\"] += 1\n",
    "    else\n",
    "        cur_score[\"F\"] += 1\n",
    "    end  \n",
    "    \n",
    "end\n",
    "\n",
    "println(cur_score)"
   ]
  },
  {
   "cell_type": "code",
   "execution_count": 10,
   "metadata": {
    "collapsed": false
   },
   "outputs": [
    {
     "name": "stderr",
     "output_type": "stream",
     "text": [
      "\u001b[1m\u001b[36mINFO: \u001b[39m\u001b[22m\u001b[36mPrecompiling module JuliaDB.\n",
      "\u001b[39m\u001b[1m\u001b[91mERROR: \u001b[39m\u001b[22mLoadError: \u001b[91mArgumentError: Module IndexedTables not found in current path.\n",
      "Run `Pkg.add(\"IndexedTables\")` to install the IndexedTables package.\u001b[39m\n",
      "Stacktrace:\n",
      " [1] \u001b[1m_require\u001b[22m\u001b[22m\u001b[1m(\u001b[22m\u001b[22m::Symbol\u001b[1m)\u001b[22m\u001b[22m at \u001b[1m./loading.jl:428\u001b[22m\u001b[22m\n",
      " [2] \u001b[1mrequire\u001b[22m\u001b[22m\u001b[1m(\u001b[22m\u001b[22m::Symbol\u001b[1m)\u001b[22m\u001b[22m at \u001b[1m./loading.jl:398\u001b[22m\u001b[22m\n",
      " [3] \u001b[1minclude_from_node1\u001b[22m\u001b[22m\u001b[1m(\u001b[22m\u001b[22m::String\u001b[1m)\u001b[22m\u001b[22m at \u001b[1m./loading.jl:569\u001b[22m\u001b[22m\n",
      " [4] \u001b[1minclude\u001b[22m\u001b[22m\u001b[1m(\u001b[22m\u001b[22m::String\u001b[1m)\u001b[22m\u001b[22m at \u001b[1m./sysimg.jl:14\u001b[22m\u001b[22m\n",
      " [5] \u001b[1manonymous\u001b[22m\u001b[22m at \u001b[1m./<missing>:2\u001b[22m\u001b[22m\n",
      "while loading /Applications/JuliaPro-0.5.1.1.app/Contents/Resources/pkgs-0.5.1.1/lib/v0.6/JuliaDB/src/JuliaDB.jl, in expression starting on line 4\n"
     ]
    },
    {
     "ename": "LoadError",
     "evalue": "\u001b[91mFailed to precompile JuliaDB to /Applications/JuliaPro-0.5.1.1.app/Contents/Resources/pkgs-0.5.1.1/lib/lib/v0.6/JuliaDB.ji.\u001b[39m",
     "output_type": "error",
     "traceback": [
      "\u001b[91mFailed to precompile JuliaDB to /Applications/JuliaPro-0.5.1.1.app/Contents/Resources/pkgs-0.5.1.1/lib/lib/v0.6/JuliaDB.ji.\u001b[39m",
      "",
      "Stacktrace:",
      " [1] \u001b[1mcompilecache\u001b[22m\u001b[22m\u001b[1m(\u001b[22m\u001b[22m::String\u001b[1m)\u001b[22m\u001b[22m at \u001b[1m./loading.jl:703\u001b[22m\u001b[22m",
      " [2] \u001b[1m_require\u001b[22m\u001b[22m\u001b[1m(\u001b[22m\u001b[22m::Symbol\u001b[1m)\u001b[22m\u001b[22m at \u001b[1m./loading.jl:490\u001b[22m\u001b[22m",
      " [3] \u001b[1mrequire\u001b[22m\u001b[22m\u001b[1m(\u001b[22m\u001b[22m::Symbol\u001b[1m)\u001b[22m\u001b[22m at \u001b[1m./loading.jl:398\u001b[22m\u001b[22m",
      " [4] \u001b[1minclude_string\u001b[22m\u001b[22m\u001b[1m(\u001b[22m\u001b[22m::String, ::String\u001b[1m)\u001b[22m\u001b[22m at \u001b[1m./loading.jl:515\u001b[22m\u001b[22m"
     ]
    }
   ],
   "source": [
    "using DataStructures\n",
    "using JuliaDB"
   ]
  }
 ],
 "metadata": {
  "kernelspec": {
   "display_name": "Julia 0.6.0",
   "language": "julia",
   "name": "julia-0.6"
  },
  "language_info": {
   "file_extension": ".jl",
   "mimetype": "application/julia",
   "name": "julia",
   "version": "0.6.0"
  },
  "widgets": {
   "state": {
    "060e5338-3bc2-41aa-a510-e784b3a4d48c": {
     "views": [
      {
       "cell_index": 9
      }
     ]
    },
    "065f7b66-2dae-4c71-b1a0-187c74d5eda1": {
     "views": [
      {
       "cell_index": 8
      }
     ]
    },
    "0bbebcab-0789-4d28-8904-977e738b2d29": {
     "views": [
      {
       "cell_index": 8
      }
     ]
    },
    "1210f43c-f2ac-4b33-96b9-1767858184c1": {
     "views": [
      {
       "cell_index": 8
      }
     ]
    },
    "229e018b-3ea1-407d-8b4c-857ece0b3390": {
     "views": [
      {
       "cell_index": 8
      }
     ]
    },
    "29a0c320-a6ec-4153-a237-8a6bc9452a49": {
     "views": [
      {
       "cell_index": 9
      }
     ]
    },
    "371dfbee-722c-4947-b012-5abb0747ba9d": {
     "views": [
      {
       "cell_index": 8
      }
     ]
    },
    "3b30aeca-d5a0-497f-ab08-22466ff67c46": {
     "views": [
      {
       "cell_index": 9
      }
     ]
    },
    "3d2f845f-8cd5-49e0-af8e-40d8c237e530": {
     "views": [
      {
       "cell_index": 8
      }
     ]
    },
    "428bd50e-7fce-4b42-b87a-8328933e310f": {
     "views": [
      {
       "cell_index": 8
      }
     ]
    },
    "46c2f175-d763-4830-a44b-d9f0535a0c81": {
     "views": [
      {
       "cell_index": 8
      }
     ]
    },
    "46eaa4d7-d6ad-4e85-9a59-8359966c414b": {
     "views": [
      {
       "cell_index": 9
      }
     ]
    },
    "4816122c-e391-4e8a-80a2-eadfea884979": {
     "views": [
      {
       "cell_index": 9
      }
     ]
    },
    "5381fb4a-dd00-4528-a30c-ff9f0e0ce36e": {
     "views": [
      {
       "cell_index": 9
      }
     ]
    },
    "545a55dd-5746-4217-b9e8-c0a033cefd91": {
     "views": [
      {
       "cell_index": 8
      }
     ]
    },
    "55a6d085-c504-408d-a22f-7a3d38bbfa92": {
     "views": [
      {
       "cell_index": 8
      }
     ]
    },
    "578c2612-5419-4f2d-924e-cddc8bc9faec": {
     "views": [
      {
       "cell_index": 8
      }
     ]
    },
    "58f50c8e-e3c3-4d48-b9eb-0c33c363a435": {
     "views": [
      {
       "cell_index": 9
      }
     ]
    },
    "5c79fe85-3a72-44d1-910a-4ab0134af45d": {
     "views": [
      {
       "cell_index": 8
      }
     ]
    },
    "5d3682b7-7ab7-43db-beee-e25a0b9c6ce9": {
     "views": [
      {
       "cell_index": 9
      }
     ]
    },
    "5dba598a-62da-49d7-b75f-b3e6d90eca9c": {
     "views": [
      {
       "cell_index": 8
      }
     ]
    },
    "620bb446-5071-4101-8975-5e1251e5780c": {
     "views": [
      {
       "cell_index": 9
      }
     ]
    },
    "69d6c3b4-3924-451b-b30c-e4a64cfaed8e": {
     "views": [
      {
       "cell_index": 8
      }
     ]
    },
    "6e4cacdc-990b-4887-8204-b269073af28c": {
     "views": [
      {
       "cell_index": 8
      }
     ]
    },
    "709554b3-a436-4b6b-9f7c-710141985e9b": {
     "views": [
      {
       "cell_index": 9
      }
     ]
    },
    "7de657ba-f6b2-4753-8194-be9f53160b90": {
     "views": [
      {
       "cell_index": 8
      }
     ]
    },
    "7ebdf194-a82e-4087-a716-e621270850bd": {
     "views": [
      {
       "cell_index": 9
      }
     ]
    },
    "845b965a-3fd1-418d-a563-b9f2baa22eb7": {
     "views": [
      {
       "cell_index": 8
      }
     ]
    },
    "8cbf87f9-aec3-47a8-8973-a3140d3f8e48": {
     "views": [
      {
       "cell_index": 8
      }
     ]
    },
    "9700660f-938e-40b3-b818-0e2137b8dcb0": {
     "views": [
      {
       "cell_index": 8
      }
     ]
    },
    "a0233db9-46b6-4a22-8a44-808d7caf212b": {
     "views": [
      {
       "cell_index": 8
      }
     ]
    },
    "a06afbb1-b2c5-4053-ad86-3c25542c98c4": {
     "views": [
      {
       "cell_index": 8
      }
     ]
    },
    "a662b0a8-a28c-4726-a744-54b90c46d2cd": {
     "views": [
      {
       "cell_index": 9
      }
     ]
    },
    "aefe2f68-de4f-4da6-8ecb-f75139b1190d": {
     "views": [
      {
       "cell_index": 9
      }
     ]
    },
    "b02a5fae-e14c-4d44-9550-8082f343eef3": {
     "views": [
      {
       "cell_index": 9
      }
     ]
    },
    "b3d394cd-cdac-4923-afc7-10220c95f2ec": {
     "views": [
      {
       "cell_index": 9
      }
     ]
    },
    "b926d155-1d8d-47e7-933a-d28ee01d4805": {
     "views": [
      {
       "cell_index": 9
      }
     ]
    },
    "bfbfbbf6-ac41-425f-9bd9-02a59b7da2f5": {
     "views": [
      {
       "cell_index": 8
      }
     ]
    },
    "c23a5ce9-5e35-44fd-b5e9-a78833de799c": {
     "views": [
      {
       "cell_index": 8
      }
     ]
    },
    "c291a33b-1aee-40d9-8a07-9110c35fb579": {
     "views": [
      {
       "cell_index": 8
      }
     ]
    },
    "c5c362ea-132d-4c7b-8a96-3768db621086": {
     "views": [
      {
       "cell_index": 9
      }
     ]
    },
    "c728aea8-9798-4b7a-a4b0-b671fb8c3679": {
     "views": [
      {
       "cell_index": 8
      }
     ]
    },
    "c7b6eb5b-f444-4b79-acdc-3c2b43630912": {
     "views": [
      {
       "cell_index": 8
      }
     ]
    },
    "cae5e474-d107-44dd-8509-4d6d58284024": {
     "views": [
      {
       "cell_index": 9
      }
     ]
    },
    "d27a7c5f-fe59-45fb-9afd-90a703f8caad": {
     "views": [
      {
       "cell_index": 8
      }
     ]
    },
    "da9bc33f-3d3c-46c9-8564-792a1ddceeff": {
     "views": [
      {
       "cell_index": 8
      }
     ]
    },
    "da9ecf45-cbc2-42bc-a48b-6cbc6624346b": {
     "views": [
      {
       "cell_index": 9
      }
     ]
    },
    "dd28111a-5dd5-4dc1-b27e-0241a394af8c": {
     "views": [
      {
       "cell_index": 9
      }
     ]
    },
    "ebadaf85-75b1-4df9-b0f7-8a7546904bbf": {
     "views": [
      {
       "cell_index": 8
      }
     ]
    },
    "f18bd739-db96-4ed0-bd3a-a7fc8e2598da": {
     "views": [
      {
       "cell_index": 9
      }
     ]
    },
    "f647c364-49e2-45f4-b8e4-4c1388695ec7": {
     "views": [
      {
       "cell_index": 8
      }
     ]
    }
   },
   "version": "1.2.0"
  }
 },
 "nbformat": 4,
 "nbformat_minor": 2
}
