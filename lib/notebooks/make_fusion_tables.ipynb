{
 "cells": [
  {
   "cell_type": "code",
   "execution_count": 1,
   "metadata": {
    "collapsed": false
   },
   "outputs": [
    {
     "data": {
      "text/html": [
       "<div id=\"interact-js-shim\">\n",
       "    <script charset=\"utf-8\">\n",
       "(function (IPython, $, _, MathJax) {\n",
       "    $.event.special.destroyed = {\n",
       "\tremove: function(o) {\n",
       "\t    if (o.handler) {\n",
       "\t\to.handler.apply(this, arguments)\n",
       "\t    }\n",
       "\t}\n",
       "    }\n",
       "\n",
       "    var OutputArea = IPython.version >= \"4.0.0\" ? require(\"notebook/js/outputarea\").OutputArea : IPython.OutputArea;\n",
       "\n",
       "    var redrawValue = function (container, type, val) {\n",
       "\tvar selector = $(\"<div/>\");\n",
       "\tvar oa = new OutputArea(_.extend(selector, {\n",
       "\t    selector: selector,\n",
       "\t    prompt_area: true,\n",
       "\t    events: IPython.events,\n",
       "\t    keyboard_manager: IPython.keyboard_manager\n",
       "\t})); // Hack to work with IPython 2.1.0\n",
       "\n",
       "\tswitch (type) {\n",
       "\tcase \"image/png\":\n",
       "            var _src = 'data:' + type + ';base64,' + val;\n",
       "\t    $(container).find(\"img\").attr('src', _src);\n",
       "\t    break;\n",
       "\tcase \"text/latex\":\n",
       "\t\tif (MathJax){\n",
       "\t\t\tvar math = MathJax.Hub.getAllJax(container)[0];\n",
       "\t\t\tMathJax.Hub.Queue([\"Text\", math, val.replace(/^\\${1,2}|\\${1,2}$/g, '')]);\n",
       "\t\t\tbreak;\n",
       "\t\t}\n",
       "\tdefault:\n",
       "\t    var toinsert = OutputArea.append_map[type].apply(\n",
       "\t\toa, [val, {}, selector]\n",
       "\t    );\n",
       "\t    $(container).empty().append(toinsert.contents());\n",
       "\t    selector.remove();\n",
       "\t}\n",
       "    }\n",
       "\n",
       "\n",
       "    $(document).ready(function() {\n",
       "\tfunction initComm(evt, data) {\n",
       "\t    var comm_manager = data.kernel.comm_manager;\n",
       "        //_.extend(comm_manager.targets, require(\"widgets/js/widget\"))\n",
       "\t    comm_manager.register_target(\"Signal\", function (comm) {\n",
       "            comm.on_msg(function (msg) {\n",
       "                var val = msg.content.data.value;\n",
       "                $(\".signal-\" + comm.comm_id).each(function() {\n",
       "                var type = $(this).data(\"type\");\n",
       "                if (typeof(val[type]) !== \"undefined\" && val[type] !== null) {\n",
       "                    redrawValue(this, type, val[type], type);\n",
       "                }\n",
       "                });\n",
       "                delete val;\n",
       "                delete msg.content.data.value;\n",
       "            });\n",
       "\t    });\n",
       "\n",
       "\t    // coordingate with Comm and redraw Signals\n",
       "\t    // XXX: Test using Reactive here to improve performance\n",
       "\t    $([IPython.events]).on(\n",
       "\t\t'output_appended.OutputArea', function (event, type, value, md, toinsert) {\n",
       "\t\t    if (md && md.reactive) {\n",
       "                // console.log(md.comm_id);\n",
       "                toinsert.addClass(\"signal-\" + md.comm_id);\n",
       "                toinsert.data(\"type\", type);\n",
       "                // Signal back indicating the mimetype required\n",
       "                var comm_manager = IPython.notebook.kernel.comm_manager;\n",
       "                var comm = comm_manager.comms[md.comm_id];\n",
       "                comm.then(function (c) {\n",
       "                    c.send({action: \"subscribe_mime\",\n",
       "                       mime: type});\n",
       "                    toinsert.bind(\"destroyed\", function() {\n",
       "                        c.send({action: \"unsubscribe_mime\",\n",
       "                               mime: type});\n",
       "                    });\n",
       "                })\n",
       "\t\t    }\n",
       "\t    });\n",
       "\t}\n",
       "\n",
       "\ttry {\n",
       "\t    // try to initialize right away. otherwise, wait on the status_started event.\n",
       "\t    initComm(undefined, IPython.notebook);\n",
       "\t} catch (e) {\n",
       "\t    $([IPython.events]).on('kernel_created.Kernel kernel_created.Session', initComm);\n",
       "\t}\n",
       "    });\n",
       "})(IPython, jQuery, _, MathJax);\n",
       "</script>\n",
       "    <script>\n",
       "        window.interactLoadedFlag = true\n",
       "       $(\"#interact-js-shim\").bind(\"destroyed\", function () {\n",
       "           if (window.interactLoadedFlag) {\n",
       "               console.warn(\"JavaScript required by Interact will be removed if you remove this cell or run using Interact more than once.\")\n",
       "           }\n",
       "       })\n",
       "       $([IPython.events]).on(\"kernel_starting.Kernel kernel_restarting.Kernel\", function () { window.interactLoadedFlag = false })\n",
       "   </script>\n",
       "</div>"
      ]
     },
     "metadata": {},
     "output_type": "display_data"
    },
    {
     "name": "stderr",
     "output_type": "stream",
     "text": [
      "\n",
      "WARNING: deprecated syntax \"abstract Widget\".\n",
      "Use \"abstract type Widget end\" instead.\n",
      "\n",
      "WARNING: deprecated syntax \"abstract InputWidget{T}<:Widget\".\n",
      "Use \"abstract type InputWidget{T}<:Widget end\" instead.\n",
      "\n",
      "WARNING: deprecated syntax \"abstract WidgetMod<:Widget\".\n",
      "Use \"abstract type WidgetMod<:Widget end\" instead.\n",
      "\n",
      "WARNING: deprecated syntax \"abstract Container<:Widget\".\n",
      "Use \"abstract type Container<:Widget end\" instead.\n"
     ]
    }
   ],
   "source": [
    "# Pkg.add(\"Interact\")\n",
    "# Pkg.add(\"DataStructures\")\n",
    "\n",
    "using Fusion\n",
    "using DataStructures\n",
    "using Interact\n",
    "using Unitful\n",
    "using SymPy"
   ]
  },
  {
   "cell_type": "code",
   "execution_count": 2,
   "metadata": {
    "collapsed": false
   },
   "outputs": [
    {
     "data": {
      "text/plain": [
       "parse_fusion_data (generic function with 1 method)"
      ]
     },
     "execution_count": 2,
     "metadata": {},
     "output_type": "execute_result"
    }
   ],
   "source": [
    "function parse_fusion_data(solved_case)\n",
    "    cur_table_data = OrderedDict(\n",
    "        \"eta_CD\" => @sprintf(\"%.3g\", solved_case[\"eta_CD\"]),\n",
    "        \"B_0\" => @sprintf(\"%.4g\", solved_case[\"B_0\"]),\n",
    "        \"P_F\" => @sprintf(\"%.5g\", solved_case[\"P_F\"]),\n",
    "        \"I_M\" => @sprintf(\"%.3g\", solved_case[\"I_M\"]),\n",
    "        \"R_0\" => @sprintf(\"%.3g\", solved_case[\"R_0\"]),\n",
    "        \" a \" => @sprintf(\"%.3g\", solved_case[\"a\"]),\n",
    "        \"q_K\" => @sprintf(\"%.3g\", solved_case[\"q_star\"]),\n",
    "        \"T_i\" => @sprintf(\"%.3g\", solved_case[\"T_k\"]),\n",
    "        \"n_e\" => @sprintf(\"%.3g\", solved_case[\"n_bar\"]),\n",
    "        \"f_CD\" => @sprintf(\"%.3g\", solved_case[\"f_CD\"]),\n",
    "        \"f_B\" => @sprintf(\"%.3g\", solved_case[\"f_B\"]),\n",
    "        \"P_H\" => @sprintf(\"%.3g\", solved_case[\"P_H\"]),\n",
    "        \"beta\" => @sprintf(\"%.4g\", solved_case[\"beta\"] * Fusion.max_beta_N),\n",
    "        \"P_W\" => @sprintf(\"%.4g\", solved_case[\"P_W\"] * Fusion.max_P_W),\n",
    "        \"P_alpha\" => @sprintf(\"%.4g\", solved_case[\"P_alpha\"]),\n",
    "        \"P_BR\" => @sprintf(\"%.4g\", solved_case[\"P_BR\"]),\n",
    "        \"q_P\" => @sprintf(\"%.4g\", solved_case[\"q_P\"]),\n",
    "        \"constraint\" => solved_case[\"constraint\"],\n",
    "        \"rho_j\" => @sprintf(\"%.4g\", solved_case[\"rho_j\"]),\n",
    "        \"Q\" => @sprintf(\"%.4g\", solved_case[\"Q\"]),\n",
    "        \"kappa\" => @sprintf(\"%.4g\", solved_case[\"kappa\"]),\n",
    "        \"delta\" => @sprintf(\"%.4g\", solved_case[\"delta\"]),\n",
    "        \"epsilon\" => @sprintf(\"%.4g\", solved_case[\"epsilon\"]),\n",
    "        \"N_G\" => @sprintf(\"%.4g\", solved_case[\"N_G\"]),\n",
    "        \"H\" => @sprintf(\"%.4g\", solved_case[\"H\"]),\n",
    "        \"nu_n\" => @sprintf(\"%.4g\", solved_case[\"nu_n\"]),\n",
    "        \"nu_T\" => @sprintf(\"%.4g\", solved_case[\"nu_T\"]),\n",
    "        \"Z_eff\" => @sprintf(\"%.4g\", solved_case[\"Z_eff\"]),\n",
    "        \"rho_m\" => @sprintf(\"%.4g\", solved_case[\"rho_m\"]),\n",
    "        \"f_DT\" => @sprintf(\"%.4g\", solved_case[\"f_DT\"]),\n",
    "        \"wave_theta\" => @sprintf(\"%.4g\", solved_case[\"wave_theta\"])\n",
    "    ) \n",
    "    \n",
    "    cur_table_data\n",
    "end"
   ]
  },
  {
   "cell_type": "code",
   "execution_count": 3,
   "metadata": {
    "collapsed": false
   },
   "outputs": [
    {
     "data": {
      "text/plain": [
       "arc_data (generic function with 1 method)"
      ]
     },
     "execution_count": 3,
     "metadata": {},
     "output_type": "execute_result"
    }
   ],
   "source": [
    "function arc_data()\n",
    "    cur_table_data = OrderedDict()\n",
    "    \n",
    "    cur_table_data[\"main\"] = OrderedDict(\n",
    "        \"eta_CD\" => 0.321,\n",
    "        \"B_0\" => 9.2,\n",
    "        \"P_F\" => 525,\n",
    "        \"I_M\" => 7.8,\n",
    "        \"R_0\" => 3.3,\n",
    "        \" a \" => 1.13,\n",
    "        \"q_K\" => 4.7,\n",
    "        \"T_i\" => 14,\n",
    "        \"n_e\" => 1.3,\n",
    "        \"f_CD\" => 0.37,\n",
    "        \"f_B\" => 0.63,\n",
    "        \"P_H\" => 39,\n",
    "        \"beta\" => 0.0259,\n",
    "        \"P_W\" => 2.5,\n",
    "        \"P_alpha\" => \"-\",\n",
    "        \"P_BR\" => \"-\",\n",
    "        \"q_P\" => \"-\",\n",
    "        \"constraint\" => \"-\",\n",
    "        \"rho_j\" => \"-\",\n",
    "        \"Q\" => 13.6,\n",
    "        \"kappa\" => 1.84,\n",
    "        \"delta\" => \"-\",\n",
    "        \"epsilon\" => 0.342,\n",
    "        \"N_G\" => 0.67,\n",
    "        \"H\" => 1.8,\n",
    "        \"nu_n\" => 0.385,\n",
    "        \"nu_T\" => 0.929,\n",
    "        \"Z_eff\" => 1.2,\n",
    "        \"rho_m\" => \"-\",\n",
    "        \"f_DT\" => \"-\",\n",
    "        \"wave_theta\" => \"-\"        \n",
    "    ) \n",
    "\n",
    "    cur_table_data\n",
    "end"
   ]
  },
  {
   "cell_type": "code",
   "execution_count": 4,
   "metadata": {
    "collapsed": false
   },
   "outputs": [
    {
     "data": {
      "text/plain": [
       "act_1_data (generic function with 1 method)"
      ]
     },
     "execution_count": 4,
     "metadata": {},
     "output_type": "execute_result"
    }
   ],
   "source": [
    "function act_1_data()\n",
    "    cur_table_data = OrderedDict()\n",
    "    \n",
    "    cur_table_data[\"main\"] = OrderedDict(\n",
    "        \"eta_CD\" => 0.188,\n",
    "        \"B_0\" => 6.0,\n",
    "        \"P_F\" => 1813,\n",
    "        \"I_M\" => 10.95,\n",
    "        \"R_0\" => 6.25,\n",
    "        \" a \" => 1.56,\n",
    "        \"q_K\" => 4.5,\n",
    "        \"T_i\" => 20.6,\n",
    "        \"n_e\" => 1.3,\n",
    "        \"f_CD\" => 0.09,\n",
    "        \"f_B\" => 0.91,\n",
    "        \"P_H\" => 42.7,\n",
    "        \"beta\" => 0.056,\n",
    "        \"P_W\" => 2.45,\n",
    "        \"P_alpha\" => 363,\n",
    "        \"P_BR\" => 56.3,\n",
    "        \"q_P\" => 13.7,\n",
    "        \"constraint\" => \"-\",\n",
    "        \"rho_j\" => \"-\",\n",
    "        \"Q\" => 42.5,\n",
    "        \"kappa\" => 1.8,\n",
    "        \"delta\" => 0.63,\n",
    "        \"epsilon\" => 0.25,\n",
    "        \"N_G\" => 1.0,\n",
    "        \"H\" => 1.65,\n",
    "        \"nu_n\" => 0.27,\n",
    "        \"nu_T\" => 1.15,\n",
    "        \"Z_eff\" => 2.11,\n",
    "        \"rho_m\" => \"-\",\n",
    "        \"f_DT\" => 0.75,\n",
    "        \"wave_theta\" => \"-\"\n",
    "    ) \n",
    "\n",
    "    cur_table_data\n",
    "end"
   ]
  },
  {
   "cell_type": "code",
   "execution_count": 5,
   "metadata": {
    "collapsed": false
   },
   "outputs": [
    {
     "data": {
      "text/plain": [
       "act_2_data (generic function with 1 method)"
      ]
     },
     "execution_count": 5,
     "metadata": {},
     "output_type": "execute_result"
    }
   ],
   "source": [
    "function act_2_data()\n",
    "    cur_table_data = OrderedDict()\n",
    "    \n",
    "    cur_table_data[\"main\"] = OrderedDict(\n",
    "        \"eta_CD\" => 0.256,\n",
    "        \"B_0\" => 8.75,\n",
    "        \"P_F\" => 2637,\n",
    "        \"I_M\" => 13.98,\n",
    "        \"R_0\" => 9.75,\n",
    "        \" a \" => 2.44,\n",
    "        \"q_K\" => 8.0,\n",
    "        \"T_i\" => 17.8,\n",
    "        \"n_e\" => 0.86,\n",
    "        \"f_CD\" => 0.23,\n",
    "        \"f_B\" => 0.77,\n",
    "        \"P_H\" => 105.5,\n",
    "        \"beta\" => 0.026,\n",
    "        \"P_W\" => 1.46,\n",
    "        \"P_alpha\" => 528,\n",
    "        \"P_BR\" => 96.5,\n",
    "        \"q_P\" => 10.0,\n",
    "        \"constraint\" => \"-\",\n",
    "        \"rho_j\" => \"-\",\n",
    "        \"Q\" => 25.0,\n",
    "        \"kappa\" => 2.1,\n",
    "        \"delta\" => 0.575,\n",
    "        \"epsilon\" => 0.25,\n",
    "        \"N_G\" => 1.3,\n",
    "        \"H\" => 1.22,\n",
    "        \"nu_n\" => 0.41,\n",
    "        \"nu_T\" => 1.15,\n",
    "        \"Z_eff\" => 2.12,\n",
    "        \"rho_m\" => \"-\",\n",
    "        \"f_DT\" => 0.74,\n",
    "        \"wave_theta\" => \"-\"        \n",
    "    ) \n",
    "\n",
    "    cur_table_data\n",
    "end"
   ]
  },
  {
   "cell_type": "code",
   "execution_count": 6,
   "metadata": {
    "collapsed": false
   },
   "outputs": [
    {
     "data": {
      "text/plain": [
       "DataStructures.OrderedDict{Any,Any} with 3 entries:\n",
       "  \"act_1\" => DataStructures.OrderedDict{String,Any}(\"R_0\"=>[6.25],\"T_k\"=>[20.6]…\n",
       "  \"act_2\" => DataStructures.OrderedDict{String,Any}(\"R_0\"=>[9.75],\"T_k\"=>[17.8]…\n",
       "  \"arc\"   => DataStructures.OrderedDict{String,Any}(\"R_0\"=>[3.3],\"T_k\"=>[14],\"r…"
      ]
     },
     "execution_count": 6,
     "metadata": {},
     "output_type": "execute_result"
    }
   ],
   "source": [
    "B_0_dict = OrderedDict(\n",
    "    \"act_1\" => 6.0,\n",
    "    \"act_2\" => 8.75,\n",
    "    \"arc\" => 9.2\n",
    ")\n",
    "\n",
    "nu_n_dict = OrderedDict(\n",
    "    \"act_1\" => 0.27,\n",
    "    \"act_2\" => 0.41,\n",
    "    \"arc\" => 0.385\n",
    ")\n",
    "\n",
    "vars_dict = OrderedDict()\n",
    "\n",
    "vars_dict[\"act_1\"] = OrderedDict(\n",
    "    \"R_0\" => [6.25],\n",
    "    \"T_k\" => [20.6],\n",
    "    \"rho_j\" => [0.0],\n",
    "    \"eta_CD\" => [0.188],\n",
    "    \"B_0\" => [6.0],\n",
    "    \"success\" => true,\n",
    "    \"constraint\" => [\"-\"],\n",
    "    \"beta_N\" => [0.056],\n",
    "    \"P_W\" => [2.5],\n",
    "    \"n_bar\" => [1.3],\n",
    "    \"I_M\" => [10.95],\n",
    "    \"f_B\" => [0.91],\n",
    "    \"q_star\" => [4.5],\n",
    "    \"P_F\" => [1813]\n",
    ")\n",
    "\n",
    "vars_dict[\"act_2\"] = OrderedDict(\n",
    "    \"R_0\" => [9.75],\n",
    "    \"T_k\" => [17.8],\n",
    "    \"rho_j\" => [0.0],\n",
    "    \"eta_CD\" => [0.256], \n",
    "    \"B_0\" => [8.75],   \n",
    "    \"nu_n\" => [0.41],\n",
    "    \"success\" => true,\n",
    "    \"constraint\" => [\"-\"],\n",
    "    \"beta_N\" => [0.026],\n",
    "    \"P_W\" => [1.46],\n",
    "    \"n_bar\" => [0.86],\n",
    "    \"I_M\" => [13.98],\n",
    "    \"f_B\" => [0.77],\n",
    "    \"q_star\" => [8],\n",
    "    \"P_F\" => [2637]\n",
    ")\n",
    "\n",
    "vars_dict[\"arc\"] = OrderedDict(\n",
    "    \"R_0\" => [3.3],\n",
    "    \"T_k\" => [14],\n",
    "    \"rho_j\" => [0.0],\n",
    "    \"eta_CD\" => [0.321],\n",
    "    \"B_0\" => [9.2],\n",
    "    \"nu_n\" => [0.385],\n",
    "    \"success\" => true,\n",
    "    \"constraint\" => [\"-\"],\n",
    "    \"beta_N\" => [.0259],\n",
    "    \"P_W\" => [2.5],\n",
    "    \"n_bar\" => [1.3],\n",
    "    \"I_M\" => [7.8],\n",
    "    \"f_B\" => [0.63],\n",
    "    \"q_star\" => [7.2],\n",
    "    \"P_F\" => [525]\n",
    ")\n",
    "\n",
    "\n",
    "vars_dict"
   ]
  },
  {
   "cell_type": "code",
   "execution_count": 7,
   "metadata": {
    "collapsed": false
   },
   "outputs": [
    {
     "data": {
      "text/latex": [
       "\\begin{equation*}\\begin{cases}\"limit\" & \\text{=>} &\"auto\"\\\\\"Q\" & \\text{=>} &30.0\\\\\"nu_n\" & \\text{=>} &0.41\\\\\"f_DT\" & \\text{=>} &0.75\\\\\"Z_eff\" & \\text{=>} &2.2\\\\\"nu_T\" & \\text{=>} &1.15\\\\\"default_eta_CD\" & \\text{=>} &0.2\\\\\"BR_scaling\" & \\text{=>} &1.0\\\\\"enable_eta_CD_derive\" & \\text{=>} &false\\\\\"rho_m\" & \\text{=>} &0.6\\\\\"wave_theta\" & \\text{=>} &60\\\\\\end{cases}\\end{equation*}"
      ],
      "text/plain": [
       "Dict{Any,Any} with 11 entries:\n",
       "  \"limit\"                => \"auto\"\n",
       "  \"Q\"                    => 30.0\n",
       "  \"nu_n\"                 => 0.41\n",
       "  \"f_DT\"                 => 0.75\n",
       "  \"Z_eff\"                => 2.2\n",
       "  \"nu_T\"                 => 1.15\n",
       "  \"default_eta_CD\"       => 0.2\n",
       "  \"BR_scaling\"           => 1.0\n",
       "  \"enable_eta_CD_derive\" => false\n",
       "  \"rho_m\"                => 0.6\n",
       "  \"wave_theta\"           => 60"
      ]
     },
     "execution_count": 7,
     "metadata": {},
     "output_type": "execute_result"
    }
   ],
   "source": [
    "param_dict = Dict(\n",
    "    \"nu_n\" => linspace(round(0.41-0.25,3),round(0.41+0.25,3),21),\n",
    "    \"nu_T\" => linspace(round(1.15-0.25,3),round(1.15+0.25,3),11),\n",
    "    \"f_DT\" => 0.5:0.05:1.0,\n",
    "    \"BR_scaling\" => linspace(-0.5,2.5,13),\n",
    "    \"enable_eta_CD_derive\" => [false, true],\n",
    "    \"limit\" => [\"auto\", \"beta\", \"wall\"],\n",
    "    \"default_eta_CD\" => linspace(0.1,0.3,9),\n",
    "    \"rho_m\" => linspace(0.3,0.9,13),\n",
    "    \"Z_eff\" => linspace(round(2.12-0.72,2),round(2.12+0.72),9),\n",
    "    \"wave_theta\" => 0:30.0:360,\n",
    "    \"Q\" => 15:2.5:45\n",
    ")\n",
    "\n",
    "other_keys = [\"none\"]\n",
    "append!(other_keys, [ cur_key for cur_key in keys(param_dict)] )\n",
    "\n",
    "default_vals = Dict()\n",
    "\n",
    "for (cur_key, cur_val) in param_dict\n",
    "    if cur_key == \"wave_theta\"\n",
    "        default_vals[cur_key] = 60\n",
    "    elseif isa(cur_val, Array)\n",
    "        default_vals[cur_key] = first(cur_val)\n",
    "    else\n",
    "        default_vals[cur_key] = mean(cur_val)\n",
    "    end\n",
    "end\n",
    "\n",
    "default_vals"
   ]
  },
  {
   "cell_type": "code",
   "execution_count": 8,
   "metadata": {
    "collapsed": false
   },
   "outputs": [
    {
     "data": {
      "text/plain": [
       "make_output_table (generic function with 1 method)"
      ]
     },
     "execution_count": 8,
     "metadata": {},
     "output_type": "execute_result"
    }
   ],
   "source": [
    "function make_output_table(solved_cases, design, column)\n",
    "    \n",
    "    fusion_jl_data = OrderedDict()\n",
    "    \n",
    "    for (cur_key, cur_val) in solved_cases\n",
    "        fusion_jl_data[cur_key] = parse_fusion_data(cur_val)\n",
    "    end\n",
    "        \n",
    "    if design == \"Act 1\"\n",
    "        paper_data = act_1_data()\n",
    "    elseif design == \"Act 2\"\n",
    "        paper_data = act_2_data()\n",
    "    elseif design == \"Arc\"\n",
    "        paper_data = arc_data()   \n",
    "    else\n",
    "        error(\"Invalid design for paper selection\")\n",
    "    end\n",
    "    \n",
    "    header_row = [\"Variable\", \"Paper\"]\n",
    " \n",
    "    for cur_key in keys(fusion_jl_data)\n",
    "        push!(header_row, cur_key)\n",
    "    end\n",
    "\n",
    "    num_keys = length(keys(paper_data[column]))\n",
    "    \n",
    "    mapped_data = [ [] for ii in 1:num_keys ]\n",
    "    \n",
    "    for (cur_index, cur_key) in enumerate(keys(paper_data[column]))\n",
    "        push!(mapped_data[cur_index], cur_key)\n",
    "        \n",
    "        push!(mapped_data[cur_index], paper_data[column][cur_key])\n",
    "        \n",
    "        for cur_val in values(fusion_jl_data)\n",
    "            cur_class = nothing\n",
    "            \n",
    "            try\n",
    "                parsed_val = parse(cur_val[cur_key])\n",
    "                rel_error = abs( paper_data[column][cur_key] - parsed_val )\n",
    "                rel_error /= min( paper_data[column][cur_key], parsed_val )\n",
    "                \n",
    "                if rel_error > 0.2\n",
    "                    cur_class = \"danger\"\n",
    "                elseif rel_error > 0.1\n",
    "                    cur_class = \"warning\"\n",
    "                elseif rel_error < 1e-5 || ( ( cur_key == \"P_W\" || cur_key == \"beta\" ) && rel_error < 1.5*Fusion.wave_error_level )\n",
    "                    cur_class = \"info\"\n",
    "                elseif rel_error < 0.02\n",
    "                    cur_class = \"success\"\n",
    "                else\n",
    "                    cur_class = \"\"\n",
    "                end\n",
    "            catch\n",
    "                cur_class = \"\"\n",
    "            end\n",
    "            \n",
    "            if cur_class == \"\"\n",
    "                push!(mapped_data[cur_index], cur_val[cur_key])\n",
    "            else\n",
    "                push!(mapped_data[cur_index], \n",
    "                    Dict(\n",
    "                        \"value\" => cur_val[cur_key],\n",
    "                        \"class\" => cur_class\n",
    "                    )\n",
    "                )                \n",
    "            end\n",
    "        end       \n",
    "    end\n",
    "    \n",
    "    cur_table = vcat( (reshape(x, (1, :)) for x in mapped_data)... )\n",
    "\n",
    "    Fusion.HTMLElements.table(cur_table, header_row=header_row, title=\"$design Input\")    \n",
    "end"
   ]
  },
  {
   "cell_type": "code",
   "execution_count": 20,
   "metadata": {
    "collapsed": false,
    "scrolled": true
   },
   "outputs": [
    {
     "data": {
      "text/html": [
       "<h2 style='padding: 10px'>Arc Input</h2><table class='table table-striped'><thead><tr><th>Variable</th><th>Paper</th><th>Standard</th><th>Piped Data</th></tr></thead><tbody><tr><td>eta_CD</td><td>0.321</td><td class=\"info\">0.321</td><td class=\"info\">0.321</td></tr><tr><td>B_0</td><td>9.2</td><td class=\"info\">9.2</td><td class=\"info\">9.2</td></tr><tr><td>P_F</td><td>525</td><td class=\"danger\">651.28</td><td class=\"danger\">930.62</td></tr><tr><td>I_M</td><td>7.8</td><td>8.42</td><td class=\"danger\">9.94</td></tr><tr><td>R_0</td><td>3.3</td><td class=\"warning\">2.98</td><td class=\"info\">3.3</td></tr><tr><td> a </td><td>1.13</td><td class=\"warning\">1.02</td><td class=\"info\">1.13</td></tr><tr><td>q_K</td><td>4.7</td><td class=\"warning\">4.18</td><td class=\"warning\">3.92</td></tr><tr><td>T_i</td><td>14</td><td>12.8</td><td class=\"info\">14</td></tr><tr><td>n_e</td><td>1.3</td><td class=\"danger\">1.73</td><td class=\"danger\">1.66</td></tr><tr><td>f_CD</td><td>0.37</td><td>0.355</td><td>0.402</td></tr><tr><td>f_B</td><td>0.63</td><td>0.645</td><td>0.598</td></tr><tr><td>P_H</td><td>39</td><td class=\"danger\">47.9</td><td class=\"danger\">68.4</td></tr><tr><td>beta</td><td>0.0259</td><td class=\"info\">0.02599</td><td class=\"success\">0.02567</td></tr><tr><td>P_W</td><td>2.5</td><td class=\"info\">2.495</td><td class=\"warning\">2.907</td></tr><tr><td>P_alpha</td><td>-</td><td>129.5</td><td>185.1</td></tr><tr><td>P_BR</td><td>-</td><td>9.191</td><td>12.11</td></tr><tr><td>q_P</td><td>-</td><td>18.07</td><td>25.3</td></tr><tr><td>constraint</td><td>-</td><td>beta</td><td>-</td></tr><tr><td>rho_j</td><td>-</td><td>0</td><td>0</td></tr><tr><td>Q</td><td>13.6</td><td class=\"info\">13.6</td><td class=\"info\">13.6</td></tr><tr><td>kappa</td><td>1.84</td><td class=\"info\">1.84</td><td class=\"info\">1.84</td></tr><tr><td>delta</td><td>-</td><td>0.4</td><td>0.4</td></tr><tr><td>epsilon</td><td>0.342</td><td class=\"info\">0.342</td><td class=\"info\">0.342</td></tr><tr><td>N_G</td><td>0.67</td><td class=\"info\">0.67</td><td class=\"info\">0.67</td></tr><tr><td>H</td><td>1.8</td><td class=\"info\">1.8</td><td class=\"info\">1.8</td></tr><tr><td>nu_n</td><td>0.385</td><td class=\"info\">0.385</td><td class=\"info\">0.385</td></tr><tr><td>nu_T</td><td>0.929</td><td class=\"info\">0.929</td><td class=\"info\">0.929</td></tr><tr><td>Z_eff</td><td>1.2</td><td class=\"info\">1.2</td><td class=\"info\">1.2</td></tr><tr><td>rho_m</td><td>-</td><td>0.7</td><td>0.7</td></tr><tr><td>f_DT</td><td>-</td><td>0.9</td><td>0.9</td></tr><tr><td>wave_theta</td><td>-</td><td>150</td><td>150</td></tr></tbody></table>"
      ]
     },
     "metadata": {},
     "output_type": "display_data"
    }
   ],
   "source": [
    "@manipulate for \n",
    "    design=[\"arc\", \"act_2\", \"act_1\"], \n",
    "    column=[\"main\"], \n",
    "    limit=param_dict[\"limit\"], \n",
    "    eta_CD=param_dict[\"enable_eta_CD_derive\"],#,\n",
    "    delta in slider(0.3:0.025:0.63, value=0.4, label=\"delta\"),\n",
    "    rho_m=slider(0.6:0.05:0.8, value=0.7, label=\"rho_m\"),\n",
    "#     Q in slider(param_dict[\"Q\"], value=42.5, label=\"Q\"), \n",
    "    f_DT=slider(0.75:0.05:1.0, value=0.9, label=\"f_DT\"),\n",
    "#     BR=param_dict[\"BR_scaling\"], \n",
    "    nu_n=slider(50:5:150, value=100, label=\"nu_n [%]\"), \n",
    "#     nu_T=param_dict[\"nu_T\"], \n",
    "#     rho_m=slider(0.6:0.05:0.8, value=0.7, label=\"rho_m\"), \n",
    "#     kappa in slider(linspace(1.8,2.2,9), value=1.8, label=\"kappa\"), \n",
    "#     delta in slider(0.575:0.025:0.65, value=0.63, label=\"delta\"), \n",
    "#     Z_eff=slider(param_dict[\"Z_eff\"], value=2.11, label=\"Z_eff\"), \n",
    "#     CD_guess=param_dict[\"default_eta_CD\"], \n",
    "    wave_theta in slider(0:15:180,value=150, label=\"theta\"),\n",
    "#     other_key=other_keys, \n",
    "#     other_val=\"\", \n",
    "    ready=[false, true]\n",
    "    \n",
    "    if !ready\n",
    "        return\n",
    "    end    \n",
    "    \n",
    "    solved_cases = OrderedDict()\n",
    "    \n",
    "#     if other_key == \"none\" || other_val == \"\"\n",
    "        key_list = [\"Standard\", \"Piped Data\"]\n",
    "#     else\n",
    "#         if other_key == \"f_DT\"\n",
    "#             first_val = f_DT\n",
    "#         elseif other_key == \"BR_scaling\"\n",
    "#             first_val = BR\n",
    "#         elseif other_key == \"rho_m\"\n",
    "#             first_val = rho_m\n",
    "#         elseif other_key == \"enable_eta_CD_derive\"\n",
    "#             first_val = eta_CD\n",
    "#         elseif other_key == \"nu_n\"\n",
    "#             first_val = nu_n\n",
    "#         elseif other_key == \"nu_T\"\n",
    "#             first_val = nu_T            \n",
    "#         elseif other_key == \"limit\"\n",
    "#             first_val = limit\n",
    "#         elseif other_key == \"Z_eff\"\n",
    "#             first_val = Z_eff            \n",
    "#         elseif other_key == \"Q\"\n",
    "#             first_val = Q                        \n",
    "#         elseif other_key == \"wave_theta\"\n",
    "#             first_val = wave_theta                        \n",
    "#         end\n",
    "        \n",
    "#         key_list = [\"$other_key = $first_val\"]\n",
    "        \n",
    "#         if other_val == \"\"\n",
    "#             other_val = default_vals[other_key]\n",
    "#         end\n",
    "        \n",
    "#         push!(key_list, \"$other_key = $other_val\")        \n",
    "#     end\n",
    "    \n",
    "    Fusion.load_input(\"defaults.jl\", true)\n",
    "    Fusion.load_input(\"$(design).jl\", true)  \n",
    "    \n",
    "    for cur_key in key_list\n",
    "        Fusion.load_input(\"defaults.jl\", true)\n",
    "        Fusion.load_input(\"$(design).jl\", true)\n",
    "\n",
    "        Fusion.load_input(\" enable_eta_CD_derive = $eta_CD \")\n",
    "\n",
    "#         Fusion.load_input(\" BR_scaling = $BR \")\n",
    "\n",
    "        Fusion.load_input(\" nu_n = $nu_n * $(nu_n_dict[design]) / 100 \")\n",
    "# #         Fusion.load_input(\" nu_T = $nu_T \")\n",
    "\n",
    "# #         Fusion.load_input(\" kappa = $kappa \")\n",
    "        Fusion.load_input(\" delta = $delta \")\n",
    "        \n",
    "        Fusion.load_input(\" rho_m = $rho_m \")\n",
    "# #         Fusion.load_input(\" Z_eff = $Z_eff \")\n",
    "        \n",
    "# #         Fusion.load_input(\" default_eta_CD = $CD_guess \")\n",
    "        \n",
    "        Fusion.load_input(\" wave_theta = $wave_theta \")\n",
    "        \n",
    "# #         Fusion.load_input(\" Q = $Q \")\n",
    "        \n",
    "#         if other_val != \"\" && cur_key != \"Fusion.jl\"\n",
    "#             if other_key != \"f_DT\" && other_key != \"limit\"\n",
    "#                 Fusion.load_input(cur_key)\n",
    "#             end\n",
    "#         end\n",
    "        \n",
    "     \n",
    "#         if other_val != \"\" && cur_key != \"Fusion.jl\"\n",
    "#             if other_key == \"f_DT\"\n",
    "#                 cur_f_DT = parse(split(cur_key,\"=\")[2])\n",
    "#             elseif other_key == \"limit\"\n",
    "#                 cur_limit = strip(split(cur_key,\"=\")[2])\n",
    "#             end    \n",
    "#         end\n",
    "        \n",
    "        cur_f_DT = f_DT\n",
    "        \n",
    "        if design == \"act_2\" && isapprox(cur_f_DT, 0.75)\n",
    "            cur_f_DT = 0.74\n",
    "        end\n",
    "\n",
    "        Fusion.load_input(\" f_DT = $cur_f_DT \")\n",
    "        \n",
    "        cur_limit = limit\n",
    "        \n",
    "        if cur_limit != \"auto\"\n",
    "            Fusion.load_input(\" main_constraint = \\\"$(cur_limit)\\\"\")\n",
    "        end\n",
    "\n",
    "        if cur_key == \"Piped Data\"\n",
    "            found_data = vars_dict[design]\n",
    "        else\n",
    "            found_data = Fusion.sweep_B_0([B_0_dict[design]])\n",
    "        end\n",
    "        \n",
    "        filter!((k,v) -> !isa(v, OrderedDict), found_data)\n",
    "        \n",
    "        for (cur_sub_key, cur_sub_val) in found_data\n",
    "            found_data[cur_sub_key] = first(cur_sub_val)\n",
    "        end\n",
    "        \n",
    "        solved_cases[cur_key] = Fusion.analyze_solved_case(found_data)\n",
    "    end\n",
    "    \n",
    "    table_html = make_output_table(solved_cases, replace(ucfirst(design), \"_\", \" \"), column)    \n",
    "    \n",
    "    IJulia.clear_output(true)\n",
    "    display(\"text/html\", table_html)\n",
    "end\n",
    "\n",
    "return"
   ]
  },
  {
   "cell_type": "code",
   "execution_count": 19,
   "metadata": {
    "collapsed": false,
    "scrolled": true
   },
   "outputs": [
    {
     "name": "stdout",
     "output_type": "stream",
     "text": [
      " ----- \n",
      "  act_1\n",
      " ----- \n",
      "\n",
      " paper = 6.25 \n",
      " \n",
      " beta = 6.8391 \n",
      " f_B = 6.8626 \n",
      " P_F = 5.9936 \n",
      " eq1 = 0.5823 \n",
      " eq2 = 6.2708 \n",
      " eq3 = 6.1679 \n",
      " q_star = 10.5120 \n",
      " green = 6.5497 \n",
      " steady = 6.3289 \n",
      " \n",
      " Q = 42.5 \n",
      " kappa = 2.0 \n",
      " delta = 0.63 \n",
      " epsilon = 0.25 \n",
      " N_G = 1.0 \n",
      " H = 1.65 \n",
      " nu_n = 0.27 \n",
      " nu_T = 1.15 \n",
      " Z_eff = 2.11 \n",
      " rho_m = 0.7 \n",
      " f_DT = 0.75 \n",
      " max_beta_N = 0.056 \n",
      " max_P_W = 2.5 \n",
      " R = 6.25 \n",
      " B = 6.0 \n",
      " T = 20.6 \n",
      " eta_CD = 0.188 \n",
      " \n"
     ]
    }
   ],
   "source": [
    "# using Fusion\n",
    "# using Unitful\n",
    "# using SymPy\n",
    "    \n",
    "function custom_subs(cur_func, design)\n",
    "  subs(\n",
    "    cur_func,\n",
    "    Fusion.symbol_dict[\"beta_N\"] => Fusion.max_beta_N,\n",
    "    Fusion.symbol_dict[\"P_W\"] => Fusion.max_P_W,\n",
    "    Fusion.symbol_dict[\"T_k\"] => vars_dict[design][\"T_k\"][1],\n",
    "    Fusion.symbol_dict[\"n_bar\"] => vars_dict[design][\"n_bar\"][1],\n",
    "    Fusion.symbol_dict[\"B_0\"] => vars_dict[design][\"B_0\"][1],\n",
    "    Fusion.symbol_dict[\"I_M\"] => vars_dict[design][\"I_M\"][1]\n",
    "  )\n",
    "end\n",
    "\n",
    "function custom_solve(cur_func, design)\n",
    "  solve(\n",
    "    custom_subs(cur_func, design)\n",
    "  )[1]\n",
    "end\n",
    "\n",
    "function R_list(design)\n",
    "  cur_list = OrderedDict()\n",
    "\n",
    "  cur_list[\"paper\"] = vars_dict[design][\"R_0\"][1]\n",
    "  cur_list[\"beta\"] = custom_solve( Fusion.troyon_beta_limit(), design)\n",
    "  cur_list[\"f_B\"] = custom_solve( vars_dict[design][\"f_B\"][1] - Fusion.f_B() , design )\n",
    "    \n",
    "  cur_list[\"P_F\"] = custom_solve(\n",
    "    vars_dict[design][\"P_F\"][1] - \n",
    "    Fusion.calc_possible_values(\n",
    "      custom_subs(\n",
    "        Fusion.P_F()/1u\"MW\",\n",
    "                design\n",
    "      ) / Fusion.symbol_dict[\"R_0\"]^3,\n",
    "      cur_eta_CD=Fusion.default_eta_CD\n",
    "      ,cur_T_k=vars_dict[design][\"T_k\"][1]*1u\"keV\"\n",
    "    ) * Fusion.symbol_dict[\"R_0\"]^3\n",
    "    , design\n",
    "  )\n",
    "\n",
    "  cur_list[\"eq1\"] = custom_solve(\n",
    "    Fusion.calc_possible_values(\n",
    "      custom_subs(\n",
    "        Fusion.symbol_dict[\"R_0\"]^0.16 /Fusion.symbol_dict[\"B_0\"]^0.15 - Fusion.K_1() * Fusion.G_1(),\n",
    "        design\n",
    "      ),\n",
    "      cur_eta_CD=Fusion.default_eta_CD\n",
    "      ,cur_T_k=vars_dict[design][\"T_k\"][1]*1u\"keV\"\n",
    "    ),\n",
    "    design\n",
    "  )\n",
    " \n",
    "  cur_list[\"eq2\"] = custom_solve(\n",
    "    Fusion.calc_possible_values(\n",
    "      custom_subs(\n",
    "        Fusion.symbol_dict[\"R_0\"]*Fusion.symbol_dict[\"B_0\"] - Fusion.K_2() * Fusion.G_2(),\n",
    "        design\n",
    "      ),\n",
    "      cur_eta_CD=Fusion.default_eta_CD\n",
    "      ,cur_T_k=vars_dict[design][\"T_k\"][1]*1u\"keV\"\n",
    "    ),\n",
    "    design\n",
    "  )\n",
    "\n",
    "  cur_list[\"eq3\"] = custom_solve(\n",
    "    Fusion.calc_possible_values(\n",
    "      custom_subs(\n",
    "        Fusion.symbol_dict[\"R_0\"]^3 - Fusion.K_3() * Fusion.G_3(),\n",
    "        design\n",
    "      ),\n",
    "      cur_eta_CD=Fusion.default_eta_CD\n",
    "      ,cur_T_k=vars_dict[design][\"T_k\"][1]*1u\"keV\"\n",
    "    ),\n",
    "    design\n",
    "  )\n",
    "\n",
    "  cur_list[\"q_star\"] = custom_solve( vars_dict[design][\"q_star\"][1] - Fusion.q_star() , design )\n",
    "    \n",
    "  cur_list[\"green\"] = custom_solve( \n",
    "    Fusion.symbol_dict[\"n_bar\"]-Fusion.N_G*Fusion.symbol_dict[\"I_M\"]/(pi*(Fusion.a()/1u\"m\")^2), design \n",
    "  )\n",
    "  \n",
    "  cur_list[\"steady\"] = custom_solve( \n",
    "    Fusion.calc_possible_values(\n",
    "  custom_subs(\n",
    "    Fusion.symbol_dict[\"n_bar\"]*Fusion.symbol_dict[\"R_0\"]^2-Fusion.K_n()*Fusion.symbol_dict[\"T_k\"]/Fusion.calc_possible_values(Fusion.symbol_dict[\"K_CD_denom\"],\n",
    "  cur_eta_CD=Fusion.default_eta_CD\n",
    "  ,cur_T_k=vars_dict[design][\"T_k\"][1]*1u\"keV\"),\n",
    "            design\n",
    "  ),\n",
    "  cur_eta_CD=Fusion.default_eta_CD\n",
    "  ,cur_T_k=vars_dict[design][\"T_k\"][1]*1u\"keV\"\n",
    "),\n",
    "        design\n",
    "  )        \n",
    "    \n",
    "  cur_list\n",
    "end\n",
    "\n",
    "@manipulate for \n",
    "    design=[\"arc\", \"act_2\", \"act_1\"],\n",
    "    Q = 50:5:150,\n",
    "    kappa = 50:5:150,\n",
    "    delta = 50:5:150,\n",
    "    epsilon = 50:5:150,\n",
    "    N_G = 50:5:150,\n",
    "    H = 50:5:150,\n",
    "    nu_n = 50:5:150,\n",
    "    nu_T = 50:5:150,\n",
    "    Z_eff = 50:5:150,\n",
    "    rho_m = 50:5:150,\n",
    "    f_DT = 50:5:150,\n",
    "    max_beta_N = 50:5:150,\n",
    "    max_P_W = 50:5:150\n",
    "    \n",
    "    Fusion.load_input(\"defaults.jl\", true)\n",
    "    Fusion.load_input(\"$(design).jl\", true)\n",
    "    \n",
    "    Fusion.load_input(\" Q = $(Fusion.Q) * $Q / 100 \")\n",
    "    Fusion.load_input(\" kappa = $(Fusion.kappa) * $kappa / 100 \")\n",
    "    Fusion.load_input(\" delta = $(Fusion.delta) * $delta / 100 \")\n",
    "    Fusion.load_input(\" epsilon = $(Fusion.epsilon) * $epsilon / 100 \")\n",
    "    Fusion.load_input(\" N_G = $(Fusion.N_G) * $N_G / 100 \")\n",
    "    Fusion.load_input(\" H = $(Fusion.H) * $H / 100 \")\n",
    "    Fusion.load_input(\" nu_n = $(Fusion.nu_n) * $nu_n / 100 \")\n",
    "    Fusion.load_input(\" nu_T = $(Fusion.nu_T) * $nu_T / 100 \")\n",
    "    Fusion.load_input(\" Z_eff = $(Fusion.Z_eff) * $Z_eff / 100 \")\n",
    "    Fusion.load_input(\" rho_m = $(Fusion.rho_m) * $rho_m / 100 \")\n",
    "    Fusion.load_input(\" f_DT = $(Fusion.f_DT) * $f_DT / 100 \")\n",
    "    Fusion.load_input(\" max_beta_N = $(Fusion.max_beta_N) * $max_beta_N / 100 \")\n",
    "    Fusion.load_input(\" max_P_W = $(Fusion.max_P_W) * $max_P_W / 100 \") \n",
    "    \n",
    "    cur_str_array = [\" ----- \",\"  $design\",\" ----- \",\"\"]\n",
    "    \n",
    "    for (cur_key, cur_val) in R_list(design)\n",
    "        push!(cur_str_array, \" $cur_key = $(round(cur_val,4)) \")\n",
    "        if cur_key == \"paper\"\n",
    "           push!(cur_str_array, \" \") \n",
    "        end\n",
    "    end   \n",
    "    \n",
    "    push!(cur_str_array, \" \")\n",
    "    \n",
    "    push!(cur_str_array, \" Q = $(Fusion.Q) \")\n",
    "    push!(cur_str_array, \" kappa = $(Fusion.kappa) \")\n",
    "    push!(cur_str_array, \" delta = $(Fusion.delta) \")\n",
    "    push!(cur_str_array, \" epsilon = $(Fusion.epsilon) \")\n",
    "    push!(cur_str_array, \" N_G = $(Fusion.N_G) \")\n",
    "    push!(cur_str_array, \" H = $(Fusion.H) \")\n",
    "    push!(cur_str_array, \" nu_n = $(Fusion.nu_n) \")\n",
    "    push!(cur_str_array, \" nu_T = $(Fusion.nu_T) \")\n",
    "    push!(cur_str_array, \" Z_eff = $(Fusion.Z_eff) \")\n",
    "    push!(cur_str_array, \" rho_m = $(Fusion.rho_m) \")\n",
    "    push!(cur_str_array, \" f_DT = $(Fusion.f_DT) \")\n",
    "    push!(cur_str_array, \" max_beta_N = $(round(Fusion.max_beta_N,4)) \")\n",
    "    push!(cur_str_array, \" max_P_W = $(Fusion.max_P_W) \")      \n",
    "    \n",
    "    push!(cur_str_array, \" R = $(vars_dict[design][\"R_0\"][1]) \")  \n",
    "    push!(cur_str_array, \" B = $(vars_dict[design][\"B_0\"][1]) \")  \n",
    "    push!(cur_str_array, \" T = $(vars_dict[design][\"T_k\"][1]) \")  \n",
    "    push!(cur_str_array, \" eta_CD = $(vars_dict[design][\"eta_CD\"][1]) \")  \n",
    "    \n",
    "    push!(cur_str_array, \" \")\n",
    "    \n",
    "    IJulia.clear_output(true)\n",
    "    println(join(cur_str_array,\"\\n\"))    \n",
    "    \n",
    "end\n",
    "\n",
    "return"
   ]
  },
  {
   "cell_type": "code",
   "execution_count": null,
   "metadata": {
    "collapsed": false
   },
   "outputs": [],
   "source": [
    "cur_dict_1 = DataStructures.OrderedDict{Any,Any}(\"rho_m = 0.7\"=>DataStructures.OrderedDict{Any,Any}(\"f_DT = 0.9\"=>DataStructures.OrderedDict{Any,Any}(\"nu_n = 0.33\"=>DataStructures.OrderedDict{Any,Any}(\"delta = 0.63\"=>DataStructures.OrderedDict{Any,Any}(\"wave_theta = 150.0\"=>DataStructures.OrderedDict{Any,Any}(\"main_constraint = \\\"wall\\\"\"=>DataStructures.OrderedDict{Any,Any}(\"R_0\"=>[8.54291],\"T_k\"=>[20.4518],\"rho_j\"=>[0.78211],\"eta_CD\"=>[0.23916],\"B_0\"=>[6.0],\"success\"=>Bool[true],\"constraint\"=>AbstractString[\"wall\"],\"limits\"=>DataStructures.OrderedDict{Any,Any}(\"beta\"=>[0.851344],\"wall\"=>[0.996359])),\"main_constraint = \\\"beta\\\"\"=>DataStructures.OrderedDict{Any,Any}(\"R_0\"=>[7.33742],\"T_k\"=>[20.6468],\"rho_j\"=>[0.808702],\"eta_CD\"=>[0.213407],\"B_0\"=>[6.0],\"success\"=>Bool[true],\"constraint\"=>AbstractString[\"beta\"],\"limits\"=>DataStructures.OrderedDict{Any,Any}(\"beta\"=>[1.00067],\"wall\"=>[1.5294]))),\"wave_theta = 140.0\"=>DataStructures.OrderedDict{Any,Any}(\"main_constraint = \\\"wall\\\"\"=>DataStructures.OrderedDict{Any,Any}(\"R_0\"=>[8.62438],\"T_k\"=>[20.6787],\"rho_j\"=>[0.787473],\"eta_CD\"=>[0.235913],\"B_0\"=>[6.0],\"success\"=>Bool[true],\"constraint\"=>AbstractString[\"wall\"],\"limits\"=>DataStructures.OrderedDict{Any,Any}(\"beta\"=>[0.852658],\"wall\"=>[0.996414])),\"main_constraint = \\\"beta\\\"\"=>DataStructures.OrderedDict{Any,Any}(\"R_0\"=>[7.42342],\"T_k\"=>[20.8911],\"rho_j\"=>[0.813438],\"eta_CD\"=>[0.210523],\"B_0\"=>[6.0],\"success\"=>Bool[true],\"constraint\"=>AbstractString[\"beta\"],\"limits\"=>DataStructures.OrderedDict{Any,Any}(\"beta\"=>[1.00078],\"wall\"=>[1.52342])))),\"delta = 0.6\"=>DataStructures.OrderedDict{Any,Any}(\"wave_theta = 150.0\"=>DataStructures.OrderedDict{Any,Any}(\"main_constraint = \\\"wall\\\"\"=>DataStructures.OrderedDict{Any,Any}(\"R_0\"=>[8.46887],\"T_k\"=>[20.2374],\"rho_j\"=>[0.7807],\"eta_CD\"=>[0.238397],\"B_0\"=>[6.0],\"success\"=>Bool[true],\"constraint\"=>AbstractString[\"wall\"],\"limits\"=>DataStructures.OrderedDict{Any,Any}(\"beta\"=>[0.849788],\"wall\"=>[0.996141])),\"main_constraint = \\\"beta\\\"\"=>DataStructures.OrderedDict{Any,Any}(\"R_0\"=>[7.25757],\"T_k\"=>[20.4204],\"rho_j\"=>[0.807753],\"eta_CD\"=>[0.212352],\"B_0\"=>[6.0],\"success\"=>Bool[true],\"constraint\"=>AbstractString[\"beta\"],\"limits\"=>DataStructures.OrderedDict{Any,Any}(\"beta\"=>[1.00058],\"wall\"=>[1.53646]))),\"wave_theta = 140.0\"=>DataStructures.OrderedDict{Any,Any}(\"main_constraint = \\\"wall\\\"\"=>DataStructures.OrderedDict{Any,Any}(\"R_0\"=>[8.54816],\"T_k\"=>[20.4574],\"rho_j\"=>[0.786091],\"eta_CD\"=>[0.235148],\"B_0\"=>[6.0],\"success\"=>Bool[true],\"constraint\"=>AbstractString[\"wall\"],\"limits\"=>DataStructures.OrderedDict{Any,Any}(\"beta\"=>[0.851056],\"wall\"=>[0.996159])),\"main_constraint = \\\"beta\\\"\"=>DataStructures.OrderedDict{Any,Any}(\"R_0\"=>[7.34093],\"T_k\"=>[20.6568],\"rho_j\"=>[0.812512],\"eta_CD\"=>[0.209459],\"B_0\"=>[6.0],\"success\"=>Bool[true],\"constraint\"=>AbstractString[\"beta\"],\"limits\"=>DataStructures.OrderedDict{Any,Any}(\"beta\"=>[1.00067],\"wall\"=>[1.53053]))))),\"nu_n = 0.31\"=>DataStructures.OrderedDict{Any,Any}(\"delta = 0.63\"=>DataStructures.OrderedDict{Any,Any}(\"wave_theta = 150.0\"=>DataStructures.OrderedDict{Any,Any}(\"main_constraint = \\\"wall\\\"\"=>DataStructures.OrderedDict{Any,Any}(\"R_0\"=>[9.46756],\"T_k\"=>[23.2877],\"rho_j\"=>[0.797105],\"eta_CD\"=>[0.250432],\"B_0\"=>[6.0],\"success\"=>Bool[true],\"constraint\"=>AbstractString[\"wall\"],\"limits\"=>DataStructures.OrderedDict{Any,Any}(\"beta\"=>[0.868569],\"wall\"=>[1.00203])),\"main_constraint = \\\"beta\\\"\"=>DataStructures.OrderedDict{Any,Any}(\"R_0\"=>[8.42678],\"T_k\"=>[23.8712],\"rho_j\"=>[0.819905],\"eta_CD\"=>[0.228753],\"B_0\"=>[6.0],\"success\"=>Bool[true],\"constraint\"=>AbstractString[\"beta\"],\"limits\"=>DataStructures.OrderedDict{Any,Any}(\"beta\"=>[1.0003],\"wall\"=>[1.45125]))),\"wave_theta = 140.0\"=>DataStructures.OrderedDict{Any,Any}(\"main_constraint = \\\"wall\\\"\"=>DataStructures.OrderedDict{Any,Any}(\"R_0\"=>[9.58255],\"T_k\"=>[23.6311],\"rho_j\"=>[0.802634],\"eta_CD\"=>[0.247166],\"B_0\"=>[6.0],\"success\"=>Bool[true],\"constraint\"=>AbstractString[\"wall\"],\"limits\"=>DataStructures.OrderedDict{Any,Any}(\"beta\"=>[0.8708],\"wall\"=>[1.00326])),\"main_constraint = \\\"beta\\\"\"=>DataStructures.OrderedDict{Any,Any}(\"R_0\"=>[8.54104],\"T_k\"=>[24.1951],\"rho_j\"=>[0.824424],\"eta_CD\"=>[0.225941],\"B_0\"=>[6.0],\"success\"=>Bool[true],\"constraint\"=>AbstractString[\"beta\"],\"limits\"=>DataStructures.OrderedDict{Any,Any}(\"beta\"=>[1.00031],\"wall\"=>[1.44196])))),\"delta = 0.6\"=>DataStructures.OrderedDict{Any,Any}(\"wave_theta = 150.0\"=>DataStructures.OrderedDict{Any,Any}(\"main_constraint = \\\"wall\\\"\"=>DataStructures.OrderedDict{Any,Any}(\"R_0\"=>[9.3736],\"T_k\"=>[22.9989],\"rho_j\"=>[0.795484],\"eta_CD\"=>[0.24959],\"B_0\"=>[6.0],\"success\"=>Bool[true],\"constraint\"=>AbstractString[\"wall\"],\"limits\"=>DataStructures.OrderedDict{Any,Any}(\"beta\"=>[0.866399],\"wall\"=>[1.00098])),\"main_constraint = \\\"beta\\\"\"=>DataStructures.OrderedDict{Any,Any}(\"R_0\"=>[8.27031],\"T_k\"=>[23.4999],\"rho_j\"=>[0.818899],\"eta_CD\"=>[0.226846],\"B_0\"=>[6.0],\"success\"=>Bool[true],\"constraint\"=>AbstractString[\"beta\"],\"limits\"=>DataStructures.OrderedDict{Any,Any}(\"beta\"=>[1.00337],\"wall\"=>[1.47064]))),\"wave_theta = 140.0\"=>DataStructures.OrderedDict{Any,Any}(\"main_constraint = \\\"wall\\\"\"=>DataStructures.OrderedDict{Any,Any}(\"R_0\"=>[9.48519],\"T_k\"=>[23.3291],\"rho_j\"=>[0.800997],\"eta_CD\"=>[0.246325],\"B_0\"=>[6.0],\"success\"=>Bool[true],\"constraint\"=>AbstractString[\"wall\"],\"limits\"=>DataStructures.OrderedDict{Any,Any}(\"beta\"=>[0.868498],\"wall\"=>[1.00199])),\"main_constraint = \\\"beta\\\"\"=>DataStructures.OrderedDict{Any,Any}(\"R_0\"=>[8.42628],\"T_k\"=>[23.8698],\"rho_j\"=>[0.823299],\"eta_CD\"=>[0.224639],\"B_0\"=>[6.0],\"success\"=>Bool[true],\"constraint\"=>AbstractString[\"beta\"],\"limits\"=>DataStructures.OrderedDict{Any,Any}(\"beta\"=>[1.0003],\"wall\"=>[1.45069])))))),\"f_DT = 0.85\"=>DataStructures.OrderedDict{Any,Any}(\"nu_n = 0.33\"=>DataStructures.OrderedDict{Any,Any}(\"delta = 0.63\"=>DataStructures.OrderedDict{Any,Any}(\"wave_theta = 150.0\"=>DataStructures.OrderedDict{Any,Any}(\"main_constraint = \\\"wall\\\"\"=>DataStructures.OrderedDict{Any,Any}(\"R_0\"=>[10.3122],\"T_k\"=>[25.6443],\"rho_j\"=>[0.810006],\"eta_CD\"=>[0.255983],\"B_0\"=>[6.0],\"success\"=>Bool[true],\"constraint\"=>AbstractString[\"wall\"],\"limits\"=>DataStructures.OrderedDict{Any,Any}(\"beta\"=>[0.884339],\"wall\"=>[0.998198])),\"main_constraint = \\\"beta\\\"\"=>DataStructures.OrderedDict{Any,Any}(\"R_0\"=>[9.31042],\"T_k\"=>[26.1956],\"rho_j\"=>[0.828341],\"eta_CD\"=>[0.236942],\"B_0\"=>[6.0],\"success\"=>Bool[true],\"constraint\"=>AbstractString[\"beta\"],\"limits\"=>DataStructures.OrderedDict{Any,Any}(\"beta\"=>[1.00055],\"wall\"=>[1.37772]))),\"wave_theta = 140.0\"=>DataStructures.OrderedDict{Any,Any}(\"main_constraint = \\\"wall\\\"\"=>DataStructures.OrderedDict{Any,Any}(\"R_0\"=>[10.4734],\"T_k\"=>[26.1164],\"rho_j\"=>[0.815512],\"eta_CD\"=>[0.252982],\"B_0\"=>[6.0],\"success\"=>Bool[true],\"constraint\"=>AbstractString[\"wall\"],\"limits\"=>DataStructures.OrderedDict{Any,Any}(\"beta\"=>[0.886762],\"wall\"=>[0.998392])),\"main_constraint = \\\"beta\\\"\"=>DataStructures.OrderedDict{Any,Any}(\"R_0\"=>[9.4935],\"T_k\"=>[26.715],\"rho_j\"=>[0.83322],\"eta_CD\"=>[0.234539],\"B_0\"=>[6.0],\"success\"=>Bool[true],\"constraint\"=>AbstractString[\"beta\"],\"limits\"=>DataStructures.OrderedDict{Any,Any}(\"beta\"=>[1.00071],\"wall\"=>[1.36776])))),\"delta = 0.6\"=>DataStructures.OrderedDict{Any,Any}(\"wave_theta = 150.0\"=>DataStructures.OrderedDict{Any,Any}(\"main_constraint = \\\"wall\\\"\"=>DataStructures.OrderedDict{Any,Any}(\"R_0\"=>[10.1796],\"T_k\"=>[25.2475],\"rho_j\"=>[0.808189],\"eta_CD\"=>[0.254818],\"B_0\"=>[6.0],\"success\"=>Bool[true],\"constraint\"=>AbstractString[\"wall\"],\"limits\"=>DataStructures.OrderedDict{Any,Any}(\"beta\"=>[0.881996],\"wall\"=>[0.997954])),\"main_constraint = \\\"beta\\\"\"=>DataStructures.OrderedDict{Any,Any}(\"R_0\"=>[9.15966],\"T_k\"=>[25.7692],\"rho_j\"=>[0.827],\"eta_CD\"=>[0.235309],\"B_0\"=>[6.0],\"success\"=>Bool[true],\"constraint\"=>AbstractString[\"beta\"],\"limits\"=>DataStructures.OrderedDict{Any,Any}(\"beta\"=>[1.00047],\"wall\"=>[1.38741]))),\"wave_theta = 140.0\"=>DataStructures.OrderedDict{Any,Any}(\"main_constraint = \\\"wall\\\"\"=>DataStructures.OrderedDict{Any,Any}(\"R_0\"=>[10.333],\"T_k\"=>[25.6947],\"rho_j\"=>[0.813666],\"eta_CD\"=>[0.251789],\"B_0\"=>[6.0],\"success\"=>Bool[true],\"constraint\"=>AbstractString[\"wall\"],\"limits\"=>DataStructures.OrderedDict{Any,Any}(\"beta\"=>[0.884297],\"wall\"=>[0.998097])),\"main_constraint = \\\"beta\\\"\"=>DataStructures.OrderedDict{Any,Any}(\"R_0\"=>[9.33337],\"T_k\"=>[26.2608],\"rho_j\"=>[0.83187],\"eta_CD\"=>[0.232856],\"B_0\"=>[6.0],\"success\"=>Bool[true],\"constraint\"=>AbstractString[\"beta\"],\"limits\"=>DataStructures.OrderedDict{Any,Any}(\"beta\"=>[1.00057],\"wall\"=>[1.37766]))))),\"nu_n = 0.31\"=>DataStructures.OrderedDict{Any,Any}(\"delta = 0.63\"=>DataStructures.OrderedDict{Any,Any}(\"wave_theta = 150.0\"=>DataStructures.OrderedDict{Any,Any}(\"main_constraint = \\\"wall\\\"\"=>DataStructures.OrderedDict{Any,Any}(\"R_0\"=>[12.057],\"T_k\"=>[31.2041],\"rho_j\"=>[0.830855],\"eta_CD\"=>[0.271835],\"B_0\"=>[6.0],\"success\"=>Bool[true],\"constraint\"=>AbstractString[\"wall\"],\"limits\"=>DataStructures.OrderedDict{Any,Any}(\"beta\"=>[0.913878],\"wall\"=>[1.00729])),\"main_constraint = \\\"beta\\\"\"=>DataStructures.OrderedDict{Any,Any}(\"R_0\"=>[11.3452],\"T_k\"=>[32.1493],\"rho_j\"=>[0.843856],\"eta_CD\"=>[0.25866],\"B_0\"=>[6.0],\"success\"=>Bool[true],\"constraint\"=>AbstractString[\"beta\"],\"limits\"=>DataStructures.OrderedDict{Any,Any}(\"beta\"=>[1.00063],\"wall\"=>[1.26395]))),\"wave_theta = 140.0\"=>DataStructures.OrderedDict{Any,Any}(\"main_constraint = \\\"wall\\\"\"=>DataStructures.OrderedDict{Any,Any}(\"R_0\"=>[12.3835],\"T_k\"=>[32.0973],\"rho_j\"=>[0.836537],\"eta_CD\"=>[0.269711],\"B_0\"=>[6.0],\"success\"=>Bool[true],\"constraint\"=>AbstractString[\"wall\"],\"limits\"=>DataStructures.OrderedDict{Any,Any}(\"beta\"=>[0.915254],\"wall\"=>[0.998868])),\"main_constraint = \\\"beta\\\"\"=>DataStructures.OrderedDict{Any,Any}(\"R_0\"=>[NaN],\"T_k\"=>[NaN],\"rho_j\"=>[NaN],\"eta_CD\"=>[NaN],\"B_0\"=>[6.0],\"success\"=>Bool[false],\"constraint\"=>AbstractString[\"x\"],\"limits\"=>DataStructures.OrderedDict{Any,Any}(\"beta\"=>[NaN],\"wall\"=>[NaN])))),\"delta = 0.6\"=>DataStructures.OrderedDict{Any,Any}(\"wave_theta = 150.0\"=>DataStructures.OrderedDict{Any,Any}(\"main_constraint = \\\"wall\\\"\"=>DataStructures.OrderedDict{Any,Any}(\"R_0\"=>[11.8427],\"T_k\"=>[30.5033],\"rho_j\"=>[0.828336],\"eta_CD\"=>[0.270302],\"B_0\"=>[6.0],\"success\"=>Bool[true],\"constraint\"=>AbstractString[\"wall\"],\"limits\"=>DataStructures.OrderedDict{Any,Any}(\"beta\"=>[0.909519],\"wall\"=>[1.00471])),\"main_constraint = \\\"beta\\\"\"=>DataStructures.OrderedDict{Any,Any}(\"R_0\"=>[11.0674],\"T_k\"=>[31.3559],\"rho_j\"=>[0.841898],\"eta_CD\"=>[0.256145],\"B_0\"=>[6.0],\"success\"=>Bool[true],\"constraint\"=>AbstractString[\"beta\"],\"limits\"=>DataStructures.OrderedDict{Any,Any}(\"beta\"=>[1.00043],\"wall\"=>[1.27675]))),\"wave_theta = 140.0\"=>DataStructures.OrderedDict{Any,Any}(\"main_constraint = \\\"wall\\\"\"=>DataStructures.OrderedDict{Any,Any}(\"R_0\"=>[12.1217],\"T_k\"=>[31.4029],\"rho_j\"=>[0.834613],\"eta_CD\"=>[0.267615],\"B_0\"=>[6.0],\"success\"=>Bool[true],\"constraint\"=>AbstractString[\"wall\"],\"limits\"=>DataStructures.OrderedDict{Any,Any}(\"beta\"=>[0.914791],\"wall\"=>[1.0082])),\"main_constraint = \\\"beta\\\"\"=>DataStructures.OrderedDict{Any,Any}(\"R_0\"=>[11.4274],\"T_k\"=>[32.3859],\"rho_j\"=>[0.847353],\"eta_CD\"=>[0.254772],\"B_0\"=>[6.0],\"success\"=>Bool[true],\"constraint\"=>AbstractString[\"beta\"],\"limits\"=>DataStructures.OrderedDict{Any,Any}(\"beta\"=>[1.00075],\"wall\"=>[1.26182]))))))),\"rho_m = 0.66\"=>DataStructures.OrderedDict{Any,Any}(\"f_DT = 0.9\"=>DataStructures.OrderedDict{Any,Any}(\"nu_n = 0.33\"=>DataStructures.OrderedDict{Any,Any}(\"delta = 0.63\"=>DataStructures.OrderedDict{Any,Any}(\"wave_theta = 150.0\"=>DataStructures.OrderedDict{Any,Any}(\"main_constraint = \\\"wall\\\"\"=>DataStructures.OrderedDict{Any,Any}(\"R_0\"=>[9.25434],\"T_k\"=>[22.4625],\"rho_j\"=>[0.791841],\"eta_CD\"=>[0.248589],\"B_0\"=>[6.0],\"success\"=>Bool[true],\"constraint\"=>AbstractString[\"wall\"],\"limits\"=>DataStructures.OrderedDict{Any,Any}(\"beta\"=>[0.863162],\"wall\"=>[0.9996])),\"main_constraint = \\\"beta\\\"\"=>DataStructures.OrderedDict{Any,Any}(\"R_0\"=>[8.1265],\"T_k\"=>[22.909],\"rho_j\"=>[0.815847],\"eta_CD\"=>[0.225406],\"B_0\"=>[6.0],\"success\"=>Bool[true],\"constraint\"=>AbstractString[\"beta\"],\"limits\"=>DataStructures.OrderedDict{Any,Any}(\"beta\"=>[1.00249],\"wall\"=>[1.48092]))),\"wave_theta = 140.0\"=>DataStructures.OrderedDict{Any,Any}(\"main_constraint = \\\"wall\\\"\"=>DataStructures.OrderedDict{Any,Any}(\"R_0\"=>[9.35993],\"T_k\"=>[22.7686],\"rho_j\"=>[0.797293],\"eta_CD\"=>[0.245363],\"B_0\"=>[6.0],\"success\"=>Bool[true],\"constraint\"=>AbstractString[\"wall\"],\"limits\"=>DataStructures.OrderedDict{Any,Any}(\"beta\"=>[0.865056],\"wall\"=>[1.00031])),\"main_constraint = \\\"beta\\\"\"=>DataStructures.OrderedDict{Any,Any}(\"R_0\"=>[8.24197],\"T_k\"=>[23.2471],\"rho_j\"=>[0.820694],\"eta_CD\"=>[0.222604],\"B_0\"=>[6.0],\"success\"=>Bool[true],\"constraint\"=>AbstractString[\"beta\"],\"limits\"=>DataStructures.OrderedDict{Any,Any}(\"beta\"=>[1.00304],\"wall\"=>[1.475])))),\"delta = 0.6\"=>DataStructures.OrderedDict{Any,Any}(\"wave_theta = 150.0\"=>DataStructures.OrderedDict{Any,Any}(\"main_constraint = \\\"wall\\\"\"=>DataStructures.OrderedDict{Any,Any}(\"R_0\"=>[9.16601],\"T_k\"=>[22.198],\"rho_j\"=>[0.790304],\"eta_CD\"=>[0.247757],\"B_0\"=>[6.0],\"success\"=>Bool[true],\"constraint\"=>AbstractString[\"wall\"],\"limits\"=>DataStructures.OrderedDict{Any,Any}(\"beta\"=>[0.861219],\"wall\"=>[0.998907])),\"main_constraint = \\\"beta\\\"\"=>DataStructures.OrderedDict{Any,Any}(\"R_0\"=>[8.02905],\"T_k\"=>[22.6256],\"rho_j\"=>[0.81474],\"eta_CD\"=>[0.224244],\"B_0\"=>[6.0],\"success\"=>Bool[true],\"constraint\"=>AbstractString[\"beta\"],\"limits\"=>DataStructures.OrderedDict{Any,Any}(\"beta\"=>[1.00211],\"wall\"=>[1.48766]))),\"wave_theta = 140.0\"=>DataStructures.OrderedDict{Any,Any}(\"main_constraint = \\\"wall\\\"\"=>DataStructures.OrderedDict{Any,Any}(\"R_0\"=>[9.2686],\"T_k\"=>[22.4933],\"rho_j\"=>[0.795757],\"eta_CD\"=>[0.24453],\"B_0\"=>[6.0],\"success\"=>Bool[true],\"constraint\"=>AbstractString[\"wall\"],\"limits\"=>DataStructures.OrderedDict{Any,Any}(\"beta\"=>[0.863016],\"wall\"=>[0.999486])),\"main_constraint = \\\"beta\\\"\"=>DataStructures.OrderedDict{Any,Any}(\"R_0\"=>[8.14097],\"T_k\"=>[22.9514],\"rho_j\"=>[0.819575],\"eta_CD\"=>[0.221436],\"B_0\"=>[6.0],\"success\"=>Bool[true],\"constraint\"=>AbstractString[\"beta\"],\"limits\"=>DataStructures.OrderedDict{Any,Any}(\"beta\"=>[1.00257],\"wall\"=>[1.48163]))))),\"nu_n = 0.31\"=>DataStructures.OrderedDict{Any,Any}(\"delta = 0.63\"=>DataStructures.OrderedDict{Any,Any}(\"wave_theta = 150.0\"=>DataStructures.OrderedDict{Any,Any}(\"main_constraint = \\\"wall\\\"\"=>DataStructures.OrderedDict{Any,Any}(\"R_0\"=>[10.3717],\"T_k\"=>[25.8408],\"rho_j\"=>[0.807419],\"eta_CD\"=>[0.260948],\"B_0\"=>[6.0],\"success\"=>Bool[true],\"constraint\"=>AbstractString[\"wall\"],\"limits\"=>DataStructures.OrderedDict{Any,Any}(\"beta\"=>[0.879774],\"wall\"=>[0.99772])),\"main_constraint = \\\"beta\\\"\"=>DataStructures.OrderedDict{Any,Any}(\"R_0\"=>[9.4269],\"T_k\"=>[26.7102],\"rho_j\"=>[0.827583],\"eta_CD\"=>[0.24199],\"B_0\"=>[6.0],\"success\"=>Bool[true],\"constraint\"=>AbstractString[\"beta\"],\"limits\"=>DataStructures.OrderedDict{Any,Any}(\"beta\"=>[1.00052],\"wall\"=>[1.39007]))),\"wave_theta = 140.0\"=>DataStructures.OrderedDict{Any,Any}(\"main_constraint = \\\"wall\\\"\"=>DataStructures.OrderedDict{Any,Any}(\"R_0\"=>[10.5366],\"T_k\"=>[26.3238],\"rho_j\"=>[0.813044],\"eta_CD\"=>[0.257906],\"B_0\"=>[6.0],\"success\"=>Bool[true],\"constraint\"=>AbstractString[\"wall\"],\"limits\"=>DataStructures.OrderedDict{Any,Any}(\"beta\"=>[0.882195],\"wall\"=>[0.997858])),\"main_constraint = \\\"beta\\\"\"=>DataStructures.OrderedDict{Any,Any}(\"R_0\"=>[9.6181],\"T_k\"=>[27.2558],\"rho_j\"=>[0.832552],\"eta_CD\"=>[0.239572],\"B_0\"=>[6.0],\"success\"=>Bool[true],\"constraint\"=>AbstractString[\"beta\"],\"limits\"=>DataStructures.OrderedDict{Any,Any}(\"beta\"=>[1.00066],\"wall\"=>[1.37967])))),\"delta = 0.6\"=>DataStructures.OrderedDict{Any,Any}(\"wave_theta = 150.0\"=>DataStructures.OrderedDict{Any,Any}(\"main_constraint = \\\"wall\\\"\"=>DataStructures.OrderedDict{Any,Any}(\"R_0\"=>[10.2485],\"T_k\"=>[25.4694],\"rho_j\"=>[0.805658],\"eta_CD\"=>[0.259899],\"B_0\"=>[6.0],\"success\"=>Bool[true],\"constraint\"=>AbstractString[\"wall\"],\"limits\"=>DataStructures.OrderedDict{Any,Any}(\"beta\"=>[0.877554],\"wall\"=>[0.99751])),\"main_constraint = \\\"beta\\\"\"=>DataStructures.OrderedDict{Any,Any}(\"R_0\"=>[9.28502],\"T_k\"=>[26.3064],\"rho_j\"=>[0.826333],\"eta_CD\"=>[0.240482],\"B_0\"=>[6.0],\"success\"=>Bool[true],\"constraint\"=>AbstractString[\"beta\"],\"limits\"=>DataStructures.OrderedDict{Any,Any}(\"beta\"=>[1.00045],\"wall\"=>[1.39944]))),\"wave_theta = 140.0\"=>DataStructures.OrderedDict{Any,Any}(\"main_constraint = \\\"wall\\\"\"=>DataStructures.OrderedDict{Any,Any}(\"R_0\"=>[10.4064],\"T_k\"=>[25.9299],\"rho_j\"=>[0.811245],\"eta_CD\"=>[0.256835],\"B_0\"=>[6.0],\"success\"=>Bool[true],\"constraint\"=>AbstractString[\"wall\"],\"limits\"=>DataStructures.OrderedDict{Any,Any}(\"beta\"=>[0.879869],\"wall\"=>[0.997612])),\"main_constraint = \\\"beta\\\"\"=>DataStructures.OrderedDict{Any,Any}(\"R_0\"=>[9.46747],\"T_k\"=>[26.826],\"rho_j\"=>[0.831257],\"eta_CD\"=>[0.238025],\"B_0\"=>[6.0],\"success\"=>Bool[true],\"constraint\"=>AbstractString[\"beta\"],\"limits\"=>DataStructures.OrderedDict{Any,Any}(\"beta\"=>[1.00055],\"wall\"=>[1.38926])))))),\"f_DT = 0.85\"=>DataStructures.OrderedDict{Any,Any}(\"nu_n = 0.33\"=>DataStructures.OrderedDict{Any,Any}(\"delta = 0.63\"=>DataStructures.OrderedDict{Any,Any}(\"wave_theta = 150.0\"=>DataStructures.OrderedDict{Any,Any}(\"main_constraint = \\\"wall\\\"\"=>DataStructures.OrderedDict{Any,Any}(\"R_0\"=>[11.5682],\"T_k\"=>[29.3964],\"rho_j\"=>[0.823579],\"eta_CD\"=>[0.268642],\"B_0\"=>[6.0],\"success\"=>Bool[true],\"constraint\"=>AbstractString[\"wall\"],\"limits\"=>DataStructures.OrderedDict{Any,Any}(\"beta\"=>[0.903666],\"wall\"=>[1.00223])),\"main_constraint = \\\"beta\\\"\"=>DataStructures.OrderedDict{Any,Any}(\"R_0\"=>[10.7749],\"T_k\"=>[30.3097],\"rho_j\"=>[0.83848],\"eta_CD\"=>[0.253827],\"B_0\"=>[6.0],\"success\"=>Bool[true],\"constraint\"=>AbstractString[\"beta\"],\"limits\"=>DataStructures.OrderedDict{Any,Any}(\"beta\"=>[1.00034],\"wall\"=>[1.29691]))),\"wave_theta = 140.0\"=>DataStructures.OrderedDict{Any,Any}(\"main_constraint = \\\"wall\\\"\"=>DataStructures.OrderedDict{Any,Any}(\"R_0\"=>[11.8179],\"T_k\"=>[30.1734],\"rho_j\"=>[0.829603],\"eta_CD\"=>[0.265931],\"B_0\"=>[6.0],\"success\"=>Bool[true],\"constraint\"=>AbstractString[\"wall\"],\"limits\"=>DataStructures.OrderedDict{Any,Any}(\"beta\"=>[0.907955],\"wall\"=>[1.00425])),\"main_constraint = \\\"beta\\\"\"=>DataStructures.OrderedDict{Any,Any}(\"R_0\"=>[11.0325],\"T_k\"=>[31.0368],\"rho_j\"=>[0.84329],\"eta_CD\"=>[0.25177],\"B_0\"=>[6.0],\"success\"=>Bool[true],\"constraint\"=>AbstractString[\"beta\"],\"limits\"=>DataStructures.OrderedDict{Any,Any}(\"beta\"=>[1.00043],\"wall\"=>[1.28256])))),\"delta = 0.6\"=>DataStructures.OrderedDict{Any,Any}(\"wave_theta = 150.0\"=>DataStructures.OrderedDict{Any,Any}(\"main_constraint = \\\"wall\\\"\"=>DataStructures.OrderedDict{Any,Any}(\"R_0\"=>[11.3831],\"T_k\"=>[28.8176],\"rho_j\"=>[0.821352],\"eta_CD\"=>[0.267207],\"B_0\"=>[6.0],\"success\"=>Bool[true],\"constraint\"=>AbstractString[\"wall\"],\"limits\"=>DataStructures.OrderedDict{Any,Any}(\"beta\"=>[0.90028],\"wall\"=>[1.00109])),\"main_constraint = \\\"beta\\\"\"=>DataStructures.OrderedDict{Any,Any}(\"R_0\"=>[10.564],\"T_k\"=>[29.7949],\"rho_j\"=>[0.837383],\"eta_CD\"=>[0.251711],\"B_0\"=>[6.0],\"success\"=>Bool[true],\"constraint\"=>AbstractString[\"beta\"],\"limits\"=>DataStructures.OrderedDict{Any,Any}(\"beta\"=>[1.00299],\"wall\"=>[1.31866]))),\"wave_theta = 140.0\"=>DataStructures.OrderedDict{Any,Any}(\"main_constraint = \\\"wall\\\"\"=>DataStructures.OrderedDict{Any,Any}(\"R_0\"=>[11.6172],\"T_k\"=>[29.5359],\"rho_j\"=>[0.827264],\"eta_CD\"=>[0.264451],\"B_0\"=>[6.0],\"success\"=>Bool[true],\"constraint\"=>AbstractString[\"wall\"],\"limits\"=>DataStructures.OrderedDict{Any,Any}(\"beta\"=>[0.904124],\"wall\"=>[1.00251])),\"main_constraint = \\\"beta\\\"\"=>DataStructures.OrderedDict{Any,Any}(\"R_0\"=>[10.8263],\"T_k\"=>[30.4547],\"rho_j\"=>[0.8419],\"eta_CD\"=>[0.249754],\"B_0\"=>[6.0],\"success\"=>Bool[true],\"constraint\"=>AbstractString[\"beta\"],\"limits\"=>DataStructures.OrderedDict{Any,Any}(\"beta\"=>[1.00035],\"wall\"=>[1.29505]))))),\"nu_n = 0.31\"=>DataStructures.OrderedDict{Any,Any}(\"delta = 0.63\"=>DataStructures.OrderedDict{Any,Any}(\"wave_theta = 150.0\"=>DataStructures.OrderedDict{Any,Any}(\"main_constraint = \\\"wall\\\"\"=>DataStructures.OrderedDict{Any,Any}(\"R_0\"=>[14.517],\"T_k\"=>[39.3448],\"rho_j\"=>[0.853224],\"eta_CD\"=>[0.290154],\"B_0\"=>[6.0],\"success\"=>Bool[true],\"constraint\"=>AbstractString[\"wall\"],\"limits\"=>DataStructures.OrderedDict{Any,Any}(\"beta\"=>[0.957034],\"wall\"=>[1.03867])),\"main_constraint = \\\"beta\\\"\"=>DataStructures.OrderedDict{Any,Any}(\"R_0\"=>[NaN],\"T_k\"=>[NaN],\"rho_j\"=>[NaN],\"eta_CD\"=>[NaN],\"B_0\"=>[6.0],\"success\"=>Bool[false],\"constraint\"=>AbstractString[\"x\"],\"limits\"=>DataStructures.OrderedDict{Any,Any}(\"beta\"=>[NaN],\"wall\"=>[NaN]))),\"wave_theta = 140.0\"=>DataStructures.OrderedDict{Any,Any}(\"main_constraint = \\\"wall\\\"\"=>DataStructures.OrderedDict{Any,Any}(\"R_0\"=>[14.2618],\"T_k\"=>[39.2768],\"rho_j\"=>[0.857259],\"eta_CD\"=>[0.28226],\"B_0\"=>[6.0],\"success\"=>Bool[true],\"constraint\"=>AbstractString[\"wall\"],\"limits\"=>DataStructures.OrderedDict{Any,Any}(\"beta\"=>[0.972477],\"wall\"=>[1.06288])),\"main_constraint = \\\"beta\\\"\"=>DataStructures.OrderedDict{Any,Any}(\"R_0\"=>[NaN],\"T_k\"=>[NaN],\"rho_j\"=>[NaN],\"eta_CD\"=>[NaN],\"B_0\"=>[6.0],\"success\"=>Bool[false],\"constraint\"=>AbstractString[\"x\"],\"limits\"=>DataStructures.OrderedDict{Any,Any}(\"beta\"=>[NaN],\"wall\"=>[NaN])))),\"delta = 0.6\"=>DataStructures.OrderedDict{Any,Any}(\"wave_theta = 150.0\"=>DataStructures.OrderedDict{Any,Any}(\"main_constraint = \\\"wall\\\"\"=>DataStructures.OrderedDict{Any,Any}(\"R_0\"=>[13.9641],\"T_k\"=>[37.1644],\"rho_j\"=>[0.846983],\"eta_CD\"=>[0.287429],\"B_0\"=>[6.0],\"success\"=>Bool[true],\"constraint\"=>AbstractString[\"wall\"],\"limits\"=>DataStructures.OrderedDict{Any,Any}(\"beta\"=>[0.939787],\"wall\"=>[1.01298])),\"main_constraint = \\\"beta\\\"\"=>DataStructures.OrderedDict{Any,Any}(\"R_0\"=>[NaN],\"T_k\"=>[NaN],\"rho_j\"=>[NaN],\"eta_CD\"=>[NaN],\"B_0\"=>[6.0],\"success\"=>Bool[false],\"constraint\"=>AbstractString[\"x\"],\"limits\"=>DataStructures.OrderedDict{Any,Any}(\"beta\"=>[NaN],\"wall\"=>[NaN]))),\"wave_theta = 140.0\"=>DataStructures.OrderedDict{Any,Any}(\"main_constraint = \\\"wall\\\"\"=>DataStructures.OrderedDict{Any,Any}(\"R_0\"=>[14.5682],\"T_k\"=>[39.3067],\"rho_j\"=>[0.855494],\"eta_CD\"=>[0.285738],\"B_0\"=>[6.0],\"success\"=>Bool[true],\"constraint\"=>AbstractString[\"wall\"],\"limits\"=>DataStructures.OrderedDict{Any,Any}(\"beta\"=>[0.952749],\"wall\"=>[1.02324])),\"main_constraint = \\\"beta\\\"\"=>DataStructures.OrderedDict{Any,Any}(\"R_0\"=>[NaN],\"T_k\"=>[NaN],\"rho_j\"=>[NaN],\"eta_CD\"=>[NaN],\"B_0\"=>[6.0],\"success\"=>Bool[false],\"constraint\"=>AbstractString[\"x\"],\"limits\"=>DataStructures.OrderedDict{Any,Any}(\"beta\"=>[NaN],\"wall\"=>[NaN]))))))))\n",
    "\n",
    "cur_dict_2 = DataStructures.OrderedDict{Any,Any}(\"rho_m = 0.7\"=>DataStructures.OrderedDict{Any,Any}(\"f_DT = 0.9\"=>DataStructures.OrderedDict{Any,Any}(\"nu_n = 0.33\"=>DataStructures.OrderedDict{Any,Any}(\"delta = 0.575\"=>DataStructures.OrderedDict{Any,Any}(\"wave_theta = 150.0\"=>DataStructures.OrderedDict{Any,Any}(\"main_constraint = \\\"wall\\\"\"=>DataStructures.OrderedDict{Any,Any}(\"R_0\"=>[8.4083],\"T_k\"=>[20.0626],\"rho_j\"=>[0.779545],\"eta_CD\"=>[0.237766],\"B_0\"=>[6.0],\"success\"=>Bool[true],\"constraint\"=>AbstractString[\"wall\"],\"limits\"=>DataStructures.OrderedDict{Any,Any}(\"beta\"=>[0.848513],\"wall\"=>[0.995985])),\"main_constraint = \\\"beta\\\"\"=>DataStructures.OrderedDict{Any,Any}(\"R_0\"=>[7.1922],\"T_k\"=>[20.2354],\"rho_j\"=>[0.806969],\"eta_CD\"=>[0.211481],\"B_0\"=>[6.0],\"success\"=>Bool[true],\"constraint\"=>AbstractString[\"beta\"],\"limits\"=>DataStructures.OrderedDict{Any,Any}(\"beta\"=>[1.00053],\"wall\"=>[1.54234]))),\"wave_theta = 140.0\"=>DataStructures.OrderedDict{Any,Any}(\"main_constraint = \\\"wall\\\"\"=>DataStructures.OrderedDict{Any,Any}(\"R_0\"=>[8.48578],\"T_k\"=>[20.2768],\"rho_j\"=>[0.784938],\"eta_CD\"=>[0.234517],\"B_0\"=>[6.0],\"success\"=>Bool[true],\"constraint\"=>AbstractString[\"wall\"],\"limits\"=>DataStructures.OrderedDict{Any,Any}(\"beta\"=>[0.849745],\"wall\"=>[0.995973])),\"main_constraint = \\\"beta\\\"\"=>DataStructures.OrderedDict{Any,Any}(\"R_0\"=>[7.27345],\"T_k\"=>[20.4655],\"rho_j\"=>[0.811728],\"eta_CD\"=>[0.208582],\"B_0\"=>[6.0],\"success\"=>Bool[true],\"constraint\"=>AbstractString[\"beta\"],\"limits\"=>DataStructures.OrderedDict{Any,Any}(\"beta\"=>[1.0006],\"wall\"=>[1.53646])))),\"delta = 0.63\"=>DataStructures.OrderedDict{Any,Any}(\"wave_theta = 150.0\"=>DataStructures.OrderedDict{Any,Any}(\"main_constraint = \\\"wall\\\"\"=>DataStructures.OrderedDict{Any,Any}(\"R_0\"=>[8.54291],\"T_k\"=>[20.4518],\"rho_j\"=>[0.78211],\"eta_CD\"=>[0.23916],\"B_0\"=>[6.0],\"success\"=>Bool[true],\"constraint\"=>AbstractString[\"wall\"],\"limits\"=>DataStructures.OrderedDict{Any,Any}(\"beta\"=>[0.851344],\"wall\"=>[0.996359])),\"main_constraint = \\\"beta\\\"\"=>DataStructures.OrderedDict{Any,Any}(\"R_0\"=>[7.33742],\"T_k\"=>[20.6468],\"rho_j\"=>[0.808702],\"eta_CD\"=>[0.213407],\"B_0\"=>[6.0],\"success\"=>Bool[true],\"constraint\"=>AbstractString[\"beta\"],\"limits\"=>DataStructures.OrderedDict{Any,Any}(\"beta\"=>[1.00067],\"wall\"=>[1.5294]))),\"wave_theta = 140.0\"=>DataStructures.OrderedDict{Any,Any}(\"main_constraint = \\\"wall\\\"\"=>DataStructures.OrderedDict{Any,Any}(\"R_0\"=>[8.62438],\"T_k\"=>[20.6787],\"rho_j\"=>[0.787473],\"eta_CD\"=>[0.235913],\"B_0\"=>[6.0],\"success\"=>Bool[true],\"constraint\"=>AbstractString[\"wall\"],\"limits\"=>DataStructures.OrderedDict{Any,Any}(\"beta\"=>[0.852658],\"wall\"=>[0.996414])),\"main_constraint = \\\"beta\\\"\"=>DataStructures.OrderedDict{Any,Any}(\"R_0\"=>[7.42342],\"T_k\"=>[20.8911],\"rho_j\"=>[0.813438],\"eta_CD\"=>[0.210523],\"B_0\"=>[6.0],\"success\"=>Bool[true],\"constraint\"=>AbstractString[\"beta\"],\"limits\"=>DataStructures.OrderedDict{Any,Any}(\"beta\"=>[1.00078],\"wall\"=>[1.52342])))),\"delta = 0.6\"=>DataStructures.OrderedDict{Any,Any}(\"wave_theta = 150.0\"=>DataStructures.OrderedDict{Any,Any}(\"main_constraint = \\\"wall\\\"\"=>DataStructures.OrderedDict{Any,Any}(\"R_0\"=>[8.46887],\"T_k\"=>[20.2374],\"rho_j\"=>[0.7807],\"eta_CD\"=>[0.238397],\"B_0\"=>[6.0],\"success\"=>Bool[true],\"constraint\"=>AbstractString[\"wall\"],\"limits\"=>DataStructures.OrderedDict{Any,Any}(\"beta\"=>[0.849788],\"wall\"=>[0.996141])),\"main_constraint = \\\"beta\\\"\"=>DataStructures.OrderedDict{Any,Any}(\"R_0\"=>[7.25757],\"T_k\"=>[20.4204],\"rho_j\"=>[0.807753],\"eta_CD\"=>[0.212352],\"B_0\"=>[6.0],\"success\"=>Bool[true],\"constraint\"=>AbstractString[\"beta\"],\"limits\"=>DataStructures.OrderedDict{Any,Any}(\"beta\"=>[1.00058],\"wall\"=>[1.53646]))),\"wave_theta = 140.0\"=>DataStructures.OrderedDict{Any,Any}(\"main_constraint = \\\"wall\\\"\"=>DataStructures.OrderedDict{Any,Any}(\"R_0\"=>[8.54816],\"T_k\"=>[20.4574],\"rho_j\"=>[0.786091],\"eta_CD\"=>[0.235148],\"B_0\"=>[6.0],\"success\"=>Bool[true],\"constraint\"=>AbstractString[\"wall\"],\"limits\"=>DataStructures.OrderedDict{Any,Any}(\"beta\"=>[0.851056],\"wall\"=>[0.996159])),\"main_constraint = \\\"beta\\\"\"=>DataStructures.OrderedDict{Any,Any}(\"R_0\"=>[7.34093],\"T_k\"=>[20.6568],\"rho_j\"=>[0.812512],\"eta_CD\"=>[0.209459],\"B_0\"=>[6.0],\"success\"=>Bool[true],\"constraint\"=>AbstractString[\"beta\"],\"limits\"=>DataStructures.OrderedDict{Any,Any}(\"beta\"=>[1.00067],\"wall\"=>[1.53053]))))),\"nu_n = 0.31\"=>DataStructures.OrderedDict{Any,Any}(\"delta = 0.575\"=>DataStructures.OrderedDict{Any,Any}(\"wave_theta = 150.0\"=>DataStructures.OrderedDict{Any,Any}(\"main_constraint = \\\"wall\\\"\"=>DataStructures.OrderedDict{Any,Any}(\"R_0\"=>[9.29682],\"T_k\"=>[22.7647],\"rho_j\"=>[0.794151],\"eta_CD\"=>[0.248892],\"B_0\"=>[6.0],\"success\"=>Bool[true],\"constraint\"=>AbstractString[\"wall\"],\"limits\"=>DataStructures.OrderedDict{Any,Any}(\"beta\"=>[0.864656],\"wall\"=>[1.00022])),\"main_constraint = \\\"beta\\\"\"=>DataStructures.OrderedDict{Any,Any}(\"R_0\"=>[8.18519],\"T_k\"=>[23.2479],\"rho_j\"=>[0.817931],\"eta_CD\"=>[0.225864],\"B_0\"=>[6.0],\"success\"=>Bool[true],\"constraint\"=>AbstractString[\"beta\"],\"limits\"=>DataStructures.OrderedDict{Any,Any}(\"beta\"=>[1.00293],\"wall\"=>[1.47605]))),\"wave_theta = 140.0\"=>DataStructures.OrderedDict{Any,Any}(\"main_constraint = \\\"wall\\\"\"=>DataStructures.OrderedDict{Any,Any}(\"R_0\"=>[9.40567],\"T_k\"=>[23.0844],\"rho_j\"=>[0.799651],\"eta_CD\"=>[0.245629],\"B_0\"=>[6.0],\"success\"=>Bool[true],\"constraint\"=>AbstractString[\"wall\"],\"limits\"=>DataStructures.OrderedDict{Any,Any}(\"beta\"=>[0.866655],\"wall\"=>[1.00108])),\"main_constraint = \\\"beta\\\"\"=>DataStructures.OrderedDict{Any,Any}(\"R_0\"=>[8.35552],\"T_k\"=>[23.6692],\"rho_j\"=>[0.822708],\"eta_CD\"=>[0.223713],\"B_0\"=>[6.0],\"success\"=>Bool[true],\"constraint\"=>AbstractString[\"beta\"],\"limits\"=>DataStructures.OrderedDict{Any,Any}(\"beta\"=>[1.00029],\"wall\"=>[1.45872])))),\"delta = 0.63\"=>DataStructures.OrderedDict{Any,Any}(\"wave_theta = 150.0\"=>DataStructures.OrderedDict{Any,Any}(\"main_constraint = \\\"wall\\\"\"=>DataStructures.OrderedDict{Any,Any}(\"R_0\"=>[9.46756],\"T_k\"=>[23.2877],\"rho_j\"=>[0.797105],\"eta_CD\"=>[0.250432],\"B_0\"=>[6.0],\"success\"=>Bool[true],\"constraint\"=>AbstractString[\"wall\"],\"limits\"=>DataStructures.OrderedDict{Any,Any}(\"beta\"=>[0.868569],\"wall\"=>[1.00203])),\"main_constraint = \\\"beta\\\"\"=>DataStructures.OrderedDict{Any,Any}(\"R_0\"=>[8.42678],\"T_k\"=>[23.8712],\"rho_j\"=>[0.819905],\"eta_CD\"=>[0.228753],\"B_0\"=>[6.0],\"success\"=>Bool[true],\"constraint\"=>AbstractString[\"beta\"],\"limits\"=>DataStructures.OrderedDict{Any,Any}(\"beta\"=>[1.0003],\"wall\"=>[1.45125]))),\"wave_theta = 140.0\"=>DataStructures.OrderedDict{Any,Any}(\"main_constraint = \\\"wall\\\"\"=>DataStructures.OrderedDict{Any,Any}(\"R_0\"=>[9.58255],\"T_k\"=>[23.6311],\"rho_j\"=>[0.802634],\"eta_CD\"=>[0.247166],\"B_0\"=>[6.0],\"success\"=>Bool[true],\"constraint\"=>AbstractString[\"wall\"],\"limits\"=>DataStructures.OrderedDict{Any,Any}(\"beta\"=>[0.8708],\"wall\"=>[1.00326])),\"main_constraint = \\\"beta\\\"\"=>DataStructures.OrderedDict{Any,Any}(\"R_0\"=>[8.54104],\"T_k\"=>[24.1951],\"rho_j\"=>[0.824424],\"eta_CD\"=>[0.225941],\"B_0\"=>[6.0],\"success\"=>Bool[true],\"constraint\"=>AbstractString[\"beta\"],\"limits\"=>DataStructures.OrderedDict{Any,Any}(\"beta\"=>[1.00031],\"wall\"=>[1.44196])))),\"delta = 0.6\"=>DataStructures.OrderedDict{Any,Any}(\"wave_theta = 150.0\"=>DataStructures.OrderedDict{Any,Any}(\"main_constraint = \\\"wall\\\"\"=>DataStructures.OrderedDict{Any,Any}(\"R_0\"=>[9.3736],\"T_k\"=>[22.9989],\"rho_j\"=>[0.795484],\"eta_CD\"=>[0.24959],\"B_0\"=>[6.0],\"success\"=>Bool[true],\"constraint\"=>AbstractString[\"wall\"],\"limits\"=>DataStructures.OrderedDict{Any,Any}(\"beta\"=>[0.866399],\"wall\"=>[1.00098])),\"main_constraint = \\\"beta\\\"\"=>DataStructures.OrderedDict{Any,Any}(\"R_0\"=>[8.27031],\"T_k\"=>[23.4999],\"rho_j\"=>[0.818899],\"eta_CD\"=>[0.226846],\"B_0\"=>[6.0],\"success\"=>Bool[true],\"constraint\"=>AbstractString[\"beta\"],\"limits\"=>DataStructures.OrderedDict{Any,Any}(\"beta\"=>[1.00337],\"wall\"=>[1.47064]))),\"wave_theta = 140.0\"=>DataStructures.OrderedDict{Any,Any}(\"main_constraint = \\\"wall\\\"\"=>DataStructures.OrderedDict{Any,Any}(\"R_0\"=>[9.48519],\"T_k\"=>[23.3291],\"rho_j\"=>[0.800997],\"eta_CD\"=>[0.246325],\"B_0\"=>[6.0],\"success\"=>Bool[true],\"constraint\"=>AbstractString[\"wall\"],\"limits\"=>DataStructures.OrderedDict{Any,Any}(\"beta\"=>[0.868498],\"wall\"=>[1.00199])),\"main_constraint = \\\"beta\\\"\"=>DataStructures.OrderedDict{Any,Any}(\"R_0\"=>[8.42628],\"T_k\"=>[23.8698],\"rho_j\"=>[0.823299],\"eta_CD\"=>[0.224639],\"B_0\"=>[6.0],\"success\"=>Bool[true],\"constraint\"=>AbstractString[\"beta\"],\"limits\"=>DataStructures.OrderedDict{Any,Any}(\"beta\"=>[1.0003],\"wall\"=>[1.45069])))))),\"f_DT = 0.85\"=>DataStructures.OrderedDict{Any,Any}(\"nu_n = 0.33\"=>DataStructures.OrderedDict{Any,Any}(\"delta = 0.575\"=>DataStructures.OrderedDict{Any,Any}(\"wave_theta = 150.0\"=>DataStructures.OrderedDict{Any,Any}(\"main_constraint = \\\"wall\\\"\"=>DataStructures.OrderedDict{Any,Any}(\"R_0\"=>[10.0744],\"T_k\"=>[24.9334],\"rho_j\"=>[0.806744],\"eta_CD\"=>[0.253852],\"B_0\"=>[6.0],\"success\"=>Bool[true],\"constraint\"=>AbstractString[\"wall\"],\"limits\"=>DataStructures.OrderedDict{Any,Any}(\"beta\"=>[0.880121],\"wall\"=>[0.997808])),\"main_constraint = \\\"beta\\\"\"=>DataStructures.OrderedDict{Any,Any}(\"R_0\"=>[9.03862],\"T_k\"=>[25.4274],\"rho_j\"=>[0.825948],\"eta_CD\"=>[0.233975],\"B_0\"=>[6.0],\"success\"=>Bool[true],\"constraint\"=>AbstractString[\"beta\"],\"limits\"=>DataStructures.OrderedDict{Any,Any}(\"beta\"=>[1.00041],\"wall\"=>[1.39539]))),\"wave_theta = 140.0\"=>DataStructures.OrderedDict{Any,Any}(\"main_constraint = \\\"wall\\\"\"=>DataStructures.OrderedDict{Any,Any}(\"R_0\"=>[10.2203],\"T_k\"=>[25.3574],\"rho_j\"=>[0.812157],\"eta_CD\"=>[0.250819],\"B_0\"=>[6.0],\"success\"=>Bool[true],\"constraint\"=>AbstractString[\"wall\"],\"limits\"=>DataStructures.OrderedDict{Any,Any}(\"beta\"=>[0.882309],\"wall\"=>[0.997883])),\"main_constraint = \\\"beta\\\"\"=>DataStructures.OrderedDict{Any,Any}(\"R_0\"=>[9.20492],\"T_k\"=>[25.8973],\"rho_j\"=>[0.830748],\"eta_CD\"=>[0.231489],\"B_0\"=>[6.0],\"success\"=>Bool[true],\"constraint\"=>AbstractString[\"beta\"],\"limits\"=>DataStructures.OrderedDict{Any,Any}(\"beta\"=>[1.00049],\"wall\"=>[1.38585])))),\"delta = 0.63\"=>DataStructures.OrderedDict{Any,Any}(\"wave_theta = 150.0\"=>DataStructures.OrderedDict{Any,Any}(\"main_constraint = \\\"wall\\\"\"=>DataStructures.OrderedDict{Any,Any}(\"R_0\"=>[10.3122],\"T_k\"=>[25.6443],\"rho_j\"=>[0.810006],\"eta_CD\"=>[0.255983],\"B_0\"=>[6.0],\"success\"=>Bool[true],\"constraint\"=>AbstractString[\"wall\"],\"limits\"=>DataStructures.OrderedDict{Any,Any}(\"beta\"=>[0.884339],\"wall\"=>[0.998198])),\"main_constraint = \\\"beta\\\"\"=>DataStructures.OrderedDict{Any,Any}(\"R_0\"=>[9.31042],\"T_k\"=>[26.1956],\"rho_j\"=>[0.828341],\"eta_CD\"=>[0.236942],\"B_0\"=>[6.0],\"success\"=>Bool[true],\"constraint\"=>AbstractString[\"beta\"],\"limits\"=>DataStructures.OrderedDict{Any,Any}(\"beta\"=>[1.00055],\"wall\"=>[1.37772]))),\"wave_theta = 140.0\"=>DataStructures.OrderedDict{Any,Any}(\"main_constraint = \\\"wall\\\"\"=>DataStructures.OrderedDict{Any,Any}(\"R_0\"=>[10.4734],\"T_k\"=>[26.1164],\"rho_j\"=>[0.815512],\"eta_CD\"=>[0.252982],\"B_0\"=>[6.0],\"success\"=>Bool[true],\"constraint\"=>AbstractString[\"wall\"],\"limits\"=>DataStructures.OrderedDict{Any,Any}(\"beta\"=>[0.886762],\"wall\"=>[0.998392])),\"main_constraint = \\\"beta\\\"\"=>DataStructures.OrderedDict{Any,Any}(\"R_0\"=>[9.4935],\"T_k\"=>[26.715],\"rho_j\"=>[0.83322],\"eta_CD\"=>[0.234539],\"B_0\"=>[6.0],\"success\"=>Bool[true],\"constraint\"=>AbstractString[\"beta\"],\"limits\"=>DataStructures.OrderedDict{Any,Any}(\"beta\"=>[1.00071],\"wall\"=>[1.36776])))),\"delta = 0.6\"=>DataStructures.OrderedDict{Any,Any}(\"wave_theta = 150.0\"=>DataStructures.OrderedDict{Any,Any}(\"main_constraint = \\\"wall\\\"\"=>DataStructures.OrderedDict{Any,Any}(\"R_0\"=>[10.1796],\"T_k\"=>[25.2475],\"rho_j\"=>[0.808189],\"eta_CD\"=>[0.254818],\"B_0\"=>[6.0],\"success\"=>Bool[true],\"constraint\"=>AbstractString[\"wall\"],\"limits\"=>DataStructures.OrderedDict{Any,Any}(\"beta\"=>[0.881996],\"wall\"=>[0.997954])),\"main_constraint = \\\"beta\\\"\"=>DataStructures.OrderedDict{Any,Any}(\"R_0\"=>[9.15966],\"T_k\"=>[25.7692],\"rho_j\"=>[0.827],\"eta_CD\"=>[0.235309],\"B_0\"=>[6.0],\"success\"=>Bool[true],\"constraint\"=>AbstractString[\"beta\"],\"limits\"=>DataStructures.OrderedDict{Any,Any}(\"beta\"=>[1.00047],\"wall\"=>[1.38741]))),\"wave_theta = 140.0\"=>DataStructures.OrderedDict{Any,Any}(\"main_constraint = \\\"wall\\\"\"=>DataStructures.OrderedDict{Any,Any}(\"R_0\"=>[10.333],\"T_k\"=>[25.6947],\"rho_j\"=>[0.813666],\"eta_CD\"=>[0.251789],\"B_0\"=>[6.0],\"success\"=>Bool[true],\"constraint\"=>AbstractString[\"wall\"],\"limits\"=>DataStructures.OrderedDict{Any,Any}(\"beta\"=>[0.884297],\"wall\"=>[0.998097])),\"main_constraint = \\\"beta\\\"\"=>DataStructures.OrderedDict{Any,Any}(\"R_0\"=>[9.33337],\"T_k\"=>[26.2608],\"rho_j\"=>[0.83187],\"eta_CD\"=>[0.232856],\"B_0\"=>[6.0],\"success\"=>Bool[true],\"constraint\"=>AbstractString[\"beta\"],\"limits\"=>DataStructures.OrderedDict{Any,Any}(\"beta\"=>[1.00057],\"wall\"=>[1.37766]))))),\"nu_n = 0.31\"=>DataStructures.OrderedDict{Any,Any}(\"delta = 0.575\"=>DataStructures.OrderedDict{Any,Any}(\"wave_theta = 150.0\"=>DataStructures.OrderedDict{Any,Any}(\"main_constraint = \\\"wall\\\"\"=>DataStructures.OrderedDict{Any,Any}(\"R_0\"=>[11.6734],\"T_k\"=>[29.9586],\"rho_j\"=>[0.826334],\"eta_CD\"=>[0.269057],\"B_0\"=>[6.0],\"success\"=>Bool[true],\"constraint\"=>AbstractString[\"wall\"],\"limits\"=>DataStructures.OrderedDict{Any,Any}(\"beta\"=>[0.906237],\"wall\"=>[1.00313])),\"main_constraint = \\\"beta\\\"\"=>DataStructures.OrderedDict{Any,Any}(\"R_0\"=>[10.905],\"T_k\"=>[30.8939],\"rho_j\"=>[0.840782],\"eta_CD\"=>[0.254566],\"B_0\"=>[6.0],\"success\"=>Bool[true],\"constraint\"=>AbstractString[\"beta\"],\"limits\"=>DataStructures.OrderedDict{Any,Any}(\"beta\"=>[1.00037],\"wall\"=>[1.28733]))),\"wave_theta = 140.0\"=>DataStructures.OrderedDict{Any,Any}(\"main_constraint = \\\"wall\\\"\"=>DataStructures.OrderedDict{Any,Any}(\"R_0\"=>[11.9367],\"T_k\"=>[30.793],\"rho_j\"=>[0.832475],\"eta_CD\"=>[0.266335],\"B_0\"=>[6.0],\"success\"=>Bool[true],\"constraint\"=>AbstractString[\"wall\"],\"limits\"=>DataStructures.OrderedDict{Any,Any}(\"beta\"=>[0.910932],\"wall\"=>[1.00571])),\"main_constraint = \\\"beta\\\"\"=>DataStructures.OrderedDict{Any,Any}(\"R_0\"=>[11.251],\"T_k\"=>[31.8802],\"rho_j\"=>[0.846043],\"eta_CD\"=>[0.253378],\"B_0\"=>[6.0],\"success\"=>Bool[true],\"constraint\"=>AbstractString[\"beta\"],\"limits\"=>DataStructures.OrderedDict{Any,Any}(\"beta\"=>[1.00057],\"wall\"=>[1.27355])))),\"delta = 0.63\"=>DataStructures.OrderedDict{Any,Any}(\"wave_theta = 150.0\"=>DataStructures.OrderedDict{Any,Any}(\"main_constraint = \\\"wall\\\"\"=>DataStructures.OrderedDict{Any,Any}(\"R_0\"=>[12.057],\"T_k\"=>[31.2041],\"rho_j\"=>[0.830855],\"eta_CD\"=>[0.271835],\"B_0\"=>[6.0],\"success\"=>Bool[true],\"constraint\"=>AbstractString[\"wall\"],\"limits\"=>DataStructures.OrderedDict{Any,Any}(\"beta\"=>[0.913878],\"wall\"=>[1.00729])),\"main_constraint = \\\"beta\\\"\"=>DataStructures.OrderedDict{Any,Any}(\"R_0\"=>[11.3452],\"T_k\"=>[32.1493],\"rho_j\"=>[0.843856],\"eta_CD\"=>[0.25866],\"B_0\"=>[6.0],\"success\"=>Bool[true],\"constraint\"=>AbstractString[\"beta\"],\"limits\"=>DataStructures.OrderedDict{Any,Any}(\"beta\"=>[1.00063],\"wall\"=>[1.26395]))),\"wave_theta = 140.0\"=>DataStructures.OrderedDict{Any,Any}(\"main_constraint = \\\"wall\\\"\"=>DataStructures.OrderedDict{Any,Any}(\"R_0\"=>[12.3835],\"T_k\"=>[32.0973],\"rho_j\"=>[0.836537],\"eta_CD\"=>[0.269711],\"B_0\"=>[6.0],\"success\"=>Bool[true],\"constraint\"=>AbstractString[\"wall\"],\"limits\"=>DataStructures.OrderedDict{Any,Any}(\"beta\"=>[0.915254],\"wall\"=>[0.998868])),\"main_constraint = \\\"beta\\\"\"=>DataStructures.OrderedDict{Any,Any}(\"R_0\"=>[NaN],\"T_k\"=>[NaN],\"rho_j\"=>[NaN],\"eta_CD\"=>[NaN],\"B_0\"=>[6.0],\"success\"=>Bool[false],\"constraint\"=>AbstractString[\"x\"],\"limits\"=>DataStructures.OrderedDict{Any,Any}(\"beta\"=>[NaN],\"wall\"=>[NaN])))),\"delta = 0.6\"=>DataStructures.OrderedDict{Any,Any}(\"wave_theta = 150.0\"=>DataStructures.OrderedDict{Any,Any}(\"main_constraint = \\\"wall\\\"\"=>DataStructures.OrderedDict{Any,Any}(\"R_0\"=>[11.8427],\"T_k\"=>[30.5033],\"rho_j\"=>[0.828336],\"eta_CD\"=>[0.270302],\"B_0\"=>[6.0],\"success\"=>Bool[true],\"constraint\"=>AbstractString[\"wall\"],\"limits\"=>DataStructures.OrderedDict{Any,Any}(\"beta\"=>[0.909519],\"wall\"=>[1.00471])),\"main_constraint = \\\"beta\\\"\"=>DataStructures.OrderedDict{Any,Any}(\"R_0\"=>[11.0674],\"T_k\"=>[31.3559],\"rho_j\"=>[0.841898],\"eta_CD\"=>[0.256145],\"B_0\"=>[6.0],\"success\"=>Bool[true],\"constraint\"=>AbstractString[\"beta\"],\"limits\"=>DataStructures.OrderedDict{Any,Any}(\"beta\"=>[1.00043],\"wall\"=>[1.27675]))),\"wave_theta = 140.0\"=>DataStructures.OrderedDict{Any,Any}(\"main_constraint = \\\"wall\\\"\"=>DataStructures.OrderedDict{Any,Any}(\"R_0\"=>[12.1217],\"T_k\"=>[31.4029],\"rho_j\"=>[0.834613],\"eta_CD\"=>[0.267615],\"B_0\"=>[6.0],\"success\"=>Bool[true],\"constraint\"=>AbstractString[\"wall\"],\"limits\"=>DataStructures.OrderedDict{Any,Any}(\"beta\"=>[0.914791],\"wall\"=>[1.0082])),\"main_constraint = \\\"beta\\\"\"=>DataStructures.OrderedDict{Any,Any}(\"R_0\"=>[11.4274],\"T_k\"=>[32.3859],\"rho_j\"=>[0.847353],\"eta_CD\"=>[0.254772],\"B_0\"=>[6.0],\"success\"=>Bool[true],\"constraint\"=>AbstractString[\"beta\"],\"limits\"=>DataStructures.OrderedDict{Any,Any}(\"beta\"=>[1.00075],\"wall\"=>[1.26182]))))))),\"rho_m = 0.66\"=>DataStructures.OrderedDict{Any,Any}(\"f_DT = 0.9\"=>DataStructures.OrderedDict{Any,Any}(\"nu_n = 0.33\"=>DataStructures.OrderedDict{Any,Any}(\"delta = 0.575\"=>DataStructures.OrderedDict{Any,Any}(\"wave_theta = 150.0\"=>DataStructures.OrderedDict{Any,Any}(\"main_constraint = \\\"wall\\\"\"=>DataStructures.OrderedDict{Any,Any}(\"R_0\"=>[9.0938],\"T_k\"=>[21.9829],\"rho_j\"=>[0.789027],\"eta_CD\"=>[0.24707],\"B_0\"=>[6.0],\"success\"=>Bool[true],\"constraint\"=>AbstractString[\"wall\"],\"limits\"=>DataStructures.OrderedDict{Any,Any}(\"beta\"=>[0.859646],\"wall\"=>[0.998407])),\"main_constraint = \\\"beta\\\"\"=>DataStructures.OrderedDict{Any,Any}(\"R_0\"=>[7.94954],\"T_k\"=>[22.3954],\"rho_j\"=>[0.813832],\"eta_CD\"=>[0.223285],\"B_0\"=>[6.0],\"success\"=>Bool[true],\"constraint\"=>AbstractString[\"beta\"],\"limits\"=>DataStructures.OrderedDict{Any,Any}(\"beta\"=>[1.00184],\"wall\"=>[1.49339]))),\"wave_theta = 140.0\"=>DataStructures.OrderedDict{Any,Any}(\"main_constraint = \\\"wall\\\"\"=>DataStructures.OrderedDict{Any,Any}(\"R_0\"=>[9.19392],\"T_k\"=>[22.2695],\"rho_j\"=>[0.794474],\"eta_CD\"=>[0.243843],\"B_0\"=>[6.0],\"success\"=>Bool[true],\"constraint\"=>AbstractString[\"wall\"],\"limits\"=>DataStructures.OrderedDict{Any,Any}(\"beta\"=>[0.86137],\"wall\"=>[0.998886])),\"main_constraint = \\\"beta\\\"\"=>DataStructures.OrderedDict{Any,Any}(\"R_0\"=>[8.0584],\"T_k\"=>[22.711],\"rho_j\"=>[0.818656],\"eta_CD\"=>[0.220471],\"B_0\"=>[6.0],\"success\"=>Bool[true],\"constraint\"=>AbstractString[\"beta\"],\"limits\"=>DataStructures.OrderedDict{Any,Any}(\"beta\"=>[1.00223],\"wall\"=>[1.48727])))),\"delta = 0.63\"=>DataStructures.OrderedDict{Any,Any}(\"wave_theta = 150.0\"=>DataStructures.OrderedDict{Any,Any}(\"main_constraint = \\\"wall\\\"\"=>DataStructures.OrderedDict{Any,Any}(\"R_0\"=>[9.25434],\"T_k\"=>[22.4625],\"rho_j\"=>[0.791841],\"eta_CD\"=>[0.248589],\"B_0\"=>[6.0],\"success\"=>Bool[true],\"constraint\"=>AbstractString[\"wall\"],\"limits\"=>DataStructures.OrderedDict{Any,Any}(\"beta\"=>[0.863162],\"wall\"=>[0.9996])),\"main_constraint = \\\"beta\\\"\"=>DataStructures.OrderedDict{Any,Any}(\"R_0\"=>[8.1265],\"T_k\"=>[22.909],\"rho_j\"=>[0.815847],\"eta_CD\"=>[0.225406],\"B_0\"=>[6.0],\"success\"=>Bool[true],\"constraint\"=>AbstractString[\"beta\"],\"limits\"=>DataStructures.OrderedDict{Any,Any}(\"beta\"=>[1.00249],\"wall\"=>[1.48092]))),\"wave_theta = 140.0\"=>DataStructures.OrderedDict{Any,Any}(\"main_constraint = \\\"wall\\\"\"=>DataStructures.OrderedDict{Any,Any}(\"R_0\"=>[9.35993],\"T_k\"=>[22.7686],\"rho_j\"=>[0.797293],\"eta_CD\"=>[0.245363],\"B_0\"=>[6.0],\"success\"=>Bool[true],\"constraint\"=>AbstractString[\"wall\"],\"limits\"=>DataStructures.OrderedDict{Any,Any}(\"beta\"=>[0.865056],\"wall\"=>[1.00031])),\"main_constraint = \\\"beta\\\"\"=>DataStructures.OrderedDict{Any,Any}(\"R_0\"=>[8.24197],\"T_k\"=>[23.2471],\"rho_j\"=>[0.820694],\"eta_CD\"=>[0.222604],\"B_0\"=>[6.0],\"success\"=>Bool[true],\"constraint\"=>AbstractString[\"beta\"],\"limits\"=>DataStructures.OrderedDict{Any,Any}(\"beta\"=>[1.00304],\"wall\"=>[1.475])))),\"delta = 0.6\"=>DataStructures.OrderedDict{Any,Any}(\"wave_theta = 150.0\"=>DataStructures.OrderedDict{Any,Any}(\"main_constraint = \\\"wall\\\"\"=>DataStructures.OrderedDict{Any,Any}(\"R_0\"=>[9.16601],\"T_k\"=>[22.198],\"rho_j\"=>[0.790304],\"eta_CD\"=>[0.247757],\"B_0\"=>[6.0],\"success\"=>Bool[true],\"constraint\"=>AbstractString[\"wall\"],\"limits\"=>DataStructures.OrderedDict{Any,Any}(\"beta\"=>[0.861219],\"wall\"=>[0.998907])),\"main_constraint = \\\"beta\\\"\"=>DataStructures.OrderedDict{Any,Any}(\"R_0\"=>[8.02905],\"T_k\"=>[22.6256],\"rho_j\"=>[0.81474],\"eta_CD\"=>[0.224244],\"B_0\"=>[6.0],\"success\"=>Bool[true],\"constraint\"=>AbstractString[\"beta\"],\"limits\"=>DataStructures.OrderedDict{Any,Any}(\"beta\"=>[1.00211],\"wall\"=>[1.48766]))),\"wave_theta = 140.0\"=>DataStructures.OrderedDict{Any,Any}(\"main_constraint = \\\"wall\\\"\"=>DataStructures.OrderedDict{Any,Any}(\"R_0\"=>[9.2686],\"T_k\"=>[22.4933],\"rho_j\"=>[0.795757],\"eta_CD\"=>[0.24453],\"B_0\"=>[6.0],\"success\"=>Bool[true],\"constraint\"=>AbstractString[\"wall\"],\"limits\"=>DataStructures.OrderedDict{Any,Any}(\"beta\"=>[0.863016],\"wall\"=>[0.999486])),\"main_constraint = \\\"beta\\\"\"=>DataStructures.OrderedDict{Any,Any}(\"R_0\"=>[8.14097],\"T_k\"=>[22.9514],\"rho_j\"=>[0.819575],\"eta_CD\"=>[0.221436],\"B_0\"=>[6.0],\"success\"=>Bool[true],\"constraint\"=>AbstractString[\"beta\"],\"limits\"=>DataStructures.OrderedDict{Any,Any}(\"beta\"=>[1.00257],\"wall\"=>[1.48163]))))),\"nu_n = 0.31\"=>DataStructures.OrderedDict{Any,Any}(\"delta = 0.575\"=>DataStructures.OrderedDict{Any,Any}(\"wave_theta = 150.0\"=>DataStructures.OrderedDict{Any,Any}(\"main_constraint = \\\"wall\\\"\"=>DataStructures.OrderedDict{Any,Any}(\"R_0\"=>[10.15],\"T_k\"=>[25.173],\"rho_j\"=>[0.80427],\"eta_CD\"=>[0.259012],\"B_0\"=>[6.0],\"success\"=>Bool[true],\"constraint\"=>AbstractString[\"wall\"],\"limits\"=>DataStructures.OrderedDict{Any,Any}(\"beta\"=>[0.875763],\"wall\"=>[0.997325])),\"main_constraint = \\\"beta\\\"\"=>DataStructures.OrderedDict{Any,Any}(\"R_0\"=>[9.1706],\"T_k\"=>[25.9811],\"rho_j\"=>[0.825286],\"eta_CD\"=>[0.239254],\"B_0\"=>[6.0],\"success\"=>Bool[true],\"constraint\"=>AbstractString[\"beta\"],\"limits\"=>DataStructures.OrderedDict{Any,Any}(\"beta\"=>[1.00041],\"wall\"=>[1.4072]))),\"wave_theta = 140.0\"=>DataStructures.OrderedDict{Any,Any}(\"main_constraint = \\\"wall\\\"\"=>DataStructures.OrderedDict{Any,Any}(\"R_0\"=>[10.3012],\"T_k\"=>[25.6128],\"rho_j\"=>[0.809786],\"eta_CD\"=>[0.255959],\"B_0\"=>[6.0],\"success\"=>Bool[true],\"constraint\"=>AbstractString[\"wall\"],\"limits\"=>DataStructures.OrderedDict{Any,Any}(\"beta\"=>[0.87798],\"wall\"=>[0.997413])),\"main_constraint = \\\"beta\\\"\"=>DataStructures.OrderedDict{Any,Any}(\"R_0\"=>[9.34622],\"T_k\"=>[26.4806],\"rho_j\"=>[0.830197],\"eta_CD\"=>[0.236765],\"B_0\"=>[6.0],\"success\"=>Bool[true],\"constraint\"=>AbstractString[\"beta\"],\"limits\"=>DataStructures.OrderedDict{Any,Any}(\"beta\"=>[1.00048],\"wall\"=>[1.3972])))),\"delta = 0.63\"=>DataStructures.OrderedDict{Any,Any}(\"wave_theta = 150.0\"=>DataStructures.OrderedDict{Any,Any}(\"main_constraint = \\\"wall\\\"\"=>DataStructures.OrderedDict{Any,Any}(\"R_0\"=>[10.3717],\"T_k\"=>[25.8408],\"rho_j\"=>[0.807419],\"eta_CD\"=>[0.260948],\"B_0\"=>[6.0],\"success\"=>Bool[true],\"constraint\"=>AbstractString[\"wall\"],\"limits\"=>DataStructures.OrderedDict{Any,Any}(\"beta\"=>[0.879774],\"wall\"=>[0.99772])),\"main_constraint = \\\"beta\\\"\"=>DataStructures.OrderedDict{Any,Any}(\"R_0\"=>[9.4269],\"T_k\"=>[26.7102],\"rho_j\"=>[0.827583],\"eta_CD\"=>[0.24199],\"B_0\"=>[6.0],\"success\"=>Bool[true],\"constraint\"=>AbstractString[\"beta\"],\"limits\"=>DataStructures.OrderedDict{Any,Any}(\"beta\"=>[1.00052],\"wall\"=>[1.39007]))),\"wave_theta = 140.0\"=>DataStructures.OrderedDict{Any,Any}(\"main_constraint = \\\"wall\\\"\"=>DataStructures.OrderedDict{Any,Any}(\"R_0\"=>[10.5366],\"T_k\"=>[26.3238],\"rho_j\"=>[0.813044],\"eta_CD\"=>[0.257906],\"B_0\"=>[6.0],\"success\"=>Bool[true],\"constraint\"=>AbstractString[\"wall\"],\"limits\"=>DataStructures.OrderedDict{Any,Any}(\"beta\"=>[0.882195],\"wall\"=>[0.997858])),\"main_constraint = \\\"beta\\\"\"=>DataStructures.OrderedDict{Any,Any}(\"R_0\"=>[9.6181],\"T_k\"=>[27.2558],\"rho_j\"=>[0.832552],\"eta_CD\"=>[0.239572],\"B_0\"=>[6.0],\"success\"=>Bool[true],\"constraint\"=>AbstractString[\"beta\"],\"limits\"=>DataStructures.OrderedDict{Any,Any}(\"beta\"=>[1.00066],\"wall\"=>[1.37967])))),\"delta = 0.6\"=>DataStructures.OrderedDict{Any,Any}(\"wave_theta = 150.0\"=>DataStructures.OrderedDict{Any,Any}(\"main_constraint = \\\"wall\\\"\"=>DataStructures.OrderedDict{Any,Any}(\"R_0\"=>[10.2485],\"T_k\"=>[25.4694],\"rho_j\"=>[0.805658],\"eta_CD\"=>[0.259899],\"B_0\"=>[6.0],\"success\"=>Bool[true],\"constraint\"=>AbstractString[\"wall\"],\"limits\"=>DataStructures.OrderedDict{Any,Any}(\"beta\"=>[0.877554],\"wall\"=>[0.99751])),\"main_constraint = \\\"beta\\\"\"=>DataStructures.OrderedDict{Any,Any}(\"R_0\"=>[9.28502],\"T_k\"=>[26.3064],\"rho_j\"=>[0.826333],\"eta_CD\"=>[0.240482],\"B_0\"=>[6.0],\"success\"=>Bool[true],\"constraint\"=>AbstractString[\"beta\"],\"limits\"=>DataStructures.OrderedDict{Any,Any}(\"beta\"=>[1.00045],\"wall\"=>[1.39944]))),\"wave_theta = 140.0\"=>DataStructures.OrderedDict{Any,Any}(\"main_constraint = \\\"wall\\\"\"=>DataStructures.OrderedDict{Any,Any}(\"R_0\"=>[10.4064],\"T_k\"=>[25.9299],\"rho_j\"=>[0.811245],\"eta_CD\"=>[0.256835],\"B_0\"=>[6.0],\"success\"=>Bool[true],\"constraint\"=>AbstractString[\"wall\"],\"limits\"=>DataStructures.OrderedDict{Any,Any}(\"beta\"=>[0.879869],\"wall\"=>[0.997612])),\"main_constraint = \\\"beta\\\"\"=>DataStructures.OrderedDict{Any,Any}(\"R_0\"=>[9.46747],\"T_k\"=>[26.826],\"rho_j\"=>[0.831257],\"eta_CD\"=>[0.238025],\"B_0\"=>[6.0],\"success\"=>Bool[true],\"constraint\"=>AbstractString[\"beta\"],\"limits\"=>DataStructures.OrderedDict{Any,Any}(\"beta\"=>[1.00055],\"wall\"=>[1.38926])))))),\"f_DT = 0.85\"=>DataStructures.OrderedDict{Any,Any}(\"nu_n = 0.33\"=>DataStructures.OrderedDict{Any,Any}(\"delta = 0.575\"=>DataStructures.OrderedDict{Any,Any}(\"wave_theta = 150.0\"=>DataStructures.OrderedDict{Any,Any}(\"main_constraint = \\\"wall\\\"\"=>DataStructures.OrderedDict{Any,Any}(\"R_0\"=>[11.2359],\"T_k\"=>[28.3614],\"rho_j\"=>[0.819554],\"eta_CD\"=>[0.266045],\"B_0\"=>[6.0],\"success\"=>Bool[true],\"constraint\"=>AbstractString[\"wall\"],\"limits\"=>DataStructures.OrderedDict{Any,Any}(\"beta\"=>[0.897639],\"wall\"=>[1.00037])),\"main_constraint = \\\"beta\\\"\"=>DataStructures.OrderedDict{Any,Any}(\"R_0\"=>[10.3915],\"T_k\"=>[29.2884],\"rho_j\"=>[0.835958],\"eta_CD\"=>[0.250062],\"B_0\"=>[6.0],\"success\"=>Bool[true],\"constraint\"=>AbstractString[\"beta\"],\"limits\"=>DataStructures.OrderedDict{Any,Any}(\"beta\"=>[1.0023],\"wall\"=>[1.32633]))),\"wave_theta = 140.0\"=>DataStructures.OrderedDict{Any,Any}(\"main_constraint = \\\"wall\\\"\"=>DataStructures.OrderedDict{Any,Any}(\"R_0\"=>[11.4584],\"T_k\"=>[29.0374],\"rho_j\"=>[0.825394],\"eta_CD\"=>[0.263252],\"B_0\"=>[6.0],\"success\"=>Bool[true],\"constraint\"=>AbstractString[\"wall\"],\"limits\"=>DataStructures.OrderedDict{Any,Any}(\"beta\"=>[0.901189],\"wall\"=>[1.00144])),\"main_constraint = \\\"beta\\\"\"=>DataStructures.OrderedDict{Any,Any}(\"R_0\"=>[10.6146],\"T_k\"=>[29.9462],\"rho_j\"=>[0.840901],\"eta_CD\"=>[0.24763],\"B_0\"=>[6.0],\"success\"=>Bool[true],\"constraint\"=>AbstractString[\"beta\"],\"limits\"=>DataStructures.OrderedDict{Any,Any}(\"beta\"=>[1.00327],\"wall\"=>[1.3155])))),\"delta = 0.63\"=>DataStructures.OrderedDict{Any,Any}(\"wave_theta = 150.0\"=>DataStructures.OrderedDict{Any,Any}(\"main_constraint = \\\"wall\\\"\"=>DataStructures.OrderedDict{Any,Any}(\"R_0\"=>[11.5682],\"T_k\"=>[29.3964],\"rho_j\"=>[0.823579],\"eta_CD\"=>[0.268642],\"B_0\"=>[6.0],\"success\"=>Bool[true],\"constraint\"=>AbstractString[\"wall\"],\"limits\"=>DataStructures.OrderedDict{Any,Any}(\"beta\"=>[0.903666],\"wall\"=>[1.00223])),\"main_constraint = \\\"beta\\\"\"=>DataStructures.OrderedDict{Any,Any}(\"R_0\"=>[10.7749],\"T_k\"=>[30.3097],\"rho_j\"=>[0.83848],\"eta_CD\"=>[0.253827],\"B_0\"=>[6.0],\"success\"=>Bool[true],\"constraint\"=>AbstractString[\"beta\"],\"limits\"=>DataStructures.OrderedDict{Any,Any}(\"beta\"=>[1.00034],\"wall\"=>[1.29691]))),\"wave_theta = 140.0\"=>DataStructures.OrderedDict{Any,Any}(\"main_constraint = \\\"wall\\\"\"=>DataStructures.OrderedDict{Any,Any}(\"R_0\"=>[11.8179],\"T_k\"=>[30.1734],\"rho_j\"=>[0.829603],\"eta_CD\"=>[0.265931],\"B_0\"=>[6.0],\"success\"=>Bool[true],\"constraint\"=>AbstractString[\"wall\"],\"limits\"=>DataStructures.OrderedDict{Any,Any}(\"beta\"=>[0.907955],\"wall\"=>[1.00425])),\"main_constraint = \\\"beta\\\"\"=>DataStructures.OrderedDict{Any,Any}(\"R_0\"=>[11.0325],\"T_k\"=>[31.0368],\"rho_j\"=>[0.84329],\"eta_CD\"=>[0.25177],\"B_0\"=>[6.0],\"success\"=>Bool[true],\"constraint\"=>AbstractString[\"beta\"],\"limits\"=>DataStructures.OrderedDict{Any,Any}(\"beta\"=>[1.00043],\"wall\"=>[1.28256])))),\"delta = 0.6\"=>DataStructures.OrderedDict{Any,Any}(\"wave_theta = 150.0\"=>DataStructures.OrderedDict{Any,Any}(\"main_constraint = \\\"wall\\\"\"=>DataStructures.OrderedDict{Any,Any}(\"R_0\"=>[11.3831],\"T_k\"=>[28.8176],\"rho_j\"=>[0.821352],\"eta_CD\"=>[0.267207],\"B_0\"=>[6.0],\"success\"=>Bool[true],\"constraint\"=>AbstractString[\"wall\"],\"limits\"=>DataStructures.OrderedDict{Any,Any}(\"beta\"=>[0.90028],\"wall\"=>[1.00109])),\"main_constraint = \\\"beta\\\"\"=>DataStructures.OrderedDict{Any,Any}(\"R_0\"=>[10.564],\"T_k\"=>[29.7949],\"rho_j\"=>[0.837383],\"eta_CD\"=>[0.251711],\"B_0\"=>[6.0],\"success\"=>Bool[true],\"constraint\"=>AbstractString[\"beta\"],\"limits\"=>DataStructures.OrderedDict{Any,Any}(\"beta\"=>[1.00299],\"wall\"=>[1.31866]))),\"wave_theta = 140.0\"=>DataStructures.OrderedDict{Any,Any}(\"main_constraint = \\\"wall\\\"\"=>DataStructures.OrderedDict{Any,Any}(\"R_0\"=>[11.6172],\"T_k\"=>[29.5359],\"rho_j\"=>[0.827264],\"eta_CD\"=>[0.264451],\"B_0\"=>[6.0],\"success\"=>Bool[true],\"constraint\"=>AbstractString[\"wall\"],\"limits\"=>DataStructures.OrderedDict{Any,Any}(\"beta\"=>[0.904124],\"wall\"=>[1.00251])),\"main_constraint = \\\"beta\\\"\"=>DataStructures.OrderedDict{Any,Any}(\"R_0\"=>[10.8263],\"T_k\"=>[30.4547],\"rho_j\"=>[0.8419],\"eta_CD\"=>[0.249754],\"B_0\"=>[6.0],\"success\"=>Bool[true],\"constraint\"=>AbstractString[\"beta\"],\"limits\"=>DataStructures.OrderedDict{Any,Any}(\"beta\"=>[1.00035],\"wall\"=>[1.29505]))))),\"nu_n = 0.31\"=>DataStructures.OrderedDict{Any,Any}(\"delta = 0.575\"=>DataStructures.OrderedDict{Any,Any}(\"wave_theta = 150.0\"=>DataStructures.OrderedDict{Any,Any}(\"main_constraint = \\\"wall\\\"\"=>DataStructures.OrderedDict{Any,Any}(\"R_0\"=>[13.4071],\"T_k\"=>[35.286],\"rho_j\"=>[0.841792],\"eta_CD\"=>[0.283701],\"B_0\"=>[6.0],\"success\"=>Bool[true],\"constraint\"=>AbstractString[\"wall\"],\"limits\"=>DataStructures.OrderedDict{Any,Any}(\"beta\"=>[0.929361],\"wall\"=>[0.997799])),\"main_constraint = \\\"beta\\\"\"=>DataStructures.OrderedDict{Any,Any}(\"R_0\"=>[NaN],\"T_k\"=>[NaN],\"rho_j\"=>[NaN],\"eta_CD\"=>[NaN],\"B_0\"=>[6.0],\"success\"=>Bool[false],\"constraint\"=>AbstractString[\"x\"],\"limits\"=>DataStructures.OrderedDict{Any,Any}(\"beta\"=>[NaN],\"wall\"=>[NaN]))),\"wave_theta = 140.0\"=>DataStructures.OrderedDict{Any,Any}(\"main_constraint = \\\"wall\\\"\"=>DataStructures.OrderedDict{Any,Any}(\"R_0\"=>[14.2831],\"T_k\"=>[38.0449],\"rho_j\"=>[0.851733],\"eta_CD\"=>[0.284672],\"B_0\"=>[6.0],\"success\"=>Bool[true],\"constraint\"=>AbstractString[\"wall\"],\"limits\"=>DataStructures.OrderedDict{Any,Any}(\"beta\"=>[0.940571],\"wall\"=>[1.00672])),\"main_constraint = \\\"beta\\\"\"=>DataStructures.OrderedDict{Any,Any}(\"R_0\"=>[NaN],\"T_k\"=>[NaN],\"rho_j\"=>[NaN],\"eta_CD\"=>[NaN],\"B_0\"=>[6.0],\"success\"=>Bool[false],\"constraint\"=>AbstractString[\"x\"],\"limits\"=>DataStructures.OrderedDict{Any,Any}(\"beta\"=>[NaN],\"wall\"=>[NaN])))),\"delta = 0.63\"=>DataStructures.OrderedDict{Any,Any}(\"wave_theta = 150.0\"=>DataStructures.OrderedDict{Any,Any}(\"main_constraint = \\\"wall\\\"\"=>DataStructures.OrderedDict{Any,Any}(\"R_0\"=>[14.517],\"T_k\"=>[39.3448],\"rho_j\"=>[0.853224],\"eta_CD\"=>[0.290154],\"B_0\"=>[6.0],\"success\"=>Bool[true],\"constraint\"=>AbstractString[\"wall\"],\"limits\"=>DataStructures.OrderedDict{Any,Any}(\"beta\"=>[0.957034],\"wall\"=>[1.03867])),\"main_constraint = \\\"beta\\\"\"=>DataStructures.OrderedDict{Any,Any}(\"R_0\"=>[NaN],\"T_k\"=>[NaN],\"rho_j\"=>[NaN],\"eta_CD\"=>[NaN],\"B_0\"=>[6.0],\"success\"=>Bool[false],\"constraint\"=>AbstractString[\"x\"],\"limits\"=>DataStructures.OrderedDict{Any,Any}(\"beta\"=>[NaN],\"wall\"=>[NaN]))),\"wave_theta = 140.0\"=>DataStructures.OrderedDict{Any,Any}(\"main_constraint = \\\"wall\\\"\"=>DataStructures.OrderedDict{Any,Any}(\"R_0\"=>[14.2618],\"T_k\"=>[39.2768],\"rho_j\"=>[0.857259],\"eta_CD\"=>[0.28226],\"B_0\"=>[6.0],\"success\"=>Bool[true],\"constraint\"=>AbstractString[\"wall\"],\"limits\"=>DataStructures.OrderedDict{Any,Any}(\"beta\"=>[0.972477],\"wall\"=>[1.06288])),\"main_constraint = \\\"beta\\\"\"=>DataStructures.OrderedDict{Any,Any}(\"R_0\"=>[NaN],\"T_k\"=>[NaN],\"rho_j\"=>[NaN],\"eta_CD\"=>[NaN],\"B_0\"=>[6.0],\"success\"=>Bool[false],\"constraint\"=>AbstractString[\"x\"],\"limits\"=>DataStructures.OrderedDict{Any,Any}(\"beta\"=>[NaN],\"wall\"=>[NaN])))),\"delta = 0.6\"=>DataStructures.OrderedDict{Any,Any}(\"wave_theta = 150.0\"=>DataStructures.OrderedDict{Any,Any}(\"main_constraint = \\\"wall\\\"\"=>DataStructures.OrderedDict{Any,Any}(\"R_0\"=>[13.9641],\"T_k\"=>[37.1644],\"rho_j\"=>[0.846983],\"eta_CD\"=>[0.287429],\"B_0\"=>[6.0],\"success\"=>Bool[true],\"constraint\"=>AbstractString[\"wall\"],\"limits\"=>DataStructures.OrderedDict{Any,Any}(\"beta\"=>[0.939787],\"wall\"=>[1.01298])),\"main_constraint = \\\"beta\\\"\"=>DataStructures.OrderedDict{Any,Any}(\"R_0\"=>[NaN],\"T_k\"=>[NaN],\"rho_j\"=>[NaN],\"eta_CD\"=>[NaN],\"B_0\"=>[6.0],\"success\"=>Bool[false],\"constraint\"=>AbstractString[\"x\"],\"limits\"=>DataStructures.OrderedDict{Any,Any}(\"beta\"=>[NaN],\"wall\"=>[NaN]))),\"wave_theta = 140.0\"=>DataStructures.OrderedDict{Any,Any}(\"main_constraint = \\\"wall\\\"\"=>DataStructures.OrderedDict{Any,Any}(\"R_0\"=>[14.5682],\"T_k\"=>[39.3067],\"rho_j\"=>[0.855494],\"eta_CD\"=>[0.285738],\"B_0\"=>[6.0],\"success\"=>Bool[true],\"constraint\"=>AbstractString[\"wall\"],\"limits\"=>DataStructures.OrderedDict{Any,Any}(\"beta\"=>[0.952749],\"wall\"=>[1.02324])),\"main_constraint = \\\"beta\\\"\"=>DataStructures.OrderedDict{Any,Any}(\"R_0\"=>[NaN],\"T_k\"=>[NaN],\"rho_j\"=>[NaN],\"eta_CD\"=>[NaN],\"B_0\"=>[6.0],\"success\"=>Bool[false],\"constraint\"=>AbstractString[\"x\"],\"limits\"=>DataStructures.OrderedDict{Any,Any}(\"beta\"=>[NaN],\"wall\"=>[NaN]))))))))\n",
    "\n",
    "function merge_dicts(dict1, dict2, merged_dict=nothing)\n",
    "\n",
    "  if merged_dict == nothing\n",
    "    merged_dict = deepcopy(dict1)\n",
    "    dict1 = merged_dict\n",
    "  end\n",
    "\n",
    "  keys1 = collect(keys(dict1))\n",
    "  keys2 = collect(keys(dict2))\n",
    "\n",
    "  allkeys = unique(vcat(keys1, keys2))\n",
    "\n",
    "  if \"B_0\" in allkeys\n",
    "    return\n",
    "  end\n",
    "\n",
    "  is_identical = length(keys1) == length(allkeys)\n",
    "  is_identical &= length(keys2) == length(allkeys)\n",
    "\n",
    "  if is_identical\n",
    "    for cur_key in allkeys\n",
    "      merge_dicts(dict1[cur_key], dict2[cur_key], merged_dict)\n",
    "    end\n",
    "  else\n",
    "    for cur_key in allkeys\n",
    "      if cur_key in keys(dict1) && cur_key in keys(dict2)\n",
    "        continue\n",
    "      end\n",
    "\n",
    "      if cur_key in keys(dict2)\n",
    "        dict1[cur_key] = dict2[cur_key]\n",
    "      end\n",
    "    end    \n",
    "  end\n",
    "\n",
    "  merged_dict\n",
    "end\n",
    "\n",
    "cur_deep_dict = merge_dicts(cur_dict_1, cur_dict_2)\n",
    "\n",
    "function squashed_keys(deep_dict, shallow_dict=OrderedDict())\n",
    "  if \"B_0\" in keys(deep_dict)\n",
    "    return\n",
    "  end\n",
    "\n",
    "  cur_label = strip(split(first(keys(deep_dict)), \"=\")[1])\n",
    "\n",
    "  shallow_dict[cur_label] = []\n",
    "\n",
    "  for (cur_index, cur_key) in enumerate(keys(deep_dict))\n",
    "    push!(shallow_dict[cur_label], strip(split(cur_key, \"=\")[2]))\n",
    "  end\n",
    "\n",
    "  squashed_keys(first(values(deep_dict)), shallow_dict)\n",
    "\n",
    "  shallow_dict  \n",
    "end\n",
    "\n",
    "cur_shallow_dict = squashed_keys(cur_deep_dict)"
   ]
  },
  {
   "cell_type": "code",
   "execution_count": null,
   "metadata": {
    "collapsed": true
   },
   "outputs": [],
   "source": []
  }
 ],
 "metadata": {
  "kernelspec": {
   "display_name": "Julia 0.6.0",
   "language": "julia",
   "name": "julia-0.6"
  },
  "language_info": {
   "file_extension": ".jl",
   "mimetype": "application/julia",
   "name": "julia",
   "version": "0.6.0"
  },
  "widgets": {
   "state": {
    "00de933c-78f4-4dbf-99aa-06993628ad55": {
     "views": [
      {
       "cell_index": 9
      }
     ]
    },
    "04ba29a2-7917-40b8-8769-118bfe0244f6": {
     "views": [
      {
       "cell_index": 9
      }
     ]
    },
    "070bdb09-1268-4712-b47d-28953e457423": {
     "views": [
      {
       "cell_index": 8
      }
     ]
    },
    "07383520-91f1-485c-ab57-11146c22c4b5": {
     "views": [
      {
       "cell_index": 9
      }
     ]
    },
    "08401d58-bdce-404e-b8be-cc45f37714ef": {
     "views": [
      {
       "cell_index": 9
      }
     ]
    },
    "08a3ff53-b791-41b3-b8af-7c7dfc9ce74b": {
     "views": [
      {
       "cell_index": 9
      }
     ]
    },
    "10d3468b-fb8c-4505-ae01-01c01335a7d6": {
     "views": [
      {
       "cell_index": 9
      }
     ]
    },
    "131e4d44-2011-4e55-a9e1-a14f71523382": {
     "views": [
      {
       "cell_index": 9
      }
     ]
    },
    "132ceb19-9d2f-4420-ae17-8e4e934050f0": {
     "views": [
      {
       "cell_index": 8
      }
     ]
    },
    "13e25d6c-7c09-4a8e-a87b-a80c42abd7a7": {
     "views": [
      {
       "cell_index": 9
      }
     ]
    },
    "150ae57e-02b5-406e-b705-6d30a8220134": {
     "views": [
      {
       "cell_index": 9
      }
     ]
    },
    "1695c034-7cc3-4b47-abb6-e4af1876e403": {
     "views": [
      {
       "cell_index": 9
      }
     ]
    },
    "1846c181-e74e-44bf-bf6a-0a2c4e6b17ae": {
     "views": [
      {
       "cell_index": 9
      }
     ]
    },
    "1b6018a5-c860-4012-a4e9-cf823c6d311e": {
     "views": [
      {
       "cell_index": 9
      }
     ]
    },
    "1b9b39e9-67dd-4581-b0a9-e0fe960236b5": {
     "views": [
      {
       "cell_index": 9
      }
     ]
    },
    "1f176cd9-7cb9-487e-81b6-a4565fefad65": {
     "views": [
      {
       "cell_index": 9
      }
     ]
    },
    "23775bc2-5413-4bb6-a43f-945cd733ad4d": {
     "views": [
      {
       "cell_index": 9
      }
     ]
    },
    "24d8c282-9f00-4525-b24f-2b04d986a826": {
     "views": [
      {
       "cell_index": 8
      }
     ]
    },
    "294c9e0c-d1b2-4926-b6a9-2840ca568795": {
     "views": [
      {
       "cell_index": 9
      }
     ]
    },
    "2df778b2-c1b2-4840-bdad-7b514967a1b2": {
     "views": [
      {
       "cell_index": 9
      }
     ]
    },
    "2ee100af-17fd-4578-8278-b2ea5fc26e64": {
     "views": [
      {
       "cell_index": 9
      }
     ]
    },
    "2f0acac9-57ea-4e1a-aff9-7595cade0901": {
     "views": [
      {
       "cell_index": 8
      }
     ]
    },
    "33b6355b-6635-4184-b276-d50077ba17c0": {
     "views": [
      {
       "cell_index": 9
      }
     ]
    },
    "3806a5b5-8a64-4ec3-95a8-657076b9c020": {
     "views": [
      {
       "cell_index": 9
      }
     ]
    },
    "38a68544-d442-4238-9421-b00405b2b4a3": {
     "views": [
      {
       "cell_index": 9
      }
     ]
    },
    "3c31d3e5-15f8-4e62-8378-29443e662db7": {
     "views": [
      {
       "cell_index": 9
      }
     ]
    },
    "3e55eaa7-4b06-4b01-a36c-ceda44031577": {
     "views": [
      {
       "cell_index": 8
      }
     ]
    },
    "40663524-385f-486e-9c2e-90fb524d1c1b": {
     "views": [
      {
       "cell_index": 9
      }
     ]
    },
    "4489f8d1-bd1b-42a1-b2b4-cfdf6bdc835c": {
     "views": [
      {
       "cell_index": 9
      }
     ]
    },
    "4a32f230-57b4-4cc7-b974-7774dd261e48": {
     "views": [
      {
       "cell_index": 9
      }
     ]
    },
    "4d7df8b8-970f-44fd-b34d-2c103f565b95": {
     "views": [
      {
       "cell_index": 9
      }
     ]
    },
    "4f69c727-336e-46a7-8d25-97715cb58e53": {
     "views": [
      {
       "cell_index": 9
      }
     ]
    },
    "504106b5-3657-4b94-b0d6-065308084366": {
     "views": [
      {
       "cell_index": 9
      }
     ]
    },
    "51804d93-0fa2-44ae-bfed-dd19a36f6440": {
     "views": [
      {
       "cell_index": 9
      }
     ]
    },
    "55ad0687-7d6e-42ad-9e95-fd7d98f7294a": {
     "views": [
      {
       "cell_index": 9
      }
     ]
    },
    "588eeeb7-0f08-4aa8-b2c5-ef4b0c43f0e4": {
     "views": [
      {
       "cell_index": 9
      }
     ]
    },
    "598c6a99-3ea8-4132-ad47-b633cc565f32": {
     "views": [
      {
       "cell_index": 9
      }
     ]
    },
    "5b3f13ad-af11-4f1f-9e39-497e3bf0af20": {
     "views": [
      {
       "cell_index": 9
      }
     ]
    },
    "5cfc45f5-d7a0-46bf-922d-9ac882e15726": {
     "views": [
      {
       "cell_index": 8
      }
     ]
    },
    "5fafb862-9a5b-4148-9c1c-656ea602a071": {
     "views": [
      {
       "cell_index": 9
      }
     ]
    },
    "61e8878d-1f37-46d4-9627-1cf8e8d9c3c9": {
     "views": [
      {
       "cell_index": 9
      }
     ]
    },
    "65215c65-1fd2-42ff-9983-ccb66deaef1d": {
     "views": [
      {
       "cell_index": 9
      }
     ]
    },
    "705723e6-471b-44a1-b23e-9a15eafe150c": {
     "views": [
      {
       "cell_index": 8
      }
     ]
    },
    "723f7496-4e0a-4e50-bd83-fc5430f84457": {
     "views": [
      {
       "cell_index": 9
      }
     ]
    },
    "74a9d1d4-4556-40ea-b629-b32b7159a199": {
     "views": [
      {
       "cell_index": 8
      }
     ]
    },
    "7587917c-4ce1-4465-ad9e-fa46a8ab3f79": {
     "views": [
      {
       "cell_index": 8
      }
     ]
    },
    "778687b0-a3d5-4fac-8be8-50270198917e": {
     "views": [
      {
       "cell_index": 8
      }
     ]
    },
    "7a156924-a9c5-4524-a210-f01013a4b26b": {
     "views": [
      {
       "cell_index": 9
      }
     ]
    },
    "7c55fbe3-42ef-4ba9-8935-162d39c7c7e6": {
     "views": [
      {
       "cell_index": 9
      }
     ]
    },
    "7e322fa2-1350-4462-b35d-c724df5f58cb": {
     "views": [
      {
       "cell_index": 9
      }
     ]
    },
    "7ec50976-b4a4-4699-a0d4-dc95708a5c8e": {
     "views": [
      {
       "cell_index": 9
      }
     ]
    },
    "7f49ff67-d9a1-4e9a-94b5-974f0a1b1dfa": {
     "views": [
      {
       "cell_index": 9
      }
     ]
    },
    "803f51f0-a189-4574-9a97-f197fb66b661": {
     "views": [
      {
       "cell_index": 9
      }
     ]
    },
    "8398db07-11ad-4df3-b250-74c8a808c404": {
     "views": [
      {
       "cell_index": 9
      }
     ]
    },
    "861145db-23ce-4299-88ff-6d842bf0ba58": {
     "views": [
      {
       "cell_index": 9
      }
     ]
    },
    "87734343-12fb-4f39-be43-e9ba299da091": {
     "views": [
      {
       "cell_index": 9
      }
     ]
    },
    "8a5f4e6a-e23d-454c-b304-225d645e9172": {
     "views": [
      {
       "cell_index": 9
      }
     ]
    },
    "8c374a31-f6a0-4701-8b8f-e61a2c7bf2d1": {
     "views": [
      {
       "cell_index": 9
      }
     ]
    },
    "8eaab5e3-6bb5-40c4-9544-b4c67a61c58a": {
     "views": [
      {
       "cell_index": 9
      }
     ]
    },
    "93acefce-7e79-4a4d-8da7-3f2d1f2601db": {
     "views": [
      {
       "cell_index": 9
      }
     ]
    },
    "95bcc1c7-9c08-4cca-a1db-10c42b89eef9": {
     "views": [
      {
       "cell_index": 9
      }
     ]
    },
    "966efd6c-fb9f-46f9-aa96-b12901c2db9b": {
     "views": [
      {
       "cell_index": 9
      }
     ]
    },
    "a009efec-5bbe-4140-9c4b-dc7593170879": {
     "views": [
      {
       "cell_index": 9
      }
     ]
    },
    "a0ef405b-ecde-48cc-a488-113149514c17": {
     "views": [
      {
       "cell_index": 9
      }
     ]
    },
    "a2ab73e2-edc2-4aa9-8d13-1365fa4329ce": {
     "views": [
      {
       "cell_index": 9
      }
     ]
    },
    "a3826137-75ea-46d6-86d5-3ecdb7c31c5a": {
     "views": [
      {
       "cell_index": 9
      }
     ]
    },
    "a7fc0cbb-9ee9-4be7-a1df-cd8f2a6a62f2": {
     "views": [
      {
       "cell_index": 9
      }
     ]
    },
    "ae2564e6-8441-4775-b17a-e6d825843444": {
     "views": [
      {
       "cell_index": 8
      }
     ]
    },
    "b0a6ec78-dc17-46b6-a11e-119d06c72e16": {
     "views": [
      {
       "cell_index": 9
      }
     ]
    },
    "b5a52092-3561-4345-8ce0-15932bc85879": {
     "views": [
      {
       "cell_index": 8
      }
     ]
    },
    "be52f294-b60f-47c6-b8c2-44b9fc8cb197": {
     "views": [
      {
       "cell_index": 8
      }
     ]
    },
    "be570e30-0c04-40b1-8b43-14e9426c6334": {
     "views": [
      {
       "cell_index": 9
      }
     ]
    },
    "bec0a57f-8222-4b00-b385-846ddb2eb5f6": {
     "views": [
      {
       "cell_index": 9
      }
     ]
    },
    "bf79c5b0-3931-4fb5-8d95-1f0f932405b2": {
     "views": [
      {
       "cell_index": 9
      }
     ]
    },
    "c0800e51-447f-4e86-8ef4-32e12b47c139": {
     "views": [
      {
       "cell_index": 8
      }
     ]
    },
    "c8be1e65-d1a1-44e1-bad5-9d6cd580a948": {
     "views": [
      {
       "cell_index": 9
      }
     ]
    },
    "ca4f2621-3af9-4171-9f80-466858b23c2c": {
     "views": [
      {
       "cell_index": 9
      }
     ]
    },
    "ccec7a9b-f979-40e6-b3bf-0f7ad76eedd1": {
     "views": [
      {
       "cell_index": 9
      }
     ]
    },
    "cd254806-70ef-4fa6-a762-96d9c93c6052": {
     "views": [
      {
       "cell_index": 8
      }
     ]
    },
    "d523771f-2883-4848-97d2-e8d361d3bffe": {
     "views": [
      {
       "cell_index": 9
      }
     ]
    },
    "d883e70b-f6f9-4045-b445-1ea2945211a0": {
     "views": [
      {
       "cell_index": 8
      }
     ]
    },
    "d8949931-51e1-4b08-8514-313a9a10ce81": {
     "views": [
      {
       "cell_index": 9
      }
     ]
    },
    "dad258e6-3f2f-459e-a9ae-34ac507b3ed4": {
     "views": [
      {
       "cell_index": 9
      }
     ]
    },
    "dc73631f-6ebd-4164-a676-f16d302ee96f": {
     "views": [
      {
       "cell_index": 9
      }
     ]
    },
    "de5acb6d-ebfe-4100-b76b-e516c77364b2": {
     "views": [
      {
       "cell_index": 9
      }
     ]
    },
    "dee62525-a7d3-4669-bb21-c8a9c42814ec": {
     "views": [
      {
       "cell_index": 9
      }
     ]
    },
    "e1aa1662-71dd-48c0-bd7c-f97ce2aeb362": {
     "views": [
      {
       "cell_index": 9
      }
     ]
    },
    "e74f30de-40a4-4926-9c5d-748a0988a60a": {
     "views": [
      {
       "cell_index": 9
      }
     ]
    },
    "eaa2f397-ba97-4f18-aaea-9acb9fa44acc": {
     "views": [
      {
       "cell_index": 9
      }
     ]
    },
    "eae7245a-36c8-4819-8ddd-a71515a73497": {
     "views": [
      {
       "cell_index": 8
      }
     ]
    },
    "eb464644-21f7-40f0-9fb3-8c8f917b6c70": {
     "views": [
      {
       "cell_index": 8
      }
     ]
    },
    "ef413be2-6418-4be9-b110-0366621910f2": {
     "views": [
      {
       "cell_index": 8
      }
     ]
    },
    "f2559b6d-82ae-4ca3-9d1e-9d3b2c261d68": {
     "views": [
      {
       "cell_index": 9
      }
     ]
    },
    "f4668ba9-befa-4d0e-a959-32e72ff9b040": {
     "views": [
      {
       "cell_index": 8
      }
     ]
    },
    "f533b2ae-2138-485a-9707-870a3d0f9b4e": {
     "views": [
      {
       "cell_index": 9
      }
     ]
    },
    "f91d9729-4f87-4c48-8135-1e2ec7bb6e68": {
     "views": [
      {
       "cell_index": 9
      }
     ]
    },
    "fbbb5119-da4f-4c94-b4cc-c0c05a4a8687": {
     "views": [
      {
       "cell_index": 9
      }
     ]
    }
   },
   "version": "1.2.0"
  }
 },
 "nbformat": 4,
 "nbformat_minor": 2
}
