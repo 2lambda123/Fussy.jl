{
 "cells": [
  {
   "cell_type": "code",
   "execution_count": 21,
   "metadata": {
    "collapsed": false,
    "scrolled": true
   },
   "outputs": [],
   "source": [
    "using Tokamak\n",
    "using DataStructures\n",
    "\n",
    "using Plots\n",
    "plotlyjs()\n",
    "\n",
    "return"
   ]
  },
  {
   "cell_type": "code",
   "execution_count": 22,
   "metadata": {
    "collapsed": false
   },
   "outputs": [],
   "source": [
    "using Interact"
   ]
  },
  {
   "cell_type": "code",
   "execution_count": 61,
   "metadata": {
    "collapsed": false
   },
   "outputs": [
    {
     "data": {
      "text/plain": [
       "9-element Array{AbstractString,1}:\n",
       " \"wall\"\n",
       " \"wall\"\n",
       " \"wall\"\n",
       " \"wall\"\n",
       " \"wall\"\n",
       " \"wall\"\n",
       " \"wall\"\n",
       " \"wall\"\n",
       " \"wall\""
      ]
     },
     "execution_count": 61,
     "metadata": {},
     "output_type": "execute_result"
    }
   ],
   "source": [
    "cur_sweep[\"secondary_constraint\"]"
   ]
  },
  {
   "cell_type": "code",
   "execution_count": 48,
   "metadata": {
    "collapsed": false
   },
   "outputs": [
    {
     "data": {
      "text/html": [
       "0.7"
      ],
      "text/plain": [
       "0.7"
      ]
     },
     "execution_count": 48,
     "metadata": {},
     "output_type": "execute_result"
    }
   ],
   "source": [
    "Tokamak.rho_m\n"
   ]
  },
  {
   "cell_type": "code",
   "execution_count": 65,
   "metadata": {
    "collapsed": false
   },
   "outputs": [
    {
     "data": {
      "text/html": [
       "<div id=\"c37e023f-b53b-46a5-a19c-ece589692fed\" class=\"plotly-graph-div\"></div>\n",
       "\n",
       "<script>\n",
       "    window.PLOTLYENV=window.PLOTLYENV || {};\n",
       "    window.PLOTLYENV.BASE_URL=\"https://plot.ly\";\n",
       "    require(['plotly'], function(Plotly) {\n",
       "        Plotly.newPlot('c37e023f-b53b-46a5-a19c-ece589692fed', [{\"showlegend\":true,\"mode\":\"lines\",\"xaxis\":\"x\",\"colorbar\":{\"title\":\"\"},\"line\":{\"color\":\"rgba(0, 154, 250, 1.000)\",\"width\":1,\"dash\":\"solid\",\"shape\":\"linear\"},\"y\":[1.2476774261931358,2.30547536126594,3.423134343641302,4.545925729285695,5.643254508636618,6.696437089501836,7.6941679457768135,8.771526215266586,9.974260098703027],\"type\":\"scatter\",\"name\":\"y1\",\"yaxis\":\"y\",\"x\":[5.0,7.5,10.0,12.5,15.0,17.5,20.0,22.5,25.0]},{\"showlegend\":true,\"mode\":\"lines\",\"xaxis\":\"x\",\"colorbar\":{\"title\":\"\"},\"line\":{\"color\":\"rgba(227, 111, 71, 1.000)\",\"width\":1,\"dash\":\"solid\",\"shape\":\"linear\"},\"y\":[6.25,6.25,6.25,6.25,6.25,6.25,6.25,6.25,6.25],\"type\":\"scatter\",\"name\":\"y2\",\"yaxis\":\"y\",\"x\":[5.0,7.5,10.0,12.5,15.0,17.5,20.0,22.5,25.0]}],\n",
       "               {\"showlegend\":true,\"xaxis\":{\"gridwidth\":0.5,\"tickvals\":[5.0,10.0,15.0,20.0,25.0],\"ticks\":\"inside\",\"tickmode\":\"array\",\"domain\":[0.05100612423447069,0.9934383202099737],\"linecolor\":\"rgba(0, 0, 0, 1.000)\",\"showgrid\":true,\"title\":\"\",\"tickangle\":0,\"gridcolor\":\"rgba(0, 0, 0, 0.100)\",\"titlefont\":{\"color\":\"rgba(0, 0, 0, 1.000)\",\"family\":\"sans-serif\",\"size\":15},\"tickcolor\":\"rgba(0, 0, 0, 1.000)\",\"ticktext\":[\"5\",\"10\",\"15\",\"20\",\"25\"],\"zeroline\":false,\"type\":\"-\",\"tickfont\":{\"color\":\"rgba(0, 0, 0, 1.000)\",\"family\":\"sans-serif\",\"size\":11},\"anchor\":\"y\"},\"paper_bgcolor\":\"rgba(255, 255, 255, 1.000)\",\"annotations\":[],\"height\":400,\"margin\":{\"l\":0,\"b\":20,\"r\":0,\"t\":20},\"plot_bgcolor\":\"rgba(255, 255, 255, 1.000)\",\"yaxis\":{\"gridwidth\":0.5,\"tickvals\":[2.5,5.0,7.5],\"ticks\":\"inside\",\"tickmode\":\"array\",\"domain\":[0.03762029746281716,0.9901574803149606],\"linecolor\":\"rgba(0, 0, 0, 1.000)\",\"showgrid\":true,\"title\":\"\",\"tickangle\":0,\"gridcolor\":\"rgba(0, 0, 0, 0.100)\",\"titlefont\":{\"color\":\"rgba(0, 0, 0, 1.000)\",\"family\":\"sans-serif\",\"size\":15},\"tickcolor\":\"rgba(0, 0, 0, 1.000)\",\"ticktext\":[\"2.5\",\"5.0\",\"7.5\"],\"zeroline\":false,\"type\":\"-\",\"tickfont\":{\"color\":\"rgba(0, 0, 0, 1.000)\",\"family\":\"sans-serif\",\"size\":11},\"anchor\":\"x\"},\"legend\":{\"bordercolor\":\"rgba(0, 0, 0, 1.000)\",\"bgcolor\":\"rgba(255, 255, 255, 1.000)\",\"font\":{\"color\":\"rgba(0, 0, 0, 1.000)\",\"family\":\"sans-serif\",\"size\":11},\"y\":1.0,\"x\":1.0},\"width\":600}, {showLink: false});\n",
       "\n",
       "    });\n",
       " </script>\n"
      ]
     },
     "execution_count": 65,
     "metadata": {},
     "output_type": "execute_result"
    }
   ],
   "source": [
    "    Tokamak.load_input(\"defaults.jl\", true)\n",
    "    Tokamak.load_input(\"act_1.jl\", true)\n",
    "    # Tokamak.load_input(\"act_2.jl\", true)\n",
    "    Tokamak.load_input(\" enable_eta_CD_derive = false \") \n",
    "    Tokamak.load_input(\" use_bosch_hale_sigma_v = false \")\n",
    "    \n",
    "\n",
    "    Tokamak.load_input(\"enable_geom_scaling=false\");\n",
    "    Tokamak.load_input(\"use_slow_sigma_v_funcs = true; use_bosch_hale_sigma_v = false\")\n",
    "\n",
    "\n",
    "    Tokamak.load_input(\"kappa = 1.9\")\n",
    "    Tokamak.load_input(\"nu_n = 0.41\")\n",
    "\n",
    "\n",
    "#     Tokamak.load_input(\" enable_secondary_constraint = false ; default_secondary_constraint = \\\"wall\\\" \")\n",
    "\n",
    "    cur_sweep = Tokamak.sweep_T_k(5:2.5:25, verbose=false)\n",
    "    IJulia.clear_output(true)\n",
    "#     plot(cur_sweep[\"T_k\"],[cur_sweep[\"B_0\"],fill!(zeros(length(cur_sweep[\"B_0\"])),6.0)],yscale = :log)\n",
    "\n",
    "\n",
    "    plot(cur_sweep[\"T_k\"],[cur_sweep[\"R_0\"],fill!(zeros(length(cur_sweep[\"B_0\"])),6.25)])"
   ]
  },
  {
   "cell_type": "code",
   "execution_count": 63,
   "metadata": {
    "collapsed": false
   },
   "outputs": [
    {
     "name": "stderr",
     "output_type": "stream",
     "text": [
      "\u001b[1m\u001b[33mWARNING: \u001b[39m\u001b[22m\u001b[33mscale log is unsupported with Plots.PlotlyJSBackend().  Choose from: Symbol[:identity, :log10]\u001b[39m\n",
      "\u001b[1m\u001b[33mWARNING: \u001b[39m\u001b[22m\u001b[33mscale log is unsupported with Plots.PlotlyJSBackend().  Choose from: Symbol[:identity, :log10]\u001b[39m\n"
     ]
    }
   ],
   "source": [
    "@manipulate for kappa = linspace(2.0,2.4,50), nu_n = linspace(0.25,0.45,50)\n",
    "    Tokamak.load_input(\"defaults.jl\", true)\n",
    "    Tokamak.load_input(\"act_1.jl\", true)\n",
    "    # Tokamak.load_input(\"act_2.jl\", true)\n",
    "    Tokamak.load_input(\" enable_eta_CD_derive = false \")    \n",
    "    \n",
    "    Tokamak.load_input(\"kappa = $(kappa)\")\n",
    "    cur_sweep = Tokamak.sweep_T_k(5:2.5:25, verbose=false)\n",
    "    IJulia.clear_output(true)\n",
    "    plot(cur_sweep[\"T_k\"],[cur_sweep[\"B_0\"],fill!(zeros(length(cur_sweep[\"B_0\"])),6.0)],yscale = :log)\n",
    "end"
   ]
  },
  {
   "cell_type": "code",
   "execution_count": 2,
   "metadata": {
    "collapsed": false
   },
   "outputs": [],
   "source": [
    "i_mode = OrderedDict()\n",
    "\n",
    "i_mode[\"custom_alpha_R = 1.2\"] = DataStructures.OrderedDict{Any,Any}(\"R_0\"=>[25.2503, 11.6031, 7.38184, 5.35208, 4.16987, 3.40729, 2.86517, 2.46881, 2.16656, 1.92558, 1.73184, 1.5722, 1.42947, 1.32467, 1.22659, 1.14121, 1.08074, 1.05603, 1.03394, 1.01247, 0.99305, 0.975335, 0.958139, 0.942731, 0.927545],\"T_k\"=>[9.44593, 8.68119, 8.28354, 8.00199, 7.79856, 7.64782, 7.50178, 7.38844, 7.28836, 7.20341, 7.12649, 7.0572, 6.9518, 6.9363, 6.88285, 6.82441, 6.7636, 6.66104, 6.58413, 6.47745, 6.3981, 6.31381, 6.24902, 6.17952, 6.11657],\"rho_j\"=>[0.448771, 0.410046, 0.387233, 0.369663, 0.357081, 0.3472, 0.336967, 0.328897, 0.320946, 0.315178, 0.309229, 0.303694, 0.295338, 0.293844, 0.289704, 0.283808, 0.264157, 0.199496, 0.125672, -0.034047, -0.0857726, -0.0846397, -0.0855128, -0.0848096, -0.0807295],\"eta_CD\"=>[0.292501, 0.286673, 0.283236, 0.28063, 0.278368, 0.276664, 0.27505, 0.27369, 0.272628, 0.271406, 0.270432, 0.269552, 0.268117, 0.267953, 0.267155, 0.266556, 0.268751, 0.277114, 0.284059, 0.28613, 0.289074, 0.295209, 0.300778, 0.306549, 0.312315],\"B_0\"=>[1.0, 2.0, 3.0, 4.0, 5.0, 6.0, 7.0, 8.0, 9.0, 10.0, 11.0, 12.0, 13.0, 14.0, 15.0, 16.0, 17.0, 18.0, 19.0, 20.0, 21.0, 22.0, 23.0, 24.0, 25.0],\"success\"=>Bool[true, true, true, true, true, true, true, true, true, true, true, true, true, true, true, true, true, true, true, true, true, true, true, true, true],\"constraint\"=>AbstractString[\"beta\", \"beta\", \"beta\", \"beta\", \"beta\", \"beta\", \"beta\", \"beta\", \"beta\", \"beta\", \"beta\", \"beta\", \"beta\", \"beta\", \"beta\", \"beta\", \"wall\", \"wall\", \"wall\", \"wall\", \"wall\", \"wall\", \"wall\", \"wall\", \"wall\"],\"limits\"=>DataStructures.OrderedDict{Any,Any}(\"beta\"=>[1.00028, 1.00027, 1.00017, 0.999443, 1.00015, 1.00028, 1.00014, 1.00027, 0.999444, 1.00028, 1.00027, 1.0002, 1.00028, 1.00008, 1.00028, 0.999356, 0.984354, 0.93699, 0.896173, 0.855331, 0.820358, 0.786788, 0.758225, 0.730295, 0.705303],\"wall\"=>[0.000400177, 0.0027211, 0.00839926, 0.0186123, 0.0346963, 0.0578105, 0.0884996, 0.128425, 0.177816, 0.239155, 0.31195, 0.397541, 0.49143, 0.610881, 0.740874, 0.882541, 0.997392, 1.00044, 1.0136, 0.998753, 0.999124, 0.993028, 0.999918, 0.997701, 0.999937]))\n",
    "\n",
    "i_mode[\"custom_alpha_R = 1.5\"] = DataStructures.OrderedDict{Any,Any}(\"R_0\"=>[25.2545, 11.605, 7.38305, 5.35295, 4.17054, 3.40783, 2.86562, 2.4692, 2.16691, 1.92588, 1.73211, 1.57245, 1.42969, 1.32487, 1.22678, 1.14139, 1.08098, 1.05627, 1.03417, 1.0127, 0.99327, 0.97555, 0.958348, 0.942925, 0.927745],\"T_k\"=>[9.4475, 8.68262, 8.2849, 8.00329, 7.79982, 7.64904, 7.50297, 7.38961, 7.28951, 7.20454, 7.12761, 7.0583, 6.95287, 6.93737, 6.88392, 6.82544, 6.76452, 6.66193, 6.58501, 6.47832, 6.39894, 6.31463, 6.24976, 6.18003, 6.11718],\"rho_j\"=>[0.448847, 0.410124, 0.387324, 0.369744, 0.357155, 0.347283, 0.336991, 0.328982, 0.32103, 0.315264, 0.309316, 0.303816, 0.295398, 0.293934, 0.289844, 0.283893, 0.264164, 0.199535, 0.125588, -0.0341075, -0.0888448, -0.0853101, -0.0828073, -0.0820543, -0.0813765],\"eta_CD\"=>[0.292511, 0.286685, 0.283248, 0.280643, 0.278382, 0.276677, 0.275067, 0.273704, 0.272642, 0.27142, 0.270446, 0.269565, 0.268133, 0.267968, 0.267168, 0.266571, 0.268782, 0.277146, 0.284091, 0.286159, 0.288887, 0.295195, 0.301, 0.306767, 0.312298],\"B_0\"=>[1.0, 2.0, 3.0, 4.0, 5.0, 6.0, 7.0, 8.0, 9.0, 10.0, 11.0, 12.0, 13.0, 14.0, 15.0, 16.0, 17.0, 18.0, 19.0, 20.0, 21.0, 22.0, 23.0, 24.0, 25.0],\"success\"=>Bool[true, true, true, true, true, true, true, true, true, true, true, true, true, true, true, true, true, true, true, true, true, true, true, true, true],\"constraint\"=>AbstractString[\"beta\", \"beta\", \"beta\", \"beta\", \"beta\", \"beta\", \"beta\", \"beta\", \"beta\", \"beta\", \"beta\", \"beta\", \"beta\", \"beta\", \"beta\", \"beta\", \"wall\", \"wall\", \"wall\", \"wall\", \"wall\", \"wall\", \"wall\", \"wall\", \"wall\"],\"limits\"=>DataStructures.OrderedDict{Any,Any}(\"beta\"=>[1.00028, 1.00027, 1.00017, 0.999443, 1.00015, 1.00028, 1.00014, 1.00027, 0.999444, 1.00028, 1.00027, 1.0002, 1.00028, 1.00008, 1.00028, 0.999355, 0.984266, 0.936904, 0.896092, 0.855255, 0.820283, 0.786716, 0.758149, 0.730205, 0.70522],\"wall\"=>[0.000400306, 0.00272195, 0.00840185, 0.018618, 0.0347069, 0.0578279, 0.0885264, 0.128464, 0.177869, 0.239225, 0.312042, 0.397658, 0.491574, 0.611059, 0.741089, 0.88279, 0.9974, 1.00044, 1.01361, 0.998762, 0.998949, 0.992989, 1.00001, 0.997647, 0.999768]))\n",
    "\n",
    "i_mode[\"custom_alpha_R = 1.8\"] = DataStructures.OrderedDict{Any,Any}(\"R_0\"=>[25.2587, 11.6069, 7.38426, 5.35382, 4.17121, 3.40838, 2.86608, 2.46959, 2.16725, 1.92618, 1.73239, 1.57269, 1.42991, 1.32508, 1.22697, 1.14156, 1.08123, 1.05651, 1.0344, 1.01292, 0.993479, 0.975768, 0.958558, 0.94314, 0.927938],\"T_k\"=>[9.44907, 8.68405, 8.28625, 8.00458, 7.80107, 7.65027, 7.50417, 7.39078, 7.29066, 7.20568, 7.12873, 7.0594, 6.95394, 6.93845, 6.88498, 6.82648, 6.76545, 6.66282, 6.58592, 6.47917, 6.39927, 6.31544, 6.25056, 6.1816, 6.11785],\"rho_j\"=>[0.448936, 0.410218, 0.387392, 0.369825, 0.357239, 0.347367, 0.337075, 0.329072, 0.321204, 0.315351, 0.309402, 0.303867, 0.295487, 0.294022, 0.289881, 0.283991, 0.264155, 0.199421, 0.125547, -0.0342222, -0.0824313, -0.0853412, -0.084191, -0.0821919, -0.0837235],\"eta_CD\"=>[0.292521, 0.286696, 0.283261, 0.280656, 0.278395, 0.276691, 0.275081, 0.273718, 0.272653, 0.271435, 0.270461, 0.269581, 0.268148, 0.267983, 0.267184, 0.266586, 0.268814, 0.27718, 0.284123, 0.286185, 0.289316, 0.295225, 0.300935, 0.306812, 0.31216],\"B_0\"=>[1.0, 2.0, 3.0, 4.0, 5.0, 6.0, 7.0, 8.0, 9.0, 10.0, 11.0, 12.0, 13.0, 14.0, 15.0, 16.0, 17.0, 18.0, 19.0, 20.0, 21.0, 22.0, 23.0, 24.0, 25.0],\"success\"=>Bool[true, true, true, true, true, true, true, true, true, true, true, true, true, true, true, true, true, true, true, true, true, true, true, true, true],\"constraint\"=>AbstractString[\"beta\", \"beta\", \"beta\", \"beta\", \"beta\", \"beta\", \"beta\", \"beta\", \"beta\", \"beta\", \"beta\", \"beta\", \"beta\", \"beta\", \"beta\", \"beta\", \"wall\", \"wall\", \"wall\", \"wall\", \"wall\", \"wall\", \"wall\", \"wall\", \"wall\"],\"limits\"=>DataStructures.OrderedDict{Any,Any}(\"beta\"=>[1.00028, 1.00027, 1.00017, 0.999443, 1.00015, 1.00028, 1.00014, 1.00027, 0.999444, 1.00028, 1.00027, 1.0002, 1.00028, 1.00008, 1.00028, 0.999354, 0.984179, 0.936819, 0.896014, 0.855177, 0.820154, 0.786642, 0.758081, 0.730224, 0.705151],\"wall\"=>[0.000400435, 0.0027228, 0.00840446, 0.0186237, 0.0347174, 0.0578454, 0.088553, 0.128502, 0.177921, 0.239296, 0.312134, 0.397775, 0.491716, 0.611237, 0.741306, 0.883041, 0.997409, 1.00044, 1.01363, 0.998754, 0.99891, 0.992972, 0.999933, 0.998248, 0.999592]))\n",
    "\n",
    "h_mode = OrderedDict()\n",
    "\n",
    "h_mode[\"H = 1.0\"] = DataStructures.OrderedDict{Any,Any}(\"R_0\"=>[14.2476, 11.2945, 9.72572, 8.83797, 8.15586, 7.63903, 7.1979, 6.84313, 6.54497, 6.27638, 6.05052, 5.85903, 5.6803, 5.52287, 5.36229, 5.28203, 5.20009, 5.10479, 5.02034, 4.93346, 4.84559],\"T_k\"=>[26.6497, 25.3911, 23.5393, 21.4278, 19.8357, 18.679, 17.7376, 16.9064, 16.253, 15.6676, 15.1752, 14.7893, 14.3837, 14.0476, 13.6983, 13.5592, 13.4127, 13.2223, 13.0573, 12.8817, 12.7062],\"rho_j\"=>[0.78595, 0.776855, 0.750734, 0.710396, 0.669648, 0.629775, 0.590069, 0.547219, 0.504066, 0.45994, 0.413011, 0.365078, 0.309267, 0.248248, 0.171343, 0.0945985, -0.0774174, -0.0773362, -0.0789537, -0.0750774, -0.0775241],\"eta_CD\"=>[0.302841, 0.302454, 0.315184, 0.334939, 0.353925, 0.372379, 0.389399, 0.406486, 0.423174, 0.438214, 0.453332, 0.467972, 0.481797, 0.494687, 0.505701, 0.514935, 0.518415, 0.527891, 0.534793, 0.545653, 0.554137],\"B_0\"=>[5.0, 6.0, 7.0, 8.0, 9.0, 10.0, 11.0, 12.0, 13.0, 14.0, 15.0, 16.0, 17.0, 18.0, 19.0, 20.0, 21.0, 22.0, 23.0, 24.0, 25.0],\"success\"=>Bool[true, true, true, true, true, true, true, true, true, true, true, true, true, true, true, true, true, true, true, true, true],\"constraint\"=>AbstractString[\"beta\", \"beta\", \"wall\", \"wall\", \"wall\", \"wall\", \"wall\", \"wall\", \"wall\", \"wall\", \"wall\", \"wall\", \"wall\", \"wall\", \"wall\", \"wall\", \"wall\", \"wall\", \"wall\", \"wall\", \"wall\"],\"limits\"=>DataStructures.OrderedDict{Any,Any}(\"beta\"=>[1.00028, 1.00186, 0.924521, 0.81036, 0.722566, 0.65382, 0.599016, 0.550499, 0.510769, 0.47677, 0.447089, 0.421837, 0.398284, 0.377839, 0.359505, 0.3432, 0.32842, 0.314809, 0.302367, 0.290907, 0.280461],\"wall\"=>[0.552834, 0.825123, 1.01611, 1.00957, 0.996781, 1.01048, 1.01815, 1.00306, 1.01299, 1.00211, 1.00279, 1.02744, 1.01242, 1.00885, 0.972258, 1.00692, 0.985343, 0.991194, 0.983706, 0.999737, 0.993733]))\n",
    "\n",
    "h_mode[\"H = 1.8\"] = DataStructures.OrderedDict{Any,Any}(\"R_0\"=>[66.1762, 28.3204, 17.3032, 12.1097, 9.23118, 7.26094, 6.05549, 5.10573, 4.39101, 3.84909, 3.63612, 3.50206, 3.35124, 3.23105, 3.12104, 3.0299, 2.94486, 2.86769, 2.79414, 2.74968, 2.70732, 2.65153, 2.62076, 2.57517, 2.53286],\"T_k\"=>[24.7623, 21.1891, 19.4247, 18.1425, 17.2201, 16.2977, 15.8589, 15.3221, 14.7854, 14.4045, 13.7967, 13.3558, 12.9149, 12.5058, 12.1482, 11.8698, 11.5875, 11.34, 11.1022, 10.9811, 10.8654, 10.6853, 10.6112, 10.4855, 10.3599],\"rho_j\"=>[0.771186, 0.733374, 0.709015, 0.689883, 0.673082, 0.657174, 0.647817, 0.637459, 0.624278, 0.615971, 0.578205, 0.539043, 0.500366, 0.45517, 0.409645, 0.364559, 0.309993, 0.251806, 0.179336, 0.103351, -0.0772186, -0.0765553, -0.0782136, -0.0774183, -0.0761748],\"eta_CD\"=>[0.303291, 0.307154, 0.309605, 0.309909, 0.311191, 0.310109, 0.310474, 0.309496, 0.310001, 0.309155, 0.32346, 0.339193, 0.352094, 0.366615, 0.379616, 0.391731, 0.404492, 0.415685, 0.426164, 0.434627, 0.435688, 0.442991, 0.450841, 0.458091, 0.465334],\"B_0\"=>[1.0, 2.0, 3.0, 4.0, 5.0, 6.0, 7.0, 8.0, 9.0, 10.0, 11.0, 12.0, 13.0, 14.0, 15.0, 16.0, 17.0, 18.0, 19.0, 20.0, 21.0, 22.0, 23.0, 24.0, 25.0],\"success\"=>Bool[true, true, true, true, true, true, true, true, true, true, true, true, true, true, true, true, true, true, true, true, true, true, true, true, true],\"constraint\"=>AbstractString[\"beta\", \"beta\", \"beta\", \"beta\", \"beta\", \"beta\", \"beta\", \"beta\", \"beta\", \"beta\", \"wall\", \"wall\", \"wall\", \"wall\", \"wall\", \"wall\", \"wall\", \"wall\", \"wall\", \"wall\", \"wall\", \"wall\", \"wall\", \"wall\", \"wall\"],\"limits\"=>DataStructures.OrderedDict{Any,Any}(\"beta\"=>[1.00053, 1.00029, 1.00058, 1.00149, 0.997586, 1.00029, 1.00039, 1.00303, 1.00039, 1.00065, 0.92233, 0.849783, 0.792657, 0.739236, 0.693849, 0.654692, 0.618897, 0.587424, 0.559176, 0.533918, 0.511011, 0.489791, 0.470707, 0.453645, 0.437467],\"wall\"=>[0.00358863, 0.0195141, 0.053613, 0.107128, 0.183528, 0.277755, 0.414908, 0.573278, 0.749709, 0.967177, 0.98526, 1.00105, 1.01034, 1.00611, 1.00203, 1.00831, 1.00509, 1.00134, 0.992993, 1.00633, 0.993632, 0.981704, 1.0011, 1.00591, 1.00602]))\n",
    "\n",
    "return"
   ]
  },
  {
   "cell_type": "code",
   "execution_count": 3,
   "metadata": {
    "collapsed": false
   },
   "outputs": [],
   "source": [
    "for cur_mode in [i_mode, h_mode]\n",
    "    for (cur_key, cur_val) in cur_mode\n",
    "        cur_mode[cur_key][\"R^3 * B^2\"] = zeros(length(cur_val[\"T_k\"]))\n",
    "        cur_mode[cur_key][\"R^3 * B^2\"] .+= cur_val[\"R_0\"] .^ 3\n",
    "        cur_mode[cur_key][\"R^3 * B^2\"] .*= cur_val[\"B_0\"] .^ 2 \n",
    "    end\n",
    "end"
   ]
  },
  {
   "cell_type": "code",
   "execution_count": 4,
   "metadata": {
    "collapsed": false,
    "scrolled": true
   },
   "outputs": [
    {
     "data": {
      "text/html": [
       "<div id=\"6876a205-e604-4ba9-a33e-35850b0df804\" class=\"plotly-graph-div\"></div>\n",
       "\n",
       "<script>\n",
       "    window.PLOTLYENV=window.PLOTLYENV || {};\n",
       "    window.PLOTLYENV.BASE_URL=\"https://plot.ly\";\n",
       "    require(['plotly'], function(Plotly) {\n",
       "        Plotly.newPlot('6876a205-e604-4ba9-a33e-35850b0df804', [{\"showlegend\":true,\"mode\":\"lines\",\"xaxis\":\"x\",\"colorbar\":{\"title\":\"\"},\"line\":{\"color\":\"rgba(255, 0, 0, 1.000)\",\"width\":1,\"dash\":\"solid\",\"shape\":\"linear\"},\"y\":[72304.47053065439,51868.481051110495,45077.660328384976,44181.20362072977,43943.46571071046,44577.39100285153,45123.50189285542,46145.23514597554,47381.59598946123,48460.039171829776,49838.00170677763,51489.31694185198,52967.7667414582,54580.74664090807,55661.90868077845,58947.118695768564,62011.34770852509,64384.155589642025,66935.27678480794,69163.55652291019,71108.25325568054],\"type\":\"scatter\",\"name\":\"H = 1.0\",\"yaxis\":\"y\",\"x\":[5.0,6.0,7.0,8.0,9.0,10.0,11.0,12.0,13.0,14.0,15.0,16.0,17.0,18.0,19.0,20.0,21.0,22.0,23.0,24.0,25.0]},{\"showlegend\":true,\"mode\":\"lines\",\"xaxis\":\"x\",\"colorbar\":{\"title\":\"\"},\"line\":{\"color\":\"rgba(0, 0, 255, 1.000)\",\"width\":1,\"dash\":\"solid\",\"shape\":\"linear\"},\"y\":[289804.73426550266,90856.94723389465,46625.316439398914,28413.199158074767,19665.802210579976,13781.009904394987,10880.377253780924,8518.311323616163,6857.697078798529,5702.616913880142,5817.012441988069,6184.907937582023,6360.67634815894,6611.303698598996,6840.384626902693,7120.735442150145,7380.6022608946805,7640.8489774962545,7875.020439558991,8315.846337906893,8750.99355906146,9022.668414148504,9522.202803986364,9836.49094099627,10155.786767848535],\"type\":\"scatter\",\"name\":\"H = 1.8\",\"yaxis\":\"y\",\"x\":[1.0,2.0,3.0,4.0,5.0,6.0,7.0,8.0,9.0,10.0,11.0,12.0,13.0,14.0,15.0,16.0,17.0,18.0,19.0,20.0,21.0,22.0,23.0,24.0,25.0]},{\"showlegend\":true,\"mode\":\"lines\",\"xaxis\":\"x\",\"colorbar\":{\"title\":\"\"},\"line\":{\"color\":\"rgba(211, 211, 211, 1.000)\",\"width\":1,\"dash\":\"solid\",\"shape\":\"linear\"},\"y\":[16099.026938067527,6248.590969831163,3620.231914062722,2452.9447815635026,1812.6232885104205,1424.064947660658,1152.5168023393703,963.0370098314138,823.7533259903016,713.9777855405113,628.5049016447141,559.610517174912,493.6417015511488,455.5952358619464,415.22240273336536,380.48423859035165,364.80561977984576,381.5696098735576,399.0186670184013,415.1513767184892,431.8689061627526,449.06249940762865,465.30875713807774,482.59836734215907,498.7523825646272],\"type\":\"scatter\",\"name\":\"α_R = 1.2\",\"yaxis\":\"y\",\"x\":[1.0,2.0,3.0,4.0,5.0,6.0,7.0,8.0,9.0,10.0,11.0,12.0,13.0,14.0,15.0,16.0,17.0,18.0,19.0,20.0,21.0,22.0,23.0,24.0,25.0]},{\"showlegend\":true,\"mode\":\"lines\",\"xaxis\":\"x\",\"colorbar\":{\"title\":\"\"},\"line\":{\"color\":\"rgba(169, 169, 169, 1.000)\",\"width\":1,\"dash\":\"dot\",\"shape\":\"linear\"},\"y\":[16107.061752778627,6251.661080500001,3622.0124452115037,2454.141181212758,1813.4971666518363,1424.7421283098329,1153.05992615516,963.4934772408318,824.1526136758173,714.3115447841473,628.7989059079447,559.8775154132818,493.8696557354262,455.8016256913594,415.41538770219415,380.66430527171036,365.0487109761485,381.8298227091101,399.2850114197895,415.4343673532,432.1559980805433,449.3595349547755,465.61331862114025,482.89636332731703,499.0750795331368],\"type\":\"scatter\",\"name\":\"α_R = 1.5\",\"yaxis\":\"y\",\"x\":[1.0,2.0,3.0,4.0,5.0,6.0,7.0,8.0,9.0,10.0,11.0,12.0,13.0,14.0,15.0,16.0,17.0,18.0,19.0,20.0,21.0,22.0,23.0,24.0,25.0]},{\"showlegend\":true,\"mode\":\"lines\",\"xaxis\":\"x\",\"colorbar\":{\"title\":\"\"},\"line\":{\"color\":\"rgba(0, 128, 0, 1.000)\",\"width\":1,\"dash\":\"dash\",\"shape\":\"linear\"},\"y\":[16115.099240426003,6254.732196626035,3623.7935600745554,2455.337969820207,1814.3713256165643,1425.4320699849775,1153.615295722918,963.9500888673333,824.5406166723283,714.6454080253033,629.1038960465612,560.1339136074396,494.0976800854579,456.0184020863404,415.6084324581463,380.83442040535436,365.30204578083453,382.0901538198621,399.551474317824,415.7051743556353,432.4288532251898,449.66084889308144,465.91947116006503,483.2267598899389,499.38661404841116],\"type\":\"scatter\",\"name\":\"α_R = 1.8\",\"yaxis\":\"y\",\"x\":[1.0,2.0,3.0,4.0,5.0,6.0,7.0,8.0,9.0,10.0,11.0,12.0,13.0,14.0,15.0,16.0,17.0,18.0,19.0,20.0,21.0,22.0,23.0,24.0,25.0]}],\n",
       "               {\"showlegend\":true,\"xaxis\":{\"tickvals\":[5.0,10.0,15.0,20.0,25.0],\"ticks\":\"inside\",\"tickmode\":\"array\",\"domain\":[0.0658209390492855,0.9934383202099738],\"linecolor\":\"rgba(0, 0, 0, 1.000)\",\"showgrid\":true,\"title\":\"B [T]\",\"tickangle\":0,\"titlefont\":{\"color\":\"rgba(0, 0, 0, 1.000)\",\"family\":\"sans-serif\",\"size\":15},\"tickcolor\":\"rgba(0, 0, 0, 1.000)\",\"ticktext\":[\"5\",\"10\",\"15\",\"20\",\"25\"],\"zeroline\":false,\"type\":\"-\",\"tickfont\":{\"color\":\"rgba(0, 0, 0, 1.000)\",\"family\":\"sans-serif\",\"size\":11},\"anchor\":\"y\"},\"paper_bgcolor\":\"rgba(255, 255, 255, 1.000)\",\"annotations\":[{\"yanchor\":\"top\",\"xanchor\":\"center\",\"rotation\":-0.0,\"y\":1.0,\"font\":{\"color\":\"rgba(0, 0, 0, 1.000)\",\"family\":\"sans-serif\",\"size\":20},\"yref\":\"paper\",\"showarrow\":false,\"text\":\"( R<sup>3</sup> · B<sup>2</sup> ) vs. B\",\"xref\":\"paper\",\"x\":0.5296296296296296}],\"height\":400,\"margin\":{\"l\":0,\"b\":20,\"r\":0,\"t\":20},\"plot_bgcolor\":\"rgba(255, 255, 255, 1.000)\",\"yaxis\":{\"tickvals\":[1000.0,10000.0,100000.0],\"ticks\":\"inside\",\"tickmode\":\"array\",\"domain\":[0.07581474190726165,0.9415463692038496],\"linecolor\":\"rgba(0, 0, 0, 1.000)\",\"showgrid\":true,\"title\":\"\",\"tickangle\":0,\"titlefont\":{\"color\":\"rgba(0, 0, 0, 1.000)\",\"family\":\"sans-serif\",\"size\":15},\"tickcolor\":\"rgba(0, 0, 0, 1.000)\",\"ticktext\":[\"10^3\",\"10^4\",\"10^5\"],\"zeroline\":false,\"type\":\"log\",\"tickfont\":{\"color\":\"rgba(0, 0, 0, 1.000)\",\"family\":\"sans-serif\",\"size\":11},\"anchor\":\"x\"},\"legend\":{\"bordercolor\":\"rgba(0, 0, 0, 1.000)\",\"bgcolor\":\"rgba(255, 255, 255, 1.000)\",\"font\":{\"color\":\"rgba(0, 0, 0, 1.000)\",\"family\":\"sans-serif\",\"size\":11},\"y\":1.0,\"x\":1.0},\"width\":600}, {showLink: false});\n",
       "\n",
       "    });\n",
       " </script>\n"
      ]
     },
     "execution_count": 4,
     "metadata": {},
     "output_type": "execute_result"
    }
   ],
   "source": [
    "cur_modes = [h_mode, i_mode]\n",
    "# cur_modes = [i_mode, h_mode]\n",
    "plot(title=\"( R<sup>3</sup> · B<sup>2</sup> ) vs. B\")\n",
    "\n",
    "plot!(h_mode[\"H = 1.0\"][\"B_0\"],h_mode[\"H = 1.0\"][\"R^3 * B^2\"],lab=\"H = 1.0\",color=\"red\",xlabel=\"B [T]\",yscale=:log10)\n",
    "plot!(h_mode[\"H = 1.8\"][\"B_0\"],h_mode[\"H = 1.8\"][\"R^3 * B^2\"],lab=\"H = 1.8\",color=\"blue\",xlabel=\"B [T]\",yscale=:log10)\n",
    "plot!(i_mode[\"custom_alpha_R = 1.2\"][\"B_0\"],i_mode[\"custom_alpha_R = 1.2\"][\"R^3 * B^2\"],lab=\"α_R = 1.2\",color=\"lightgrey\",xlabel=\"B [T]\",yscale=:log10,line=:solid)\n",
    "plot!(i_mode[\"custom_alpha_R = 1.5\"][\"B_0\"],i_mode[\"custom_alpha_R = 1.5\"][\"R^3 * B^2\"],lab=\"α_R = 1.5\",color=\"darkgrey\",xlabel=\"B [T]\",yscale=:log10,line=:dot)\n",
    "plot!(i_mode[\"custom_alpha_R = 1.8\"][\"B_0\"],i_mode[\"custom_alpha_R = 1.8\"][\"R^3 * B^2\"],lab=\"α_R = 1.8\",color=\"green\",xlabel=\"B [T]\",yscale=:log10,line=:dash)\n",
    "\n",
    "\n",
    "# for cur_mode in cur_modes\n",
    "#     first_key, first_val = first(collect(cur_mode))\n",
    "#     last_key, last_val = last(collect(cur_mode))\n",
    "    \n",
    "#     if cur_mode == h_mode \n",
    "#         first_color, second_color = \"red\", \"blue\"\n",
    "#     else\n",
    "#         first_color, second_color = \"black\", \"green\"\n",
    "#     end\n",
    "    \n",
    "#     first_key = replace(first_key, \"custom_alpha\", \"α\")\n",
    "#     last_key = replace(last_key, \"custom_alpha\", \"α\")\n",
    "    \n",
    "#     plot!(first_val[\"B_0\"],first_val[\"R^3 * B^2\"],lab=first_key,palette=:grays,xaxis=(\"B_0 [T]\",(5,25),0:5:25),ylims=(1e2,1e5),yscale=:log10)\n",
    "#     plot!(last_val[\"B_0\"],last_val[\"R^3 * B^2\"],lab=last_key,color=second_color,xaxis=(\"B_0 [T]\",(5,25),0:5:25),ylims=(1e2,1e5),yscale=:log10)\n",
    "# end\n",
    "\n",
    "# plot(0:10:100,rand(11,4),lab=\"lines\",w=3,palette=:grays,fill=0,α=0.6)\n",
    "# plot!(5:10:105,rand(11,4),lab=\"lines\",w=3,palette=:blues,fill=0,α=0.6)\n",
    "plot!()"
   ]
  },
  {
   "cell_type": "code",
   "execution_count": null,
   "metadata": {
    "collapsed": true
   },
   "outputs": [],
   "source": []
  },
  {
   "cell_type": "code",
   "execution_count": 176,
   "metadata": {
    "collapsed": false
   },
   "outputs": [
    {
     "data": {
      "text/plain": [
       "parse_tokamak_data (generic function with 1 method)"
      ]
     },
     "execution_count": 176,
     "metadata": {},
     "output_type": "execute_result"
    }
   ],
   "source": [
    "function parse_tokamak_data(solved_case)\n",
    "    cur_table_data = OrderedDict(\n",
    "        \"eta_CD\" => @sprintf(\"%.3g\", solved_case[\"eta_CD\"]),\n",
    "        \"B_0\" => @sprintf(\"%.4g\", solved_case[\"B_0\"]),\n",
    "        \"P_F\" => @sprintf(\"%.5g\", solved_case[\"P_F\"]),\n",
    "        \"I_M\" => @sprintf(\"%.3g\", solved_case[\"I_M\"]),\n",
    "        \"R_0\" => @sprintf(\"%.3g\", solved_case[\"R_0\"]),\n",
    "        \" a \" => @sprintf(\"%.3g\", solved_case[\"a\"]),\n",
    "        \"q_K\" => @sprintf(\"%.3g\", solved_case[\"q_star\"]),\n",
    "        \"T_i\" => @sprintf(\"%.3g\", solved_case[\"T_k\"]),\n",
    "        \"n_e\" => @sprintf(\"%.3g\", solved_case[\"n_bar\"]),\n",
    "        \"f_CD\" => @sprintf(\"%.3g\", solved_case[\"f_CD\"]),\n",
    "        \"f_B\" => @sprintf(\"%.3g\", solved_case[\"f_B\"]),\n",
    "        \"P_H\" => @sprintf(\"%.3g\", solved_case[\"P_H\"]),\n",
    "        \"beta\" => @sprintf(\"%.4g\", solved_case[\"beta\"] * Tokamak.max_beta_N),\n",
    "        \"P_W\" => @sprintf(\"%.4g\", solved_case[\"P_W\"] * Tokamak.max_P_W),\n",
    "        \"P_alpha\" => @sprintf(\"%.4g\", solved_case[\"P_alpha\"]),\n",
    "        \"P_BR\" => @sprintf(\"%.4g\", solved_case[\"P_BR\"]),\n",
    "        \"q_P\" => @sprintf(\"%.4g\", solved_case[\"q_P\"]),\n",
    "        \"constraint\" => solved_case[\"constraint\"],\n",
    "        \"rho_j\" => @sprintf(\"%.4g\", solved_case[\"rho_j\"]),\n",
    "        \"Q\" => @sprintf(\"%.4g\", solved_case[\"Q\"]),\n",
    "        \"kappa\" => @sprintf(\"%.4g\", solved_case[\"kappa\"]),\n",
    "        \"delta\" => @sprintf(\"%.4g\", solved_case[\"delta\"]),\n",
    "        \"epsilon\" => @sprintf(\"%.4g\", solved_case[\"epsilon\"]),\n",
    "        \"N_G\" => @sprintf(\"%.4g\", solved_case[\"N_G\"]),\n",
    "        \"H\" => @sprintf(\"%.4g\", solved_case[\"H\"]),\n",
    "        \"nu_n\" => @sprintf(\"%.4g\", solved_case[\"nu_n\"]),\n",
    "        \"nu_T\" => @sprintf(\"%.4g\", solved_case[\"nu_T\"]),\n",
    "        \"Z_eff\" => @sprintf(\"%.4g\", solved_case[\"Z_eff\"]),\n",
    "        \"rho_m\" => @sprintf(\"%.4g\", solved_case[\"rho_m\"]),\n",
    "        \"f_DT\" => @sprintf(\"%.4g\", solved_case[\"f_DT\"]),\n",
    "        \"wave_theta\" => @sprintf(\"%.4g\", solved_case[\"wave_theta\"])\n",
    "    ) \n",
    "    \n",
    "    cur_table_data\n",
    "end"
   ]
  },
  {
   "cell_type": "code",
   "execution_count": null,
   "metadata": {
    "collapsed": true
   },
   "outputs": [],
   "source": []
  },
  {
   "cell_type": "code",
   "execution_count": 177,
   "metadata": {
    "collapsed": false
   },
   "outputs": [
    {
     "data": {
      "text/plain": [
       "make_output_table (generic function with 1 method)"
      ]
     },
     "execution_count": 177,
     "metadata": {},
     "output_type": "execute_result"
    }
   ],
   "source": [
    "function make_output_table(solved_cases, design, column)\n",
    "    \n",
    "    tokamak_jl_data = OrderedDict()\n",
    "    \n",
    "    for (cur_key, cur_val) in solved_cases\n",
    "        tokamak_jl_data[cur_key] = parse_tokamak_data(cur_val)\n",
    "    end\n",
    "    \n",
    "    header_row = [\"Variable\"]\n",
    " \n",
    "    for cur_key in keys(tokamak_jl_data)\n",
    "        push!(header_row, cur_key)\n",
    "    end\n",
    "\n",
    "    num_keys = length(keys(paper_data[column]))\n",
    "    \n",
    "    mapped_data = [ [] for ii in 1:num_keys ]\n",
    "    \n",
    "    for (cur_index, cur_key) in enumerate(keys(paper_data[column]))\n",
    "        push!(mapped_data[cur_index], cur_key)\n",
    "        \n",
    "        for cur_val in values(tokamak_jl_data)\n",
    "            cur_class = nothing\n",
    "            \n",
    "            cur_class = \"\"\n",
    "            \n",
    "            if cur_class == \"\"\n",
    "                push!(mapped_data[cur_index], cur_val[cur_key])\n",
    "            else\n",
    "                push!(mapped_data[cur_index], \n",
    "                    Dict(\n",
    "                        \"value\" => cur_val[cur_key],\n",
    "                        \"class\" => cur_class\n",
    "                    )\n",
    "                )                \n",
    "            end\n",
    "        end       \n",
    "    end\n",
    "    \n",
    "    cur_table = vcat( (reshape(x, (1, :)) for x in mapped_data)... )\n",
    "\n",
    "    Tokamak.HTMLElements.table(cur_table, header_row=header_row, title=\"$design Input\")    \n",
    "end"
   ]
  },
  {
   "cell_type": "code",
   "execution_count": null,
   "metadata": {
    "collapsed": true
   },
   "outputs": [],
   "source": [
    "# @manipulate for \n",
    "#     design=[\"arc\", \"act_2\", \"act_1\"], \n",
    "#     column=[\"main\"], \n",
    "#     limit=param_dict[\"limit\"], \n",
    "#     eta_CD=param_dict[\"enable_eta_CD_derive\"],#,\n",
    "#     delta in slider(0.3:0.025:0.63, value=0.4, label=\"delta\"),\n",
    "#     rho_m=slider(0.6:0.05:0.8, value=0.7, label=\"rho_m\"),\n",
    "# #     Q in slider(param_dict[\"Q\"], value=42.5, label=\"Q\"), \n",
    "#     f_DT=slider(0.75:0.05:1.0, value=0.9, label=\"f_DT\"),\n",
    "# #     BR=param_dict[\"BR_scaling\"], \n",
    "#     nu_n=slider(50:5:150, value=100, label=\"nu_n [%]\"), \n",
    "# #     nu_T=param_dict[\"nu_T\"], \n",
    "# #     rho_m=slider(0.6:0.05:0.8, value=0.7, label=\"rho_m\"), \n",
    "# #     kappa in slider(linspace(1.8,2.2,9), value=1.8, label=\"kappa\"), \n",
    "# #     delta in slider(0.575:0.025:0.65, value=0.63, label=\"delta\"), \n",
    "# #     Z_eff=slider(param_dict[\"Z_eff\"], value=2.11, label=\"Z_eff\"), \n",
    "# #     CD_guess=param_dict[\"default_eta_CD\"], \n",
    "#     wave_theta in slider(0:15:180,value=150, label=\"theta\"),\n",
    "# #     other_key=other_keys, \n",
    "# #     other_val=\"\", \n",
    "#     ready=[false, true]\n",
    "    \n",
    "#     if !ready\n",
    "#         return\n",
    "#     end    \n",
    "    \n",
    "    solved_cases = OrderedDict()\n",
    "    \n",
    "#     if other_key == \"none\" || other_val == \"\"\n",
    "        key_list = []\n",
    "#     else\n",
    "#         if other_key == \"f_DT\"\n",
    "#             first_val = f_DT\n",
    "#         elseif other_key == \"BR_scaling\"\n",
    "#             first_val = BR\n",
    "#         elseif other_key == \"rho_m\"\n",
    "#             first_val = rho_m\n",
    "#         elseif other_key == \"enable_eta_CD_derive\"\n",
    "#             first_val = eta_CD\n",
    "#         elseif other_key == \"nu_n\"\n",
    "#             first_val = nu_n\n",
    "#         elseif other_key == \"nu_T\"\n",
    "#             first_val = nu_T            \n",
    "#         elseif other_key == \"limit\"\n",
    "#             first_val = limit\n",
    "#         elseif other_key == \"Z_eff\"\n",
    "#             first_val = Z_eff            \n",
    "#         elseif other_key == \"Q\"\n",
    "#             first_val = Q                        \n",
    "#         elseif other_key == \"wave_theta\"\n",
    "#             first_val = wave_theta                        \n",
    "#         end\n",
    "        \n",
    "#         key_list = [\"$other_key = $first_val\"]\n",
    "        \n",
    "#         if other_val == \"\"\n",
    "#             other_val = default_vals[other_key]\n",
    "#         end\n",
    "        \n",
    "#         push!(key_list, \"$other_key = $other_val\")        \n",
    "#     end\n",
    "    \n",
    "    Tokamak.load_input(\"defaults.jl\", true)\n",
    "    Tokamak.load_input(\"$(design).jl\", true)  \n",
    "    \n",
    "    for cur_key in key_list\n",
    "        Tokamak.load_input(\"defaults.jl\", true)\n",
    "        Tokamak.load_input(\"$(design).jl\", true)\n",
    "\n",
    "        Tokamak.load_input(\" enable_eta_CD_derive = $eta_CD \")\n",
    "\n",
    "#         Tokamak.load_input(\" BR_scaling = $BR \")\n",
    "\n",
    "        Tokamak.load_input(\" nu_n = $nu_n * $(nu_n_dict[design]) / 100 \")\n",
    "# #         Tokamak.load_input(\" nu_T = $nu_T \")\n",
    "\n",
    "# #         Tokamak.load_input(\" kappa = $kappa \")\n",
    "        Tokamak.load_input(\" delta = $delta \")\n",
    "        \n",
    "        Tokamak.load_input(\" rho_m = $rho_m \")\n",
    "# #         Tokamak.load_input(\" Z_eff = $Z_eff \")\n",
    "        \n",
    "# #         Tokamak.load_input(\" default_eta_CD = $CD_guess \")\n",
    "        \n",
    "        Tokamak.load_input(\" wave_theta = $wave_theta \")\n",
    "        \n",
    "# #         Tokamak.load_input(\" Q = $Q \")\n",
    "        \n",
    "#         if other_val != \"\" && cur_key != \"Tokamak.jl\"\n",
    "#             if other_key != \"f_DT\" && other_key != \"limit\"\n",
    "#                 Tokamak.load_input(cur_key)\n",
    "#             end\n",
    "#         end\n",
    "        \n",
    "     \n",
    "#         if other_val != \"\" && cur_key != \"Tokamak.jl\"\n",
    "#             if other_key == \"f_DT\"\n",
    "#                 cur_f_DT = parse(split(cur_key,\"=\")[2])\n",
    "#             elseif other_key == \"limit\"\n",
    "#                 cur_limit = strip(split(cur_key,\"=\")[2])\n",
    "#             end    \n",
    "#         end\n",
    "        \n",
    "        cur_f_DT = f_DT\n",
    "        \n",
    "        if design == \"act_2\" && isapprox(cur_f_DT, 0.75)\n",
    "            cur_f_DT = 0.74\n",
    "        end\n",
    "\n",
    "        Tokamak.load_input(\" f_DT = $cur_f_DT \")\n",
    "        \n",
    "        cur_limit = limit\n",
    "        \n",
    "        if cur_limit != \"auto\"\n",
    "            Tokamak.load_input(\" main_constraint = \\\"$(cur_limit)\\\"\")\n",
    "        end\n",
    "\n",
    "        if cur_key == \"Piped Data\"\n",
    "            found_data = vars_dict[design]\n",
    "        else\n",
    "            found_data = Tokamak.sweep_B_0([B_0_dict[design]])\n",
    "        end\n",
    "        \n",
    "        filter!((k,v) -> !isa(v, OrderedDict), found_data)\n",
    "        \n",
    "        for (cur_sub_key, cur_sub_val) in found_data\n",
    "            found_data[cur_sub_key] = first(cur_sub_val)\n",
    "        end\n",
    "        \n",
    "        solved_cases[cur_key] = Tokamak.analyze_solved_case(found_data)\n",
    "    end\n",
    "    \n",
    "    table_html = make_output_table(solved_cases, replace(ucfirst(design), \"_\", \" \"), column)    \n",
    "    \n",
    "    IJulia.clear_output(true)\n",
    "    display(\"text/html\", table_html)\n",
    "end\n",
    "\n",
    "return"
   ]
  }
 ],
 "metadata": {
  "kernelspec": {
   "display_name": "Julia 0.6.0",
   "language": "julia",
   "name": "julia-0.6"
  },
  "language_info": {
   "file_extension": ".jl",
   "mimetype": "application/julia",
   "name": "julia",
   "version": "0.6.0"
  },
  "widgets": {
   "state": {
    "2645dc7f-8f91-4ebe-bea3-eb7428939469": {
     "views": [
      {
       "cell_index": 5
      }
     ]
    },
    "54501ac5-0597-464e-971a-4fad69b403de": {
     "views": [
      {
       "cell_index": 5
      }
     ]
    }
   },
   "version": "1.2.0"
  }
 },
 "nbformat": 4,
 "nbformat_minor": 2
}
